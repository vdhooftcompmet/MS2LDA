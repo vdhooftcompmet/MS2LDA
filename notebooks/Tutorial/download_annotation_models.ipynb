{
 "cells": [
  {
   "cell_type": "code",
   "execution_count": 1,
   "id": "fc11e8dd-fb8b-4048-b870-ed51e97baada",
   "metadata": {},
   "outputs": [],
   "source": [
    "from MS2LDA.utils import download_model_and_data"
   ]
  },
  {
   "cell_type": "code",
   "execution_count": 2,
   "id": "9b13b695-8143-4bed-aba5-0e283fb67bb6",
   "metadata": {},
   "outputs": [
    {
     "name": "stdout",
     "output_type": "stream",
     "text": [
      "Help on function download_model_and_data in module MS2LDA.utils:\n",
      "\n",
      "download_model_and_data(file_urls=['https://zenodo.org/records/12625409/files/020724_Spec2Vec_pos_CleanedLibraries.model?download=1', 'https://zenodo.org/records/12625409/files/020724_Spec2Vec_pos_CleanedLibraries.model.syn1neg.npy?download=1', 'https://zenodo.org/records/12625409/files/020724_Spec2Vec_pos_CleanedLibraries.model.wv.vectors.npy?download=1', 'https://zenodo.org/records/12625409/files/positive_s2v_library.pkl?download=1'], mode='positive')\n",
      "    Downloads the spec2vec model and the needed datasets for the automated annotation\n",
      "\n"
     ]
    }
   ],
   "source": [
    "help(download_model_and_data)"
   ]
  },
  {
   "cell_type": "code",
   "execution_count": 3,
   "id": "d6fd5efe-4b46-4582-b883-8b27169042fc",
   "metadata": {},
   "outputs": [
    {
     "name": "stdout",
     "output_type": "stream",
     "text": [
      "C:\\Users\\dietr004\\AppData\\Local\\anaconda3\\envs\\newpython\\Lib\\site-packages\\MS2LDA\\Add_On/Spec2Vec/trash_positive\n",
      "Downloaded 020724_Spec2Vec_pos_CleanedLibraries.model\n",
      "Downloaded 020724_Spec2Vec_pos_CleanedLibraries.model.syn1neg.npy\n",
      "Downloaded 020724_Spec2Vec_pos_CleanedLibraries.model.wv.vectors.npy\n",
      "Downloaded positive_s2v_library.pkl\n"
     ]
    }
   ],
   "source": [
    "download_model_and_data()"
   ]
  },
  {
   "cell_type": "code",
   "execution_count": null,
   "id": "544d8c92-cfe7-4d98-8824-364b6cd67d12",
   "metadata": {},
   "outputs": [],
   "source": []
  }
 ],
 "metadata": {
  "kernelspec": {
   "display_name": "Python 3 (ipykernel)",
   "language": "python",
   "name": "python3"
  },
  "language_info": {
   "codemirror_mode": {
    "name": "ipython",
    "version": 3
   },
   "file_extension": ".py",
   "mimetype": "text/x-python",
   "name": "python",
   "nbconvert_exporter": "python",
   "pygments_lexer": "ipython3",
   "version": "3.12.9"
  }
 },
 "nbformat": 4,
 "nbformat_minor": 5
}
