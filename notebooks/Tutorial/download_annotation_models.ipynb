{
 "cells": [
  {
   "cell_type": "markdown",
   "id": "5blppaxgsxq",
   "source": "# Download Annotation Models for MS2LDA\n\n## Recommended Method: Use the CLI\n\nThe easiest way to download all necessary MS2LDA data files is to use the command line:\n\n```bash\nms2lda --only-download\n```\n\nThis will download:\n- ✅ Spec2Vec models and embeddings (~5.7 GB)\n- ✅ Fingerprint calculation JARs (43 MB)\n- ✅ MotifDB reference databases\n\n## Alternative: Download Only Spec2Vec Models\n\nIf you only need the Spec2Vec annotation models, you can use the function directly:",
   "metadata": {},
   "execution_count": null,
   "outputs": []
  },
  {
   "cell_type": "code",
   "execution_count": 2,
   "id": "9b13b695-8143-4bed-aba5-0e283fb67bb6",
   "metadata": {},
   "outputs": [
    {
     "name": "stdout",
     "output_type": "stream",
     "text": [
      "Help on function download_model_and_data in module MS2LDA.utils:\n",
      "\n",
      "download_model_and_data(file_urls=['https://zenodo.org/records/12625409/files/020724_Spec2Vec_pos_CleanedLibraries.model?download=1', 'https://zenodo.org/records/12625409/files/020724_Spec2Vec_pos_CleanedLibraries.model.syn1neg.npy?download=1', 'https://zenodo.org/records/12625409/files/020724_Spec2Vec_pos_CleanedLibraries.model.wv.vectors.npy?download=1', 'https://zenodo.org/records/12625409/files/positive_s2v_library.pkl?download=1'], mode='positive')\n",
      "    Downloads the spec2vec model and the needed datasets for the automated annotation\n",
      "\n"
     ]
    }
   ],
   "source": [
    "help(download_model_and_data)"
   ]
  },
  {
   "cell_type": "code",
   "id": "ewfrpe3edm6",
   "source": "# Import MS2LDA\nimport sys\nfrom pathlib import Path\ntry:\n    import MS2LDA\nexcept ImportError:\n    sys.path.insert(0, str(Path.cwd().parent.parent))\n    import MS2LDA\n\nfrom MS2LDA.utils import download_model_and_data",
   "metadata": {},
   "execution_count": null,
   "outputs": []
  },
  {
   "cell_type": "code",
   "execution_count": null,
   "id": "d6fd5efe-4b46-4582-b883-8b27169042fc",
   "metadata": {},
   "outputs": [],
   "source": "# Download Spec2Vec models only\ndownload_model_and_data(mode=\"positive\")"
  },
  {
   "cell_type": "markdown",
   "execution_count": null,
   "id": "544d8c92-cfe7-4d98-8824-364b6cd67d12",
   "metadata": {},
   "outputs": [],
   "source": "## What Gets Downloaded?\n\nThe `download_model_and_data()` function downloads the following files to enable automated motif annotation:\n\n1. **Spec2Vec Model** (9.5 MB)\n   - Neural network model for converting spectra to embeddings\n   \n2. **Reference Embeddings** (976 MB)\n   - Pre-computed embeddings for ~150,000 reference spectra\n   \n3. **Reference Database** (4.1 GB)\n   - SQLite database with compound names, SMILES, and metadata\n   \n4. **Model Weights** (636 MB total)\n   - Neural network weight files\n\n**Total download size: ~5.7 GB**\n\nThese files are saved to: `<MS2LDA_package>/Add_On/Spec2Vec/model_positive_mode/`\n\n## Note\n\nThis notebook exists for backward compatibility. For new users, we recommend using the CLI command `ms2lda --only-download` which downloads all necessary files including MotifDB and fingerprint JARs."
  }
 ],
 "metadata": {
  "kernelspec": {
   "display_name": "Python 3 (ipykernel)",
   "language": "python",
   "name": "python3"
  },
  "language_info": {
   "codemirror_mode": {
    "name": "ipython",
    "version": 3
   },
   "file_extension": ".py",
   "mimetype": "text/x-python",
   "name": "python",
   "nbconvert_exporter": "python",
   "pygments_lexer": "ipython3",
   "version": "3.12.9"
  }
 },
 "nbformat": 4,
 "nbformat_minor": 5
}