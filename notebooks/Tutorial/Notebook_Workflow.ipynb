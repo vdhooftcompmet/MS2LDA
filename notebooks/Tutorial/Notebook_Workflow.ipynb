{
 "cells": [
  {
   "cell_type": "markdown",
   "id": "e231f2d4-c537-4c10-9fb1-3e4df87a54d5",
   "metadata": {},
   "source": [
    "## Running MS2LDA"
   ]
  },
  {
   "cell_type": "code",
   "execution_count": 1,
   "id": "c9148890-0fdb-4ffb-88ab-45ee3e032075",
   "metadata": {},
   "outputs": [],
   "source": [
    "#%pip install requests \n",
    "import requests\n",
    "from matchms.importing import load_from_mgf\n",
    "from io import StringIO"
   ]
  },
  {
   "cell_type": "code",
   "execution_count": 2,
   "id": "78lovtf2urs",
   "metadata": {},
   "outputs": [],
   "source": [
    "# Ensure MS2LDA can be imported\n",
    "import sys\n",
    "from pathlib import Path\n",
    "# Add parent directory to path if MS2LDA not already importable\n",
    "try:\n",
    "    import MS2LDA\n",
    "except ImportError:\n",
    "    sys.path.insert(0, str(Path.cwd().parent.parent))\n",
    "    import MS2LDA"
   ]
  },
  {
   "cell_type": "code",
   "execution_count": 3,
   "id": "18cd2e05-410b-4785-adff-4be45124acfa",
   "metadata": {},
   "outputs": [],
   "source": [
    "%matplotlib agg\n",
    "import MS2LDA"
   ]
  },
  {
   "cell_type": "code",
   "execution_count": 4,
   "id": "944410aa-a4cc-4104-8e36-f9389175847a",
   "metadata": {},
   "outputs": [],
   "source": [
    "preprocessing_parameters = {\n",
    "    \"min_mz\": 0,\n",
    "    \"max_mz\": 1000,\n",
    "    \"max_frags\": 1000,\n",
    "    \"min_frags\": 3,\n",
    "    \"min_intensity\": 0.01,\n",
    "    \"max_intensity\": 1\n",
    "}"
   ]
  },
  {
   "cell_type": "code",
   "execution_count": 5,
   "id": "dcdf52c5-82a2-455a-89ed-506af3c4826c",
   "metadata": {},
   "outputs": [],
   "source": [
    "convergence_parameters = {\n",
    "    \"step_size\": 50,\n",
    "    \"window_size\": 10,\n",
    "    \"threshold\": 0.001,\n",
    "    \"type\": \"perplexity_history\"\n",
    "}"
   ]
  },
  {
   "cell_type": "code",
   "execution_count": 6,
   "id": "590514d5-9c55-44b9-8fc0-f3f59d8a6bf2",
   "metadata": {},
   "outputs": [],
   "source": [
    "annotation_parameters = {\n",
    "    \"criterium\": \"best\", # return cluster with most compounds in it after optimization (\"best\" also an option)\n",
    "    \"cosine_similarity\": 0.70, #0.8 how similar are the spectra compared to motifs in the optimization\n",
    "    \"n_mols_retrieved\": 5 # 10 molecules retrieved from database by Spec2Vec\n",
    "}"
   ]
  },
  {
   "cell_type": "code",
   "execution_count": 7,
   "id": "4a056889-9ec4-4abf-9262-6f40e4499814",
   "metadata": {},
   "outputs": [],
   "source": [
    "n_motifs = 100\n",
    "n_iterations = 2000"
   ]
  },
  {
   "cell_type": "code",
   "execution_count": 8,
   "id": "5fd54ccb-aa47-49bd-a34d-518730ed0ef8",
   "metadata": {},
   "outputs": [],
   "source": [
    "model_parameters = {\n",
    "    \"rm_top\": 4, \n",
    "    \"min_cf\": 50,\n",
    "    \"min_df\": 10,\n",
    "    \"alpha\": 0.6, #A higher alpha makes the document preferences \"smoother\" over topics\n",
    "    \"eta\": 0.01, #and a higher eta makes the topic preferences \"smoother\" over words.\n",
    "    \"seed\": 42,\n",
    "}"
   ]
  },
  {
   "cell_type": "code",
   "execution_count": 9,
   "id": "a0e0b0a4-d4f7-437d-ae69-0271c81f1efb",
   "metadata": {},
   "outputs": [],
   "source": [
    "train_parameters = {\n",
    "    \"parallel\": 3,\n",
    "    \"workers\": 0, \n",
    "}"
   ]
  },
  {
   "cell_type": "code",
   "execution_count": 10,
   "id": "366a586a-6121-4db3-9ac2-a40bb327239c",
   "metadata": {},
   "outputs": [],
   "source": [
    "dataset_parameters = {\n",
    "    \"acquisition_type\": \"DDA\",\n",
    "    \"significant_digits\": 3,\n",
    "    \"charge\": 1,\n",
    "    \"name\": \"test\",\n",
    "    \"output_folder\": f\"mytest10\", \n",
    "}"
   ]
  },
  {
   "cell_type": "code",
   "execution_count": 11,
   "id": "68e7abcb-57c1-4494-a4bf-ea9b9e98b8c7",
   "metadata": {},
   "outputs": [],
   "source": [
    "fingerprint_parameters = {\n",
    "    \"fp_type\": \"rdkit\",\n",
    "    \"threshold\": 0.8,\n",
    "}"
   ]
  },
  {
   "cell_type": "code",
   "execution_count": 12,
   "id": "c46ed944-06c8-4577-94d0-26630b788b88",
   "metadata": {},
   "outputs": [],
   "source": [
    "motif_parameter = 20"
   ]
  },
  {
   "cell_type": "code",
   "execution_count": 13,
   "id": "b7682647-60ba-4a0b-bb04-0b8f1191f03f",
   "metadata": {},
   "outputs": [],
   "source": [
    "dataset = \"../../datasets/mzmine443_Tomato200_InclusionListA_15000A.mgf\""
   ]
  },
  {
   "cell_type": "code",
   "execution_count": 14,
   "id": "f5e3adc8-b5b9-4df9-a30d-6058e0bea552",
   "metadata": {
    "scrolled": true
   },
   "outputs": [
    {
     "name": "stdout",
     "output_type": "stream",
     "text": [
      "Cleaning spectra ... 7255 spectra left\n"
     ]
    },
    {
     "name": "stderr",
     "output_type": "stream",
     "text": [
      "  0%|                                                                                                       | 0/40 [00:00<?, ?it/s]/Users/joewandy/Work/git/MS2LDA/MS2LDA/modeling.py:65: RuntimeWarning: The training result may differ even with fixed seed if `workers` != 1.\n",
      "  model.train(convergence_parameters[\"step_size\"], **train_parameters)\n",
      "100%|██████████████████████████████████████████████████████████████████████████████████████████████| 40/40 [00:59<00:00,  1.49s/it]\n"
     ]
    },
    {
     "name": "stdout",
     "output_type": "stream",
     "text": [
      "model did not converge\n"
     ]
    },
    {
     "name": "stderr",
     "output_type": "stream",
     "text": [
      "100%|███████████████████████████████████████████████████████████████████████████████████████████| 100/100 [00:00<00:00, 132.30it/s]\n"
     ]
    },
    {
     "name": "stdout",
     "output_type": "stream",
     "text": [
      "m2m folder stored\n",
      "convergence curve stored\n",
      "network stored\n"
     ]
    },
    {
     "name": "stderr",
     "output_type": "stream",
     "text": [
      "/Users/joewandy/Work/git/MS2LDA/MS2LDA/Visualisation/visualisation.py:489: UserWarning: No artists with labels found to put in legend.  Note that artists whose label start with an underscore are ignored when legend() is called with no argument.\n",
      "  plt.legend(loc=\"best\")\n"
     ]
    },
    {
     "name": "stdout",
     "output_type": "stream",
     "text": [
      "Visualization data saved (gzipped) to: mytest10/ms2lda_viz.json.gz\n"
     ]
    }
   ],
   "source": [
    "motif_spectra, optimized_motifs, motif_fps = MS2LDA.run(dataset, n_motifs=n_motifs, n_iterations=n_iterations,\n",
    "        dataset_parameters=dataset_parameters,\n",
    "        train_parameters=train_parameters,\n",
    "        model_parameters=model_parameters,\n",
    "        convergence_parameters=convergence_parameters,\n",
    "        annotation_parameters=annotation_parameters,\n",
    "        motif_parameter=motif_parameter,\n",
    "        preprocessing_parameters=preprocessing_parameters,\n",
    "        fingerprint_parameters=fingerprint_parameters)"
   ]
  },
  {
   "cell_type": "code",
   "execution_count": 15,
   "id": "97c102b1-bc51-433d-a589-df5feb8340aa",
   "metadata": {},
   "outputs": [],
   "source": [
    "%matplotlib inline"
   ]
  },
  {
   "cell_type": "code",
   "execution_count": null,
   "id": "a0159bc6-2871-4af9-8a04-f019585b2257",
   "metadata": {},
   "outputs": [],
   "source": "import tomotopy as tp\nms2lda = tp.LDAModel.load(\"mytest10/ms2lda.bin\")\nlen(ms2lda.docs)"
  },
  {
   "cell_type": "code",
   "execution_count": null,
   "id": "d0fc75e8-dddd-4258-859a-6420ad7202c1",
   "metadata": {},
   "outputs": [],
   "source": [
    "ms2lda.docs[7].get_topics()"
   ]
  },
  {
   "cell_type": "code",
   "execution_count": null,
   "id": "33187bcc-fa9b-4f99-90c5-1e57639431ec",
   "metadata": {},
   "outputs": [],
   "source": [
    "MS2LDA.retrieve_spec4doc(7)"
   ]
  },
  {
   "cell_type": "code",
   "execution_count": null,
   "id": "a91728f8-af7d-4cd3-85ef-912c79d307d6",
   "metadata": {},
   "outputs": [],
   "source": [
    "MS2LDA.retrieve_spec4doc(7).metadata"
   ]
  },
  {
   "cell_type": "code",
   "execution_count": null,
   "id": "df4aaa89-d8c8-4c9f-bb7b-267cf2b0a4d6",
   "metadata": {
    "scrolled": true
   },
   "outputs": [],
   "source": [
    "MS2LDA.retrieve_spec4doc(7).plot()"
   ]
  },
  {
   "cell_type": "code",
   "execution_count": null,
   "id": "2595e1ad-e114-4912-be6b-25f6dd57aa51",
   "metadata": {},
   "outputs": [],
   "source": [
    "MS2LDA.retrieve_spec4doc(7).peaks.mz"
   ]
  },
  {
   "cell_type": "code",
   "execution_count": null,
   "id": "dbeb9e41-6d16-47dd-9af9-23f7f72d5c59",
   "metadata": {},
   "outputs": [],
   "source": [
    "motif_spectra[47].peaks.mz"
   ]
  },
  {
   "cell_type": "markdown",
   "id": "3e9acd29-08bc-4864-aa58-1204a1cb0a26",
   "metadata": {},
   "source": [
    "---"
   ]
  },
  {
   "cell_type": "markdown",
   "id": "50916750-591f-4ba1-ad88-d0db3666d600",
   "metadata": {},
   "source": [
    "## Screening for spectra from experiments, motifs or motifDB"
   ]
  },
  {
   "cell_type": "code",
   "execution_count": null,
   "id": "6211a8de-c37a-443a-9aa7-9ab1c2bfeadb",
   "metadata": {},
   "outputs": [],
   "source": [
    "motifDB_query = \"QUERY scaninfo(MS2DATA) WHERE MS2PROD=72.04\""
   ]
  },
  {
   "cell_type": "code",
   "execution_count": null,
   "id": "f3fe99e0-3e58-4ae5-99e2-e485f7f67249",
   "metadata": {
    "scrolled": true
   },
   "outputs": [],
   "source": [
    "screening_hits = MS2LDA.screen_spectra(motifDB=dataset_parameters[\"output_folder\"] + \"/motifDB.json\", motifs_stored=dataset_parameters[\"output_folder\"] + \"/motifDB.json\", motifDB_query=motifDB_query, output_folder=dataset_parameters[\"output_folder\"])"
   ]
  },
  {
   "cell_type": "code",
   "execution_count": null,
   "id": "fc9c3f21-891c-443e-83ef-eba78a5c9bac",
   "metadata": {},
   "outputs": [],
   "source": [
    "screening_hits"
   ]
  },
  {
   "cell_type": "code",
   "execution_count": null,
   "id": "20f75d98-1a74-4645-ae26-373f3bf95ebf",
   "metadata": {},
   "outputs": [],
   "source": [
    "screening_hits.loc[screening_hits.ref_motif_id == \"motif_1\"]"
   ]
  },
  {
   "cell_type": "markdown",
   "id": "314afe56-5f6d-4eca-885f-915b7cefc110",
   "metadata": {},
   "source": [
    "---"
   ]
  },
  {
   "cell_type": "code",
   "execution_count": null,
   "id": "8037dc25-23a4-47d1-a0cb-2f8a62a13473",
   "metadata": {},
   "outputs": [],
   "source": [
    "from MS2LDA.Add_On.MassQL.MassQL4MotifDB import load_motifDB_excel"
   ]
  },
  {
   "cell_type": "code",
   "execution_count": null,
   "id": "be1c69fb-797d-4640-b2da-01b594090d71",
   "metadata": {},
   "outputs": [],
   "source": [
    "ms1, ms2 = load_motifDB_excel(\"DDA-Pesticide_100/motifDB_optimized.xlsx\")"
   ]
  },
  {
   "cell_type": "code",
   "execution_count": null,
   "id": "5c0a24e6-95b1-42c0-bee7-a375906131d7",
   "metadata": {},
   "outputs": [],
   "source": [
    "ms1"
   ]
  },
  {
   "cell_type": "code",
   "execution_count": null,
   "id": "212a05ad-c13e-4be5-949c-0a915aa7e3c4",
   "metadata": {},
   "outputs": [],
   "source": [
    "x = ms1.to_dict()\n",
    "y = ms2.to_dict()"
   ]
  },
  {
   "cell_type": "code",
   "execution_count": null,
   "id": "09b9069e-be3f-4817-8eb5-1ed8abc7bd5f",
   "metadata": {},
   "outputs": [],
   "source": [
    "pd.DataFrame(x)"
   ]
  },
  {
   "cell_type": "code",
   "execution_count": null,
   "id": "6b3c4de3-c3d8-4803-9391-90c89f54c2d6",
   "metadata": {},
   "outputs": [],
   "source": [
    "z = {\n",
    "    \"x\": x,\n",
    "    \"y\": y,\n",
    "}"
   ]
  },
  {
   "cell_type": "code",
   "execution_count": null,
   "id": "11936d10-ab0a-4e11-b67a-3d6e3018fdfb",
   "metadata": {
    "scrolled": true
   },
   "outputs": [],
   "source": [
    "pd.DataFrame(z[\"x\"])"
   ]
  },
  {
   "cell_type": "code",
   "execution_count": null,
   "id": "b8f1d8b0-fbaa-4f87-b673-999b756e1516",
   "metadata": {},
   "outputs": [],
   "source": [
    "with open(\"motifDB_test.json\", \"w\") as outfile:\n",
    "    json.dump(z, outfile)"
   ]
  },
  {
   "cell_type": "code",
   "execution_count": null,
   "id": "c780e33a-4c24-4c82-8bba-187ad5f098ab",
   "metadata": {},
   "outputs": [],
   "source": [
    "with open(\"motifDB_test.json\", \"r\") as infile:\n",
    "    mDB = json.load(infile)"
   ]
  },
  {
   "cell_type": "code",
   "execution_count": null,
   "id": "711bd145-0ff3-417d-8f11-c5a12e7a0800",
   "metadata": {},
   "outputs": [],
   "source": [
    "pd.DataFrame(mDB[\"x\"])"
   ]
  },
  {
   "cell_type": "code",
   "execution_count": null,
   "id": "7ac0c80f-5d95-4e04-be50-fe610f831817",
   "metadata": {},
   "outputs": [],
   "source": []
  }
 ],
 "metadata": {
  "kernelspec": {
   "display_name": "Python 3 (ipykernel)",
   "language": "python",
   "name": "python3"
  },
  "language_info": {
   "codemirror_mode": {
    "name": "ipython",
    "version": 3
   },
   "file_extension": ".py",
   "mimetype": "text/x-python",
   "name": "python",
   "nbconvert_exporter": "python",
   "pygments_lexer": "ipython3",
   "version": "3.12.11"
  }
 },
 "nbformat": 4,
 "nbformat_minor": 5
}