{
 "cells": [
  {
   "cell_type": "code",
   "execution_count": 32,
   "id": "490d0afa-1f33-4bd0-9405-4c4bd48756be",
   "metadata": {},
   "outputs": [],
   "source": [
    "from matchms import Spectrum, Fragments"
   ]
  },
  {
   "cell_type": "code",
   "execution_count": 1,
   "id": "565c7ffa-6483-4578-b809-23394499cfb8",
   "metadata": {},
   "outputs": [],
   "source": [
    "from rdkit.Chem import Draw\n",
    "from rdkit import Chem"
   ]
  },
  {
   "cell_type": "code",
   "execution_count": 41,
   "id": "84ac4076-7744-4fb1-9e42-b3d14c66574a",
   "metadata": {},
   "outputs": [
    {
     "name": "stdout",
     "output_type": "stream",
     "text": [
      "C:\\Users\\dietr004\\Documents\\PhD\\computational mass spectrometry\\Spec2Struc\\Project_SubstructureIdentification\\scripts\\programming_scripts\n"
     ]
    }
   ],
   "source": [
    "import os\n",
    "os.chdir('../programming_scripts/.')\n",
    "print(os.getcwd())\n",
    "\n",
    "from MS2LDA_core import run_lda\n",
    "from MS2LDA_core import predict_with_lda\n",
    "\n",
    "from MS2LDA_core import load_mgf\n",
    "from MS2LDA_core import clean_spectra\n",
    "\n",
    "from utils import motifs2spectra\n",
    "from spec2vec import Spec2Vec\n",
    "\n",
    "import numpy as np"
   ]
  },
  {
   "cell_type": "code",
   "execution_count": 3,
   "id": "1754086d-be13-46ad-991b-98cd167931b7",
   "metadata": {},
   "outputs": [],
   "source": [
    "spectra_path = r\"C:\\Users\\dietr004\\Documents\\PhD\\computational mass spectrometry\\Spec2Struc\\Project_SubformulaAnnotation\\raw_data\\_RAWdata1\\GNPS-COLLECTIONS-PESTICIDES-POSITIVE.mgf\"\n",
    "# spectra_path = r\"C:\\Users\\dietr004\\Documents\\PhD\\computational mass spectrometry\\Spec2Struc\\Project_SubformulaAnnotation\\raw_data\\_RAWdata1\\GNPS-NIH-SMALLMOLECULEPHARMACOLOGICALLYACTIVE.mgf\"\n",
    "# spectra_path = r\"C:\\Users\\dietr004\\Documents\\PhD\\computational mass spectrometry\\Spec2Struc\\Project_SubformulaAnnotation\\raw_data\\_RAWdata1\\GNPS-SCIEX-LIBRARY.mgf\"\n",
    "# spectra_path = r\"C:\\Users\\dietr004\\Documents\\PhD\\computational mass spectrometry\\MEDUSA\\notebooks\\MS2LDA\\PDE5_standards_annotated_pos_unique.mgf\""
   ]
  },
  {
   "cell_type": "code",
   "execution_count": 4,
   "id": "260faa92-5a09-46fc-b76b-9cc301853e56",
   "metadata": {},
   "outputs": [],
   "source": [
    "from matchms.importing import load_from_mgf"
   ]
  },
  {
   "cell_type": "code",
   "execution_count": 23,
   "id": "95d85e36-bb93-4cfa-8430-09763522ed01",
   "metadata": {},
   "outputs": [],
   "source": [
    "spectra = load_mgf(spectra_path)\n",
    "cleaned_spectra = clean_spectra(spectra)"
   ]
  },
  {
   "cell_type": "code",
   "execution_count": 27,
   "id": "88d18457-d828-4ddd-846e-fd57c1d498ea",
   "metadata": {},
   "outputs": [],
   "source": [
    "spec = cleaned_spectra[0]"
   ]
  },
  {
   "cell_type": "code",
   "execution_count": 49,
   "id": "2b3057e8-db4d-4556-8dba-edfde2aaeb37",
   "metadata": {},
   "outputs": [],
   "source": [
    "def mask_fragments(spectrum, mask):\n",
    "    \"\"\"masks fragments and losses one by one\"\"\"\n",
    "    precursor_ion = spectrum.get(\"precursor_ion\")\n",
    "    identifier = spectrum.get(\"id\")\n",
    "    \n",
    "    fragments_mz = list(spectrum.peaks.mz)\n",
    "    fragments_intensities = list(spectrum.peaks.intensities)\n",
    "\n",
    "    losses_mz = spectrum.losses.mz\n",
    "    losses_intensities = spectrum.losses.intensities\n",
    "\n",
    "    masked_spectra = []\n",
    "    for index in range(len(fragments_mz)):\n",
    "        masked_fragments_mz = fragments_mz.copy()\n",
    "        masked_fragments_intensities = fragments_intensities.copy()\n",
    "\n",
    "        masked_fragments_mz.pop(index)\n",
    "        masked_fragments_intensities.pop(index)\n",
    "\n",
    "        retrieved_fragment_intensity = fragments_mz[index]\n",
    "\n",
    "        masked_fragments_mz = [mask] + masked_fragments_mz\n",
    "        masked_fragments_intensities = [retrieved_fragment_intensity] + masked_fragments_intensities\n",
    "\n",
    "        masked_spectrum = Spectrum(\n",
    "            mz=np.array(masked_fragments_mz),\n",
    "            intensities=np.array(masked_fragments_intensities),\n",
    "            metadata={\n",
    "                \"id\": identifier,\n",
    "                \"precursor_ion\": precursor_ion\n",
    "            }\n",
    "        )\n",
    "\n",
    "        masked_spectrum.losses = Fragments(\n",
    "            mz=losses_mz,\n",
    "            intensities=losses_intensities)\n",
    "\n",
    "        masked_spectra.append(masked_spectrum)\n",
    "\n",
    "    return masked_spectra"
   ]
  },
  {
   "cell_type": "code",
   "execution_count": 56,
   "id": "c88c5b1f-1f65-4b23-8aa6-2f0f4823cd90",
   "metadata": {},
   "outputs": [],
   "source": [
    "def mask_losses(spectrum, mask):\n",
    "    \"\"\"masks fragments and losses one by one\"\"\"\n",
    "    precursor_ion = spectrum.get(\"precursor_ion\")\n",
    "    identifier = spectrum.get(\"id\")\n",
    "    \n",
    "    fragments_mz = spectrum.peaks.mz\n",
    "    fragments_intensities = spectrum.peaks.intensities\n",
    "\n",
    "    losses_mz = list(spectrum.losses.mz)\n",
    "    losses_intensities = list(spectrum.losses.intensities)\n",
    "   \n",
    "    masked_spectra = []\n",
    "    for index in range(len(losses_mz)):\n",
    "        masked_losses_mz = losses_mz.copy()\n",
    "        masked_losses_intensities = losses_intensities.copy()\n",
    "\n",
    "        masked_losses_mz.pop(index)\n",
    "        masked_losses_intensities.pop(index)\n",
    "\n",
    "        retrieved_loss_intensity = losses_mz[index]\n",
    "\n",
    "        masked_losses_mz = [mask] + masked_losses_mz\n",
    "        masked_losses_intensities = [retrieved_loss_intensity] + masked_losses_intensities\n",
    "\n",
    "        masked_spectrum = Spectrum(\n",
    "            mz=fragments_mz,\n",
    "            intensities=fragments_intensities,\n",
    "            metadata={\n",
    "                \"id\": identifier,\n",
    "                \"precursor_ion\": precursor_ion\n",
    "            }\n",
    "        )\n",
    "\n",
    "        masked_spectrum.losses = Fragments(\n",
    "            mz=np.array(masked_losses_mz),\n",
    "            intensities=np.array(masked_losses_intensities))\n",
    "\n",
    "        masked_spectra.append(masked_spectrum)\n",
    "\n",
    "    return masked_spectra"
   ]
  },
  {
   "cell_type": "code",
   "execution_count": 57,
   "id": "5827f00b-634e-4085-8500-750a7f207a66",
   "metadata": {},
   "outputs": [
    {
     "name": "stdout",
     "output_type": "stream",
     "text": [
      "2024-04-12 14:30:04,492:WARNING:matchms:add_precursor_mz:No precursor_mz found in metadata.\n",
      "2024-04-12 14:30:04,493:WARNING:matchms:add_precursor_mz:No precursor_mz found in metadata.\n",
      "2024-04-12 14:30:04,493:WARNING:matchms:add_precursor_mz:No precursor_mz found in metadata.\n",
      "2024-04-12 14:30:04,494:WARNING:matchms:add_precursor_mz:No precursor_mz found in metadata.\n",
      "2024-04-12 14:30:04,495:WARNING:matchms:add_precursor_mz:No precursor_mz found in metadata.\n",
      "2024-04-12 14:30:04,495:WARNING:matchms:add_precursor_mz:No precursor_mz found in metadata.\n",
      "2024-04-12 14:30:04,496:WARNING:matchms:add_precursor_mz:No precursor_mz found in metadata.\n",
      "2024-04-12 14:30:04,496:WARNING:matchms:add_precursor_mz:No precursor_mz found in metadata.\n",
      "2024-04-12 14:30:04,497:WARNING:matchms:add_precursor_mz:No precursor_mz found in metadata.\n",
      "2024-04-12 14:30:04,497:WARNING:matchms:add_precursor_mz:No precursor_mz found in metadata.\n",
      "2024-04-12 14:30:04,498:WARNING:matchms:add_precursor_mz:No precursor_mz found in metadata.\n",
      "2024-04-12 14:30:04,499:WARNING:matchms:add_precursor_mz:No precursor_mz found in metadata.\n",
      "2024-04-12 14:30:04,499:WARNING:matchms:add_precursor_mz:No precursor_mz found in metadata.\n",
      "2024-04-12 14:30:04,500:WARNING:matchms:add_precursor_mz:No precursor_mz found in metadata.\n",
      "2024-04-12 14:30:04,500:WARNING:matchms:add_precursor_mz:No precursor_mz found in metadata.\n",
      "2024-04-12 14:30:04,501:WARNING:matchms:add_precursor_mz:No precursor_mz found in metadata.\n",
      "2024-04-12 14:30:04,501:WARNING:matchms:add_precursor_mz:No precursor_mz found in metadata.\n",
      "2024-04-12 14:30:04,502:WARNING:matchms:add_precursor_mz:No precursor_mz found in metadata.\n",
      "2024-04-12 14:30:04,502:WARNING:matchms:add_precursor_mz:No precursor_mz found in metadata.\n",
      "2024-04-12 14:30:04,502:WARNING:matchms:add_precursor_mz:No precursor_mz found in metadata.\n",
      "2024-04-12 14:30:04,503:WARNING:matchms:add_precursor_mz:No precursor_mz found in metadata.\n",
      "2024-04-12 14:30:04,503:WARNING:matchms:add_precursor_mz:No precursor_mz found in metadata.\n",
      "2024-04-12 14:30:04,504:WARNING:matchms:add_precursor_mz:No precursor_mz found in metadata.\n",
      "2024-04-12 14:30:04,504:WARNING:matchms:add_precursor_mz:No precursor_mz found in metadata.\n",
      "2024-04-12 14:30:04,505:WARNING:matchms:add_precursor_mz:No precursor_mz found in metadata.\n",
      "2024-04-12 14:30:04,505:WARNING:matchms:add_precursor_mz:No precursor_mz found in metadata.\n",
      "2024-04-12 14:30:04,506:WARNING:matchms:add_precursor_mz:No precursor_mz found in metadata.\n",
      "2024-04-12 14:30:04,506:WARNING:matchms:add_precursor_mz:No precursor_mz found in metadata.\n"
     ]
    },
    {
     "data": {
      "text/plain": [
       "[Spectrum(precursor m/z=0.00, 30 fragments between 71.0 and 257.1),\n",
       " Spectrum(precursor m/z=0.00, 30 fragments between 71.0 and 257.1),\n",
       " Spectrum(precursor m/z=0.00, 30 fragments between 71.0 and 257.1),\n",
       " Spectrum(precursor m/z=0.00, 30 fragments between 71.0 and 257.1),\n",
       " Spectrum(precursor m/z=0.00, 30 fragments between 71.0 and 257.1),\n",
       " Spectrum(precursor m/z=0.00, 30 fragments between 71.0 and 257.1),\n",
       " Spectrum(precursor m/z=0.00, 30 fragments between 71.0 and 257.1),\n",
       " Spectrum(precursor m/z=0.00, 30 fragments between 71.0 and 257.1),\n",
       " Spectrum(precursor m/z=0.00, 30 fragments between 71.0 and 257.1),\n",
       " Spectrum(precursor m/z=0.00, 30 fragments between 71.0 and 257.1),\n",
       " Spectrum(precursor m/z=0.00, 30 fragments between 71.0 and 257.1),\n",
       " Spectrum(precursor m/z=0.00, 30 fragments between 71.0 and 257.1),\n",
       " Spectrum(precursor m/z=0.00, 30 fragments between 71.0 and 257.1),\n",
       " Spectrum(precursor m/z=0.00, 30 fragments between 71.0 and 257.1),\n",
       " Spectrum(precursor m/z=0.00, 30 fragments between 71.0 and 257.1),\n",
       " Spectrum(precursor m/z=0.00, 30 fragments between 71.0 and 257.1),\n",
       " Spectrum(precursor m/z=0.00, 30 fragments between 71.0 and 257.1),\n",
       " Spectrum(precursor m/z=0.00, 30 fragments between 71.0 and 257.1),\n",
       " Spectrum(precursor m/z=0.00, 30 fragments between 71.0 and 257.1),\n",
       " Spectrum(precursor m/z=0.00, 30 fragments between 71.0 and 257.1),\n",
       " Spectrum(precursor m/z=0.00, 30 fragments between 71.0 and 257.1),\n",
       " Spectrum(precursor m/z=0.00, 30 fragments between 71.0 and 257.1),\n",
       " Spectrum(precursor m/z=0.00, 30 fragments between 71.0 and 257.1),\n",
       " Spectrum(precursor m/z=0.00, 30 fragments between 71.0 and 257.1),\n",
       " Spectrum(precursor m/z=0.00, 30 fragments between 71.0 and 257.1),\n",
       " Spectrum(precursor m/z=0.00, 30 fragments between 71.0 and 257.1),\n",
       " Spectrum(precursor m/z=0.00, 30 fragments between 71.0 and 257.1),\n",
       " Spectrum(precursor m/z=0.00, 30 fragments between 71.0 and 257.1)]"
      ]
     },
     "execution_count": 57,
     "metadata": {},
     "output_type": "execute_result"
    }
   ],
   "source": [
    "mask_losses(spec, 1.00)"
   ]
  },
  {
   "cell_type": "code",
   "execution_count": 50,
   "id": "98ab7e7a-e59a-4618-9f40-f8a2b8707bb5",
   "metadata": {},
   "outputs": [
    {
     "name": "stdout",
     "output_type": "stream",
     "text": [
      "2024-04-12 14:27:40,029:WARNING:matchms:add_precursor_mz:No precursor_mz found in metadata.\n",
      "2024-04-12 14:27:40,030:WARNING:matchms:add_precursor_mz:No precursor_mz found in metadata.\n",
      "2024-04-12 14:27:40,030:WARNING:matchms:add_precursor_mz:No precursor_mz found in metadata.\n",
      "2024-04-12 14:27:40,030:WARNING:matchms:add_precursor_mz:No precursor_mz found in metadata.\n",
      "2024-04-12 14:27:40,031:WARNING:matchms:add_precursor_mz:No precursor_mz found in metadata.\n",
      "2024-04-12 14:27:40,031:WARNING:matchms:add_precursor_mz:No precursor_mz found in metadata.\n",
      "2024-04-12 14:27:40,032:WARNING:matchms:add_precursor_mz:No precursor_mz found in metadata.\n",
      "2024-04-12 14:27:40,032:WARNING:matchms:add_precursor_mz:No precursor_mz found in metadata.\n",
      "2024-04-12 14:27:40,033:WARNING:matchms:add_precursor_mz:No precursor_mz found in metadata.\n",
      "2024-04-12 14:27:40,034:WARNING:matchms:add_precursor_mz:No precursor_mz found in metadata.\n",
      "2024-04-12 14:27:40,034:WARNING:matchms:add_precursor_mz:No precursor_mz found in metadata.\n",
      "2024-04-12 14:27:40,035:WARNING:matchms:add_precursor_mz:No precursor_mz found in metadata.\n",
      "2024-04-12 14:27:40,035:WARNING:matchms:add_precursor_mz:No precursor_mz found in metadata.\n",
      "2024-04-12 14:27:40,035:WARNING:matchms:add_precursor_mz:No precursor_mz found in metadata.\n",
      "2024-04-12 14:27:40,036:WARNING:matchms:add_precursor_mz:No precursor_mz found in metadata.\n",
      "2024-04-12 14:27:40,036:WARNING:matchms:add_precursor_mz:No precursor_mz found in metadata.\n",
      "2024-04-12 14:27:40,036:WARNING:matchms:add_precursor_mz:No precursor_mz found in metadata.\n",
      "2024-04-12 14:27:40,037:WARNING:matchms:add_precursor_mz:No precursor_mz found in metadata.\n",
      "2024-04-12 14:27:40,037:WARNING:matchms:add_precursor_mz:No precursor_mz found in metadata.\n",
      "2024-04-12 14:27:40,037:WARNING:matchms:add_precursor_mz:No precursor_mz found in metadata.\n",
      "2024-04-12 14:27:40,038:WARNING:matchms:add_precursor_mz:No precursor_mz found in metadata.\n",
      "2024-04-12 14:27:40,038:WARNING:matchms:add_precursor_mz:No precursor_mz found in metadata.\n",
      "2024-04-12 14:27:40,039:WARNING:matchms:add_precursor_mz:No precursor_mz found in metadata.\n",
      "2024-04-12 14:27:40,039:WARNING:matchms:add_precursor_mz:No precursor_mz found in metadata.\n",
      "2024-04-12 14:27:40,040:WARNING:matchms:add_precursor_mz:No precursor_mz found in metadata.\n",
      "2024-04-12 14:27:40,041:WARNING:matchms:add_precursor_mz:No precursor_mz found in metadata.\n",
      "2024-04-12 14:27:40,042:WARNING:matchms:add_precursor_mz:No precursor_mz found in metadata.\n",
      "2024-04-12 14:27:40,042:WARNING:matchms:add_precursor_mz:No precursor_mz found in metadata.\n",
      "2024-04-12 14:27:40,043:WARNING:matchms:add_precursor_mz:No precursor_mz found in metadata.\n",
      "2024-04-12 14:27:40,043:WARNING:matchms:add_precursor_mz:No precursor_mz found in metadata.\n"
     ]
    },
    {
     "data": {
      "text/plain": [
       "[Spectrum(precursor m/z=0.00, 30 fragments between 15.0 and 257.1),\n",
       " Spectrum(precursor m/z=0.00, 30 fragments between 15.0 and 257.1),\n",
       " Spectrum(precursor m/z=0.00, 30 fragments between 15.0 and 257.1),\n",
       " Spectrum(precursor m/z=0.00, 30 fragments between 15.0 and 257.1),\n",
       " Spectrum(precursor m/z=0.00, 30 fragments between 15.0 and 257.1),\n",
       " Spectrum(precursor m/z=0.00, 30 fragments between 15.0 and 257.1),\n",
       " Spectrum(precursor m/z=0.00, 30 fragments between 15.0 and 257.1),\n",
       " Spectrum(precursor m/z=0.00, 30 fragments between 15.0 and 257.1),\n",
       " Spectrum(precursor m/z=0.00, 30 fragments between 15.0 and 257.1),\n",
       " Spectrum(precursor m/z=0.00, 30 fragments between 15.0 and 257.1),\n",
       " Spectrum(precursor m/z=0.00, 30 fragments between 15.0 and 257.1),\n",
       " Spectrum(precursor m/z=0.00, 30 fragments between 15.0 and 257.1),\n",
       " Spectrum(precursor m/z=0.00, 30 fragments between 15.0 and 257.1),\n",
       " Spectrum(precursor m/z=0.00, 30 fragments between 15.0 and 257.1),\n",
       " Spectrum(precursor m/z=0.00, 30 fragments between 15.0 and 257.1),\n",
       " Spectrum(precursor m/z=0.00, 30 fragments between 15.0 and 257.1),\n",
       " Spectrum(precursor m/z=0.00, 30 fragments between 15.0 and 257.1),\n",
       " Spectrum(precursor m/z=0.00, 30 fragments between 15.0 and 257.1),\n",
       " Spectrum(precursor m/z=0.00, 30 fragments between 15.0 and 257.1),\n",
       " Spectrum(precursor m/z=0.00, 30 fragments between 15.0 and 257.1),\n",
       " Spectrum(precursor m/z=0.00, 30 fragments between 15.0 and 257.1),\n",
       " Spectrum(precursor m/z=0.00, 30 fragments between 15.0 and 257.1),\n",
       " Spectrum(precursor m/z=0.00, 30 fragments between 15.0 and 257.1),\n",
       " Spectrum(precursor m/z=0.00, 30 fragments between 15.0 and 257.1),\n",
       " Spectrum(precursor m/z=0.00, 30 fragments between 15.0 and 257.1),\n",
       " Spectrum(precursor m/z=0.00, 30 fragments between 15.0 and 257.1),\n",
       " Spectrum(precursor m/z=0.00, 30 fragments between 15.0 and 257.1),\n",
       " Spectrum(precursor m/z=0.00, 30 fragments between 15.0 and 257.1),\n",
       " Spectrum(precursor m/z=0.00, 30 fragments between 15.0 and 257.1),\n",
       " Spectrum(precursor m/z=0.00, 30 fragments between 15.0 and 238.1)]"
      ]
     },
     "execution_count": 50,
     "metadata": {},
     "output_type": "execute_result"
    }
   ],
   "source": [
    "mask_fragments(spec, 15.00)"
   ]
  },
  {
   "cell_type": "markdown",
   "id": "dae5813d-272e-4e3f-8281-bd8335a627c0",
   "metadata": {},
   "source": [
    "# Idea:\n",
    "1. generate all possible fragmentations + losses where one frag or loss is replace by a meaningless frag or loss (CH3 or H20); for motif spectrum\n",
    "2. generate spectra for possible combinations\n",
    "3. calculate embeddings for the new spectra\n",
    "4. calculate the scores against the top 10 spectra\n",
    "5. when is the score the lowest (or highest; that would make it more complicated if that would happen, but it's certainly possible)\n",
    "6. retrieve fragments and losses with the highest change in the score (pos and neg).\n",
    "7. Can you build a better motif with the scores? maybe only the positive ones? (smallest s2v score result)"
   ]
  },
  {
   "cell_type": "code",
   "execution_count": null,
   "id": "e3b0cc37-9db6-4740-88ba-54c3f0b78a2d",
   "metadata": {},
   "outputs": [],
   "source": []
  }
 ],
 "metadata": {
  "kernelspec": {
   "display_name": "Python 3 (ipykernel)",
   "language": "python",
   "name": "python3"
  },
  "language_info": {
   "codemirror_mode": {
    "name": "ipython",
    "version": 3
   },
   "file_extension": ".py",
   "mimetype": "text/x-python",
   "name": "python",
   "nbconvert_exporter": "python",
   "pygments_lexer": "ipython3",
   "version": "3.9.19"
  }
 },
 "nbformat": 4,
 "nbformat_minor": 5
}
