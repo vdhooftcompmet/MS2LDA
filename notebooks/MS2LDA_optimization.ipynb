{
 "cells": [
  {
   "cell_type": "code",
   "execution_count": 1,
   "id": "82a4637c-97f8-487a-a955-847b1ae38e93",
   "metadata": {},
   "outputs": [],
   "source": [
    "import pyLDAvis.gensim\n",
    "pyLDAvis.enable_notebook()\n",
    "\n",
    "import numpy as np\n",
    "\n",
    "from rdkit.Chem import Draw\n",
    "from rdkit import Chem"
   ]
  },
  {
   "cell_type": "code",
   "execution_count": 2,
   "id": "4ebd2c26-9a24-448c-baa8-c0d096911b41",
   "metadata": {},
   "outputs": [
    {
     "name": "stderr",
     "output_type": "stream",
     "text": [
      "C:\\Users\\dietr004\\AppData\\Local\\anaconda3\\envs\\spec2toxReadAcross\\lib\\site-packages\\sparsestack\\StackedSparseArray.py:4: DeprecationWarning: Please use `get_index_dtype` from the `scipy.sparse` namespace, the `scipy.sparse.sputils` namespace is deprecated.\n",
      "  from scipy.sparse.sputils import get_index_dtype\n"
     ]
    }
   ],
   "source": [
    "import sys\n",
    "sys.path.append('../programming_scripts/')\n",
    "\n",
    "from Motif_optimization import run_optimization"
   ]
  },
  {
   "cell_type": "code",
   "execution_count": 4,
   "id": "ecb313e7-4a14-46be-afa5-6021a5f62771",
   "metadata": {},
   "outputs": [],
   "source": [
    "spectra_path = r\"C:\\Users\\dietr004\\Documents\\PhD\\computational mass spectrometry\\MEDUSA\\notebooks\\MS2LDA\\PDE5_standards_annotated_pos_unique.mgf\"\n",
    "spectra_path = r\"C:\\Users\\dietr004\\Documents\\PhD\\computational mass spectrometry\\Spec2Struc\\Project_SubformulaAnnotation\\raw_data\\_RAWdata1\\GNPS-SCIEX-LIBRARY.mgf\""
   ]
  },
  {
   "cell_type": "code",
   "execution_count": 5,
   "id": "a7199524-d2cb-481d-86ba-c292e48bc3e2",
   "metadata": {},
   "outputs": [
    {
     "name": "stdout",
     "output_type": "stream",
     "text": [
      "288\n",
      "10 0 15.8\n",
      "288\n",
      "20 15.8 17.6\n",
      "288\n",
      "30 17.6 22.233333333333334\n",
      "288\n",
      "40 22.233333333333334 30.275\n",
      "288\n",
      "50 30.275 33.1\n"
     ]
    },
    {
     "name": "stderr",
     "output_type": "stream",
     "text": [
      "C:\\Users\\dietr004\\Documents\\PhD\\computational mass spectrometry\\Spec2Struc\\Project_SubstructureIdentification\\scripts\\notebooks\\../programming_scripts\\SMART_annotation.py:37: RuntimeWarning: invalid value encountered in divide\n",
      "  scaled_fps = cumulative_fps/len(fps_per_motif.index)\n"
     ]
    },
    {
     "name": "stdout",
     "output_type": "stream",
     "text": [
      "288\n",
      "60 33.1 nan\n"
     ]
    }
   ],
   "source": [
    "lda_model, smiles_per_motifs, fps_motifs, history_num_motifs, history_overall_sum = run_optimization(spectra_path, num_motifs=10, stepsize=10)"
   ]
  },
  {
   "cell_type": "code",
   "execution_count": 6,
   "id": "fd86e82d-471a-4463-8b96-a068a07f69bd",
   "metadata": {},
   "outputs": [],
   "source": [
    "import matplotlib.pyplot as plt"
   ]
  },
  {
   "cell_type": "code",
   "execution_count": 7,
   "id": "e6db26c5-0022-44c3-a4cd-bc3614dcac92",
   "metadata": {},
   "outputs": [
    {
     "data": {
      "text/plain": [
       "[<matplotlib.lines.Line2D at 0x1d9a6d0a820>]"
      ]
     },
     "execution_count": 7,
     "metadata": {},
     "output_type": "execute_result"
    },
    {
     "data": {
      "image/png": "[encoded data removed]",
      "text/plain": [
       "<Figure size 640x480 with 1 Axes>"
      ]
     },
     "metadata": {},
     "output_type": "display_data"
    }
   ],
   "source": [
    "plt.plot(history_num_motifs, history_overall_sum)"
   ]
  },
  {
   "cell_type": "code",
   "execution_count": 8,
   "id": "e5bdaf49-070b-4bf1-a82c-ac29577d6b68",
   "metadata": {},
   "outputs": [
    {
     "name": "stdout",
     "output_type": "stream",
     "text": [
      "Highest Slope: nan\n",
      "Points with Highest Slope:\n",
      "(50, 33.1) -> (60, nan)\n"
     ]
    }
   ],
   "source": [
    "# Define the x and y values\n",
    "x = np.array(history_num_motifs)\n",
    "y = np.array(history_overall_sum)\n",
    "\n",
    "# Compute the differences in x and y values\n",
    "delta_x = np.diff(x)\n",
    "delta_y = np.diff(y)\n",
    "\n",
    "# Compute the slopes\n",
    "slopes = delta_y / delta_x\n",
    "\n",
    "# Find the maximum slope\n",
    "max_slope_index = np.argmax(slopes)\n",
    "\n",
    "# Print the highest slope and the corresponding x and y values\n",
    "highest_slope = slopes[max_slope_index]\n",
    "x1, x2 = x[max_slope_index], x[max_slope_index + 1]\n",
    "y1, y2 = y[max_slope_index], y[max_slope_index + 1]\n",
    "\n",
    "print(\"Highest Slope:\", highest_slope)\n",
    "print(\"Points with Highest Slope:\")\n",
    "print(f\"({x1}, {y1}) -> ({x2}, {y2})\")"
   ]
  },
  {
   "cell_type": "code",
   "execution_count": null,
   "id": "fc6eb190-0749-44d1-a6d1-6891765b85dc",
   "metadata": {},
   "outputs": [],
   "source": []
  }
 ],
 "metadata": {
  "kernelspec": {
   "display_name": "Python 3 (ipykernel)",
   "language": "python",
   "name": "python3"
  },
  "language_info": {
   "codemirror_mode": {
    "name": "ipython",
    "version": 3
   },
   "file_extension": ".py",
   "mimetype": "text/x-python",
   "name": "python",
   "nbconvert_exporter": "python",
   "pygments_lexer": "ipython3",
   "version": "3.9.18"
  }
 },
 "nbformat": 4,
 "nbformat_minor": 5
}
