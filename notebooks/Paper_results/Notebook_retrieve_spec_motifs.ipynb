{
 "cells": [
  {
   "cell_type": "markdown",
   "id": "e231f2d4-c537-4c10-9fb1-3e4df87a54d5",
   "metadata": {},
   "source": [
    "## Running MS2LDA"
   ]
  },
  {
   "cell_type": "code",
   "execution_count": 1,
   "id": "18cd2e05-410b-4785-adff-4be45124acfa",
   "metadata": {},
   "outputs": [],
   "source": [
    "%matplotlib agg\n",
    "import sys\n",
    "sys.path.insert(0, '../../')\n",
    "import MS2LDA"
   ]
  },
  {
   "cell_type": "code",
   "execution_count": 2,
   "id": "gcoatva0jji",
   "metadata": {},
   "outputs": [
    {
     "name": "stdout",
     "output_type": "stream",
     "text": [
      "Datasets already present.\n"
     ]
    }
   ],
   "source": [
    "# Download datasets if not present\n",
    "import os\n",
    "import requests\n",
    "import zipfile\n",
    "\n",
    "datasets_dir = \"../../datasets\"\n",
    "os.makedirs(datasets_dir, exist_ok=True)\n",
    "\n",
    "if not os.path.exists(f\"{datasets_dir}/Case_Study_Fungal_dataset.mgf\"):\n",
    "    print(\"Downloading datasets from Zenodo...\")\n",
    "    response = requests.get(\"https://zenodo.org/records/15857387/files/datasets.zip?download=1\")\n",
    "    with open(\"datasets.zip\", \"wb\") as f:\n",
    "        f.write(response.content)\n",
    "    with zipfile.ZipFile(\"datasets.zip\", \"r\") as zip_ref:\n",
    "        zip_ref.extractall(\"../..\")\n",
    "    os.remove(\"datasets.zip\")\n",
    "    print(\"Datasets downloaded!\")\n",
    "else:\n",
    "    print(\"Datasets already present.\")"
   ]
  },
  {
   "cell_type": "code",
   "execution_count": 3,
   "id": "944410aa-a4cc-4104-8e36-f9389175847a",
   "metadata": {},
   "outputs": [],
   "source": [
    "preprocessing_parameters = {\n",
    "    \"min_mz\": 0,\n",
    "    \"max_mz\": 2000,\n",
    "    \"max_frags\": 1000,\n",
    "    \"min_frags\": 5,\n",
    "    \"min_intensity\": 0.01,\n",
    "    \"max_intensity\": 1\n",
    "}"
   ]
  },
  {
   "cell_type": "code",
   "execution_count": 4,
   "id": "dcdf52c5-82a2-455a-89ed-506af3c4826c",
   "metadata": {},
   "outputs": [],
   "source": [
    "convergence_parameters = {\n",
    "    \"step_size\": 50,\n",
    "    \"window_size\": 10,\n",
    "    \"threshold\": 0.005,\n",
    "    \"type\": \"perplexity_history\"\n",
    "}"
   ]
  },
  {
   "cell_type": "code",
   "execution_count": 5,
   "id": "590514d5-9c55-44b9-8fc0-f3f59d8a6bf2",
   "metadata": {},
   "outputs": [],
   "source": [
    "annotation_parameters = {\n",
    "    \"criterium\": \"biggest\", \n",
    "    \"cosine_similarity\": 0.90,\n",
    "    \"n_mols_retrieved\": 5, \n",
    "    \"s2v_model_path\": \"../../MS2LDA/Add_On/Spec2Vec/model_positive_mode/150225_Spec2Vec_pos_CleanedLibraries.model\",\n",
    "    \"s2v_library_embeddings\": \"../../MS2LDA/Add_On/Spec2Vec/model_positive_mode/150225_CleanedLibraries_Spec2Vec_pos_embeddings.npy\",\n",
    "    \"s2v_library_db\": \"../../MS2LDA/Add_On/Spec2Vec/model_positive_mode/150225_CombLibraries_spectra.db\",\n",
    "}"
   ]
  },
  {
   "cell_type": "code",
   "execution_count": 6,
   "id": "4a056889-9ec4-4abf-9262-6f40e4499814",
   "metadata": {},
   "outputs": [],
   "source": [
    "n_motifs = 200\n",
    "n_iterations = 10000"
   ]
  },
  {
   "cell_type": "code",
   "execution_count": 7,
   "id": "5fd54ccb-aa47-49bd-a34d-518730ed0ef8",
   "metadata": {},
   "outputs": [],
   "source": [
    "model_parameters = {\n",
    "    \"rm_top\": 0, \n",
    "    \"min_cf\": 0,\n",
    "    \"min_df\": 3,\n",
    "    \"alpha\": 0.6, #A higher alpha makes the document preferences \"smoother\" over topics\n",
    "    \"eta\": 0.01, #and a higher eta makes the topic preferences \"smoother\" over words.\n",
    "    \"seed\": 42,\n",
    "}"
   ]
  },
  {
   "cell_type": "code",
   "execution_count": 8,
   "id": "a0e0b0a4-d4f7-437d-ae69-0271c81f1efb",
   "metadata": {},
   "outputs": [],
   "source": [
    "train_parameters = {\n",
    "    \"parallel\": 3,\n",
    "    \"workers\": 0, \n",
    "}"
   ]
  },
  {
   "cell_type": "markdown",
   "id": "fb4def79",
   "metadata": {},
   "source": [
    "I will save this as a folder called mytest10!"
   ]
  },
  {
   "cell_type": "code",
   "execution_count": 9,
   "id": "366a586a-6121-4db3-9ac2-a40bb327239c",
   "metadata": {},
   "outputs": [],
   "source": [
    "dataset_parameters = {\n",
    "    \"acquisition_type\": \"DDA\",\n",
    "    \"significant_digits\": 3,\n",
    "    \"charge\": 1,\n",
    "    \"name\": \"test\",\n",
    "    \"output_folder\": f\"mytest10\", \n",
    "}"
   ]
  },
  {
   "cell_type": "code",
   "execution_count": 10,
   "id": "68e7abcb-57c1-4494-a4bf-ea9b9e98b8c7",
   "metadata": {},
   "outputs": [],
   "source": [
    "fingerprint_parameters = {\n",
    "    \"fp_type\": \"maccs\",\n",
    "    \"threshold\": 0.8,\n",
    "}"
   ]
  },
  {
   "cell_type": "code",
   "execution_count": 11,
   "id": "c46ed944-06c8-4577-94d0-26630b788b88",
   "metadata": {},
   "outputs": [],
   "source": [
    "motif_parameter = 50"
   ]
  },
  {
   "cell_type": "code",
   "execution_count": 12,
   "id": "404d3207-3fc0-408f-906a-bcaad1989db7",
   "metadata": {},
   "outputs": [
    {
     "data": {
      "text/plain": [
       "18562"
      ]
     },
     "execution_count": 12,
     "metadata": {},
     "output_type": "execute_result"
    }
   ],
   "source": [
    "from matchms.importing import load_from_mgf\n",
    "dataset = list(load_from_mgf(\"../../datasets/Case_Study_Fungal_dataset.mgf\"))\n",
    "len(dataset)"
   ]
  },
  {
   "cell_type": "code",
   "execution_count": 13,
   "id": "f5e3adc8-b5b9-4df9-a30d-6058e0bea552",
   "metadata": {},
   "outputs": [
    {
     "name": "stdout",
     "output_type": "stream",
     "text": [
      "Cleaning spectra ... 2714 spectra left\n"
     ]
    },
    {
     "name": "stderr",
     "output_type": "stream",
     "text": [
      "  0%|          | 0/200 [00:00<?, ?it/s]/Users/rtlortega/Documents/PhD/WP1/WP1/Code/MS2LDA/notebooks/Paper_results/../../MS2LDA/modeling.py:65: RuntimeWarning: The training result may differ even with fixed seed if `workers` != 1.\n",
      "  model.train(convergence_parameters[\"step_size\"], **train_parameters)\n",
      " 12%|█▏        | 23/200 [00:48<06:15,  2.12s/it]"
     ]
    },
    {
     "name": "stdout",
     "output_type": "stream",
     "text": [
      "Model has converged\n"
     ]
    },
    {
     "name": "stderr",
     "output_type": "stream",
     "text": [
      "\n",
      "100%|██████████| 200/200 [00:01<00:00, 158.39it/s]\n"
     ]
    },
    {
     "name": "stdout",
     "output_type": "stream",
     "text": [
      "m2m folder stored\n",
      "convergence curve stored\n",
      "network stored\n"
     ]
    },
    {
     "name": "stderr",
     "output_type": "stream",
     "text": [
      "/Users/rtlortega/Documents/PhD/WP1/WP1/Code/MS2LDA/notebooks/Paper_results/../../MS2LDA/Visualisation/visualisation.py:489: UserWarning: No artists with labels found to put in legend.  Note that artists whose label start with an underscore are ignored when legend() is called with no argument.\n",
      "  plt.legend(loc=\"best\")\n"
     ]
    },
    {
     "name": "stdout",
     "output_type": "stream",
     "text": [
      "Visualization data saved (gzipped) to: mytest10/ms2lda_viz.json.gz\n"
     ]
    }
   ],
   "source": [
    "motif_spectra, optimized_motifs, motif_fps = MS2LDA.run(dataset, n_motifs=n_motifs, n_iterations=n_iterations,\n",
    "        dataset_parameters=dataset_parameters,\n",
    "        train_parameters=train_parameters,\n",
    "        model_parameters=model_parameters,\n",
    "        convergence_parameters=convergence_parameters,\n",
    "        annotation_parameters=annotation_parameters,\n",
    "        motif_parameter=motif_parameter,\n",
    "        preprocessing_parameters=preprocessing_parameters,\n",
    "        fingerprint_parameters=fingerprint_parameters)"
   ]
  },
  {
   "cell_type": "markdown",
   "id": "302315cd",
   "metadata": {},
   "source": [
    "### Analysis spectra -> Mass2Motif"
   ]
  },
  {
   "cell_type": "code",
   "execution_count": 14,
   "id": "dceb3a7b",
   "metadata": {},
   "outputs": [],
   "source": [
    "%matplotlib inline"
   ]
  },
  {
   "cell_type": "markdown",
   "id": "bf4a58ad",
   "metadata": {},
   "source": [
    "First we need to obtain the documents or spectra in this case coming from the model"
   ]
  },
  {
   "cell_type": "code",
   "execution_count": null,
   "id": "5ef629e2",
   "metadata": {},
   "outputs": [
    {
     "data": {
      "text/plain": [
       "2714"
      ]
     },
     "execution_count": 15,
     "metadata": {},
     "output_type": "execute_result"
    }
   ],
   "source": [
    "import tomotopy as tp\n",
    "ms2lda = tp.LDAModel.load(\"mytest10/ms2lda.bin\")\n",
    "len(ms2lda.docs) #we have 2714 preprocessed spectra"
   ]
  },
  {
   "cell_type": "markdown",
   "id": "b148dd5b",
   "metadata": {},
   "source": [
    "Here is for example doc or spectra  or in this case \"spectra\", here for example spectra with scan ID = 216, and the metadata associated with this"
   ]
  },
  {
   "cell_type": "code",
   "execution_count": 25,
   "id": "faae4ded",
   "metadata": {},
   "outputs": [
    {
     "data": {
      "text/plain": [
       "{'scans': '216',\n",
       " 'charge': 0,\n",
       " 'collision_energy': '0.0',\n",
       " 'retention_time': 66.016,\n",
       " 'ms_level': '2',\n",
       " 'precursor_mz': 185.0326,\n",
       " 'retention_index': None,\n",
       " 'id': 'spec_7'}"
      ]
     },
     "execution_count": 25,
     "metadata": {},
     "output_type": "execute_result"
    }
   ],
   "source": [
    "MS2LDA.retrieve_spec4doc(7).metadata"
   ]
  },
  {
   "cell_type": "markdown",
   "id": "1b59d817",
   "metadata": {},
   "source": [
    "Then we print the topics associated with that spectra"
   ]
  },
  {
   "cell_type": "code",
   "execution_count": 16,
   "id": "ee40de00",
   "metadata": {},
   "outputs": [
    {
     "data": {
      "text/plain": [
       "[(2, 0.5857964754104614),\n",
       " (120, 0.35888227820396423),\n",
       " (126, 0.04184675216674805),\n",
       " (99, 0.011281222105026245),\n",
       " (179, 0.0001715535472612828),\n",
       " (177, 0.00010518742783460766),\n",
       " (84, 9.225017856806517e-05),\n",
       " (59, 8.504003199050203e-05),\n",
       " (65, 7.905204984126613e-05),\n",
       " (101, 3.4376051189610735e-05)]"
      ]
     },
     "execution_count": 16,
     "metadata": {},
     "output_type": "execute_result"
    }
   ],
   "source": [
    "ms2lda.docs[7].get_topics()"
   ]
  },
  {
   "cell_type": "markdown",
   "id": "23831f96",
   "metadata": {},
   "source": [
    "Meaning the spectra with scan 216 and prec_mz of 185.0326 is connected to mass2motif 2, 120, 126... etc and their probabilities"
   ]
  },
  {
   "cell_type": "markdown",
   "id": "ed7e321b",
   "metadata": {},
   "source": [
    "### Now lets substract the Mass2Motifs per spectra that have more than 0.1 probability"
   ]
  },
  {
   "cell_type": "code",
   "execution_count": 18,
   "id": "846d492c",
   "metadata": {},
   "outputs": [],
   "source": [
    "top_motifs = []\n",
    "\n",
    "for i in range(len(ms2lda.docs)):\n",
    "    topics = ms2lda.docs[i].get_topics()\n",
    "    doc_motifs = []  \n",
    "    for motif in topics:\n",
    "        if motif[1] > 0.1:\n",
    "            doc_motifs.append(motif)\n",
    "    top_motifs.append(doc_motifs) \n"
   ]
  },
  {
   "cell_type": "markdown",
   "id": "4c162b37",
   "metadata": {},
   "source": [
    "### Now lets build a table that has everything: spectra, rt, Mass2Motifs and probabilities"
   ]
  },
  {
   "cell_type": "code",
   "execution_count": 20,
   "id": "e6d6c702",
   "metadata": {},
   "outputs": [],
   "source": [
    "scans_list = []\n",
    "retention_list = []\n",
    "motifs_list = []"
   ]
  },
  {
   "cell_type": "markdown",
   "id": "f966d947",
   "metadata": {},
   "source": [
    "more properties can be added"
   ]
  },
  {
   "cell_type": "code",
   "execution_count": 21,
   "id": "48c3f449",
   "metadata": {},
   "outputs": [],
   "source": [
    "for i in range(len(ms2lda.docs)):\n",
    "    metadata = MS2LDA.retrieve_spec4doc(i).metadata\n",
    "    scans_list.append(metadata['scans'])\n",
    "    retention_list.append(metadata['retention_time'])\n",
    "    motifs_list.append(top_motifs[i])"
   ]
  },
  {
   "cell_type": "code",
   "execution_count": 22,
   "id": "dca7916b",
   "metadata": {},
   "outputs": [
    {
     "name": "stdout",
     "output_type": "stream",
     "text": [
      "  scans  retention_time                                             motifs\n",
      "0    32          64.419  [(122, 0.7681128978729248), (117, 0.2094958275...\n",
      "1   112          63.864  [(51, 0.48322176933288574), (24, 0.32932263612...\n",
      "2   129          68.448                          [(2, 0.8528659343719482)]\n",
      "3   132          64.418                        [(126, 0.9104835987091064)]\n",
      "4   138          64.963  [(99, 0.6073269248008728), (1, 0.3637784719467...\n"
     ]
    }
   ],
   "source": [
    "import pandas as pd\n",
    "\n",
    "df = pd.DataFrame({\n",
    "    'scans': scans_list,\n",
    "    'retention_time': retention_list,\n",
    "    'motifs': motifs_list\n",
    "})\n",
    "\n",
    "print(df.head())"
   ]
  },
  {
   "cell_type": "code",
   "execution_count": 23,
   "id": "eb14d767",
   "metadata": {},
   "outputs": [],
   "source": [
    "df.to_csv('test10_spec_motifs.tsv', index=False, sep='\\t')\n"
   ]
  },
  {
   "cell_type": "markdown",
   "id": "3e9acd29-08bc-4864-aa58-1204a1cb0a26",
   "metadata": {},
   "source": [
    "---"
   ]
  },
  {
   "cell_type": "markdown",
   "id": "affb3c9d",
   "metadata": {},
   "source": []
  }
 ],
 "metadata": {
  "kernelspec": {
   "display_name": "MS2LDA_v2",
   "language": "python",
   "name": "python3"
  },
  "language_info": {
   "codemirror_mode": {
    "name": "ipython",
    "version": 3
   },
   "file_extension": ".py",
   "mimetype": "text/x-python",
   "name": "python",
   "nbconvert_exporter": "python",
   "pygments_lexer": "ipython3",
   "version": "3.12.11"
  }
 },
 "nbformat": 4,
 "nbformat_minor": 5
}
