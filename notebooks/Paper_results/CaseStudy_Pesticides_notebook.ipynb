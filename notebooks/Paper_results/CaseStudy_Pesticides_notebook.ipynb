{
 "cells": [
  {
   "cell_type": "markdown",
   "id": "e231f2d4-c537-4c10-9fb1-3e4df87a54d5",
   "metadata": {},
   "source": [
    "## Running MS2LDA"
   ]
  },
  {
   "cell_type": "code",
   "execution_count": 1,
   "id": "18cd2e05-410b-4785-adff-4be45124acfa",
   "metadata": {},
   "outputs": [],
   "source": [
    "%matplotlib agg\n",
    "import MS2LDA"
   ]
  },
  {
   "cell_type": "code",
   "execution_count": 2,
   "id": "944410aa-a4cc-4104-8e36-f9389175847a",
   "metadata": {},
   "outputs": [],
   "source": [
    "preprocessing_parameters = {\n",
    "    \"min_mz\": 0,\n",
    "    \"max_mz\": 1000,\n",
    "    \"max_frags\": 1000,\n",
    "    \"min_frags\": 4,\n",
    "    \"min_intensity\": 0.01,\n",
    "    \"max_intensity\": 1\n",
    "}"
   ]
  },
  {
   "cell_type": "code",
   "execution_count": 3,
   "id": "dcdf52c5-82a2-455a-89ed-506af3c4826c",
   "metadata": {},
   "outputs": [],
   "source": [
    "convergence_parameters = {\n",
    "    \"step_size\": 50,\n",
    "    \"window_size\": 10,\n",
    "    \"threshold\": 0.001,\n",
    "    \"type\": \"perplexity_history\"\n",
    "}"
   ]
  },
  {
   "cell_type": "code",
   "execution_count": 4,
   "id": "590514d5-9c55-44b9-8fc0-f3f59d8a6bf2",
   "metadata": {},
   "outputs": [],
   "source": [
    "annotation_parameters = {\n",
    "    \"criterium\": \"best\", # return cluster with most compounds in it after optimization (\"best\" also an option)\n",
    "    \"cosine_similarity\": 0.70, #0.8 how similar are the spectra compared to motifs in the optimization\n",
    "    \"n_mols_retrieved\": 25 # 10 molecules retrieved from database by Spec2Vec\n",
    "}"
   ]
  },
  {
   "cell_type": "code",
   "execution_count": 5,
   "id": "4a056889-9ec4-4abf-9262-6f40e4499814",
   "metadata": {},
   "outputs": [],
   "source": [
    "n_motifs = 400\n",
    "n_iterations = 5000"
   ]
  },
  {
   "cell_type": "code",
   "execution_count": 6,
   "id": "5fd54ccb-aa47-49bd-a34d-518730ed0ef8",
   "metadata": {},
   "outputs": [],
   "source": [
    "import random\n",
    "random.seed(42)\n",
    "model_parameters = {\n",
    "    \"rm_top\": 0, \n",
    "    \"min_cf\": 0,\n",
    "    \"min_df\": 3,\n",
    "    \"alpha\": 0.1, #A higher alpha makes the document preferences \"smoother\" over topics\n",
    "    \"eta\": 0.1, #and a higher eta makes the topic preferences \"smoother\" over words.\n",
    "    \"seed\": 42,\n",
    "}"
   ]
  },
  {
   "cell_type": "code",
   "execution_count": 7,
   "id": "a0e0b0a4-d4f7-437d-ae69-0271c81f1efb",
   "metadata": {},
   "outputs": [],
   "source": [
    "train_parameters = {\n",
    "    \"parallel\": 3,\n",
    "    \"workers\": 0, \n",
    "}"
   ]
  },
  {
   "cell_type": "code",
   "execution_count": 8,
   "id": "366a586a-6121-4db3-9ac2-a40bb327239c",
   "metadata": {},
   "outputs": [],
   "source": [
    "dataset_parameters = {\n",
    "    \"acquisition_type\": \"DDA\",\n",
    "    \"significant_digits\": 3,\n",
    "    \"charge\": 1,\n",
    "    \"name\": \"DDA-Pesticide-Neurotox\",\n",
    "    \"output_folder\": f\"DDA-Pesticide_{n_motifs}_c\", #6\n",
    "}"
   ]
  },
  {
   "cell_type": "code",
   "execution_count": 9,
   "id": "68e7abcb-57c1-4494-a4bf-ea9b9e98b8c7",
   "metadata": {},
   "outputs": [],
   "source": [
    "fingerprint_parameters = {\n",
    "    \"fp_type\": \"rdkit\",\n",
    "    \"threshold\": 0.8,\n",
    "}"
   ]
  },
  {
   "cell_type": "code",
   "execution_count": 10,
   "id": "c46ed944-06c8-4577-94d0-26630b788b88",
   "metadata": {},
   "outputs": [],
   "source": [
    "motif_parameter = 20"
   ]
  },
  {
   "cell_type": "code",
   "execution_count": 11,
   "id": "b7682647-60ba-4a0b-bb04-0b8f1191f03f",
   "metadata": {},
   "outputs": [],
   "source": [
    "#dataset = \"../datasets/240102_bovi_2023_4_pos_her_BWO_LC-OTT3_034.mzML\"\n",
    "dataset = \"../datasets//mzmine443_Bovi06_sirius.mgf\""
   ]
  },
  {
   "cell_type": "code",
   "execution_count": 12,
   "id": "404d3207-3fc0-408f-906a-bcaad1989db7",
   "metadata": {},
   "outputs": [
    {
     "data": {
      "text/plain": [
       "9765"
      ]
     },
     "execution_count": 12,
     "metadata": {},
     "output_type": "execute_result"
    }
   ],
   "source": [
    "from matchms.importing import load_from_mgf\n",
    "#dataset = list(load_from_mgf(\"../datasets/mzmine443_Bovi34_sirius.mgf\")) + list(load_from_mgf(\"../datasets/mzmine443_Bovi74_sirius.mgf\")) + list(load_from_mgf(\"../datasets/mzmine443_Bovi12_sirius.mgf\")) + list(load_from_mgf(\"../datasets/mzmine443_Bovi06_sirius.mgf\"))\n",
    "dataset = list(load_from_mgf(\"../datasets/mzmine443_tomato_spiked_sirius.mgf\"))\n",
    "len(dataset)"
   ]
  },
  {
   "cell_type": "code",
   "execution_count": 13,
   "id": "7531e8a1-402b-4e30-b793-6a31aba5c688",
   "metadata": {},
   "outputs": [],
   "source": [
    "#from matchms.importing import load_from_mzml\n",
    "#dataset = list(load_from_mzml(\"../datasets/240102_bovi_2023_4_pos_her_BWO_LC-OTT3_006.mzML\")) + list(load_from_mzml(\"../datasets/240102_bovi_2023_4_pos_her_BWO_LC-OTT3_012.mzML\")) + list(load_from_mzml(\"../datasets/240102_bovi_2023_4_pos_her_BWO_LC-OTT3_034.mzML\")) + list(load_from_mzml(\"../datasets/240102_bovi_2023_4_pos_her_BWO_LC-OTT3_074.mzML\"))\n",
    "#len(dataset)"
   ]
  },
  {
   "cell_type": "code",
   "execution_count": 14,
   "id": "f5e3adc8-b5b9-4df9-a30d-6058e0bea552",
   "metadata": {
    "scrolled": true
   },
   "outputs": [
    {
     "name": "stdout",
     "output_type": "stream",
     "text": [
      "Cleaning spectra ... 7211 spectra left\n"
     ]
    },
    {
     "name": "stderr",
     "output_type": "stream",
     "text": [
      "  0%|                                                                                          | 0/100 [00:00<?, ?it/s]C:\\Users\\dietr004\\AppData\\Local\\anaconda3\\envs\\MS2LDA\\lib\\site-packages\\MS2LDA\\modeling.py:54: RuntimeWarning: The training result may differ even with fixed seed if `workers` != 1.\n",
      "  model.train(convergence_parameters[\"step_size\"], **train_parameters)\n",
      " 52%|██████████████████████████████████████████                                       | 52/100 [09:00<08:18, 10.39s/it]"
     ]
    },
    {
     "name": "stdout",
     "output_type": "stream",
     "text": [
      "Model has converged\n",
      "Loading Spec2Vec model ...\n"
     ]
    },
    {
     "name": "stderr",
     "output_type": "stream",
     "text": [
      "\n"
     ]
    },
    {
     "name": "stdout",
     "output_type": "stream",
     "text": [
      "Searches for candidates ...\n"
     ]
    },
    {
     "name": "stderr",
     "output_type": "stream",
     "text": [
      "100%|████████████████████████████████████████████████████████████████████████████████| 399/399 [03:02<00:00,  2.19it/s]\n"
     ]
    },
    {
     "name": "stdout",
     "output_type": "stream",
     "text": [
      "Visualization data saved to: DDA-Pesticide_400_c\\ms2lda_viz.json\n"
     ]
    }
   ],
   "source": [
    "motif_spectra, optimized_motifs, motif_fps = MS2LDA.run(dataset, n_motifs=n_motifs, n_iterations=n_iterations,\n",
    "        dataset_parameters=dataset_parameters,\n",
    "        train_parameters=train_parameters,\n",
    "        model_parameters=model_parameters,\n",
    "        convergence_parameters=convergence_parameters,\n",
    "        annotation_parameters=annotation_parameters,\n",
    "        motif_parameter=motif_parameter,\n",
    "        preprocessing_parameters=preprocessing_parameters,\n",
    "        fingerprint_parameters=fingerprint_parameters)"
   ]
  },
  {
   "cell_type": "markdown",
   "id": "3e9acd29-08bc-4864-aa58-1204a1cb0a26",
   "metadata": {},
   "source": [
    "---"
   ]
  },
  {
   "cell_type": "code",
   "execution_count": 20,
   "id": "b4c4a004-e18b-423b-bcc5-ac5b089ced5b",
   "metadata": {},
   "outputs": [],
   "source": [
    "from tomotopy import LDAModel"
   ]
  },
  {
   "cell_type": "code",
   "execution_count": 21,
   "id": "f2545d8e-3849-43d3-81c6-29f8d16fdfc1",
   "metadata": {},
   "outputs": [],
   "source": [
    "LDA = LDAModel.load(f\"{dataset_parameters['output_folder']}/ms2lda.bin\")"
   ]
  },
  {
   "cell_type": "code",
   "execution_count": 22,
   "id": "5f8306f6-c355-42bc-9a1c-1437ed0931cf",
   "metadata": {},
   "outputs": [
    {
     "name": "stdout",
     "output_type": "stream",
     "text": [
      "<Basic Info>\n",
      "| LDAModel (current version: 0.12.7)\n",
      "| 21155 docs, 11814007 words\n",
      "| Total Vocabs: 18320, Used Vocabs: 15086\n",
      "| Entropy of words: 7.70110\n",
      "| Entropy of term-weighted words: 7.70110\n",
      "| Removed Vocabs: <NA>\n",
      "|\n",
      "<Training Info>\n",
      "| Iterations: 2000, Burn-in steps: 0\n",
      "| Optimization Interval: 10\n",
      "| Log-likelihood per word: -5.07424\n",
      "|\n",
      "<Initial Parameters>\n",
      "| tw: TermWeight.ONE\n",
      "| min_cf: 0 (minimum collection frequency of words)\n",
      "| min_df: 2 (minimum document frequency of words)\n",
      "| rm_top: 0 (the number of top words to be removed)\n",
      "| k: 200 (the number of topics between 1 ~ 32767)\n",
      "| alpha: [0.01] (hyperparameter of Dirichlet distribution for document-topic, given as a single `float` in case of symmetric prior and as a list with length `k` of `float` in case of asymmetric prior.)\n",
      "| eta: 0.1 (hyperparameter of Dirichlet distribution for topic-word)\n",
      "| seed: 42 (random seed)\n",
      "| trained in version 0.12.7\n",
      "|\n",
      "<Parameters>\n",
      "| alpha (Dirichlet prior on the per-document topic distributions)\n",
      "|  [0.00398883 0.0050586  0.00089339 0.00057548 0.01301204 0.00088488\n",
      "|   0.00495014 0.01188043 0.00055861 0.00158242 0.00920746 0.00526869\n",
      "|   0.01598343 0.01102681 0.01275121 0.00227477 0.00570477 0.02032985\n",
      "|   0.00316933 0.00976747 0.01102643 0.02287939 0.00620626 0.0233283\n",
      "|   0.00233455 0.00417475 0.00161955 0.00258006 0.01679474 0.00145993\n",
      "|   0.00583997 0.00953223 0.00124635 0.0023373  0.00149943 0.00143124\n",
      "|   0.0073562  0.00139411 0.00082629 0.0050538  0.00904353 0.00131248\n",
      "|   0.00621533 0.00305545 0.00828637 0.02285946 0.00828921 0.00744451\n",
      "|   0.00900941 0.00124095 0.00539936 0.00550037 0.02236677 0.02405927\n",
      "|   0.00892227 0.01429314 0.00445826 0.00562853 0.01095719 0.01353856\n",
      "|   0.00161502 0.00746188 0.0016263  0.00080126 0.02183564 0.00134711\n",
      "|   0.00124659 0.00392054 0.01300269 0.00927147 0.00805679 0.00319368\n",
      "|   0.0012239  0.00716124 0.00880434 0.0284282  0.02334701 0.00152569\n",
      "|   0.00343063 0.00112713 0.00340256 0.02250906 0.00329578 0.00362176\n",
      "|   0.00134261 0.00929942 0.00349609 0.00490984 0.00644899 0.00948982\n",
      "|   0.01711367 0.00739598 0.00069222 0.02331891 0.00923813 0.00158759\n",
      "|   0.00161646 0.0197296  0.00618912 0.00135468 0.02271491 0.00063354\n",
      "|   0.01253863 0.00676575 0.00131507 0.00131391 0.01480025 0.02217257\n",
      "|   0.03139242 0.00270262 0.00617583 0.01518871 0.02283488 0.02333106\n",
      "|   0.00121619 0.02333748 0.00651203 0.00310804 0.00123024 0.00623031\n",
      "|   0.00066746 0.01070349 0.02314869 0.00246356 0.00163389 0.00804604\n",
      "|   0.00226214 0.00151385 0.02050779 0.00933562 0.00129519 0.00230487\n",
      "|   0.00461122 0.00356608 0.02175857 0.00296621 0.01653927 0.01620184\n",
      "|   0.00132957 0.00341352 0.00163254 0.00739215 0.00973808 0.01820422\n",
      "|   0.00602706 0.00162788 0.01282434 0.00475956 0.00601025 0.00424933\n",
      "|   0.00057535 0.01519331 0.00132085 0.00608863 0.01387682 0.02337964\n",
      "|   0.0029865  0.01727252 0.00056703 0.00145438 0.00534194 0.00565469\n",
      "|   0.00660978 0.00081842 0.00911145 0.02533031 0.00861971 0.01405098\n",
      "|   0.00666102 0.02142469 0.00552422 0.00158329 0.01907619 0.00149557\n",
      "|   0.00085985 0.016828   0.00055876 0.01507463 0.0006839  0.00065863\n",
      "|   0.00064206 0.00911457 0.00136    0.00587862 0.0051925  0.0151492\n",
      "|   0.00160658 0.00146495 0.00997461 0.00420526 0.00884266 0.01514375\n",
      "|   0.00527897 0.00201102 0.01229624 0.00134422 0.00143866 0.0177925\n",
      "|   0.00583694 0.02213157]\n",
      "| eta (Dirichlet prior on the per-topic word distribution)\n",
      "|  0.1\n",
      "|\n",
      "<Topics>\n",
      "| #0 (22749) : frag@47.0 frag@369.3 frag@409.29 frag@139.04 frag@243.09\n",
      "| #1 (48471) : frag@158.12 frag@432.28 frag@323.16 frag@226.1 frag@258.13\n",
      "| #2 (43883) : frag@223.13 frag@146.06 frag@190.09 frag@147.06 frag@231.11\n",
      "| #3 (40939) : frag@709.45 frag@408.26 frag@478.97 frag@197.19 frag@479.31\n",
      "| #4 (101404) : frag@205.12 frag@195.14 frag@206.13 frag@209.12 frag@210.11\n",
      "| #5 (23704) : frag@546.36 frag@341.14 frag@508.34 frag@275.26 frag@297.24\n",
      "| #6 (172587) : frag@169.1 frag@141.1 frag@155.08 frag@129.1 frag@183.15\n",
      "| #7 (89157) : frag@52.02 frag@52.03 frag@96.04 frag@69.03 frag@46.98\n",
      "| #8 (29646) : frag@611.05 frag@351.24 frag@611.39 frag@368.26 frag@200.16\n",
      "| #9 (34089) : frag@286.14 frag@288.14 frag@377.15 frag@500.3 frag@544.27\n",
      "| #10 (31032) : frag@685.44 frag@495.27 frag@663.45 frag@551.33 frag@439.2\n",
      "| #11 (30487) : frag@50.02 frag@536.33 frag@558.32 frag@537.34 frag@430.89\n",
      "| #12 (88595) : frag@107.05 frag@133.06 frag@121.06 frag@108.05 frag@145.06\n",
      "| #13 (101330) : frag@133.09 frag@177.11 frag@131.07 frag@117.09 frag@175.1\n",
      "| #14 (76657) : frag@132.08 frag@144.08 frag@156.08 frag@117.06 frag@143.07\n",
      "| #15 (33500) : frag@180.07 frag@202.05 frag@261.14 frag@300.2 frag@284.12\n",
      "| #16 (33234) : frag@448.34 frag@114.09 frag@64.02 frag@449.35 frag@138.02\n",
      "| #17 (113447) : frag@69.07 frag@83.09 frag@81.07 frag@97.1 frag@97.06\n",
      "| #18 (29856) : frag@245.15 frag@241.15 frag@297.11 frag@438.19 frag@248.15\n",
      "| #19 (40066) : frag@163.08 frag@283.26 frag@311.29 frag@239.14 frag@955.76\n",
      "| #20 (80113) : frag@123.06 frag@126.05 frag@114.07 frag@124.08 frag@180.09\n",
      "| #21 (250718) : frag@68.05 frag@106.07 frag@109.08 frag@86.06 frag@95.06\n",
      "| #22 (69672) : frag@179.11 frag@183.1 frag@196.09 frag@165.13 frag@185.09\n",
      "| #23 (45982) : frag@552.35 frag@552.69 frag@413.25 frag@495.4 frag@383.24\n",
      "| #24 (28368) : frag@271.19 frag@375.21 frag@427.23 frag@416.32 frag@256.23\n",
      "| #25 (52291) : frag@174.06 frag@162.06 frag@338.09 frag@169.09 frag@190.09\n",
      "| #26 (50744) : frag@391.21 frag@351.22 frag@277.14 frag@606.37 frag@300.18\n",
      "| #27 (35184) : frag@316.18 frag@451.16 frag@146.98 frag@459.25 frag@669.76\n",
      "| #28 (76444) : frag@83.05 frag@111.04 frag@101.06 frag@147.08 frag@73.06\n",
      "| #29 (29072) : frag@415.21 frag@550.31 frag@990.35 frag@304.3 frag@526.31\n",
      "| #30 (48560) : frag@213.12 frag@129.1 frag@310.18 frag@116.07 frag@214.13\n",
      "| #31 (39377) : frag@205.1 frag@194.08 frag@251.1 frag@237.11 frag@195.11\n",
      "| #32 (33698) : frag@70.03 frag@451.38 frag@677.46 frag@679.48 frag@397.37\n",
      "| #33 (51993) : frag@294.18 frag@195.11 frag@169.13 frag@167.12 frag@126.06\n",
      "| #34 (32006) : frag@98.06 frag@201.05 frag@466.32 frag@426.12 frag@213.05\n",
      "| #35 (56871) : frag@163.08 frag@261.11 frag@567.03 frag@229.12 frag@567.36\n",
      "| #36 (71901) : frag@207.14 frag@211.13 frag@208.13 frag@229.14 frag@225.11\n",
      "| #37 (29166) : frag@251.19 frag@365.28 frag@339.25 frag@186.09 frag@401.27\n",
      "| #38 (27713) : frag@538.01 frag@537.68 frag@236.16 frag@402.23 frag@666.39\n",
      "| #39 (114700) : frag@355.07 frag@430.91 frag@285.01 frag@237.08 frag@242.93\n",
      "| #40 (67428) : frag@163.11 frag@167.11 frag@159.12 frag@153.13 frag@180.09\n",
      "| #41 (22689) : frag@180.14 frag@181.12 frag@221.11 frag@130.01 frag@655.41\n",
      "| #42 (68750) : frag@188.07 frag@151.06 frag@150.05 frag@146.06 frag@205.1\n",
      "| #43 (18245) : frag@414.34 frag@285.08 frag@259.09 frag@415.34 frag@253.09\n",
      "| #44 (55902) : frag@132.1 frag@123.12 frag@137.1 frag@133.1 frag@128.11\n",
      "| #45 (164480) : frag@95.09 frag@109.1 frag@93.07 frag@83.09 frag@107.09\n",
      "| #46 (20403) : frag@239.15 frag@362.08 frag@340.1 frag@265.15 frag@903.74\n",
      "| #47 (57724) : frag@97.0 frag@88.08 frag@161.1 frag@51.94 frag@296.29\n",
      "| #48 (45395) : frag@55.03 frag@110.03 frag@123.07 frag@153.04 frag@94.04\n",
      "| #49 (22755) : frag@646.33 frag@309.23 frag@309.14 frag@213.11 frag@195.14\n",
      "| #50 (32865) : frag@446.33 frag@169.08 frag@98.1 frag@416.35 frag@447.33\n",
      "| #51 (98834) : frag@125.1 frag@467.37 frag@227.13 frag@397.26 frag@481.39\n",
      "| #52 (26243) : frag@461.16 frag@455.41 frag@462.16 frag@369.35 frag@360.17\n",
      "| #53 (200108) : frag@109.06 frag@97.06 frag@71.05 frag@121.06 frag@81.03\n",
      "| #54 (24851) : frag@432.35 frag@433.35 frag@277.12 frag@371.11 frag@299.1\n",
      "| #55 (69804) : frag@86.1 frag@104.11 frag@60.08 frag@71.07 frag@98.98\n",
      "| #56 (40779) : frag@229.15 frag@192.08 frag@520.34 frag@204.13 frag@225.12\n",
      "| #57 (37687) : frag@175.09 frag@221.09 frag@127.05 frag@199.08 frag@171.04\n",
      "| #58 (91007) : frag@194.12 frag@197.12 frag@193.12 frag@208.1 frag@189.13\n",
      "| #59 (99193) : frag@186.11 frag@181.12 frag@177.13 frag@195.1 frag@187.11\n",
      "| #60 (28860) : frag@382.18 frag@344.17 frag@336.17 frag@287.13 frag@392.75\n",
      "| #61 (61583) : frag@90.98 frag@85.06 frag@207.1 frag@59.06 frag@165.09\n",
      "| #62 (30295) : frag@424.31 frag@469.33 frag@447.35 frag@249.22 frag@232.08\n",
      "| #63 (31655) : frag@494.32 frag@311.16 frag@534.32 frag@283.26 frag@264.23\n",
      "| #64 (33685) : frag@572.49 frag@64.0 frag@340.36 frag@753.55 frag@577.44\n",
      "| #65 (30388) : frag@166.12 frag@552.48 frag@268.19 frag@725.52 frag@693.49\n",
      "| #66 (40072) : frag@347.32 frag@169.07 frag@301.11 frag@369.3 frag@382.17\n",
      "| #67 (37216) : frag@406.33 frag@360.32 frag@407.33 frag@451.34 frag@409.33\n",
      "| #68 (51955) : frag@58.07 frag@126.07 frag@371.33 frag@393.31 frag@109.04\n",
      "| #69 (49497) : frag@554.35 frag@576.33 frag@226.18 frag@337.23 frag@560.33\n",
      "| #70 (77609) : frag@158.06 frag@132.1 frag@162.05 frag@146.08 frag@152.07\n",
      "| #71 (30621) : frag@518.32 frag@519.33 frag@542.32 frag@449.15 frag@511.33\n",
      "| #72 (31393) : frag@445.29 frag@452.28 frag@531.31 frag@514.28 frag@379.28\n",
      "| #73 (168006) : frag@126.06 frag@138.06 frag@135.0 frag@129.1 frag@204.09\n",
      "| #74 (29161) : frag@240.23 frag@192.17 frag@297.15 frag@204.12 frag@319.14\n",
      "| #75 (103638) : frag@120.08 frag@121.08 frag@166.09 frag@114.09 frag@123.08\n",
      "| #76 (44613) : frag@621.39 frag@628.38 frag@614.39 frag@203.1 frag@780.55\n",
      "| #77 (24110) : frag@302.12 frag@307.08 frag@194.07 frag@592.39 frag@249.08\n",
      "| #78 (53489) : frag@220.12 frag@199.13 frag@265.14 frag@558.25 frag@436.16\n",
      "| #79 (34810) : frag@307.12 frag@640.4 frag@353.16 frag@640.74 frag@180.14\n",
      "| #80 (43057) : frag@298.17 frag@409.22 frag@297.17 frag@377.73 frag@310.21\n",
      "| #81 (144751) : frag@67.05 frag@71.05 frag@57.03 frag@83.05 frag@68.06\n",
      "| #82 (38334) : frag@468.31 frag@335.22 frag@332.07 frag@345.24 frag@377.27\n",
      "| #83 (41167) : frag@208.1 frag@254.1 frag@276.08 frag@215.14 frag@231.17\n",
      "| #84 (23627) : frag@348.07 frag@357.28 frag@410.33 frag@389.36 frag@411.35\n",
      "| #85 (102798) : frag@108.04 frag@87.03 frag@58.03 frag@125.07 frag@59.04\n",
      "| #86 (46845) : frag@192.1 frag@238.11 frag@219.11 frag@260.09 frag@131.05\n",
      "| #87 (110444) : frag@225.04 frag@149.04 frag@221.08 frag@299.06 frag@355.07\n",
      "| #88 (31232) : frag@257.11 frag@114.07 frag@112.05 frag@275.12 frag@487.18\n",
      "| #89 (37232) : frag@153.14 frag@232.15 frag@154.06 frag@227.1 frag@437.29\n",
      "| #90 (101159) : frag@70.07 frag@116.07 frag@68.05 frag@71.07 frag@98.06\n",
      "| #91 (37778) : frag@136.06 frag@150.08 frag@97.03 frag@88.02 frag@119.04\n",
      "| #92 (23149) : frag@497.4 frag@548.36 frag@434.36 frag@513.37 frag@492.44\n",
      "| #93 (45822) : frag@725.52 frag@693.49 frag@461.42 frag@720.56 frag@464.43\n",
      "| #94 (58207) : frag@251.2 frag@432.31 frag@414.3 frag@409.18 frag@209.19\n",
      "| #95 (69999) : frag@338.34 frag@406.33 frag@313.96 frag@360.32 frag@339.35\n",
      "| #96 (26541) : frag@473.4 frag@490.43 frag@292.23 frag@400.28 frag@439.41\n",
      "| #97 (215227) : frag@166.09 frag@176.07 frag@164.07 frag@165.09 frag@169.09\n",
      "| #98 (68404) : frag@190.09 frag@191.09 frag@196.1 frag@246.17 frag@185.11\n",
      "| #99 (29220) : frag@427.38 frag@405.36 frag@449.36 frag@480.43 frag@419.37\n",
      "| #100 (26123) : frag@823.51 frag@278.1 frag@845.49 frag@824.51 frag@846.5\n",
      "| #101 (14674) : frag@577.37 frag@584.36 frag@224.16 frag@293.2 frag@570.36\n",
      "| #102 (85375) : frag@184.07 frag@125.0 frag@185.08 frag@146.98 frag@184.09\n",
      "| #103 (21587) : frag@150.06 frag@133.03 frag@262.13 frag@232.12 frag@359.35\n",
      "| #104 (28916) : frag@310.24 frag@533.34 frag@615.35 frag@540.33 frag@288.25\n",
      "| #105 (25357) : frag@404.3 frag@408.26 frag@409.26 frag@363.22 frag@345.21\n",
      "| #106 (57457) : frag@59.0 frag@61.01 frag@77.01 frag@86.01 frag@100.08\n",
      "| #107 (198024) : frag@128.06 frag@129.07 frag@117.07 frag@107.09 frag@115.05\n",
      "| #108 (153864) : frag@119.09 frag@121.1 frag@133.1 frag@135.12 frag@147.12\n",
      "| #109 (43245) : frag@170.1 frag@186.11 frag@208.09 frag@158.1 frag@622.36\n",
      "| #110 (29024) : frag@71.09 frag@85.1 frag@319.28 frag@336.31 frag@343.04\n",
      "| #111 (55356) : frag@56.05 frag@74.02 frag@57.06 frag@54.03 frag@137.11\n",
      "| #112 (33214) : frag@389.23 frag@393.22 frag@785.44 frag@785.69 frag@687.43\n",
      "| #113 (27478) : frag@767.56 frag@413.36 frag@550.63 frag@762.61 frag@735.57\n",
      "| #114 (28159) : frag@381.3 frag@353.3 frag@267.07 frag@245.09 frag@331.32\n",
      "| #115 (114574) : frag@80.05 frag@94.07 frag@82.07 frag@106.07 frag@67.04\n",
      "| #116 (39013) : frag@98.98 frag@72.04 frag@482.4 frag@526.43 frag@438.38\n",
      "| #117 (29716) : frag@430.33 frag@435.29 frag@431.33 frag@98.1 frag@431.34\n",
      "| #118 (23611) : frag@83.05 frag@488.39 frag@192.07 frag@327.25 frag@493.35\n",
      "| #119 (87118) : frag@551.5 frag@288.92 frag@313.27 frag@591.5 frag@552.51\n",
      "| #120 (30714) : frag@581.7 frag@582.04 frag@238.18 frag@577.03 frag@358.26\n",
      "| #121 (54300) : frag@53.04 frag@44.98 frag@61.01 frag@46.98 frag@78.03\n",
      "| #122 (99371) : frag@130.07 frag@132.04 frag@158.06 frag@131.07 frag@104.05\n",
      "| #123 (31918) : frag@223.07 frag@206.05 frag@428.12 frag@211.0 frag@238.05\n",
      "| #124 (28874) : frag@177.05 frag@325.27 frag@303.29 frag@450.32 frag@340.1\n",
      "| #125 (56276) : frag@154.07 frag@181.08 frag@127.05 frag@155.06 frag@195.09\n",
      "| #126 (32504) : frag@250.18 frag@533.33 frag@253.18 frag@257.17 frag@448.31\n",
      "| #127 (21433) : frag@294.13 frag@217.12 frag@256.09 frag@161.06 frag@129.05\n",
      "| #128 (109535) : frag@65.04 frag@92.06 frag@92.05 frag@63.02 frag@66.04\n",
      "| #129 (34201) : frag@257.16 frag@225.15 frag@155.11 frag@223.14 frag@151.11\n",
      "| #130 (28399) : frag@285.13 frag@355.71 frag@696.44 frag@348.72 frag@245.14\n",
      "| #131 (18940) : frag@62.06 frag@700.57 frag@375.14 frag@832.24 frag@701.58\n",
      "| #132 (36301) : frag@132.07 frag@265.1 frag@133.07 frag@168.04 frag@205.04\n",
      "| #133 (37848) : frag@296.22 frag@293.21 frag@301.22 frag@206.19 frag@494.29\n",
      "| #134 (40580) : frag@233.09 frag@763.2 frag@763.45 frag@255.07 frag@417.18\n",
      "| #135 (50372) : frag@264.14 frag@184.06 frag@246.13 frag@279.2 frag@136.11\n",
      "| #136 (69271) : frag@146.06 frag@118.07 frag@128.05 frag@75.02 frag@147.06\n",
      "| #137 (104069) : frag@84.08 frag@110.07 frag@102.09 frag@60.04 frag@100.08\n",
      "| #138 (46496) : frag@327.23 frag@455.33 frag@347.18 frag@381.3 frag@226.12\n",
      "| #139 (23638) : frag@166.07 frag@308.19 frag@317.21 frag@149.05 frag@311.22\n",
      "| #140 (31406) : frag@739.53 frag@734.58 frag@707.51 frag@740.54 frag@735.58\n",
      "| #141 (77862) : frag@123.08 frag@139.08 frag@136.08 frag@118.09 frag@146.06\n",
      "| #142 (99904) : frag@223.13 frag@224.14 frag@211.14 frag@227.13 frag@353.23\n",
      "| #143 (103336) : frag@51.02 frag@95.05 frag@50.02 frag@105.03 frag@52.03\n",
      "| #144 (28927) : frag@149.02 frag@121.03 frag@150.03 frag@121.04 frag@388.32\n",
      "| #145 (27840) : frag@321.24 frag@350.34 frag@428.2 frag@325.23 frag@280.23\n",
      "| #146 (56586) : frag@137.05 frag@112.05 frag@218.14 frag@138.05 frag@515.21\n",
      "| #147 (33631) : frag@149.06 frag@548.5 frag@553.46 frag@310.13 frag@163.11\n",
      "| #148 (69622) : frag@228.2 frag@282.2 frag@193.16 frag@791.96 frag@791.71\n",
      "| #149 (27797) : frag@182.08 frag@263.14 frag@135.04 frag@245.19 frag@427.16\n",
      "| #150 (43568) : frag@508.33 frag@363.13 frag@508.66 frag@274.16 frag@753.47\n",
      "| #151 (139127) : frag@89.06 frag@73.03 frag@87.04 frag@103.04 frag@59.05\n",
      "| #152 (42538) : frag@309.2 frag@310.2 frag@838.49 frag@838.16 frag@267.16\n",
      "| #153 (44392) : frag@279.23 frag@277.22 frag@283.18 frag@219.17 frag@333.15\n",
      "| #154 (44801) : frag@72.08 frag@57.06 frag@114.09 frag@245.11 frag@73.08\n",
      "| #155 (40523) : frag@544.34 frag@505.96 frag@483.98 frag@503.96 frag@391.21\n",
      "| #156 (68809) : frag@221.12 frag@190.05 frag@169.13 frag@133.06 frag@115.09\n",
      "| #157 (106224) : frag@57.07 frag@71.09 frag@85.1 frag@58.07 frag@57.03\n",
      "| #158 (35108) : frag@466.41 frag@327.23 frag@699.11 frag@699.44 frag@528.84\n",
      "| #159 (41651) : frag@159.08 frag@257.06 frag@163.08 frag@145.06 frag@300.25\n",
      "| #160 (76184) : frag@194.08 frag@215.08 frag@175.08 frag@190.09 frag@216.06\n",
      "| #161 (81294) : frag@226.95 frag@158.96 frag@135.0 frag@288.92 frag@220.93\n",
      "| #162 (29424) : frag@152.06 frag@211.09 frag@342.26 frag@207.08 frag@171.1\n",
      "| #163 (41724) : frag@643.41 frag@493.65 frag@731.46 frag@468.25 frag@493.98\n",
      "| #164 (34576) : frag@276.14 frag@294.15 frag@306.22 frag@126.07 frag@159.03\n",
      "| #165 (169056) : frag@105.07 frag@93.07 frag@91.05 frag@107.09 frag@83.05\n",
      "| #166 (119810) : frag@223.13 frag@123.06 frag@127.04 frag@205.12 frag@145.05\n",
      "| #167 (84330) : frag@55.05 frag@79.05 frag@81.07 frag@56.06 frag@69.03\n",
      "| #168 (32301) : frag@77.04 frag@371.32 frag@79.05 frag@393.3 frag@124.98\n",
      "| #169 (74631) : frag@59.05 frag@105.03 frag@106.04 frag@96.05 frag@60.05\n",
      "| #170 (35872) : frag@230.08 frag@227.08 frag@231.08 frag@407.24 frag@239.09\n",
      "| #171 (37477) : frag@552.33 frag@366.37 frag@336.33 frag@434.36 frag@358.31\n",
      "| #172 (107921) : frag@115.05 frag@116.05 frag@63.02 frag@89.04 frag@144.04\n",
      "| #173 (39467) : frag@496.34 frag@277.09 frag@538.47 frag@279.08 frag@422.3\n",
      "| #174 (23720) : frag@399.35 frag@522.6 frag@421.33 frag@437.36 frag@717.6\n",
      "| #175 (77802) : frag@85.03 frag@57.03 frag@60.08 frag@95.01 frag@141.02\n",
      "| #176 (72969) : frag@129.1 frag@184.07 frag@651.35 frag@821.45 frag@425.18\n",
      "| #177 (63572) : frag@84.04 frag@102.05 frag@130.05 frag@271.09 frag@164.08\n",
      "| #178 (20193) : frag@295.13 frag@275.26 frag@287.1 frag@265.12 frag@368.35\n",
      "| #179 (18731) : frag@251.0 frag@327.01 frag@329.01 frag@253.0 frag@174.99\n",
      "| #180 (27975) : frag@596.38 frag@570.34 frag@596.71 frag@453.19 frag@324.23\n",
      "| #181 (62795) : frag@174.09 frag@160.08 frag@235.08 frag@189.09 frag@275.07\n",
      "| #182 (23929) : frag@467.3 frag@151.11 frag@468.96 frag@316.14 frag@311.15\n",
      "| #183 (148991) : frag@145.1 frag@157.1 frag@209.13 frag@143.09 frag@183.12\n",
      "| #184 (120820) : frag@190.09 frag@123.06 frag@176.07 frag@166.09 frag@145.05\n",
      "| #185 (62873) : frag@136.08 frag@119.05 frag@123.04 frag@165.05 frag@182.08\n",
      "| #186 (54054) : frag@269.12 frag@299.13 frag@492.19 frag@665.42 frag@323.18\n",
      "| #187 (32478) : frag@480.31 frag@378.33 frag@377.27 frag@346.28 frag@337.27\n",
      "| #188 (70755) : frag@185.1 frag@127.03 frag@126.02 frag@60.08 frag@186.11\n",
      "| #189 (30030) : frag@310.31 frag@282.28 frag@587.55 frag@378.3 frag@332.29\n",
      "| #190 (46959) : frag@159.07 frag@148.04 frag@120.04 frag@251.13 frag@127.04\n",
      "| #191 (62803) : frag@55.02 frag@99.04 frag@426.32 frag@73.03 frag@373.27\n",
      "| #192 (38145) : frag@241.14 frag@237.15 frag@233.15 frag@333.13 frag@251.13\n",
      "| #193 (45014) : frag@265.14 frag@280.12 frag@173.07 frag@298.13 frag@228.06\n",
      "| #194 (85362) : frag@62.99 frag@56.96 frag@45.99 frag@45.03 frag@55.93\n",
      "| #195 (43345) : frag@237.09 frag@255.08 frag@523.0 frag@523.34 frag@775.48\n",
      "| #196 (26227) : frag@500.28 frag@303.23 frag@277.18 frag@361.2 frag@335.18\n",
      "| #197 (250247) : frag@123.06 frag@145.05 frag@116.07 frag@126.06 frag@132.04\n",
      "| #198 (34546) : frag@353.27 frag@313.27 frag@441.39 frag@209.11 frag@391.25\n",
      "| #199 (102831) : frag@103.05 frag@105.04 frag@131.05 frag@104.06 frag@121.06\n",
      "|\n",
      "\n"
     ]
    }
   ],
   "source": [
    "LDA.summary()"
   ]
  },
  {
   "cell_type": "code",
   "execution_count": 23,
   "id": "8df24a52-3a6d-49a9-89a9-9ad76639d352",
   "metadata": {},
   "outputs": [
    {
     "data": {
      "text/plain": [
       "15086"
      ]
     },
     "execution_count": 23,
     "metadata": {},
     "output_type": "execute_result"
    }
   ],
   "source": [
    "len(LDA.used_vocabs)"
   ]
  },
  {
   "cell_type": "code",
   "execution_count": 24,
   "id": "9f1b9dee-289c-4741-bd22-ccfdad610d47",
   "metadata": {},
   "outputs": [
    {
     "data": {
      "text/plain": [
       "True"
      ]
     },
     "execution_count": 24,
     "metadata": {},
     "output_type": "execute_result"
    }
   ],
   "source": [
    "\"frag@182.06\" in LDA.used_vocabs"
   ]
  },
  {
   "cell_type": "code",
   "execution_count": 25,
   "id": "6a06cf13-d6a3-41d5-836c-ebf744710c6d",
   "metadata": {
    "scrolled": true
   },
   "outputs": [
    {
     "name": "stdout",
     "output_type": "stream",
     "text": [
      "72.043 13196 13196.0\n",
      "125.015 3473 3473.0\n",
      "182.062 524 524.0\n",
      "70.04 117 117.0\n"
     ]
    }
   ],
   "source": [
    "for vocab, freq, weight_freq in zip(LDA.used_vocabs, LDA.used_vocab_freq, LDA.used_vocab_weighted_freq):\n",
    "    if vocab == \"frag@182.06\": #2\n",
    "        print(182.062, freq, weight_freq)\n",
    "    if vocab == \"frag@72.04\": #3\n",
    "        print(72.043, freq, weight_freq)\n",
    "    if vocab == \"frag@125.02\": #15\n",
    "        print(125.015, freq, weight_freq)\n",
    "    if vocab == \"frag@70.04\":\n",
    "        print(70.04, freq, weight_freq)"
   ]
  },
  {
   "cell_type": "markdown",
   "id": "50916750-591f-4ba1-ad88-d0db3666d600",
   "metadata": {},
   "source": [
    "## Screening for spectra from experiments, motifs or motifDB"
   ]
  },
  {
   "cell_type": "code",
   "execution_count": 14,
   "id": "6211a8de-c37a-443a-9aa7-9ab1c2bfeadb",
   "metadata": {},
   "outputs": [],
   "source": [
    "motifDB_query = \"QUERY scaninfo(MS2DATA)\""
   ]
  },
  {
   "cell_type": "code",
   "execution_count": 16,
   "id": "f3fe99e0-3e58-4ae5-99e2-e485f7f67249",
   "metadata": {},
   "outputs": [
    {
     "name": "stdout",
     "output_type": "stream",
     "text": [
      "Loading Spec2Vec model ...\n",
      "TOTAL QUERIES 1\n"
     ]
    },
    {
     "name": "stderr",
     "output_type": "stream",
     "text": [
      "100%|████████████████████████████████████████████████████████████████████████████████████| 1/1 [00:00<00:00,  5.95it/s]\n",
      "1000it [00:00, 4694.84it/s]\n"
     ]
    }
   ],
   "source": [
    "screening_hits = MS2LDA.screen_spectra(motifDB=\"DIA-Pesticide-Kidney_1000/motifDB.xlsx\", dataset=\"../datasets/WFSR_External_Library_gnps.mgf\", motifDB_query=motifDB_query, output_folder=dataset_parameters[\"output_folder\"])"
   ]
  },
  {
   "cell_type": "code",
   "execution_count": 19,
   "id": "20f75d98-1a74-4645-ae26-373f3bf95ebf",
   "metadata": {},
   "outputs": [
    {
     "data": {
      "text/html": [
       "<div>\n",
       "<style scoped>\n",
       "    .dataframe tbody tr th:only-of-type {\n",
       "        vertical-align: middle;\n",
       "    }\n",
       "\n",
       "    .dataframe tbody tr th {\n",
       "        vertical-align: top;\n",
       "    }\n",
       "\n",
       "    .dataframe thead th {\n",
       "        text-align: right;\n",
       "    }\n",
       "</style>\n",
       "<table border=\"1\" class=\"dataframe\">\n",
       "  <thead>\n",
       "    <tr style=\"text-align: right;\">\n",
       "      <th></th>\n",
       "      <th>hit_id</th>\n",
       "      <th>screen_type</th>\n",
       "      <th>score</th>\n",
       "      <th>ref_motifset</th>\n",
       "      <th>ref_motif_id</th>\n",
       "      <th>ref_short_annotation</th>\n",
       "      <th>ref_annotation</th>\n",
       "      <th>ref_charge</th>\n",
       "    </tr>\n",
       "  </thead>\n",
       "  <tbody>\n",
       "  </tbody>\n",
       "</table>\n",
       "</div>"
      ],
      "text/plain": [
       "Empty DataFrame\n",
       "Columns: [hit_id, screen_type, score, ref_motifset, ref_motif_id, ref_short_annotation, ref_annotation, ref_charge]\n",
       "Index: []"
      ]
     },
     "execution_count": 19,
     "metadata": {},
     "output_type": "execute_result"
    }
   ],
   "source": [
    "screening_hits.loc[screening_hits.ref_motif_id == \"motif_1\"]"
   ]
  },
  {
   "cell_type": "markdown",
   "id": "314afe56-5f6d-4eca-885f-915b7cefc110",
   "metadata": {},
   "source": [
    "---"
   ]
  },
  {
   "cell_type": "markdown",
   "id": "d41f5043-292c-4567-8dca-9397267d813d",
   "metadata": {},
   "source": [
    "## Search by SMILES for annotated motifs"
   ]
  },
  {
   "cell_type": "code",
   "execution_count": 15,
   "id": "c7d893f0-083e-4d5f-b8f3-d44bf3358fb9",
   "metadata": {},
   "outputs": [],
   "source": [
    "import pandas as pd\n",
    "import pubchempy as pcb"
   ]
  },
  {
   "cell_type": "code",
   "execution_count": 16,
   "id": "6db75e5b-086d-459f-80a7-7d0ee00055c8",
   "metadata": {},
   "outputs": [],
   "source": [
    "pesticides_names = pd.read_excel(\"../datasets/Quan_scope_LC_AID_2019.xlsx\", names=[None, \"names\"], skiprows=1)"
   ]
  },
  {
   "cell_type": "code",
   "execution_count": 17,
   "id": "4f1c9bef-3f54-4ffd-a350-b6ec1cf2e625",
   "metadata": {
    "scrolled": true
   },
   "outputs": [
    {
     "name": "stdout",
     "output_type": "stream",
     "text": [
      "2,4-D\n",
      "Abamectin\n",
      "Acephate\n",
      "Acequinocyl\n",
      "Acetamiprid\n",
      "Aclonifen\n",
      "Aldicarb\n",
      "Ametoctradin\n",
      "Amidosulfuron\n",
      "Amisulbrom\n",
      "Asulam\n",
      "Azadirachtin\n",
      "Azamethiphos\n",
      "Azoxystrobin\n",
      "Bendiocarb\n",
      "Bentazone\n",
      "Bifenazate\n",
      "Bifenthrin\n",
      "Bixafen\n",
      "Boscalid\n",
      "Brodifacoum\n",
      "Bromadiolone\n",
      "Bromoxynil\n",
      "Bromuconazole\n",
      "Bupirimate\n",
      "Buprofezin\n",
      "Carbaryl\n",
      "Carbendazim\n",
      "Carbetamide\n",
      "Carbofuran\n",
      "Carfentrazone-ethyl\n",
      "Chlorantraniliprole\n",
      "Chlorbromuron\n",
      "Chloridazon\n",
      "Chlorpyrifos\n",
      "Clodinafop-propargyl\n",
      "Clofentezine\n",
      "Clomazone\n",
      "Clothianidin\n",
      "Cyazofamid\n",
      "Cybutryne\n",
      "Cyflufenamide\n",
      "Cyflumetofen\n",
      "Cymoxanil\n",
      "Cyproconazole\n",
      "Cyprodinil\n",
      "Cythioate\n",
      "Desmedipham\n",
      "Dichlofluanid\n",
      "Difenoconazole\n",
      "Diflubenzuron\n",
      "Diflufenican\n",
      "Dimethenamid\n",
      "Dimethoate\n",
      "Dimethomorph\n",
      "Dinoterb\n",
      "Diuron\n",
      "DNOC\n",
      "Dodemorph\n",
      "Dodine\n",
      "Emamectin\n",
      "Epoxiconazole\n",
      "Ethirimol\n",
      "Ethoprophos\n",
      "Etoxazole\n",
      "Famoxadone\n",
      "Fenamidone\n",
      "Fenamiphos\n",
      "Fenhexamid\n",
      "Fenoxaprop-p-ethyl\n",
      "Fenoxycarb\n",
      "Fenpropidin\n",
      "Fenpropimorph\n",
      "Fenpyrazamine\n",
      "Fipronil\n",
      "Flonicamid\n",
      "Florasulam\n",
      "Fluazifop\n",
      "Fluazinam\n",
      "Flubendiamide\n",
      "Flubendiamide\n",
      "Flucycloxuron\n",
      "Fludioxonil\n",
      "Flufenacet\n",
      "Flufenoxuron\n",
      "Flumioxazin\n",
      "Fluopicolide\n",
      "Fluopyram\n",
      "Fluoxastrobin\n",
      "Flupyrsulfuron-methyl\n",
      "Fluroxypyr\n",
      "NOT FOUND  Fluroxypyr-meptylester\n",
      "Flutolanil\n",
      "Fluxapyroxad\n",
      "Foramsulfuron\n",
      "Fosthiazate\n",
      "Haloxyfop\n",
      "Haloxyfop-P-methyl\n",
      "Hexythiazox\n",
      "Imazalil\n",
      "Imazamox\n",
      "Imidacloprid\n",
      "Indoxacarb\n",
      "Iodosulfuron-methyl\n",
      "Ioxynil\n",
      "Iprovalicarb\n",
      "Isoproturon\n",
      "Isopyrazam\n",
      "Isoxaben\n",
      "Isoxadifen-ethyl\n",
      "Isoxaflutole\n",
      "Kresoxim-methyl\n",
      "Lenacil\n",
      "Linuron\n",
      "Lufenuron\n",
      "Malathion\n",
      "Mandipropamid\n",
      "MCPA\n",
      "NOT FOUND  MCPP\n",
      "Mepanipyrim\n",
      "Mesosulfuron-methyl\n",
      "Mesotrione\n",
      "Metalaxyl\n",
      "Metamitron\n",
      "Metazachlor\n",
      "Metconazole\n",
      "Methabenzthiazuron\n",
      "Methamidophos\n",
      "Methiocarb\n",
      "Methomyl\n",
      "Methoxyfenozide\n",
      "Metolachlor\n",
      "Metoxuron\n",
      "Metrafenone\n",
      "Metribuzin\n",
      "Metsulfuron-methyl\n",
      "Mevinphos\n",
      "Myclobutanil\n",
      "NOT FOUND  Naftylacetic acid 1-\n",
      "Napropamide\n",
      "Nicosulfuron\n",
      "Omethoate\n",
      "Oxamyl\n",
      "Oxydemeton-methyl\n",
      "Paclobutrazol\n",
      "Penconazole\n",
      "Pencycuron\n",
      "Pendimethalin\n",
      "Penflufen\n",
      "Penthiopyrad\n",
      "Phenmedipham\n",
      "Picoxystrobin\n",
      "Pinoxaden\n",
      "Pirimicarb\n",
      "Pirimiphos-methyl\n",
      "Prochloraz\n",
      "Profenofos\n",
      "Propamocarb\n",
      "Propiconazole\n",
      "Propyzamide\n",
      "Prosulfocarb\n",
      "Prosulfuron\n",
      "Pymetrozine\n",
      "Pyraclostrobin\n",
      "Pyridaben\n",
      "Pyridate\n",
      "Pyrimethanil\n",
      "Pyriproxyfen\n",
      "Pyroxsulam\n",
      "Quinmerac\n",
      "Quinoclamine\n",
      "Quinoxyfen\n",
      "Quizalofop-ethyl\n",
      "Rimsulfuron\n",
      "Silthiofam\n",
      "Simazine\n",
      "Spinosyn-A\n",
      "Spinosyn-D\n",
      "Spirodiclofen\n",
      "Spiromesifen\n",
      "Spirotetramat\n",
      "Spiroxamine\n",
      "Sulcotrione\n",
      "Tebuconazole\n",
      "Tebufenpyrad\n",
      "Teflubenzuron\n",
      "Tembotrione\n",
      "Tepraloxydim\n",
      "Terbuthylazine\n",
      "Terbutryn\n",
      "Tetraconazole\n",
      "Thiabendazole\n",
      "Thiacloprid\n",
      "Thiamethoxam\n",
      "Thiencarbazone-methyl\n",
      "Thifensulfuron-methyl\n",
      "Thiophanate-methyl\n",
      "Tolclofos-methyl\n",
      "Tolylfluanid\n",
      "Topramezone\n",
      "Tri-allate\n",
      "Tribenuron-methyl\n",
      "Triclopyr\n",
      "Trifloxystrobin\n",
      "Triflumizole\n",
      "Triflumuron\n",
      "Triflusulfuron-methyl\n",
      "Triforine\n",
      "Trinexapac-ethyl\n",
      "Tritosulfuron\n",
      "Zoxamide\n"
     ]
    }
   ],
   "source": [
    "pesticide_smiles = []\n",
    "for name in pesticides_names.names:\n",
    "    compound = pcb.get_compounds(name, \"name\")\n",
    "    if compound:\n",
    "        print(name)\n",
    "        smi = compound[0].canonical_smiles\n",
    "        pesticide_smiles.append(smi)\n",
    "    else:\n",
    "        print(\"NOT FOUND \", name)"
   ]
  },
  {
   "cell_type": "code",
   "execution_count": 18,
   "id": "846c919c-72e7-48c3-81ec-4b3f3858ff56",
   "metadata": {},
   "outputs": [],
   "source": [
    "# compounds not found by pubchempy\n",
    "Fluroxypyr_meptylester = \"CCCCCCC(C)OC(=O)COC1=NC(=C(C(=C1Cl)N)Cl)F\"\n",
    "MCPP = \"Clc1cc(ccc1)N2CCNCC2\"\n",
    "Naftylacetic_acid_1 = \"C1=CC=C2C(=C1)C=CC=C2CC(=O)O\""
   ]
  },
  {
   "cell_type": "code",
   "execution_count": 19,
   "id": "bf8eba11-53eb-4aab-981f-31353e4414cc",
   "metadata": {},
   "outputs": [],
   "source": [
    "pesticide_smiles += [Fluroxypyr_meptylester, MCPP, Naftylacetic_acid_1]"
   ]
  },
  {
   "cell_type": "code",
   "execution_count": null,
   "id": "83e0e033-878e-4872-b644-23ea7dad52ba",
   "metadata": {},
   "outputs": [],
   "source": []
  },
  {
   "cell_type": "code",
   "execution_count": null,
   "id": "f0113451-c79b-47ff-b103-e172a58ab366",
   "metadata": {},
   "outputs": [],
   "source": []
  },
  {
   "cell_type": "code",
   "execution_count": 20,
   "id": "4070f222-bbcd-42f8-9c8b-6e35853b54f7",
   "metadata": {},
   "outputs": [],
   "source": [
    "structure_query = pesticide_smiles"
   ]
  },
  {
   "cell_type": "code",
   "execution_count": 21,
   "id": "cefbfd16-8bf7-4f53-9b97-1b1b15101994",
   "metadata": {},
   "outputs": [],
   "source": [
    "screening_structure_hits = MS2LDA.screen_structure(motif_fps, motif_spectra, structure_query, fp_type=\"rdkit\", threshold=0.50, output_folder=dataset_parameters[\"output_folder\"])"
   ]
  },
  {
   "cell_type": "code",
   "execution_count": 23,
   "id": "f94f07a0-6f34-4f48-978f-c1bc50359038",
   "metadata": {},
   "outputs": [
    {
     "data": {
      "text/plain": [
       "600"
      ]
     },
     "execution_count": 23,
     "metadata": {},
     "output_type": "execute_result"
    }
   ],
   "source": [
    "len(motif_spectra)"
   ]
  },
  {
   "cell_type": "code",
   "execution_count": null,
   "id": "0268516e-0d2c-49a1-9109-6f7b9b9fe8e5",
   "metadata": {},
   "outputs": [],
   "source": []
  }
 ],
 "metadata": {
  "kernelspec": {
   "display_name": "Python 3 (ipykernel)",
   "language": "python",
   "name": "python3"
  },
  "language_info": {
   "codemirror_mode": {
    "name": "ipython",
    "version": 3
   },
   "file_extension": ".py",
   "mimetype": "text/x-python",
   "name": "python",
   "nbconvert_exporter": "python",
   "pygments_lexer": "ipython3",
   "version": "3.9.19"
  }
 },
 "nbformat": 4,
 "nbformat_minor": 5
}
