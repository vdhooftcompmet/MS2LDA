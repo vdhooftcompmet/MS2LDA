{
 "cells": [
  {
   "cell_type": "markdown",
   "id": "e231f2d4-c537-4c10-9fb1-3e4df87a54d5",
   "metadata": {},
   "source": [
    "## Running MS2LDA"
   ]
  },
  {
   "cell_type": "code",
   "execution_count": 1,
   "id": "18cd2e05-410b-4785-adff-4be45124acfa",
   "metadata": {},
   "outputs": [],
   "source": [
    "%matplotlib agg\n",
    "import MS2LDA"
   ]
  },
  {
   "cell_type": "code",
   "execution_count": 2,
   "id": "944410aa-a4cc-4104-8e36-f9389175847a",
   "metadata": {},
   "outputs": [],
   "source": [
    "preprocessing_parameters = {\n",
    "    \"min_mz\": 0,\n",
    "    \"max_mz\": 1000,\n",
    "    \"max_frags\": 1000,\n",
    "    \"min_frags\": 3,\n",
    "    \"min_intensity\": 0.01,\n",
    "    \"max_intensity\": 1\n",
    "}"
   ]
  },
  {
   "cell_type": "code",
   "execution_count": 3,
   "id": "dcdf52c5-82a2-455a-89ed-506af3c4826c",
   "metadata": {},
   "outputs": [],
   "source": [
    "convergence_parameters = {\n",
    "    \"step_size\": 50,\n",
    "    \"window_size\": 10,\n",
    "    \"threshold\": 0.001,\n",
    "    \"type\": \"perplexity_history\"\n",
    "}"
   ]
  },
  {
   "cell_type": "code",
   "execution_count": 4,
   "id": "590514d5-9c55-44b9-8fc0-f3f59d8a6bf2",
   "metadata": {},
   "outputs": [],
   "source": [
    "annotation_parameters = {\n",
    "    \"criterium\": \"best\", # return cluster with most compounds in it after optimization (\"best\" also an option)\n",
    "    \"cosine_similarity\": 0.70, #0.8 how similar are the spectra compared to motifs in the optimization\n",
    "    \"n_mols_retrieved\": 10, # 10 molecules retrieved from database by Spec2Vec\n",
    "    \"s2v_model_path\": r\"C:\\Users\\dietr004\\Documents\\PhD\\computational mass spectrometry\\WP1\\MS2LDA\\MS2LDA\\Add_On\\Spec2Vec\\model_positive_mode\\150225_Spec2Vec_pos_CleanedLibraries.model\",\n",
    "    \"s2v_library_embeddings\": \"../../MS2LDA/Add_On/Spec2Vec/model_positive_mode/150225_CleanedLibraries_Spec2Vec_pos_embeddings.npy\",\n",
    "    \"s2v_library_db\": \"../../MS2LDA/Add_On/Spec2Vec/model_positive_mode/150225_CombLibraries_spectra.db\",\n",
    "}"
   ]
  },
  {
   "cell_type": "code",
   "execution_count": 5,
   "id": "4a056889-9ec4-4abf-9262-6f40e4499814",
   "metadata": {},
   "outputs": [],
   "source": [
    "n_motifs = 250 #1500\n",
    "n_iterations = 5000"
   ]
  },
  {
   "cell_type": "code",
   "execution_count": 6,
   "id": "5fd54ccb-aa47-49bd-a34d-518730ed0ef8",
   "metadata": {},
   "outputs": [],
   "source": [
    "import random\n",
    "random.seed(42)\n",
    "model_parameters = {\n",
    "    \"rm_top\": 0, \n",
    "    \"min_cf\": 0,\n",
    "    \"min_df\": 3,\n",
    "    \"alpha\": 0.6, #A higher alpha makes the document preferences \"smoother\" over topics\n",
    "    \"eta\": 0.1, #and a higher eta makes the topic preferences \"smoother\" over words.\n",
    "    \"seed\": 42,\n",
    "}"
   ]
  },
  {
   "cell_type": "code",
   "execution_count": 7,
   "id": "a0e0b0a4-d4f7-437d-ae69-0271c81f1efb",
   "metadata": {},
   "outputs": [],
   "source": [
    "train_parameters = {\n",
    "    \"parallel\": 3,\n",
    "    \"workers\": 0, \n",
    "}"
   ]
  },
  {
   "cell_type": "code",
   "execution_count": 8,
   "id": "366a586a-6121-4db3-9ac2-a40bb327239c",
   "metadata": {},
   "outputs": [],
   "source": [
    "dataset_parameters = {\n",
    "    \"acquisition_type\": \"DDA\",\n",
    "    \"significant_digits\": 2,\n",
    "    \"charge\": 1,\n",
    "    \"name\": \"DDA-Suspectlist\",\n",
    "    \"output_folder\": f\"DDA-Suspectlist-{n_motifs}motifs_output\", \n",
    "}"
   ]
  },
  {
   "cell_type": "code",
   "execution_count": 9,
   "id": "68e7abcb-57c1-4494-a4bf-ea9b9e98b8c7",
   "metadata": {},
   "outputs": [],
   "source": [
    "fingerprint_parameters = {\n",
    "    \"fp_type\": \"maccs\",\n",
    "    \"threshold\": 0.8,\n",
    "}"
   ]
  },
  {
   "cell_type": "code",
   "execution_count": 10,
   "id": "c46ed944-06c8-4577-94d0-26630b788b88",
   "metadata": {},
   "outputs": [],
   "source": [
    "motif_parameter = 20"
   ]
  },
  {
   "cell_type": "code",
   "execution_count": 11,
   "id": "404d3207-3fc0-408f-906a-bcaad1989db7",
   "metadata": {},
   "outputs": [
    {
     "data": {
      "text/plain": [
       "87916"
      ]
     },
     "execution_count": 11,
     "metadata": {},
     "output_type": "execute_result"
    }
   ],
   "source": [
    "from matchms.importing import load_from_mgf\n",
    "dataset = list(load_from_mgf(\"../../datasets/GNPS-SUSPECTLIST.mgf\"))\n",
    "len(dataset)"
   ]
  },
  {
   "cell_type": "code",
   "execution_count": 12,
   "id": "f5e3adc8-b5b9-4df9-a30d-6058e0bea552",
   "metadata": {
    "scrolled": true
   },
   "outputs": [
    {
     "name": "stdout",
     "output_type": "stream",
     "text": [
      "Cleaning spectra ... 87070 spectra left\n"
     ]
    },
    {
     "name": "stderr",
     "output_type": "stream",
     "text": [
      "C:\\Users\\dietr004\\AppData\\Local\\anaconda3\\envs\\newpython\\Lib\\site-packages\\MS2LDA\\modeling.py:54: RuntimeWarning: The training result may differ even with fixed seed if `workers` != 1.\n",
      "  model.train(convergence_parameters[\"step_size\"], **train_parameters)\n",
      " 30%|██████████████████████▊                                                     | 30/100 [1:05:17<2:32:19, 130.57s/it]"
     ]
    },
    {
     "name": "stdout",
     "output_type": "stream",
     "text": [
      "Model has converged\n"
     ]
    },
    {
     "name": "stderr",
     "output_type": "stream",
     "text": [
      "\n",
      "100%|████████████████████████████████████████████████████████████████████████████████| 250/250 [00:03<00:00, 75.17it/s]\n"
     ]
    },
    {
     "name": "stdout",
     "output_type": "stream",
     "text": [
      "m2m folder stored\n",
      "convergence curve stored\n",
      "network stored\n"
     ]
    },
    {
     "name": "stderr",
     "output_type": "stream",
     "text": [
      "C:\\Users\\dietr004\\AppData\\Local\\anaconda3\\envs\\newpython\\Lib\\site-packages\\MS2LDA\\Visualisation\\visualisation.py:377: UserWarning: No artists with labels found to put in legend.  Note that artists whose label start with an underscore are ignored when legend() is called with no argument.\n",
      "  plt.legend(loc=\"best\")\n"
     ]
    },
    {
     "ename": "KeyboardInterrupt",
     "evalue": "",
     "output_type": "error",
     "traceback": [
      "\u001b[1;31m---------------------------------------------------------------------------\u001b[0m",
      "\u001b[1;31mKeyboardInterrupt\u001b[0m                         Traceback (most recent call last)",
      "Cell \u001b[1;32mIn[12], line 1\u001b[0m\n\u001b[1;32m----> 1\u001b[0m motif_spectra, optimized_motifs, motif_fps \u001b[38;5;241m=\u001b[39m \u001b[43mMS2LDA\u001b[49m\u001b[38;5;241;43m.\u001b[39;49m\u001b[43mrun\u001b[49m\u001b[43m(\u001b[49m\u001b[43mdataset\u001b[49m\u001b[43m,\u001b[49m\u001b[43m \u001b[49m\u001b[43mn_motifs\u001b[49m\u001b[38;5;241;43m=\u001b[39;49m\u001b[43mn_motifs\u001b[49m\u001b[43m,\u001b[49m\u001b[43m \u001b[49m\u001b[43mn_iterations\u001b[49m\u001b[38;5;241;43m=\u001b[39;49m\u001b[43mn_iterations\u001b[49m\u001b[43m,\u001b[49m\n\u001b[0;32m      2\u001b[0m \u001b[43m        \u001b[49m\u001b[43mdataset_parameters\u001b[49m\u001b[38;5;241;43m=\u001b[39;49m\u001b[43mdataset_parameters\u001b[49m\u001b[43m,\u001b[49m\n\u001b[0;32m      3\u001b[0m \u001b[43m        \u001b[49m\u001b[43mtrain_parameters\u001b[49m\u001b[38;5;241;43m=\u001b[39;49m\u001b[43mtrain_parameters\u001b[49m\u001b[43m,\u001b[49m\n\u001b[0;32m      4\u001b[0m \u001b[43m        \u001b[49m\u001b[43mmodel_parameters\u001b[49m\u001b[38;5;241;43m=\u001b[39;49m\u001b[43mmodel_parameters\u001b[49m\u001b[43m,\u001b[49m\n\u001b[0;32m      5\u001b[0m \u001b[43m        \u001b[49m\u001b[43mconvergence_parameters\u001b[49m\u001b[38;5;241;43m=\u001b[39;49m\u001b[43mconvergence_parameters\u001b[49m\u001b[43m,\u001b[49m\n\u001b[0;32m      6\u001b[0m \u001b[43m        \u001b[49m\u001b[43mannotation_parameters\u001b[49m\u001b[38;5;241;43m=\u001b[39;49m\u001b[43mannotation_parameters\u001b[49m\u001b[43m,\u001b[49m\n\u001b[0;32m      7\u001b[0m \u001b[43m        \u001b[49m\u001b[43mmotif_parameter\u001b[49m\u001b[38;5;241;43m=\u001b[39;49m\u001b[43mmotif_parameter\u001b[49m\u001b[43m,\u001b[49m\n\u001b[0;32m      8\u001b[0m \u001b[43m        \u001b[49m\u001b[43mpreprocessing_parameters\u001b[49m\u001b[38;5;241;43m=\u001b[39;49m\u001b[43mpreprocessing_parameters\u001b[49m\u001b[43m,\u001b[49m\n\u001b[0;32m      9\u001b[0m \u001b[43m        \u001b[49m\u001b[43mfingerprint_parameters\u001b[49m\u001b[38;5;241;43m=\u001b[39;49m\u001b[43mfingerprint_parameters\u001b[49m\u001b[43m)\u001b[49m\n",
      "File \u001b[1;32m~\\AppData\\Local\\anaconda3\\envs\\newpython\\Lib\\site-packages\\MS2LDA\\run.py:98\u001b[0m, in \u001b[0;36mrun\u001b[1;34m(dataset, n_motifs, n_iterations, dataset_parameters, train_parameters, model_parameters, convergence_parameters, annotation_parameters, preprocessing_parameters, motif_parameter, fingerprint_parameters)\u001b[0m\n\u001b[0;32m     96\u001b[0m \u001b[38;5;66;03m# Save additional viz data\u001b[39;00m\n\u001b[0;32m     97\u001b[0m \u001b[38;5;28;01mif\u001b[39;00m n_motifs \u001b[38;5;241m<\u001b[39m \u001b[38;5;241m500\u001b[39m:\n\u001b[1;32m---> 98\u001b[0m     \u001b[43msave_visualization_data\u001b[49m\u001b[43m(\u001b[49m\n\u001b[0;32m     99\u001b[0m \u001b[43m        \u001b[49m\u001b[43mtrained_ms2lda\u001b[49m\u001b[43m,\u001b[49m\n\u001b[0;32m    100\u001b[0m \u001b[43m        \u001b[49m\u001b[43mcleaned_spectra\u001b[49m\u001b[43m,\u001b[49m\n\u001b[0;32m    101\u001b[0m \u001b[43m        \u001b[49m\u001b[43moptimized_motifs\u001b[49m\u001b[43m,\u001b[49m\n\u001b[0;32m    102\u001b[0m \u001b[43m        \u001b[49m\u001b[43mdoc2spec_map\u001b[49m\u001b[43m,\u001b[49m\n\u001b[0;32m    103\u001b[0m \u001b[43m        \u001b[49m\u001b[43mdataset_parameters\u001b[49m\u001b[43m[\u001b[49m\u001b[38;5;124;43m\"\u001b[39;49m\u001b[38;5;124;43moutput_folder\u001b[39;49m\u001b[38;5;124;43m\"\u001b[39;49m\u001b[43m]\u001b[49m\n\u001b[0;32m    104\u001b[0m \u001b[43m    \u001b[49m\u001b[43m)\u001b[49m\n\u001b[0;32m    106\u001b[0m \u001b[38;5;28;01mreturn\u001b[39;00m motif_spectra, optimized_motifs, motif_fps\n",
      "File \u001b[1;32m~\\AppData\\Local\\anaconda3\\envs\\newpython\\Lib\\site-packages\\MS2LDA\\Visualisation\\ldadict.py:281\u001b[0m, in \u001b[0;36msave_visualization_data\u001b[1;34m(trained_ms2lda, cleaned_spectra, optimized_motifs, doc2spec_map, output_folder, filename, min_prob_to_keep_beta, min_prob_to_keep_phi, min_prob_to_keep_theta)\u001b[0m\n\u001b[0;32m    279\u001b[0m words \u001b[38;5;241m=\u001b[39m [trained_ms2lda\u001b[38;5;241m.\u001b[39mvocabs[w_id] \u001b[38;5;28;01mfor\u001b[39;00m w_id \u001b[38;5;129;01min\u001b[39;00m doc\u001b[38;5;241m.\u001b[39mwords]\n\u001b[0;32m    280\u001b[0m doc_text \u001b[38;5;241m=\u001b[39m \u001b[38;5;124m\"\u001b[39m\u001b[38;5;124m\"\u001b[39m\u001b[38;5;241m.\u001b[39mjoin(words)\n\u001b[1;32m--> 281\u001b[0m hashed \u001b[38;5;241m=\u001b[39m \u001b[43mhashlib\u001b[49m\u001b[38;5;241;43m.\u001b[39;49m\u001b[43mmd5\u001b[49m\u001b[43m(\u001b[49m\u001b[43mdoc_text\u001b[49m\u001b[38;5;241;43m.\u001b[39;49m\u001b[43mencode\u001b[49m\u001b[43m(\u001b[49m\u001b[38;5;124;43m\"\u001b[39;49m\u001b[38;5;124;43mutf-8\u001b[39;49m\u001b[38;5;124;43m\"\u001b[39;49m\u001b[43m)\u001b[49m\u001b[43m)\u001b[49m\u001b[38;5;241m.\u001b[39mhexdigest()\n\u001b[0;32m    282\u001b[0m \u001b[38;5;28;01mif\u001b[39;00m hashed \u001b[38;5;129;01min\u001b[39;00m doc2spec_map:\n\u001b[0;32m    283\u001b[0m     real_spec \u001b[38;5;241m=\u001b[39m doc2spec_map[hashed]\n",
      "\u001b[1;31mKeyboardInterrupt\u001b[0m: "
     ]
    }
   ],
   "source": [
    "motif_spectra, optimized_motifs, motif_fps = MS2LDA.run(dataset, n_motifs=n_motifs, n_iterations=n_iterations,\n",
    "        dataset_parameters=dataset_parameters,\n",
    "        train_parameters=train_parameters,\n",
    "        model_parameters=model_parameters,\n",
    "        convergence_parameters=convergence_parameters,\n",
    "        annotation_parameters=annotation_parameters,\n",
    "        motif_parameter=motif_parameter,\n",
    "        preprocessing_parameters=preprocessing_parameters,\n",
    "        fingerprint_parameters=fingerprint_parameters)"
   ]
  },
  {
   "cell_type": "markdown",
   "id": "3e9acd29-08bc-4864-aa58-1204a1cb0a26",
   "metadata": {},
   "source": [
    "---"
   ]
  },
  {
   "cell_type": "code",
   "execution_count": null,
   "id": "a06c396f-71fe-4f20-b95e-69a6a9259822",
   "metadata": {},
   "outputs": [],
   "source": []
  }
 ],
 "metadata": {
  "kernelspec": {
   "display_name": "Python 3 (ipykernel)",
   "language": "python",
   "name": "python3"
  },
  "language_info": {
   "codemirror_mode": {
    "name": "ipython",
    "version": 3
   },
   "file_extension": ".py",
   "mimetype": "text/x-python",
   "name": "python",
   "nbconvert_exporter": "python",
   "pygments_lexer": "ipython3",
   "version": "3.12.9"
  }
 },
 "nbformat": 4,
 "nbformat_minor": 5
}
