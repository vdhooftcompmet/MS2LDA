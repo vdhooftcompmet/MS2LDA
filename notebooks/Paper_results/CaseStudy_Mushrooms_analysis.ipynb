{
 "cells": [
  {
   "cell_type": "markdown",
   "metadata": {},
   "source": [
    "# Mushrom dataset analysis"
   ]
  },
  {
   "cell_type": "markdown",
   "metadata": {},
   "source": [
    "Here we start with having the precursor mass associated with the molecular families of: erinacerin, herinacernes and ergostanes, obtained by: https://www.biorxiv.org/content/10.1101/2024.02.09.579616v1.full"
   ]
  },
  {
   "cell_type": "code",
   "execution_count": 1,
   "metadata": {},
   "outputs": [],
   "source": [
    "#%matplotlib agg\n",
    "from MS2LDA.motif_parser import load_m2m_folder\n",
    "import tomotopy as tp\n",
    "from matchms.importing import load_from_mgf\n",
    "from MS2LDA.Preprocessing.load_and_clean import clean_spectra\n"
   ]
  },
  {
   "cell_type": "code",
   "execution_count": 2,
   "metadata": {},
   "outputs": [],
   "source": [
    "lda_model = tp.LDAModel.load('/Users/rosinatorres/Documents/PhD/WP1/Project/Code/MS2LDA/MS2LDA/notebooks/Paper_results/CaseStudy_Mushrooms_200_2/ms2lda.bin')"
   ]
  },
  {
   "cell_type": "markdown",
   "metadata": {},
   "source": [
    "We need to clean the mushroom dataset to localise the precursor masses"
   ]
  },
  {
   "cell_type": "code",
   "execution_count": 3,
   "metadata": {},
   "outputs": [],
   "source": [
    "mushroom_mgf = '/Users/rosinatorres/Documents/PhD/WP1/Project/Code/MS2LDA/MS2LDA/datasets/specs_ms.mgf'"
   ]
  },
  {
   "cell_type": "code",
   "execution_count": 4,
   "metadata": {},
   "outputs": [],
   "source": [
    "preprocessing_parameters = {\n",
    "    \"min_mz\": 0, #\n",
    "    \"max_mz\": 2000,\n",
    "    \"max_frags\": 1000,\n",
    "    \"min_frags\": 5,\n",
    "    \"min_intensity\": 0.01,\n",
    "    \"max_intensity\": 1\n",
    "}"
   ]
  },
  {
   "cell_type": "code",
   "execution_count": 5,
   "metadata": {},
   "outputs": [],
   "source": [
    "mushroom_spectra = list(load_from_mgf(mushroom_mgf))\n"
   ]
  },
  {
   "cell_type": "code",
   "execution_count": 6,
   "metadata": {},
   "outputs": [],
   "source": [
    "cleaned_spectra = clean_spectra(mushroom_spectra, preprocessing_parameters)\n"
   ]
  },
  {
   "cell_type": "markdown",
   "metadata": {},
   "source": [
    "### We have the precursor list of the molecular families:"
   ]
  },
  {
   "cell_type": "code",
   "execution_count": 7,
   "metadata": {},
   "outputs": [],
   "source": [
    "prec_list = [\n",
    "240.0866,  \n",
    "254.1021,  \n",
    "296.149,\n",
    "282.1334,  \n",
    "284.1126,\n",
    "311.1234, \n",
    "312.1076,  \n",
    "325.1391,  \n",
    "339.1547,  \n",
    "381.2016,  \n",
    "415.1859,  \n",
    "413.1702,  \n",
    "379.186,  \n",
    "395.2176,  \n",
    "365.1703,  \n",
    "381.2015,  \n",
    "367.186,  \n",
    "415.1859,  \n",
    "330.1181,  \n",
    "268.1176,  \n",
    "330.1181,  \n",
    "210.1126,  \n",
    "297.1081,  \n",
    "330.1181,  \n",
    "445.2332,  \n",
    "446.2171,  \n",
    "375.3046,  \n",
    "375.3047,  \n",
    "377.32,  \n",
    "377.3202,  \n",
    "377.3202,  \n",
    "377.3202,  \n",
    "377.3202,  \n",
    "377.3203,  \n",
    "391.2993,  \n",
    "393.3149,  \n",
    "393.315,  \n",
    "393.3152,  \n",
    "395.3311,  \n",
    "407.2936,  \n",
    "409.31,  \n",
    "409.3101,  \n",
    "395.3307,  \n",
    "395.3308,  \n",
    "571.3993,  \n",
    "597.4149,  \n",
    "602.4413,  \n",
    "571.3995,  \n",
    "599.4308,  \n",
    "599.4307,  \n",
    "585.4151,  \n",
    "543.3682,  \n",
    "613.4461,  \n",
    "417.2381,  \n",
    "609.4145,  \n",
    "375.18,  \n",
    "637.4098,  \n",
    "611.4297,  \n",
    "461.2643,  \n",
    "585.4149,  \n",
    "595.3994,  \n",
    "571.3986,  \n",
    "609.3767,  \n",
    "557.3839,  \n",
    "445.3311,\n",
    "]"
   ]
  },
  {
   "cell_type": "markdown",
   "metadata": {},
   "source": [
    "Identify those spectras associated with the prec list"
   ]
  },
  {
   "cell_type": "code",
   "execution_count": 8,
   "metadata": {},
   "outputs": [],
   "source": [
    "def spectra_prec_find(spectra, prec_list):\n",
    "    prec_spectra = []\n",
    "    spectras_filtered = []\n",
    "    for idx, spec in enumerate(spectra):\n",
    "        precursor_mz = spec.get(\"precursor_mz\")\n",
    "        if precursor_mz in prec_list:\n",
    "            prec_spectra.append((idx, spec, precursor_mz))\n",
    "            spectras_filtered.append(spec)\n",
    "    \n",
    "    prec_spectra.sort(key=lambda x: x[2])\n",
    "    return prec_spectra,spectras_filtered\n",
    "\n",
    "prec_spectra_with_precursor, spectras_filtered = spectra_prec_find(cleaned_spectra, prec_list)"
   ]
  },
  {
   "cell_type": "code",
   "execution_count": 9,
   "metadata": {},
   "outputs": [],
   "source": [
    "spectra_idx=[]\n",
    "prec_list=[]\n",
    "for i in prec_spectra_with_precursor:\n",
    "    spectra_idx.append(i[0])\n",
    "    prec_list.append(i[2])\n",
    "    #print(i[2])"
   ]
  },
  {
   "cell_type": "markdown",
   "metadata": {},
   "source": [
    "Then join this in two files"
   ]
  },
  {
   "cell_type": "code",
   "execution_count": 10,
   "metadata": {},
   "outputs": [],
   "source": [
    "file_path = \"/Users/rosinatorres/Documents/PhD/WP1/Project/Code/MS2LDA/MS2LDA/notebooks/Paper_results/CaseStudy_Mushrooms_200/mushroom_idx.txt\"\n",
    "\n",
    "def create_precursor_dict(prec_spectra):\n",
    "    precursor_dict = {}\n",
    "    for idx, _, precursor_mz in prec_spectra:\n",
    "        if precursor_mz not in precursor_dict:\n",
    "            precursor_dict[precursor_mz] = []\n",
    "        precursor_dict[precursor_mz].append(idx)  \n",
    "    return precursor_dict\n",
    "\n",
    "def save_precursor_dict_to_file(precursor_dict):\n",
    "    with open(file_path, 'w') as f:\n",
    "        for precursor_mz, indices in sorted(precursor_dict.items()):  \n",
    "            indices_str = \",\".join(map(str, indices))  \n",
    "            f.write(f\"{precursor_mz},{indices_str}\\n\")  \n"
   ]
  },
  {
   "cell_type": "code",
   "execution_count": 11,
   "metadata": {},
   "outputs": [],
   "source": [
    "precursor_dict = create_precursor_dict(prec_spectra_with_precursor)\n",
    "save_precursor_dict_to_file(precursor_dict)"
   ]
  },
  {
   "cell_type": "markdown",
   "metadata": {},
   "source": [
    "## We are obtaining the top motifs for each document"
   ]
  },
  {
   "cell_type": "code",
   "execution_count": 12,
   "metadata": {},
   "outputs": [
    {
     "data": {
      "text/plain": [
       "[210.1126,\n",
       " 240.0866,\n",
       " 240.0866,\n",
       " 240.0866,\n",
       " 254.1021,\n",
       " 254.1021,\n",
       " 254.1021,\n",
       " 268.1176,\n",
       " 268.1176,\n",
       " 268.1176,\n",
       " 282.1334,\n",
       " 282.1334,\n",
       " 282.1334,\n",
       " 284.1126,\n",
       " 284.1126,\n",
       " 296.149,\n",
       " 297.1081,\n",
       " 297.1081,\n",
       " 311.1234,\n",
       " 312.1076,\n",
       " 325.1391,\n",
       " 325.1391,\n",
       " 330.1181,\n",
       " 339.1547,\n",
       " 339.1547,\n",
       " 365.1703,\n",
       " 367.186,\n",
       " 375.18,\n",
       " 375.3046,\n",
       " 375.3047,\n",
       " 377.32,\n",
       " 377.3202,\n",
       " 377.3202,\n",
       " 377.3202,\n",
       " 377.3202,\n",
       " 377.3202,\n",
       " 377.3203,\n",
       " 379.186,\n",
       " 381.2015,\n",
       " 381.2016,\n",
       " 391.2993,\n",
       " 393.3149,\n",
       " 393.315,\n",
       " 393.315,\n",
       " 393.3152,\n",
       " 395.2176,\n",
       " 395.3307,\n",
       " 395.3307,\n",
       " 395.3308,\n",
       " 395.3311,\n",
       " 407.2936,\n",
       " 409.31,\n",
       " 409.31,\n",
       " 409.3101,\n",
       " 413.1702,\n",
       " 415.1859,\n",
       " 415.1859,\n",
       " 417.2381,\n",
       " 445.2332,\n",
       " 445.3311,\n",
       " 446.2171,\n",
       " 461.2643,\n",
       " 543.3682,\n",
       " 557.3839,\n",
       " 571.3986,\n",
       " 571.3993,\n",
       " 571.3995,\n",
       " 585.4149,\n",
       " 585.4151,\n",
       " 595.3994,\n",
       " 597.4149,\n",
       " 599.4307,\n",
       " 599.4308,\n",
       " 602.4413,\n",
       " 609.3767,\n",
       " 609.4145,\n",
       " 611.4297,\n",
       " 613.4461,\n",
       " 637.4098]"
      ]
     },
     "execution_count": 12,
     "metadata": {},
     "output_type": "execute_result"
    }
   ],
   "source": [
    "prec_list"
   ]
  },
  {
   "cell_type": "code",
   "execution_count": 13,
   "metadata": {},
   "outputs": [
    {
     "name": "stdout",
     "output_type": "stream",
     "text": [
      "311 210.1126\n",
      "107 240.0866\n",
      "194 240.0866\n",
      "934 240.0866\n",
      "142 254.1021\n",
      "170 254.1021\n",
      "282 254.1021\n",
      "113 268.1176\n",
      "162 268.1176\n",
      "376 268.1176\n",
      "193 282.1334\n",
      "413 282.1334\n",
      "483 282.1334\n",
      "175 284.1126\n",
      "231 284.1126\n",
      "579 296.149\n",
      "95 297.1081\n",
      "856 297.1081\n",
      "214 311.1234\n",
      "135 312.1076\n",
      "365 325.1391\n",
      "426 325.1391\n",
      "150 330.1181\n",
      "92 339.1547\n",
      "380 339.1547\n",
      "401 365.1703\n",
      "478 367.186\n",
      "1120 375.18\n",
      "1885 375.3046\n",
      "1658 375.3047\n",
      "1293 377.32\n",
      "1802 377.3202\n",
      "2073 377.3202\n",
      "2226 377.3202\n",
      "2360 377.3202\n",
      "2621 377.3202\n",
      "2439 377.3203\n",
      "489 379.186\n",
      "547 381.2015\n",
      "487 381.2016\n",
      "1674 391.2993\n",
      "2055 393.3149\n",
      "1859 393.315\n",
      "2368 393.315\n",
      "1648 393.3152\n",
      "627 395.2176\n",
      "1369 395.3307\n",
      "1803 395.3307\n",
      "2064 395.3308\n",
      "2348 395.3311\n",
      "1667 407.2936\n",
      "1650 409.31\n",
      "1986 409.31\n",
      "1780 409.3101\n",
      "545 413.1702\n",
      "505 415.1859\n",
      "569 415.1859\n",
      "709 417.2381\n",
      "1105 445.2332\n",
      "1776 445.3311\n",
      "1153 446.2171\n",
      "657 461.2643\n",
      "2249 543.3682\n",
      "2337 557.3839\n",
      "2287 571.3986\n",
      "2419 571.3993\n",
      "2501 571.3995\n",
      "2399 585.4149\n",
      "2537 585.4151\n",
      "2354 595.3994\n",
      "2479 597.4149\n",
      "2611 599.4307\n",
      "2583 599.4308\n",
      "2401 602.4413\n",
      "1881 609.3767\n",
      "2328 609.4145\n",
      "2504 611.4297\n",
      "2585 613.4461\n",
      "2351 637.4098\n"
     ]
    }
   ],
   "source": [
    "for item1, item2 in zip(spectra_idx, prec_list):\n",
    "    print(item1, item2)"
   ]
  },
  {
   "cell_type": "code",
   "execution_count": 14,
   "metadata": {},
   "outputs": [],
   "source": [
    "output_file = \"mushroom_topic_dist_2.txt\"\n",
    "\n",
    "with open(output_file, \"w\") as file:\n",
    "    for spectra, prec in zip(spectra_idx, prec_list):\n",
    "        doc = lda_model.docs[spectra]\n",
    "        topic_dist = doc.get_topic_dist()  \n",
    "        top_topics = sorted(enumerate(topic_dist), key=lambda x: x[1], reverse=True)[:3]  # Get top 3 topics\n",
    "\n",
    "        file.write(f\"Precursor {prec}: Top 3 Topics:\\n\")\n",
    "        for top_id, proportion in top_topics: \n",
    "            file.write(f\"  Topic {top_id}: {proportion:.4f}\\n\")\n"
   ]
  },
  {
   "cell_type": "code",
   "execution_count": 15,
   "metadata": {},
   "outputs": [],
   "source": [
    "motif_spectra_200=load_m2m_folder('/Users/rosinatorres/Documents/PhD/WP1/Project/Code/MS2LDA/MS2LDA/notebooks/Paper_results/CaseStudy_Mushrooms_200_2/motifs')"
   ]
  },
  {
   "cell_type": "code",
   "execution_count": 16,
   "metadata": {},
   "outputs": [
    {
     "data": {
      "text/plain": [
       "{'id': 'motif_22',\n",
       " 'charge': '1',\n",
       " 'ms2accuracy': '0.005',\n",
       " 'motifset': 'motifs',\n",
       " 'short_annotation': 'None',\n",
       " 'annotation': 'None',\n",
       " 'auto_annotation': \"['CCCCCCCCC=CCCCCCCCCCC(=O)NC(CCCN)C(=O)O', 'CCCCCC=CCC=CCCCCCCCCCCCC(=O)NC(CCCN)C(=O)O', 'CCCCCCCCCCCCCCCC(=O)NC(CCCN)C(=O)O']\"}"
      ]
     },
     "execution_count": 16,
     "metadata": {},
     "output_type": "execute_result"
    }
   ],
   "source": [
    "motif_spectra_200[158].metadata"
   ]
  },
  {
   "cell_type": "code",
   "execution_count": 17,
   "metadata": {},
   "outputs": [
    {
     "data": {
      "text/plain": [
       "array([ 58.07,  59.07,  68.05,  70.07,  71.05,  72.08,  98.06, 112.09,\n",
       "       113.07, 114.06, 116.07, 116.11, 158.09, 217.09, 219.1 , 227.1 ,\n",
       "       275.13, 365.17, 519.37, 588.43, 612.43, 616.46])"
      ]
     },
     "execution_count": 17,
     "metadata": {},
     "output_type": "execute_result"
    }
   ],
   "source": [
    "motif_spectra_200[158].peaks.mz"
   ]
  },
  {
   "cell_type": "code",
   "execution_count": 18,
   "metadata": {},
   "outputs": [],
   "source": [
    "def check_overlap(spec, intensities, motif1, motif2):\n",
    "    zebra_frags = []  # To store fragments for zebra coloring\n",
    "    zebra_intens = []  # To store their intensities\n",
    "    labels = {}  # For labeling\n",
    "    # Other fragments in motif1 or motif2 will have normal coloring\n",
    "    green_frags = []\n",
    "    green_intens = []\n",
    "    blue_frags = []\n",
    "    blue_intens = []\n",
    "    for frag, intens in zip(spec.peaks.mz, intensities):\n",
    "        rounded_frag = round(frag, 2)\n",
    "        if rounded_frag in motif1.peaks.mz and rounded_frag in motif2.peaks.mz:\n",
    "            zebra_frags.append(frag)\n",
    "            zebra_intens.append(intens)\n",
    "            labels[frag] = rounded_frag  # Store for labeling\n",
    "        elif rounded_frag in motif1.peaks.mz:\n",
    "            green_frags.append(frag)\n",
    "            green_intens.append(intens)\n",
    "            labels[frag] = rounded_frag\n",
    "        elif rounded_frag in motif2.peaks.mz:\n",
    "            blue_frags.append(frag)\n",
    "            blue_intens.append(intens)\n",
    "            labels[frag] = rounded_frag\n",
    "    print(green_frags)\n",
    "    print(blue_frags)\n",
    "    print(zebra_frags)\n",
    "    return green_frags, green_intens, blue_frags, blue_intens, zebra_frags, zebra_intens, labels"
   ]
  },
  {
   "cell_type": "code",
   "execution_count": 19,
   "metadata": {},
   "outputs": [
    {
     "name": "stdout",
     "output_type": "stream",
     "text": [
      "[70.0658, 227.1023]\n",
      "[122.06, 168.0653, 182.081]\n",
      "[]\n"
     ]
    },
    {
     "data": {
      "image/png": "[encoded data removed]",
      "text/plain": [
       "<Figure size 1000x600 with 1 Axes>"
      ]
     },
     "metadata": {
      "needs_background": "light"
     },
     "output_type": "display_data"
    }
   ],
   "source": [
    "import matplotlib.pyplot as plt\n",
    "import numpy as np\n",
    "\n",
    "def plot_overlap(ax, frag, intensity_suspect, norm_intensity_m1, norm_intensity_m2, colors=(\"red\", \"lightgreen\")):\n",
    "    \"\"\"\n",
    "    Plots overlapping fragments with proportional scaling based on normalized intensity ratios.\n",
    "    frag: The m/z value of the fragment\n",
    "    intensity_suspect: Intensity in the suspect spectrum\n",
    "    norm_intensity_m1, norm_intensity_m2: Normalized intensities in motif1 and motif2\n",
    "    \"\"\"\n",
    "    # Determine the larger and smaller normalized intensity\n",
    "    if norm_intensity_m1 >= norm_intensity_m2:\n",
    "        larger_intensity, smaller_intensity = norm_intensity_m1, norm_intensity_m2\n",
    "        larger_color, smaller_color = colors[0], colors[1]\n",
    "    else:\n",
    "        larger_intensity, smaller_intensity = norm_intensity_m2, norm_intensity_m1\n",
    "        larger_color, smaller_color = colors[1], colors[0]\n",
    "    # Calculate the scaling ratio for the smaller fragment\n",
    "    scaling_ratio = smaller_intensity / larger_intensity\n",
    "    # Plot the larger fragment\n",
    "    ax.plot([frag, frag], [0, intensity_suspect], color=larger_color, linewidth=1.5)\n",
    "    # Plot the smaller fragment proportionally on top of the larger one\n",
    "    scaled_height = intensity_suspect * scaling_ratio\n",
    "    ax.plot([frag, frag], [0, scaled_height], color=smaller_color, linewidth=1.5)\n",
    "# Perform overlap check\n",
    "n = 209 #suspect spectra\n",
    "mass_to_charge = cleaned_spectra[n].peaks.mz\n",
    "intensities = cleaned_spectra[n].peaks.intensities / max(cleaned_spectra[n].peaks.intensities)\n",
    "# Normalize motif1 and motif2 intensities\n",
    "motif1_mz = motif_spectra_200[53].peaks.mz #158 is motif 22\n",
    "motif1_intensities = motif_spectra_200[53].peaks.intensities\n",
    "norm_motif1_intensities = motif1_intensities / max(motif1_intensities)\n",
    "motif2_mz = motif_spectra_200[158].peaks.mz #motif 137\n",
    "motif2_intensities = motif_spectra_200[158].peaks.intensities\n",
    "norm_motif2_intensities = motif2_intensities / max(motif2_intensities)\n",
    "# Identify overlapping fragments\n",
    "green_frags, green_intens, blue_frags, blue_intens, zebra_frags, zebra_intens, labels = check_overlap(\n",
    "    cleaned_spectra[n], intensities, motif_spectra_200[158], motif_spectra_200[53])\n",
    "# Create plot\n",
    "fig = plt.figure(figsize=(10, 6), facecolor='none', edgecolor='none')\n",
    "ax1 = fig.add_subplot(2, 1, 2)\n",
    "suspect = ax1.stem(mass_to_charge, intensities, basefmt=\"k-\", markerfmt=\"\", linefmt=\"black\", label=\"suspect\")\n",
    "# Plot normal lines for motif1 and motif2\n",
    "if green_frags:\n",
    "    one = ax1.stem(green_frags, green_intens, basefmt=\"k-\", markerfmt=\"\", linefmt=\"green\", label=\"m2m_22\")\n",
    "if blue_frags:\n",
    "    two = ax1.stem(blue_frags, blue_intens, basefmt=\"k-\", markerfmt=\"\", linefmt=\"blue\", label=\"m2m_137\")\n",
    "else:\n",
    "    two = ax1.stem([0],[0], basefmt=\"k-\", markerfmt=\"\", linefmt=\"blue\", label=\"m2m_137\")\n",
    "# Plot overlapping fragments with proportional scaling\n",
    "if zebra_frags:\n",
    "    for frag in zebra_frags:\n",
    "        # Get normalized intensities for the fragment in motif1 and motif2\n",
    "        rounded_frag = round(frag, 2)\n",
    "        # Use numpy to find the index of the rounded_frag in the mz arrays\n",
    "        idx_m1 = np.where(np.isclose(motif1_mz, rounded_frag, atol=1e-2))[0]\n",
    "        idx_m2 = np.where(np.isclose(motif2_mz, rounded_frag, atol=1e-2))[0]\n",
    "        # Ensure valid indices are found\n",
    "        if idx_m1.size > 0 and idx_m2.size > 0:\n",
    "            norm_intensity_m1 = norm_motif1_intensities[idx_m1[0]]\n",
    "            norm_intensity_m2 = norm_motif2_intensities[idx_m2[0]]\n",
    "            intensity_suspect = intensities[mass_to_charge.tolist().index(frag)]\n",
    "            # Plot the overlapping fragments\n",
    "            plot_overlap(ax1, frag, intensity_suspect, norm_intensity_m1, norm_intensity_m2, colors=(\"green\", \"blue\"))\n",
    "# Determine the top 7 fragments based on intensity\n",
    "top_fragments = sorted(\n",
    "    [(frag, rounded_frag, intensities[mass_to_charge.tolist().index(frag)]) for frag, rounded_frag in labels.items()],\n",
    "    key=lambda x: x[2],  # Sort by intensity\n",
    "    reverse=True  # Descending order\n",
    ")[:8]  # Take the top 7\n",
    "# Add labels for the top 7 fragments\n",
    "for frag, rounded_frag, intensity in top_fragments:\n",
    "    if round(frag, 2) == 213.16:\n",
    "         ax1.text(frag, intensity + 0.04, f\"{rounded_frag}\", ha='center', va='bottom', fontsize=12)\n",
    "    else:\n",
    "        ax1.text(frag, intensity + 0.02, f\"{rounded_frag}\", ha='center', va='bottom', fontsize=12)\n",
    "ax1.legend(handles=[suspect, one, two], fontsize=14)  # Adjust the size as needed\n",
    "# Customize plot appearance\n",
    "ax1.set_ylim(0, 1)\n",
    "ax1.set_xlim(0,)\n",
    "ax1.set_xlabel('m/z', fontsize=12)\n",
    "ax1.set_ylabel('Intensity', fontsize=12)\n",
    "ax1.spines['right'].set_visible(False)\n",
    "ax1.spines['top'].set_visible(False)\n",
    "ax1.spines['left'].set_color('black')\n",
    "ax1.spines['bottom'].set_color('black')\n",
    "ax1.spines['left'].set_linewidth(1.5)\n",
    "ax1.spines['bottom'].set_linewidth(1.5)\n",
    "# Show the plot\n",
    "plt.subplots_adjust(top=0.95)\n",
    "#plt.savefig(\"suspect_10396.png\", dpi=600)\n",
    "plt.show()\n"
   ]
  },
  {
   "cell_type": "code",
   "execution_count": 20,
   "metadata": {},
   "outputs": [
    {
     "name": "stdout",
     "output_type": "stream",
     "text": [
      "[72.0815, 98.0605, 116.0708]\n",
      "[55.0551, 69.0706, 80.05, 122.0602, 132.0445, 140.0707, 150.0552, 168.0656]\n",
      "[]\n"
     ]
    },
    {
     "data": {
      "image/png": "[encoded data removed]",
      "text/plain": [
       "<Figure size 1000x600 with 1 Axes>"
      ]
     },
     "metadata": {
      "needs_background": "light"
     },
     "output_type": "display_data"
    }
   ],
   "source": [
    "import matplotlib.pyplot as plt\n",
    "import numpy as np\n",
    "\n",
    "def plot_overlap(ax, frag, intensity_suspect, norm_intensity_m1, norm_intensity_m2, colors=(\"red\", \"lightgreen\")):\n",
    "    \"\"\"\n",
    "    Plots overlapping fragments with proportional scaling based on normalized intensity ratios.\n",
    "    frag: The m/z value of the fragment\n",
    "    intensity_suspect: Intensity in the suspect spectrum\n",
    "    norm_intensity_m1, norm_intensity_m2: Normalized intensities in motif1 and motif2\n",
    "    \"\"\"\n",
    "    # Determine the larger and smaller normalized intensity\n",
    "    if norm_intensity_m1 >= norm_intensity_m2:\n",
    "        larger_intensity, smaller_intensity = norm_intensity_m1, norm_intensity_m2\n",
    "        larger_color, smaller_color = colors[0], colors[1]\n",
    "    else:\n",
    "        larger_intensity, smaller_intensity = norm_intensity_m2, norm_intensity_m1\n",
    "        larger_color, smaller_color = colors[1], colors[0]\n",
    "    # Calculate the scaling ratio for the smaller fragment\n",
    "    scaling_ratio = smaller_intensity / larger_intensity\n",
    "    # Plot the larger fragment\n",
    "    ax.plot([frag, frag], [0, intensity_suspect], color=larger_color, linewidth=1.5)\n",
    "    # Plot the smaller fragment proportionally on top of the larger one\n",
    "    scaled_height = intensity_suspect * scaling_ratio\n",
    "    ax.plot([frag, frag], [0, scaled_height], color=smaller_color, linewidth=1.5)\n",
    "# Perform overlap check\n",
    "n = 547 #erinacerin spectra\n",
    "mass_to_charge = cleaned_spectra[n].peaks.mz\n",
    "intensities = cleaned_spectra[n].peaks.intensities / max(cleaned_spectra[n].peaks.intensities)\n",
    "# Normalize motif1 and motif2 intensities\n",
    "motif1_mz = motif_spectra_200[53].peaks.mz #158 is motif 22\n",
    "motif1_intensities = motif_spectra_200[53].peaks.intensities\n",
    "norm_motif1_intensities = motif1_intensities / max(motif1_intensities)\n",
    "motif2_mz = motif_spectra_200[158].peaks.mz #motif 137\n",
    "motif2_intensities = motif_spectra_200[158].peaks.intensities\n",
    "norm_motif2_intensities = motif2_intensities / max(motif2_intensities)\n",
    "# Identify overlapping fragments\n",
    "green_frags, green_intens, blue_frags, blue_intens, zebra_frags, zebra_intens, labels = check_overlap(\n",
    "    cleaned_spectra[n], intensities, motif_spectra_200[158], motif_spectra_200[53])\n",
    "# Create plot\n",
    "fig = plt.figure(figsize=(10, 6), facecolor='none', edgecolor='none')\n",
    "ax1 = fig.add_subplot(2, 1, 2)\n",
    "suspect = ax1.stem(mass_to_charge, intensities, basefmt=\"k-\", markerfmt=\"\", linefmt=\"black\", label=\"Erinacerin N\")\n",
    "# Plot normal lines for motif1 and motif2\n",
    "if green_frags:\n",
    "    one = ax1.stem(green_frags, green_intens, basefmt=\"k-\", markerfmt=\"\", linefmt=\"green\", label=\"m2m_22\")\n",
    "if blue_frags:\n",
    "    two = ax1.stem(blue_frags, blue_intens, basefmt=\"k-\", markerfmt=\"\", linefmt=\"blue\", label=\"m2m_137\")\n",
    "else:\n",
    "    two = ax1.stem([0],[0], basefmt=\"k-\", markerfmt=\"\", linefmt=\"blue\", label=\"m2m_137\")\n",
    "# Plot overlapping fragments with proportional scaling\n",
    "if zebra_frags:\n",
    "    for frag in zebra_frags:\n",
    "        # Get normalized intensities for the fragment in motif1 and motif2\n",
    "        rounded_frag = round(frag, 2)\n",
    "        # Use numpy to find the index of the rounded_frag in the mz arrays\n",
    "        idx_m1 = np.where(np.isclose(motif1_mz, rounded_frag, atol=1e-2))[0]\n",
    "        idx_m2 = np.where(np.isclose(motif2_mz, rounded_frag, atol=1e-2))[0]\n",
    "        # Ensure valid indices are found\n",
    "        if idx_m1.size > 0 and idx_m2.size > 0:\n",
    "            norm_intensity_m1 = norm_motif1_intensities[idx_m1[0]]\n",
    "            norm_intensity_m2 = norm_motif2_intensities[idx_m2[0]]\n",
    "            intensity_suspect = intensities[mass_to_charge.tolist().index(frag)]\n",
    "            # Plot the overlapping fragments\n",
    "            plot_overlap(ax1, frag, intensity_suspect, norm_intensity_m1, norm_intensity_m2, colors=(\"green\", \"blue\"))\n",
    "# Determine the top 7 fragments based on intensity\n",
    "top_fragments = sorted(\n",
    "    [(frag, rounded_frag, intensities[mass_to_charge.tolist().index(frag)]) for frag, rounded_frag in labels.items()],\n",
    "    key=lambda x: x[2],  # Sort by intensity\n",
    "    reverse=True  # Descending order\n",
    ")[:8]  # Take the top 7\n",
    "# Add labels for the top 7 fragments\n",
    "for frag, rounded_frag, intensity in top_fragments:\n",
    "    if round(frag, 2) == 213.16:\n",
    "         ax1.text(frag, intensity + 0.04, f\"{rounded_frag}\", ha='center', va='bottom', fontsize=12)\n",
    "    else:\n",
    "        ax1.text(frag, intensity + 0.02, f\"{rounded_frag}\", ha='center', va='bottom', fontsize=12)\n",
    "ax1.legend(handles=[suspect, one, two], fontsize=14)  # Adjust the size as needed\n",
    "# Customize plot appearance\n",
    "ax1.set_ylim(0, 1)\n",
    "ax1.set_xlim(0,)\n",
    "ax1.set_xlabel('m/z', fontsize=12)\n",
    "ax1.set_ylabel('Intensity', fontsize=12)\n",
    "ax1.spines['right'].set_visible(False)\n",
    "ax1.spines['top'].set_visible(False)\n",
    "ax1.spines['left'].set_color('black')\n",
    "ax1.spines['bottom'].set_color('black')\n",
    "ax1.spines['left'].set_linewidth(1.5)\n",
    "ax1.spines['bottom'].set_linewidth(1.5)\n",
    "# Show the plot\n",
    "plt.subplots_adjust(top=0.95)\n",
    "#plt.savefig(\"suspect_10396.png\", dpi=600)\n",
    "plt.show()\n"
   ]
  },
  {
   "cell_type": "code",
   "execution_count": 21,
   "metadata": {},
   "outputs": [],
   "source": [
    "def check_overlap_1motif(spec, intensities, motif1):\n",
    "    zebra_frags = []  # To store fragments for zebra coloring\n",
    "    zebra_intens = []  # To store their intensities\n",
    "    labels = {}  # For labeling\n",
    "    # Other fragments in motif1 or motif2 will have normal coloring\n",
    "    green_frags = []\n",
    "    green_intens = []\n",
    "    for frag, intens in zip(spec.peaks.mz, intensities):\n",
    "        rounded_frag = round(frag, 2)\n",
    "        if rounded_frag in motif1.peaks.mz:\n",
    "            zebra_frags.append(frag)\n",
    "            zebra_intens.append(intens)\n",
    "            labels[frag] = rounded_frag  # Store for labeling\n",
    "        elif rounded_frag in motif1.peaks.mz:\n",
    "            green_frags.append(frag)\n",
    "            green_intens.append(intens)\n",
    "            labels[frag] = rounded_frag\n",
    "    print(green_frags)\n",
    "    print(zebra_frags)\n",
    "    return green_frags, green_intens, zebra_frags, zebra_intens, labels"
   ]
  },
  {
   "cell_type": "code",
   "execution_count": 22,
   "metadata": {},
   "outputs": [
    {
     "name": "stdout",
     "output_type": "stream",
     "text": [
      "[]\n",
      "[69.0705, 132.0444, 134.0599, 137.0599, 149.0591, 162.0549, 164.0704, 178.0498, 192.0653, 200.0702, 202.0859, 218.0809, 230.0809, 316.1901, 354.2056, 400.2112, 428.2062]\n"
     ]
    },
    {
     "data": {
      "image/png": "[encoded data removed]",
      "text/plain": [
       "<Figure size 1000x600 with 1 Axes>"
      ]
     },
     "metadata": {
      "needs_background": "light"
     },
     "output_type": "display_data"
    }
   ],
   "source": [
    "import matplotlib.pyplot as plt\n",
    "import numpy as np\n",
    "\n",
    "def plot_overlap(ax, frag, intensity_suspect, norm_intensity_m1, color=\"lightgreen\"):\n",
    "    \"\"\"\n",
    "    Plots overlapping fragments with proportional scaling based on normalized intensity ratios.\n",
    "    frag: The m/z value of the fragment\n",
    "    intensity_suspect: Intensity in the suspect spectrum\n",
    "    norm_intensity_m1: Normalized intensity in motif1\n",
    "    \"\"\"\n",
    "    # Plot the fragment\n",
    "    scaled_height = intensity_suspect * norm_intensity_m1\n",
    "    ax.plot([frag, frag], [0, scaled_height], color=color, linewidth=1.5)\n",
    "\n",
    "# Perform overlap check\n",
    "n = 1105  # erinacerin spectra\n",
    "mass_to_charge = cleaned_spectra[n].peaks.mz\n",
    "intensities = cleaned_spectra[n].peaks.intensities / max(cleaned_spectra[n].peaks.intensities)\n",
    "\n",
    "# Normalize motif1 intensities\n",
    "motif1_mz = motif_spectra_200[67].peaks.mz  #motif_108\n",
    "motif1_intensities = motif_spectra_200[67].peaks.intensities\n",
    "norm_motif1_intensities = motif1_intensities / max(motif1_intensities)\n",
    "\n",
    "# Identify overlapping fragments\n",
    "green_frags, green_intens, zebra_frags, zebra_intens, labels = check_overlap_1motif(\n",
    "    cleaned_spectra[n], intensities, motif_spectra_200[67])\n",
    "\n",
    "# Create plot\n",
    "fig = plt.figure(figsize=(10, 6), facecolor='none', edgecolor='none')\n",
    "ax1 = fig.add_subplot(2, 1, 1)\n",
    "\n",
    "# Plot suspect spectrum\n",
    "suspect = ax1.stem(mass_to_charge, intensities, basefmt=\"k-\", markerfmt=\"\", linefmt=\"black\", label=\"erinacerin F\")\n",
    "\n",
    "# Plot green fragments (motif1)\n",
    "if green_frags:\n",
    "    one = ax1.stem(green_frags, green_intens, basefmt=\"k-\", markerfmt=\"\", linefmt=\"purple\", label=\"m2m_108\")\n",
    "else:\n",
    "    one = ax1.stem([0], [0], basefmt=\"k-\", markerfmt=\"\", linefmt=\"purple\", label=\"m2m_108\")\n",
    "\n",
    "# Plot overlapping fragments with proportional scaling (zebra fragments for motif1 only)\n",
    "if zebra_frags:\n",
    "    for frag in zebra_frags:\n",
    "        # Get normalized intensity for the fragment in motif1\n",
    "        rounded_frag = round(frag, 2)\n",
    "        idx_m1 = np.where(np.isclose(motif1_mz, rounded_frag, atol=1e-2))[0]\n",
    "        if idx_m1.size > 0:\n",
    "            norm_intensity_m1 = norm_motif1_intensities[idx_m1[0]]\n",
    "            intensity_suspect = intensities[mass_to_charge.tolist().index(frag)]\n",
    "            plot_overlap(ax1, frag, intensity_suspect, norm_intensity_m1, color=\"purple\")\n",
    "\n",
    "# Determine the top 7 fragments based on intensity\n",
    "top_fragments = sorted(\n",
    "    [(frag, rounded_frag, intensities[mass_to_charge.tolist().index(frag)]) for frag, rounded_frag in labels.items()],\n",
    "    key=lambda x: x[2],  # Sort by intensity\n",
    "    reverse=True  # Descending order\n",
    ")[:8]  # Take the top 7\n",
    "\n",
    "# Add labels for the top 7 fragments\n",
    "for frag, rounded_frag, intensity in top_fragments:\n",
    "    ax1.text(frag, intensity + 0.02, f\"{rounded_frag}\", ha='center', va='bottom', fontsize=12)\n",
    "\n",
    "# Customize plot appearance\n",
    "ax1.legend(handles=[suspect, one], fontsize=14)  # Adjust the size as needed\n",
    "ax1.set_ylim(0, 1)\n",
    "ax1.set_xlim(0,)\n",
    "ax1.set_xlabel('m/z', fontsize=12)\n",
    "ax1.set_ylabel('Intensity', fontsize=12)\n",
    "ax1.spines['right'].set_visible(False)\n",
    "ax1.spines['top'].set_visible(False)\n",
    "ax1.spines['left'].set_color('black')\n",
    "ax1.spines['bottom'].set_color('black')\n",
    "ax1.spines['left'].set_linewidth(1.5)\n",
    "ax1.spines['bottom'].set_linewidth(1.5)\n",
    "\n",
    "# Show the plot\n",
    "plt.subplots_adjust(top=0.95)\n",
    "# plt.savefig(\"suspect_10396.png\", dpi=600)\n",
    "plt.show()\n"
   ]
  },
  {
   "cell_type": "code",
   "execution_count": 23,
   "metadata": {},
   "outputs": [
    {
     "data": {
      "text/plain": [
       "{'scans': '17224',\n",
       " 'charge': 1,\n",
       " 'collision_energy': '0.0',\n",
       " 'retention_time': 1230.779,\n",
       " 'ms_level': '2',\n",
       " 'precursor_mz': 595.3994,\n",
       " 'ionmode': 'positive',\n",
       " 'retention_index': None,\n",
       " 'id': 'spec_2354'}"
      ]
     },
     "execution_count": 23,
     "metadata": {},
     "output_type": "execute_result"
    }
   ],
   "source": [
    "cleaned_spectra[2354].metadata"
   ]
  },
  {
   "cell_type": "code",
   "execution_count": 24,
   "metadata": {},
   "outputs": [
    {
     "data": {
      "text/plain": [
       "{'id': 'motif_108',\n",
       " 'charge': '1',\n",
       " 'ms2accuracy': '0.005',\n",
       " 'motifset': 'motifs',\n",
       " 'short_annotation': 'None',\n",
       " 'annotation': 'None',\n",
       " 'auto_annotation': \"['CC1CCC2C(C)(C)C(O)C(O)CC2(C)C12Cc1c(O)cc3c(c1O2)CNC3=O']\"}"
      ]
     },
     "execution_count": 24,
     "metadata": {},
     "output_type": "execute_result"
    }
   ],
   "source": [
    "motif_spectra_200[67].metadata"
   ]
  },
  {
   "cell_type": "code",
   "execution_count": 25,
   "metadata": {},
   "outputs": [
    {
     "name": "stdout",
     "output_type": "stream",
     "text": [
      "172\n"
     ]
    }
   ],
   "source": [
    "for index, i in enumerate(motif_spectra_200):\n",
    "    if i.metadata[\"id\"] == \"motif_163\":\n",
    "        print(index)"
   ]
  },
  {
   "cell_type": "code",
   "execution_count": 26,
   "metadata": {},
   "outputs": [
    {
     "name": "stdout",
     "output_type": "stream",
     "text": [
      "126\n"
     ]
    }
   ],
   "source": [
    "for index, i in enumerate(motif_spectra_200):\n",
    "    if i.metadata[\"id\"] == \"motif_90\":\n",
    "        print(index)"
   ]
  },
  {
   "cell_type": "code",
   "execution_count": 27,
   "metadata": {},
   "outputs": [
    {
     "name": "stdout",
     "output_type": "stream",
     "text": [
      "[91.0548, 119.0495, 147.0441, 149.0596, 177.0547, 217.0858]\n",
      "[53.0394, 189.0912]\n",
      "[55.0551, 83.0497, 233.1171, 315.159]\n"
     ]
    },
    {
     "data": {
      "image/png": "[encoded data removed]",
      "text/plain": [
       "<Figure size 1000x600 with 1 Axes>"
      ]
     },
     "metadata": {
      "needs_background": "light"
     },
     "output_type": "display_data"
    }
   ],
   "source": [
    "import matplotlib.pyplot as plt\n",
    "import numpy as np\n",
    "\n",
    "def plot_overlap(ax, frag, intensity_suspect, norm_intensity_m1, norm_intensity_m2, colors=(\"red\", \"lightgreen\")):\n",
    "    \"\"\"\n",
    "    Plots overlapping fragments with proportional scaling based on normalized intensity ratios.\n",
    "    frag: The m/z value of the fragment\n",
    "    intensity_suspect: Intensity in the suspect spectrum\n",
    "    norm_intensity_m1, norm_intensity_m2: Normalized intensities in motif1 and motif2\n",
    "    \"\"\"\n",
    "    # Determine the larger and smaller normalized intensity\n",
    "    if norm_intensity_m1 >= norm_intensity_m2:\n",
    "        larger_intensity, smaller_intensity = norm_intensity_m1, norm_intensity_m2\n",
    "        larger_color, smaller_color = colors[0], colors[1]\n",
    "    else:\n",
    "        larger_intensity, smaller_intensity = norm_intensity_m2, norm_intensity_m1\n",
    "        larger_color, smaller_color = colors[1], colors[0]\n",
    "    # Calculate the scaling ratio for the smaller fragment\n",
    "    scaling_ratio = smaller_intensity / larger_intensity\n",
    "    # Plot the larger fragment\n",
    "    ax.plot([frag, frag], [0, intensity_suspect], color=larger_color, linewidth=1.5)\n",
    "    # Plot the smaller fragment proportionally on top of the larger one\n",
    "    scaled_height = intensity_suspect * scaling_ratio\n",
    "    ax.plot([frag, frag], [0, scaled_height], color=smaller_color, linewidth=1.5)\n",
    "# Perform overlap check\n",
    "n = 2354 #erinacerin spectra\n",
    "mass_to_charge = cleaned_spectra[n].peaks.mz\n",
    "intensities = cleaned_spectra[n].peaks.intensities / max(cleaned_spectra[n].peaks.intensities)\n",
    "# Normalize motif1 and motif2 intensities\n",
    "motif1_mz = motif_spectra_200[172].peaks.mz #172 is motif 163\n",
    "motif1_intensities = motif_spectra_200[172].peaks.intensities\n",
    "norm_motif1_intensities = motif1_intensities / max(motif1_intensities)\n",
    "motif2_mz = motif_spectra_200[126].peaks.mz #motif 90\n",
    "motif2_intensities = motif_spectra_200[126].peaks.intensities\n",
    "norm_motif2_intensities = motif2_intensities / max(motif2_intensities)\n",
    "# Identify overlapping fragments\n",
    "green_frags, green_intens, blue_frags, blue_intens, zebra_frags, zebra_intens, labels = check_overlap(\n",
    "    cleaned_spectra[n], intensities, motif_spectra_200[172], motif_spectra_200[126])\n",
    "# Create plot\n",
    "fig = plt.figure(figsize=(10, 6), facecolor='none', edgecolor='none')\n",
    "ax1 = fig.add_subplot(2, 1, 2)\n",
    "suspect = ax1.stem(mass_to_charge, intensities, basefmt=\"k-\", markerfmt=\"\", linefmt=\"black\", label=\"Hericenone H\")\n",
    "# Plot normal lines for motif1 and motif2\n",
    "if green_frags:\n",
    "    one = ax1.stem(green_frags, green_intens, basefmt=\"k-\", markerfmt=\"\", linefmt=\"purple\", label=\"m2m_163\")\n",
    "if blue_frags:\n",
    "    two = ax1.stem(blue_frags, blue_intens, basefmt=\"k-\", markerfmt=\"\", linefmt=\"green\", label=\"m2m_90\")\n",
    "else:\n",
    "    two = ax1.stem([0],[0], basefmt=\"k-\", markerfmt=\"\", linefmt=\"green\", label=\"m2m_90\")\n",
    "# Plot overlapping fragments with proportional scaling\n",
    "if zebra_frags:\n",
    "    for frag in zebra_frags:\n",
    "        # Get normalized intensities for the fragment in motif1 and motif2\n",
    "        rounded_frag = round(frag, 2)\n",
    "        # Use numpy to find the index of the rounded_frag in the mz arrays\n",
    "        idx_m1 = np.where(np.isclose(motif1_mz, rounded_frag, atol=1e-2))[0]\n",
    "        idx_m2 = np.where(np.isclose(motif2_mz, rounded_frag, atol=1e-2))[0]\n",
    "        # Ensure valid indices are found\n",
    "        if idx_m1.size > 0 and idx_m2.size > 0:\n",
    "            norm_intensity_m1 = norm_motif1_intensities[idx_m1[0]]\n",
    "            norm_intensity_m2 = norm_motif2_intensities[idx_m2[0]]\n",
    "            intensity_suspect = intensities[mass_to_charge.tolist().index(frag)]\n",
    "            # Plot the overlapping fragments\n",
    "            plot_overlap(ax1, frag, intensity_suspect, norm_intensity_m1, norm_intensity_m2, colors=(\"purple\", \"green\"))\n",
    "# Determine the top 7 fragments based on intensity\n",
    "top_fragments = sorted(\n",
    "    [(frag, rounded_frag, intensities[mass_to_charge.tolist().index(frag)]) for frag, rounded_frag in labels.items()],\n",
    "    key=lambda x: x[2],  # Sort by intensity\n",
    "    reverse=True  # Descending order\n",
    ")[:8]  # Take the top 7\n",
    "# Add labels for the top 7 fragments\n",
    "for frag, rounded_frag, intensity in top_fragments:\n",
    "    if round(frag, 2) == 213.16:\n",
    "         ax1.text(frag, intensity + 0.04, f\"{rounded_frag}\", ha='center', va='bottom', fontsize=12)\n",
    "    else:\n",
    "        ax1.text(frag, intensity + 0.02, f\"{rounded_frag}\", ha='center', va='bottom', fontsize=12)\n",
    "ax1.legend(handles=[suspect, one, two], fontsize=14)  # Adjust the size as needed\n",
    "# Customize plot appearance\n",
    "ax1.set_ylim(0, 1)\n",
    "ax1.set_xlim(0,)\n",
    "ax1.set_xlabel('m/z', fontsize=12)\n",
    "ax1.set_ylabel('Intensity', fontsize=12)\n",
    "ax1.spines['right'].set_visible(False)\n",
    "ax1.spines['top'].set_visible(False)\n",
    "ax1.spines['left'].set_color('black')\n",
    "ax1.spines['bottom'].set_color('black')\n",
    "ax1.spines['left'].set_linewidth(1.5)\n",
    "ax1.spines['bottom'].set_linewidth(1.5)\n",
    "# Show the plot\n",
    "plt.subplots_adjust(top=0.95)\n",
    "#plt.savefig(\"suspect_10396.png\", dpi=600)\n",
    "plt.show()\n"
   ]
  },
  {
   "cell_type": "code",
   "execution_count": 28,
   "metadata": {},
   "outputs": [
    {
     "data": {
      "text/plain": [
       "array([ 55.06,  69.46,  83.05,  91.05, 119.05, 147.04, 149.06, 177.05,\n",
       "       217.09, 233.12, 315.16, 613.44])"
      ]
     },
     "execution_count": 28,
     "metadata": {},
     "output_type": "execute_result"
    }
   ],
   "source": [
    "#double ccheck results, peaks correspond to the ones from the figure\n",
    "motif_spectra_200[172].peaks.mz"
   ]
  },
  {
   "cell_type": "code",
   "execution_count": 29,
   "metadata": {},
   "outputs": [
    {
     "data": {
      "text/plain": [
       "array([ 53.04,  55.06,  69.42,  83.05,  84.05, 178.06, 189.09, 233.12,\n",
       "       315.16, 331.15])"
      ]
     },
     "execution_count": 29,
     "metadata": {},
     "output_type": "execute_result"
    }
   ],
   "source": [
    "motif_spectra_200[126].peaks.mz"
   ]
  },
  {
   "cell_type": "code",
   "execution_count": 30,
   "metadata": {},
   "outputs": [
    {
     "name": "stdout",
     "output_type": "stream",
     "text": [
      "46\n"
     ]
    }
   ],
   "source": [
    "for index, i in enumerate(motif_spectra_200):\n",
    "    if i.metadata[\"id\"] == \"motif_186\":\n",
    "        print(index)"
   ]
  },
  {
   "cell_type": "code",
   "execution_count": 31,
   "metadata": {},
   "outputs": [
    {
     "name": "stdout",
     "output_type": "stream",
     "text": [
      "[53.0393, 55.0551, 83.0497, 189.0911, 233.117, 315.159]\n",
      "[91.0547, 119.0495, 121.0654, 145.0281, 147.0441, 149.0601, 177.0546, 179.0703, 217.0855]\n",
      "[]\n"
     ]
    },
    {
     "data": {
      "image/png": "[encoded data removed]",
      "text/plain": [
       "<Figure size 1000x600 with 1 Axes>"
      ]
     },
     "metadata": {
      "needs_background": "light"
     },
     "output_type": "display_data"
    }
   ],
   "source": [
    "import matplotlib.pyplot as plt\n",
    "import numpy as np\n",
    "\n",
    "def plot_overlap(ax, frag, intensity_suspect, norm_intensity_m1, norm_intensity_m2, colors=(\"red\", \"lightgreen\")):\n",
    "    \"\"\"\n",
    "    Plots overlapping fragments with proportional scaling based on normalized intensity ratios.\n",
    "    frag: The m/z value of the fragment\n",
    "    intensity_suspect: Intensity in the suspect spectrum\n",
    "    norm_intensity_m1, norm_intensity_m2: Normalized intensities in motif1 and motif2\n",
    "    \"\"\"\n",
    "    # Determine the larger and smaller normalized intensity\n",
    "    if norm_intensity_m1 >= norm_intensity_m2:\n",
    "        larger_intensity, smaller_intensity = norm_intensity_m1, norm_intensity_m2\n",
    "        larger_color, smaller_color = colors[0], colors[1]\n",
    "    else:\n",
    "        larger_intensity, smaller_intensity = norm_intensity_m2, norm_intensity_m1\n",
    "        larger_color, smaller_color = colors[1], colors[0]\n",
    "    # Calculate the scaling ratio for the smaller fragment\n",
    "    scaling_ratio = smaller_intensity / larger_intensity\n",
    "    # Plot the larger fragment\n",
    "    ax.plot([frag, frag], [0, intensity_suspect], color=larger_color, linewidth=1.5)\n",
    "    # Plot the smaller fragment proportionally on top of the larger one\n",
    "    scaled_height = intensity_suspect * scaling_ratio\n",
    "    ax.plot([frag, frag], [0, scaled_height], color=smaller_color, linewidth=1.5)\n",
    "# Perform overlap check\n",
    "n = 2287 #erinacerin spectra\n",
    "mass_to_charge = cleaned_spectra[n].peaks.mz\n",
    "intensities = cleaned_spectra[n].peaks.intensities / max(cleaned_spectra[n].peaks.intensities)\n",
    "# Normalize motif1 and motif2 intensities\n",
    "motif1_mz = motif_spectra_200[126].peaks.mz # motif 90\n",
    "motif1_intensities = motif_spectra_200[126].peaks.intensities\n",
    "norm_motif1_intensities = motif1_intensities / max(motif1_intensities)\n",
    "motif2_mz = motif_spectra_200[46].peaks.mz #motif 186\n",
    "motif2_intensities = motif_spectra_200[46].peaks.intensities\n",
    "norm_motif2_intensities = motif2_intensities / max(motif2_intensities)\n",
    "# Identify overlapping fragments\n",
    "green_frags, green_intens, blue_frags, blue_intens, zebra_frags, zebra_intens, labels = check_overlap(\n",
    "    cleaned_spectra[n], intensities, motif_spectra_200[126], motif_spectra_200[46])\n",
    "# Create plot\n",
    "fig = plt.figure(figsize=(10, 6), facecolor='none', edgecolor='none')\n",
    "ax1 = fig.add_subplot(2, 1, 2)\n",
    "suspect = ax1.stem(mass_to_charge, intensities, basefmt=\"k-\", markerfmt=\"\", linefmt=\"black\", label=\"Hericenone F\")\n",
    "# Plot normal lines for motif1 and motif2\n",
    "if green_frags:\n",
    "    one = ax1.stem(green_frags, green_intens, basefmt=\"k-\", markerfmt=\"\", linefmt=\"green\", label=\"m2m_90\")\n",
    "if blue_frags:\n",
    "    two = ax1.stem(blue_frags, blue_intens, basefmt=\"k-\", markerfmt=\"\", linefmt=\"blue\", label=\"m2m_186\")\n",
    "else:\n",
    "    two = ax1.stem([0],[0], basefmt=\"k-\", markerfmt=\"\", linefmt=\"blue\", label=\"m2m_186\")\n",
    "# Plot overlapping fragments with proportional scaling\n",
    "if zebra_frags:\n",
    "    for frag in zebra_frags:\n",
    "        # Get normalized intensities for the fragment in motif1 and motif2\n",
    "        rounded_frag = round(frag, 2)\n",
    "        # Use numpy to find the index of the rounded_frag in the mz arrays\n",
    "        idx_m1 = np.where(np.isclose(motif1_mz, rounded_frag, atol=1e-2))[0]\n",
    "        idx_m2 = np.where(np.isclose(motif2_mz, rounded_frag, atol=1e-2))[0]\n",
    "        # Ensure valid indices are found\n",
    "        if idx_m1.size > 0 and idx_m2.size > 0:\n",
    "            norm_intensity_m1 = norm_motif1_intensities[idx_m1[0]]\n",
    "            norm_intensity_m2 = norm_motif2_intensities[idx_m2[0]]\n",
    "            intensity_suspect = intensities[mass_to_charge.tolist().index(frag)]\n",
    "            # Plot the overlapping fragments\n",
    "            plot_overlap(ax1, frag, intensity_suspect, norm_intensity_m1, norm_intensity_m2, colors=(\"green\", \"blue\"))\n",
    "# Determine the top 7 fragments based on intensity\n",
    "top_fragments = sorted(\n",
    "    [(frag, rounded_frag, intensities[mass_to_charge.tolist().index(frag)]) for frag, rounded_frag in labels.items()],\n",
    "    key=lambda x: x[2],  # Sort by intensity\n",
    "    reverse=True  # Descending order\n",
    ")[:8]  # Take the top 7\n",
    "# Add labels for the top 7 fragments\n",
    "for frag, rounded_frag, intensity in top_fragments:\n",
    "    if round(frag, 2) == 213.16:\n",
    "         ax1.text(frag, intensity + 0.04, f\"{rounded_frag}\", ha='center', va='bottom', fontsize=12)\n",
    "    else:\n",
    "        ax1.text(frag, intensity + 0.02, f\"{rounded_frag}\", ha='center', va='bottom', fontsize=12)\n",
    "ax1.legend(handles=[suspect, one, two], fontsize=14)  # Adjust the size as needed\n",
    "# Customize plot appearance\n",
    "ax1.set_ylim(0, 1)\n",
    "ax1.set_xlim(0,)\n",
    "ax1.set_xlabel('m/z', fontsize=12)\n",
    "ax1.set_ylabel('Intensity', fontsize=12)\n",
    "ax1.spines['right'].set_visible(False)\n",
    "ax1.spines['top'].set_visible(False)\n",
    "ax1.spines['left'].set_color('black')\n",
    "ax1.spines['bottom'].set_color('black')\n",
    "ax1.spines['left'].set_linewidth(1.5)\n",
    "ax1.spines['bottom'].set_linewidth(1.5)\n",
    "# Show the plot\n",
    "plt.subplots_adjust(top=0.95)\n",
    "#plt.savefig(\"suspect_10396.png\", dpi=600)\n",
    "plt.show()\n"
   ]
  },
  {
   "cell_type": "code",
   "execution_count": 32,
   "metadata": {},
   "outputs": [
    {
     "data": {
      "text/plain": [
       "array([ 55.06,  69.46,  83.05,  91.05, 119.05, 147.04, 149.06, 177.05,\n",
       "       217.09, 233.12, 315.16, 613.44])"
      ]
     },
     "execution_count": 32,
     "metadata": {},
     "output_type": "execute_result"
    }
   ],
   "source": [
    "motif_spectra_200[172].peaks.mz"
   ]
  },
  {
   "cell_type": "code",
   "execution_count": 33,
   "metadata": {},
   "outputs": [
    {
     "data": {
      "text/plain": [
       "array([ 55.02,  65.04,  78.05,  79.05,  89.04,  91.05,  93.07,  95.05,\n",
       "       105.03, 106.04, 117.03, 119.05, 121.06, 121.07, 123.08, 134.04,\n",
       "       145.03, 147.04, 149.06, 177.05, 179.07, 195.07, 212.24, 217.09,\n",
       "       231.1 , 274.27, 275.13, 301.18, 313.14, 331.15])"
      ]
     },
     "execution_count": 33,
     "metadata": {},
     "output_type": "execute_result"
    }
   ],
   "source": [
    "motif_spectra_200[46].peaks.mz"
   ]
  },
  {
   "cell_type": "markdown",
   "metadata": {},
   "source": [
    "Erinacerin G node shares the same Mass2Motif as Herinacerin H so we change only the spectra n"
   ]
  },
  {
   "cell_type": "code",
   "execution_count": 34,
   "metadata": {},
   "outputs": [
    {
     "name": "stdout",
     "output_type": "stream",
     "text": [
      "[91.0548, 119.0495, 147.0441, 149.06, 177.0547, 217.0859]\n",
      "[53.0395, 189.0911]\n",
      "[55.0551, 83.0498, 233.1172, 315.1591]\n"
     ]
    },
    {
     "data": {
      "image/png": "[encoded data removed]",
      "text/plain": [
       "<Figure size 1000x600 with 1 Axes>"
      ]
     },
     "metadata": {
      "needs_background": "light"
     },
     "output_type": "display_data"
    }
   ],
   "source": [
    "import matplotlib.pyplot as plt\n",
    "import numpy as np\n",
    "\n",
    "def plot_overlap(ax, frag, intensity_suspect, norm_intensity_m1, norm_intensity_m2, colors=(\"red\", \"lightgreen\")):\n",
    "    \"\"\"\n",
    "    Plots overlapping fragments with proportional scaling based on normalized intensity ratios.\n",
    "    frag: The m/z value of the fragment\n",
    "    intensity_suspect: Intensity in the suspect spectrum\n",
    "    norm_intensity_m1, norm_intensity_m2: Normalized intensities in motif1 and motif2\n",
    "    \"\"\"\n",
    "    # Determine the larger and smaller normalized intensity\n",
    "    if norm_intensity_m1 >= norm_intensity_m2:\n",
    "        larger_intensity, smaller_intensity = norm_intensity_m1, norm_intensity_m2\n",
    "        larger_color, smaller_color = colors[0], colors[1]\n",
    "    else:\n",
    "        larger_intensity, smaller_intensity = norm_intensity_m2, norm_intensity_m1\n",
    "        larger_color, smaller_color = colors[1], colors[0]\n",
    "    # Calculate the scaling ratio for the smaller fragment\n",
    "    scaling_ratio = smaller_intensity / larger_intensity\n",
    "    # Plot the larger fragment\n",
    "    ax.plot([frag, frag], [0, intensity_suspect], color=larger_color, linewidth=1.5)\n",
    "    # Plot the smaller fragment proportionally on top of the larger one\n",
    "    scaled_height = intensity_suspect * scaling_ratio\n",
    "    ax.plot([frag, frag], [0, scaled_height], color=smaller_color, linewidth=1.5)\n",
    "# Perform overlap check\n",
    "n = 2583 # spectra\n",
    "mass_to_charge = cleaned_spectra[n].peaks.mz\n",
    "intensities = cleaned_spectra[n].peaks.intensities / max(cleaned_spectra[n].peaks.intensities)\n",
    "# Normalize motif1 and motif2 intensities\n",
    "motif1_mz = motif_spectra_200[172].peaks.mz #172 is motif 163\n",
    "motif1_intensities = motif_spectra_200[172].peaks.intensities\n",
    "norm_motif1_intensities = motif1_intensities / max(motif1_intensities)\n",
    "motif2_mz = motif_spectra_200[126].peaks.mz #motif 90\n",
    "motif2_intensities = motif_spectra_200[126].peaks.intensities\n",
    "norm_motif2_intensities = motif2_intensities / max(motif2_intensities)\n",
    "# Identify overlapping fragments\n",
    "green_frags, green_intens, blue_frags, blue_intens, zebra_frags, zebra_intens, labels = check_overlap(\n",
    "    cleaned_spectra[n], intensities, motif_spectra_200[172], motif_spectra_200[126])\n",
    "# Create plot\n",
    "fig = plt.figure(figsize=(10, 6), facecolor='none', edgecolor='none')\n",
    "ax1 = fig.add_subplot(2, 1, 2)\n",
    "suspect = ax1.stem(mass_to_charge, intensities, basefmt=\"k-\", markerfmt=\"\", linefmt=\"black\", label=\"Hericenone G\")\n",
    "# Plot normal lines for motif1 and motif2\n",
    "if green_frags:\n",
    "    one = ax1.stem(green_frags, green_intens, basefmt=\"k-\", markerfmt=\"\", linefmt=\"purple\", label=\"m2m_163\")\n",
    "if blue_frags:\n",
    "    two = ax1.stem(blue_frags, blue_intens, basefmt=\"k-\", markerfmt=\"\", linefmt=\"green\", label=\"m2m_90\")\n",
    "else:\n",
    "    two = ax1.stem([0],[0], basefmt=\"k-\", markerfmt=\"\", linefmt=\"green\", label=\"m2m_90\")\n",
    "# Plot overlapping fragments with proportional scaling\n",
    "if zebra_frags:\n",
    "    for frag in zebra_frags:\n",
    "        # Get normalized intensities for the fragment in motif1 and motif2\n",
    "        rounded_frag = round(frag, 2)\n",
    "        # Use numpy to find the index of the rounded_frag in the mz arrays\n",
    "        idx_m1 = np.where(np.isclose(motif1_mz, rounded_frag, atol=1e-2))[0]\n",
    "        idx_m2 = np.where(np.isclose(motif2_mz, rounded_frag, atol=1e-2))[0]\n",
    "        # Ensure valid indices are found\n",
    "        if idx_m1.size > 0 and idx_m2.size > 0:\n",
    "            norm_intensity_m1 = norm_motif1_intensities[idx_m1[0]]\n",
    "            norm_intensity_m2 = norm_motif2_intensities[idx_m2[0]]\n",
    "            intensity_suspect = intensities[mass_to_charge.tolist().index(frag)]\n",
    "            # Plot the overlapping fragments\n",
    "            plot_overlap(ax1, frag, intensity_suspect, norm_intensity_m1, norm_intensity_m2, colors=(\"purple\", \"green\"))\n",
    "# Determine the top 7 fragments based on intensity\n",
    "top_fragments = sorted(\n",
    "    [(frag, rounded_frag, intensities[mass_to_charge.tolist().index(frag)]) for frag, rounded_frag in labels.items()],\n",
    "    key=lambda x: x[2],  # Sort by intensity\n",
    "    reverse=True  # Descending order\n",
    ")[:8]  # Take the top 7\n",
    "# Add labels for the top 7 fragments\n",
    "for frag, rounded_frag, intensity in top_fragments:\n",
    "    if round(frag, 2) == 213.16:\n",
    "         ax1.text(frag, intensity + 0.04, f\"{rounded_frag}\", ha='center', va='bottom', fontsize=12)\n",
    "    else:\n",
    "        ax1.text(frag, intensity + 0.02, f\"{rounded_frag}\", ha='center', va='bottom', fontsize=12)\n",
    "ax1.legend(handles=[suspect, one, two], fontsize=14)  # Adjust the size as needed\n",
    "# Customize plot appearance\n",
    "ax1.set_ylim(0, 1)\n",
    "ax1.set_xlim(0,)\n",
    "ax1.set_xlabel('m/z', fontsize=12)\n",
    "ax1.set_ylabel('Intensity', fontsize=12)\n",
    "ax1.spines['right'].set_visible(False)\n",
    "ax1.spines['top'].set_visible(False)\n",
    "ax1.spines['left'].set_color('black')\n",
    "ax1.spines['bottom'].set_color('black')\n",
    "ax1.spines['left'].set_linewidth(1.5)\n",
    "ax1.spines['bottom'].set_linewidth(1.5)\n",
    "# Show the plot\n",
    "plt.subplots_adjust(top=0.95)\n",
    "#plt.savefig(\"suspect_10396.png\", dpi=600)\n",
    "plt.show()\n"
   ]
  },
  {
   "cell_type": "markdown",
   "metadata": {},
   "source": [
    "## Now we will find the ergostane spectra - motif family"
   ]
  },
  {
   "cell_type": "code",
   "execution_count": 35,
   "metadata": {},
   "outputs": [
    {
     "name": "stdout",
     "output_type": "stream",
     "text": [
      "185\n"
     ]
    }
   ],
   "source": [
    "for index, i in enumerate(motif_spectra_200):\n",
    "    if i.metadata[\"id\"] == \"motif_173\":\n",
    "        print(index)"
   ]
  },
  {
   "cell_type": "code",
   "execution_count": 36,
   "metadata": {},
   "outputs": [
    {
     "name": "stdout",
     "output_type": "stream",
     "text": [
      "169\n"
     ]
    }
   ],
   "source": [
    "for index, i in enumerate(motif_spectra_200):\n",
    "    if i.metadata[\"id\"] == \"motif_21\":\n",
    "        print(index)"
   ]
  },
  {
   "cell_type": "code",
   "execution_count": 37,
   "metadata": {},
   "outputs": [
    {
     "name": "stdout",
     "output_type": "stream",
     "text": [
      "[57.0707, 83.0861, 125.1326, 207.1166, 221.1326, 223.1478, 235.1475, 249.1623, 251.1788, 311.2363, 377.3203, 395.3306]\n",
      "[91.0547, 93.0702, 95.086, 105.0703, 107.0858, 109.1013, 115.0545, 117.0702, 119.086, 123.1173, 128.0621, 129.07, 131.0859, 141.0699, 142.0773, 143.0854, 145.1012, 153.0693, 155.0851, 156.0933, 159.1171, 165.0699, 167.0857, 169.1013, 171.1167, 185.1322, 199.1476, 211.1484, 225.1643]\n",
      "[55.0551, 69.0706, 157.1011, 179.0857, 181.1013, 183.1163, 195.1171, 197.1331, 209.1322]\n"
     ]
    },
    {
     "data": {
      "image/png": "[encoded data removed]",
      "text/plain": [
       "<Figure size 1000x600 with 1 Axes>"
      ]
     },
     "metadata": {
      "needs_background": "light"
     },
     "output_type": "display_data"
    }
   ],
   "source": [
    "import matplotlib.pyplot as plt\n",
    "import numpy as np\n",
    "\n",
    "def plot_overlap(ax, frag, intensity_suspect, norm_intensity_m1, norm_intensity_m2, colors=(\"purple\", \"yellow\")):\n",
    "    \"\"\"\n",
    "    Plots overlapping fragments with proportional scaling based on normalized intensity ratios.\n",
    "    frag: The m/z value of the fragment\n",
    "    intensity_suspect: Intensity in the suspect spectrum\n",
    "    norm_intensity_m1, norm_intensity_m2: Normalized intensities in motif1 and motif2\n",
    "    \"\"\"\n",
    "    # Determine the larger and smaller normalized intensity\n",
    "    if norm_intensity_m1 >= norm_intensity_m2:\n",
    "        larger_intensity, smaller_intensity = norm_intensity_m1, norm_intensity_m2\n",
    "        larger_color, smaller_color = colors[0], colors[1]\n",
    "    else:\n",
    "        larger_intensity, smaller_intensity = norm_intensity_m2, norm_intensity_m1\n",
    "        larger_color, smaller_color = colors[1], colors[0]\n",
    "    # Calculate the scaling ratio for the smaller fragment\n",
    "    scaling_ratio = smaller_intensity / larger_intensity\n",
    "    # Plot the larger fragment\n",
    "    ax.plot([frag, frag], [0, intensity_suspect], color=larger_color, linewidth=1.5)\n",
    "    # Plot the smaller fragment proportionally on top of the larger one\n",
    "    scaled_height = intensity_suspect * scaling_ratio\n",
    "    ax.plot([frag, frag], [0, scaled_height], color=smaller_color, linewidth=1.5)\n",
    "# Perform overlap check\n",
    "n = 2064 # spectra\n",
    "mass_to_charge = cleaned_spectra[n].peaks.mz\n",
    "intensities = cleaned_spectra[n].peaks.intensities / max(cleaned_spectra[n].peaks.intensities)\n",
    "# Normalize motif1 and motif2 intensities\n",
    "motif1_mz = motif_spectra_200[185].peaks.mz #172 is motif 163\n",
    "motif1_intensities = motif_spectra_200[185].peaks.intensities\n",
    "norm_motif1_intensities = motif1_intensities / max(motif1_intensities)\n",
    "motif2_mz = motif_spectra_200[169].peaks.mz #motif 90\n",
    "motif2_intensities = motif_spectra_200[169].peaks.intensities\n",
    "norm_motif2_intensities = motif2_intensities / max(motif2_intensities)\n",
    "# Identify overlapping fragments\n",
    "green_frags, green_intens, blue_frags, blue_intens, zebra_frags, zebra_intens, labels = check_overlap(\n",
    "    cleaned_spectra[n], intensities, motif_spectra_200[185], motif_spectra_200[169])\n",
    "# Create plot\n",
    "fig = plt.figure(figsize=(10, 6), facecolor='none', edgecolor='none')\n",
    "ax1 = fig.add_subplot(2, 1, 2)\n",
    "suspect = ax1.stem(mass_to_charge, intensities, basefmt=\"k-\", markerfmt=\"\", linefmt=\"black\", label=\"Ergosta-5,7,9(11),22-tetraen-3β-ol\")\n",
    "# Plot normal lines for motif1 and motif2\n",
    "if green_frags:\n",
    "    one = ax1.stem(green_frags, green_intens, basefmt=\"k-\", markerfmt=\"\", linefmt=\"purple\", label=\"m2m_173\")\n",
    "if blue_frags:\n",
    "    two = ax1.stem(blue_frags, blue_intens, basefmt=\"k-\", markerfmt=\"\", linefmt=\"yellow\", label=\"m2m_21\")\n",
    "else:\n",
    "    two = ax1.stem([0],[0], basefmt=\"k-\", markerfmt=\"\", linefmt=\"yellow\", label=\"m2m_21\")\n",
    "# Plot overlapping fragments with proportional scaling\n",
    "if zebra_frags:\n",
    "    for frag in zebra_frags:\n",
    "        # Get normalized intensities for the fragment in motif1 and motif2\n",
    "        rounded_frag = round(frag, 2)\n",
    "        # Use numpy to find the index of the rounded_frag in the mz arrays\n",
    "        idx_m1 = np.where(np.isclose(motif1_mz, rounded_frag, atol=1e-2))[0]\n",
    "        idx_m2 = np.where(np.isclose(motif2_mz, rounded_frag, atol=1e-2))[0]\n",
    "        # Ensure valid indices are found\n",
    "        if idx_m1.size > 0 and idx_m2.size > 0:\n",
    "            norm_intensity_m1 = norm_motif1_intensities[idx_m1[0]]\n",
    "            norm_intensity_m2 = norm_motif2_intensities[idx_m2[0]]\n",
    "            intensity_suspect = intensities[mass_to_charge.tolist().index(frag)]\n",
    "            # Plot the overlapping fragments\n",
    "            plot_overlap(ax1, frag, intensity_suspect, norm_intensity_m1, norm_intensity_m2, colors=(\"purple\", \"yellow\"))\n",
    "# Determine the top 7 fragments based on intensity\n",
    "top_fragments = sorted(\n",
    "    [(frag, rounded_frag, intensities[mass_to_charge.tolist().index(frag)]) for frag, rounded_frag in labels.items()],\n",
    "    key=lambda x: x[2],  # Sort by intensity\n",
    "    reverse=True  # Descending order\n",
    ")[:8]  # Take the top 7\n",
    "# Add labels for the top 7 fragments\n",
    "for frag, rounded_frag, intensity in top_fragments:\n",
    "    if round(frag, 2) == 213.16:\n",
    "         ax1.text(frag, intensity + 0.04, f\"{rounded_frag}\", ha='center', va='bottom', fontsize=12)\n",
    "    else:\n",
    "        ax1.text(frag, intensity + 0.02, f\"{rounded_frag}\", ha='center', va='bottom', fontsize=12)\n",
    "ax1.legend(handles=[suspect, one, two], fontsize=14)  # Adjust the size as needed\n",
    "# Customize plot appearance\n",
    "ax1.set_ylim(0, 1)\n",
    "ax1.set_xlim(0,)\n",
    "ax1.set_xlabel('m/z', fontsize=12)\n",
    "ax1.set_ylabel('Intensity', fontsize=12)\n",
    "ax1.spines['right'].set_visible(False)\n",
    "ax1.spines['top'].set_visible(False)\n",
    "ax1.spines['left'].set_color('black')\n",
    "ax1.spines['bottom'].set_color('black')\n",
    "ax1.spines['left'].set_linewidth(1.5)\n",
    "ax1.spines['bottom'].set_linewidth(1.5)\n",
    "# Show the plot\n",
    "plt.subplots_adjust(top=0.95)\n",
    "#plt.savefig(\"suspect_10396.png\", dpi=600)\n",
    "plt.show()\n"
   ]
  },
  {
   "cell_type": "markdown",
   "metadata": {},
   "source": [
    "For Citreoanthrasteroide B (392 m/z)"
   ]
  },
  {
   "cell_type": "code",
   "execution_count": 38,
   "metadata": {},
   "outputs": [
    {
     "name": "stdout",
     "output_type": "stream",
     "text": [
      "185\n"
     ]
    }
   ],
   "source": [
    "for index, i in enumerate(motif_spectra_200):\n",
    "    if i.metadata[\"id\"] == \"motif_173\":\n",
    "        print(index)"
   ]
  },
  {
   "cell_type": "code",
   "execution_count": 39,
   "metadata": {},
   "outputs": [
    {
     "name": "stdout",
     "output_type": "stream",
     "text": [
      "[]\n",
      "[55.055, 57.0706, 69.0705, 83.0861, 125.1324, 157.1012, 179.0857, 181.1012, 183.1169, 195.117, 197.1318, 207.1169, 209.1322, 221.1318, 223.1487, 235.1467, 249.1642, 251.1795, 253.1564, 267.1739, 309.2207, 375.3044, 393.3123]\n"
     ]
    },
    {
     "data": {
      "image/png": "[encoded data removed]",
      "text/plain": [
       "<Figure size 1000x600 with 1 Axes>"
      ]
     },
     "metadata": {
      "needs_background": "light"
     },
     "output_type": "display_data"
    }
   ],
   "source": [
    "import matplotlib.pyplot as plt\n",
    "import numpy as np\n",
    "\n",
    "def plot_overlap(ax, frag, intensity_suspect, norm_intensity_m1, color=\"lightgreen\"):\n",
    "    \"\"\"\n",
    "    Plots overlapping fragments with proportional scaling based on normalized intensity ratios.\n",
    "    frag: The m/z value of the fragment\n",
    "    intensity_suspect: Intensity in the suspect spectrum\n",
    "    norm_intensity_m1: Normalized intensity in motif1\n",
    "    \"\"\"\n",
    "    # Plot the fragment\n",
    "    scaled_height = intensity_suspect * norm_intensity_m1\n",
    "    ax.plot([frag, frag], [0, scaled_height], color=color, linewidth=1.5)\n",
    "\n",
    "# Perform overlap check\n",
    "n = 1859  # erinacerin spectra\n",
    "mass_to_charge = cleaned_spectra[n].peaks.mz\n",
    "intensities = cleaned_spectra[n].peaks.intensities / max(cleaned_spectra[n].peaks.intensities)\n",
    "\n",
    "# Normalize motif1 intensities\n",
    "motif1_mz = motif_spectra_200[185].peaks.mz  #motif_108\n",
    "motif1_intensities = motif_spectra_200[185].peaks.intensities\n",
    "norm_motif1_intensities = motif1_intensities / max(motif1_intensities)\n",
    "\n",
    "# Identify overlapping fragments\n",
    "green_frags, green_intens, zebra_frags, zebra_intens, labels = check_overlap_1motif(\n",
    "    cleaned_spectra[n], intensities, motif_spectra_200[185])\n",
    "\n",
    "# Create plot\n",
    "fig = plt.figure(figsize=(10, 6), facecolor='none', edgecolor='none')\n",
    "ax1 = fig.add_subplot(2, 1, 1)\n",
    "\n",
    "# Plot suspect spectrum\n",
    "suspect = ax1.stem(mass_to_charge, intensities, basefmt=\"k-\", markerfmt=\"\", linefmt=\"black\", label=\"Citreoanthrasteroide B\")\n",
    "\n",
    "# Plot green fragments (motif1)\n",
    "if green_frags:\n",
    "    one = ax1.stem(green_frags, green_intens, basefmt=\"k-\", markerfmt=\"\", linefmt=\"purple\", label=\"m2m_173\")\n",
    "else:\n",
    "    one = ax1.stem([0], [0], basefmt=\"k-\", markerfmt=\"\", linefmt=\"purple\", label=\"m2m_173\")\n",
    "\n",
    "# Plot overlapping fragments with proportional scaling (zebra fragments for motif1 only)\n",
    "if zebra_frags:\n",
    "    for frag in zebra_frags:\n",
    "        # Get normalized intensity for the fragment in motif1\n",
    "        rounded_frag = round(frag, 2)\n",
    "        idx_m1 = np.where(np.isclose(motif1_mz, rounded_frag, atol=1e-2))[0]\n",
    "        if idx_m1.size > 0:\n",
    "            norm_intensity_m1 = norm_motif1_intensities[idx_m1[0]]\n",
    "            intensity_suspect = intensities[mass_to_charge.tolist().index(frag)]\n",
    "            plot_overlap(ax1, frag, intensity_suspect, norm_intensity_m1, color=\"purple\")\n",
    "\n",
    "# Determine the top 7 fragments based on intensity\n",
    "top_fragments = sorted(\n",
    "    [(frag, rounded_frag, intensities[mass_to_charge.tolist().index(frag)]) for frag, rounded_frag in labels.items()],\n",
    "    key=lambda x: x[2],  # Sort by intensity\n",
    "    reverse=True  # Descending order\n",
    ")[:8]  # Take the top 7\n",
    "\n",
    "# Add labels for the top 7 fragments\n",
    "for frag, rounded_frag, intensity in top_fragments:\n",
    "    ax1.text(frag, intensity + 0.02, f\"{rounded_frag}\", ha='center', va='bottom', fontsize=12)\n",
    "\n",
    "# Customize plot appearance\n",
    "ax1.legend(handles=[suspect, one], fontsize=14)  # Adjust the size as needed\n",
    "ax1.set_ylim(0, 1)\n",
    "ax1.set_xlim(0,)\n",
    "ax1.set_xlabel('m/z', fontsize=12)\n",
    "ax1.set_ylabel('Intensity', fontsize=12)\n",
    "ax1.spines['right'].set_visible(False)\n",
    "ax1.spines['top'].set_visible(False)\n",
    "ax1.spines['left'].set_color('black')\n",
    "ax1.spines['bottom'].set_color('black')\n",
    "ax1.spines['left'].set_linewidth(1.5)\n",
    "ax1.spines['bottom'].set_linewidth(1.5)\n",
    "\n",
    "# Show the plot\n",
    "plt.subplots_adjust(top=0.95)\n",
    "# plt.savefig(\"suspect_10396.png\", dpi=600)\n",
    "plt.show()\n"
   ]
  },
  {
   "cell_type": "markdown",
   "metadata": {},
   "source": [
    "Now for Ergost-3,5,7,9(11),22-pentaen"
   ]
  },
  {
   "cell_type": "code",
   "execution_count": 40,
   "metadata": {},
   "outputs": [
    {
     "name": "stdout",
     "output_type": "stream",
     "text": [
      "38\n"
     ]
    }
   ],
   "source": [
    "for index, i in enumerate(motif_spectra_200):\n",
    "    if i.metadata[\"id\"] == \"motif_193\":\n",
    "        print(index)"
   ]
  },
  {
   "cell_type": "code",
   "execution_count": 41,
   "metadata": {},
   "outputs": [
    {
     "name": "stdout",
     "output_type": "stream",
     "text": [
      "112\n"
     ]
    }
   ],
   "source": [
    "for index, i in enumerate(motif_spectra_200):\n",
    "    if i.metadata[\"id\"] == \"motif_0\":\n",
    "        print(index)"
   ]
  },
  {
   "cell_type": "code",
   "execution_count": 42,
   "metadata": {},
   "outputs": [
    {
     "name": "stdout",
     "output_type": "stream",
     "text": [
      "169\n"
     ]
    }
   ],
   "source": [
    "for index, i in enumerate(motif_spectra_200):\n",
    "    if i.metadata[\"id\"] == \"motif_21\":\n",
    "        print(index)"
   ]
  },
  {
   "cell_type": "code",
   "execution_count": 43,
   "metadata": {},
   "outputs": [],
   "source": [
    "n=1802"
   ]
  },
  {
   "cell_type": "code",
   "execution_count": 44,
   "metadata": {},
   "outputs": [
    {
     "data": {
      "image/png": "[encoded data removed]",
      "text/plain": [
       "<Figure size 1000x600 with 1 Axes>"
      ]
     },
     "metadata": {
      "needs_background": "light"
     },
     "output_type": "display_data"
    }
   ],
   "source": [
    "import matplotlib.pyplot as plt\n",
    "import numpy as np\n",
    "\n",
    "def check_overlap(spec, intensities, motif1, motif2, motif3):\n",
    "    # Overlapping categories\n",
    "    zebra_frags, zebra_intens = [], []\n",
    "    red_frags, red_intens = [], []\n",
    "    triple_frags, triple_intens = [], []\n",
    "    green_frags, green_intens = [], []\n",
    "    blue_frags, blue_intens = [], []\n",
    "    \n",
    "    labels = {}\n",
    "\n",
    "    for frag, intens in zip(spec.peaks.mz, intensities):\n",
    "        rounded_frag = round(frag, 2)\n",
    "        in_m1 = rounded_frag in motif1.peaks.mz\n",
    "        in_m2 = rounded_frag in motif2.peaks.mz\n",
    "        in_m3 = rounded_frag in motif3.peaks.mz\n",
    "\n",
    "        if in_m1 and in_m2 and in_m3:\n",
    "            triple_frags.append(frag)\n",
    "            triple_intens.append(intens)\n",
    "            labels[frag] = rounded_frag\n",
    "        elif in_m1 and in_m2:\n",
    "            zebra_frags.append(frag)\n",
    "            zebra_intens.append(intens)\n",
    "            labels[frag] = rounded_frag\n",
    "        elif in_m1:\n",
    "            green_frags.append(frag)\n",
    "            green_intens.append(intens)\n",
    "            labels[frag] = rounded_frag\n",
    "        elif in_m2:\n",
    "            blue_frags.append(frag)\n",
    "            blue_intens.append(intens)\n",
    "            labels[frag] = rounded_frag\n",
    "        elif in_m3:\n",
    "            red_frags.append(frag)\n",
    "            red_intens.append(intens)\n",
    "            labels[frag] = rounded_frag\n",
    "\n",
    "    return (green_frags, green_intens, blue_frags, blue_intens, \n",
    "            zebra_frags, zebra_intens, red_frags, red_intens, \n",
    "            triple_frags, triple_intens, labels)\n",
    "\n",
    "\n",
    "def plot_overlap(ax, frag, intensity_suspect, norm_m1, norm_m2, norm_m3, colors=(\"green\", \"darkorange\", \"yellow\")):\n",
    "    intensities = [norm_m1, norm_m2, norm_m3]\n",
    "    sorted_indices = sorted(range(3), key=lambda i: intensities[i], reverse=True)\n",
    "\n",
    "    larger_color, mid_color, smaller_color = [colors[i] for i in sorted_indices]\n",
    "    larger_intensity, mid_intensity, smaller_intensity = [intensities[i] for i in sorted_indices]\n",
    "\n",
    "    ax.plot([frag, frag], [0, intensity_suspect], color=larger_color, linewidth=1.5)\n",
    "    \n",
    "    if mid_intensity > 0:\n",
    "        ax.plot([frag, frag], [0, intensity_suspect * (mid_intensity / larger_intensity)], color=mid_color, linewidth=1.5)\n",
    "    \n",
    "    if smaller_intensity > 0:\n",
    "        ax.plot([frag, frag], [0, intensity_suspect * (smaller_intensity / larger_intensity)], color=smaller_color, linewidth=1.5)\n",
    "\n",
    "\n",
    "# Assign suspect spectrum and motifs\n",
    "n = 1802\n",
    "mass_to_charge = cleaned_spectra[n].peaks.mz\n",
    "intensities = cleaned_spectra[n].peaks.intensities / max(cleaned_spectra[n].peaks.intensities)\n",
    "\n",
    "motif1, motif2, motif3 = motif_spectra_200[38], motif_spectra_200[112], motif_spectra_200[169]\n",
    "motif1_mz, motif1_intensities = motif1.peaks.mz, motif1.peaks.intensities\n",
    "motif2_mz, motif2_intensities = motif2.peaks.mz, motif2.peaks.intensities\n",
    "motif3_mz, motif3_intensities = motif3.peaks.mz, motif3.peaks.intensities\n",
    "\n",
    "norm_motif1_intensities = motif1_intensities / max(motif1_intensities)\n",
    "norm_motif2_intensities = motif2_intensities / max(motif2_intensities)\n",
    "norm_motif3_intensities = motif3_intensities / max(motif3_intensities)\n",
    "\n",
    "# Identify overlapping fragments\n",
    "(green_frags, green_intens, blue_frags, blue_intens, \n",
    " zebra_frags, zebra_intens, red_frags, red_intens, \n",
    " triple_frags, triple_intens, labels) = check_overlap(\n",
    "    cleaned_spectra[n], intensities, motif1, motif2, motif3\n",
    ")\n",
    "\n",
    "# Create figure\n",
    "fig = plt.figure(figsize=(10, 6), facecolor='none', edgecolor='none')\n",
    "ax1 = fig.add_subplot(2, 1, 2)\n",
    "\n",
    "# Plot suspect spectrum\n",
    "suspect = ax1.stem(mass_to_charge, intensities, basefmt=\"k-\", markerfmt=\"\", linefmt=\"black\", label=\"Ergost-3,5,7,9(11),22-pentaen\")\n",
    "# Annotate peaks\n",
    "# Annotate the top 10 peaks\n",
    "top_peaks = sorted(zip(mass_to_charge, intensities), key=lambda x: x[1], reverse=True)[:10]\n",
    "\n",
    "for frag, inten in top_peaks:\n",
    "    # Get the intensity of the suspect spectrum for this fragment\n",
    "    intensity_suspect = intensities[mass_to_charge.tolist().index(frag)]\n",
    "    ax1.text(frag, intensity_suspect + 0.02,  # Offset for visibility\n",
    "             str(round(frag, 2)), fontsize=10, ha='center', color='black')\n",
    "\n",
    "\n",
    "\n",
    "# Plot individual motif matches\n",
    "one = ax1.stem(green_frags, green_intens, basefmt=\"k-\", markerfmt=\"\", linefmt=\"green\", label=\"m2m_193\") if green_frags else None\n",
    "two = ax1.stem(blue_frags, blue_intens, basefmt=\"k-\", markerfmt=\"\", linefmt=\"darkorange\", label=\"m2m_0\") if blue_frags else None\n",
    "three = ax1.stem(red_frags, red_intens, basefmt=\"k-\", markerfmt=\"\", linefmt=\"yellow\", label=\"m2m_21\") if red_frags else ax1.stem([0], [0], basefmt=\"k-\", markerfmt=\"\", linefmt=\"red\", label=\"m2m_75\")\n",
    "\n",
    "# Plot overlapping fragments\n",
    "for frag in zebra_frags + triple_frags:\n",
    "    rounded_frag = round(frag, 2)\n",
    "    idx_m1 = np.where(np.isclose(motif1_mz, rounded_frag, atol=1e-2))[0]\n",
    "    idx_m2 = np.where(np.isclose(motif2_mz, rounded_frag, atol=1e-2))[0]\n",
    "    idx_m3 = np.where(np.isclose(motif3_mz, rounded_frag, atol=1e-2))[0]\n",
    "\n",
    "    if idx_m1.size > 0 and idx_m2.size > 0 and idx_m3.size > 0:\n",
    "        norm_intensity_m1 = norm_motif1_intensities[idx_m1[0]]\n",
    "        norm_intensity_m2 = norm_motif2_intensities[idx_m2[0]]\n",
    "        norm_intensity_m3 = norm_motif3_intensities[idx_m3[0]]\n",
    "        intensity_suspect = intensities[mass_to_charge.tolist().index(frag)]\n",
    "        plot_overlap(ax1, frag, intensity_suspect, norm_intensity_m1, norm_intensity_m2, norm_intensity_m3)\n",
    "\n",
    "# Set plot properties\n",
    "legend_handles = [h for h in [suspect, one, two, three] if h is not None]\n",
    "if legend_handles:  # Only add legend if there are valid handles\n",
    "    ax1.legend(handles=legend_handles, fontsize=14)\n",
    "ax1.set_ylim(0, 1)\n",
    "ax1.set_xlabel('m/z', fontsize=12)\n",
    "ax1.set_ylabel('Intensity', fontsize=12)\n",
    "ax1.spines[['right', 'top']].set_visible(False)\n",
    "\n",
    "plt.show()\n"
   ]
  },
  {
   "cell_type": "code",
   "execution_count": null,
   "metadata": {},
   "outputs": [],
   "source": []
  }
 ],
 "metadata": {
  "kernelspec": {
   "display_name": "MS2LDA_v2_1",
   "language": "python",
   "name": "python3"
  },
  "language_info": {
   "codemirror_mode": {
    "name": "ipython",
    "version": 3
   },
   "file_extension": ".py",
   "mimetype": "text/x-python",
   "name": "python",
   "nbconvert_exporter": "python",
   "pygments_lexer": "ipython3",
   "version": "3.11.11"
  }
 },
 "nbformat": 4,
 "nbformat_minor": 2
}
