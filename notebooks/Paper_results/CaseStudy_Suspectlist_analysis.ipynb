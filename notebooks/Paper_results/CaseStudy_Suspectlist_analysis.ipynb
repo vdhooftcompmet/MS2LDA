{
 "cells": [
  {
   "cell_type": "code",
   "execution_count": 58,
   "id": "05a696c2-af3f-4ba4-ba11-59f70db9537c",
   "metadata": {},
   "outputs": [],
   "source": [
    "import re\n",
    "import pickle\n",
    "import tomotopy as tp\n",
    "\n",
    "from rdkit.Chem.inchi import MolFromInchi\n",
    "from rdkit.Chem import MolToSmiles\n",
    "\n",
    "from MS2LDA.utils import retrieve_spec4doc\n",
    "from MS2LDA.modeling import extract_motifs, create_motif_spectra\n",
    "from MS2LDA.motif_parser import load_m2m_folder\n",
    "\n",
    "from MS2LDA.Add_On.Fingerprints.FP_annotation import annotate_motifs as calc_fingerprints"
   ]
  },
  {
   "cell_type": "code",
   "execution_count": 42,
   "id": "30689d2d-fea2-4041-a427-0bce8b593cfa",
   "metadata": {},
   "outputs": [],
   "source": [
    "motif_features = extract_motifs(ms2lda, top_n=20)"
   ]
  },
  {
   "cell_type": "code",
   "execution_count": 43,
   "id": "c3a7128c-e128-4ab5-8238-30b408cca05e",
   "metadata": {},
   "outputs": [],
   "source": [
    "motif_spectra = create_motif_spectra(motif_features)"
   ]
  },
  {
   "cell_type": "markdown",
   "id": "9d159fda-f27a-49ab-b41b-edb317a17820",
   "metadata": {},
   "source": [
    "normally I could just load the m2m folder, but there was a bug in the code that overwrote the motif_id. If only 20 paramters are selected, some Mass2Motifs consist only of losses and they can be valuable but with the current spec2vec this is not possible to predict them. Also a Mass2Motif object should then be used instead of the current spectrum object. Right now, these motifs are removed and therefore instead of 2000 Mass2Motifs only 1951 Mass2Motifs are returned. By enumerating over the Mass2Motifs and giving them a new id (this was the bug), the information Mass2Motif id information is lost in the m2m files. <br>\n",
    "As long as the ms2lda.bin file is available all data can be correctly retrieved."
   ]
  },
  {
   "cell_type": "markdown",
   "id": "e8bfc7f7-e7a7-4f9f-8b91-485fc4852ae5",
   "metadata": {},
   "source": [
    "---"
   ]
  },
  {
   "cell_type": "code",
   "execution_count": 7,
   "id": "d2fa9d7b-4224-441e-a637-3f2227cbf113",
   "metadata": {},
   "outputs": [],
   "source": [
    "with open(\"DDA-Suspectlist-2000motifs/doc2spec_map.pkl\", \"rb\") as f:\n",
    "    doc2spec_map = pickle.load(f)"
   ]
  },
  {
   "cell_type": "code",
   "execution_count": 5,
   "id": "72d8e675-d0a2-405a-a203-09fd41340ba5",
   "metadata": {},
   "outputs": [],
   "source": [
    "ms2lda = tp.LDAModel.load(\"DDA-Suspectlist-2000motifs/ms2lda.bin\")"
   ]
  },
  {
   "cell_type": "code",
   "execution_count": 6,
   "id": "59296a8c-8648-4ad5-94c7-4fcb63926b4a",
   "metadata": {},
   "outputs": [
    {
     "name": "stdout",
     "output_type": "stream",
     "text": [
      "Help on function retrieve_spec4doc in module MS2LDA.utils:\n",
      "\n",
      "retrieve_spec4doc(doc2spec_map, ms2lda, doc_id)\n",
      "    Retrieves the orginal spectrum for a given document based on a hashmap\n",
      "    \n",
      "    ARGS:\n",
      "        doc2spec_map (dict): hash-spectrum pairs\n",
      "        ms2lda (tomotopy object): LDA model\n",
      "        doc_id (int): id of document\n",
      "    \n",
      "    RETURNS:\n",
      "        retrieved_spec: matchms spectrum object\n",
      "\n"
     ]
    }
   ],
   "source": [
    "help(retrieve_spec4doc)"
   ]
  },
  {
   "cell_type": "code",
   "execution_count": 20,
   "id": "897a6582-4767-4115-8f81-1742cb3cb6ee",
   "metadata": {},
   "outputs": [
    {
     "name": "stdout",
     "output_type": "stream",
     "text": [
      "Number of spectra used for modeling MS2LDA:  85898\n"
     ]
    }
   ],
   "source": [
    "n_docs = len(ms2lda.docs)\n",
    "print(\"Number of spectra used for modeling MS2LDA: \", n_docs)"
   ]
  },
  {
   "cell_type": "code",
   "execution_count": 61,
   "id": "a26112e4-349d-4e43-9643-f9296bb17437",
   "metadata": {},
   "outputs": [],
   "source": [
    "def calc_tanimoto(fp1, fp2):\n",
    "    fp1 = np.asarray(fp1, dtype=bool)\n",
    "    fp2 = np.asarray(fp2, dtype=bool)\n",
    "\n",
    "    intersection = np.logical_and(fp1, fp2).sum()\n",
    "    union = np.logical_or(fp1, fp2).sum()\n",
    "\n",
    "    return intersection / union"
   ]
  },
  {
   "cell_type": "code",
   "execution_count": 62,
   "id": "4dfb6de3-b305-4def-b4f4-dd9348c5e2bb",
   "metadata": {},
   "outputs": [],
   "source": [
    "def inchi2smiles(inchi):\n",
    "    # get only inchi code\n",
    "    inchi = re.search(r'\\\"\\\"\\\"(.*)\\\"\\\"', inchi).group(0)\n",
    "    mol = MolFromInchi(inchi)\n",
    "    if mol:\n",
    "        smiles = MolToSmiles(mol)\n",
    "        return smiles\n",
    "    else:\n",
    "        return None"
   ]
  },
  {
   "cell_type": "code",
   "execution_count": 55,
   "id": "f32f7023-2731-45ef-b15a-996790a76807",
   "metadata": {},
   "outputs": [
    {
     "name": "stdout",
     "output_type": "stream",
     "text": [
      "{'charge': 1, 'ionmode': 'positive', 'inchi': '\"\"\"InChI=1S/C26H43NO5/c1-15(4-9-23(30)27-14-24(31)32)19-7-8-20-18-6-5-16-12-17(28)10-11-25(16,2)21(18)13-22(29)26(19,20)3/h15-22,28-29H,4-14H2,1-3H3,(H,27,30)(H,31,32)/t15-,16-,17-,18+,19-,20+,21+,22-,25+,26-/m1/s1\"\" - 273.282 Da\"', 'scans': '1', 'ms_level': '2', 'instrument_type': 'ESI-qTof', 'file_name': 'suspect_list_batch_creation.mgf', 'peptide_sequence': '*..*', 'organism_name': 'GNPS-SUSPECTLIST', 'compound_name': '\"Suspect related to \"\"((4R)-4-((3R,5R,9S,10S,12R,13R,14S,17R)-3,12-dihydroxy-10,13-dimethylhexadecahydro-1H-cyclopenta[a]phenanthren-17-yl)pentanoyl)glycine\"\" (predicted molecular formula SIRIUS: unknown / BUDDY: unknown) with delta m/z -273.282 (putative explanation: unspecified; atomic difference: unspecified)', 'principal_investigator': 'Pieter Dorrestein', 'data_collector': 'Wout Bittremieux', 'submit_user': 'jzemlin', 'confidence': '4', 'spectrum_id': 'CCMSLIB00012079748', 'precursor_mz': 626.351, 'adduct': '[2M+H]+\"', 'retention_index': None, 'retention_time': None, 'id': 'spec_0'}\n",
      "\n",
      "{'charge': 1, 'ionmode': 'positive', 'inchi': '\"\"\"InChI=1S/C26H43NO5/c1-15(4-9-23(30)27-14-24(31)32)19-7-8-20-18-6-5-16-12-17(28)10-11-25(16,2)21(18)13-22(29)26(19,20)3/h15-22,28-29H,4-14H2,1-3H3,(H,27,30)(H,31,32)/t15-,16-,17-,18+,19-,20+,21+,22-,25+,26-/m1/s1\"\" + 26.016 Da\"', 'scans': '2', 'ms_level': '2', 'instrument_type': 'ESI-qTof', 'file_name': 'suspect_list_batch_creation.mgf', 'peptide_sequence': '*..*', 'organism_name': 'GNPS-SUSPECTLIST', 'compound_name': '\"Suspect related to \"\"((4R)-4-((3R,5R,9S,10S,12R,13R,14S,17R)-3,12-dihydroxy-10,13-dimethylhexadecahydro-1H-cyclopenta[a]phenanthren-17-yl)pentanoyl)glycine\"\" (predicted molecular formula SIRIUS: C24H41N7O3 / BUDDY: C28H45NO5) with delta m/z 26.016 (putative explanation: Acetaldehyde +26|Ala->Pro substitution|unspecified; atomic difference: 2C,2H|2C,2H|2C,2H)', 'principal_investigator': 'Pieter Dorrestein', 'data_collector': 'Wout Bittremieux', 'submit_user': 'jzemlin', 'confidence': '4', 'spectrum_id': 'CCMSLIB00012079749', 'precursor_mz': 476.337, 'adduct': '[M+H]+\"', 'retention_index': None, 'retention_time': None, 'id': 'spec_1'}\n",
      "\n",
      "{'charge': 1, 'ionmode': 'positive', 'inchi': '\"\"\"InChI=1S/C28H45NO7/c1-15(4-7-23(32)29-21(26(35)36)14-24(33)34)18-5-6-19-25-20(9-11-28(18,19)3)27(2)10-8-17(30)12-16(27)13-22(25)31/h15-22,25,30-31H,4-14H2,1-3H3,(H,29,32)(H,33,34)(H,35,36)/t15-,16+,17-,18-,19+,20+,21?,22-,25+,27+,28-/m1/s1\"\" - 1.942 Da\"', 'scans': '23055', 'ms_level': '2', 'instrument_type': 'ESI-qTof', 'file_name': 'suspect_list_batch_creation.mgf', 'peptide_sequence': '*..*', 'organism_name': 'GNPS-SUSPECTLIST', 'compound_name': 'Suspect related to Aspartate conjugated chenodeoxycholic acid (predicted molecular formula SIRIUS: C26H47N7O3 / BUDDY: C30H51NO5) with delta m/z -1.942 (putative explanation: Asp->Leu/Ile substitution; atomic difference: 2C,6H,-2O)', 'principal_investigator': 'Pieter Dorrestein', 'data_collector': 'Wout Bittremieux', 'submit_user': 'jzemlin', 'confidence': '4', 'spectrum_id': 'CCMSLIB00012102802', 'precursor_mz': 506.386, 'adduct': '[M+H]+', 'retention_index': None, 'retention_time': None, 'id': 'spec_22729'}\n",
      "\n",
      "{'charge': 1, 'ionmode': 'positive', 'inchi': '\"\"\"InChI=1S/C33H49NO5/c1-20(9-12-29(37)34-27(31(38)39)17-21-7-5-4-6-8-21)24-10-11-25-30-26(14-16-33(24,25)3)32(2)15-13-23(35)18-22(32)19-28(30)36/h4-8,20,22-28,30,35-36H,9-19H2,1-3H3,(H,34,37)(H,38,39)/t20-,22+,23-,24-,25+,26+,27+,28-,30+,32+,33-/m1/s1\"\" + 14.016 Da\"', 'scans': '4', 'ms_level': '2', 'instrument_type': 'ESI-qTof', 'file_name': 'suspect_list_batch_creation.mgf', 'peptide_sequence': '*..*', 'organism_name': 'GNPS-SUSPECTLIST', 'compound_name': '\"Suspect related to \"\"((4R)-4-((3R,5S,7R,9S,10S,13R,14S,17R)-3,7-dihydroxy-10,13-dimethylhexadecahydro-1H-cyclopenta[a]phenanthren-17-yl)pentanoyl)-L-phenylalanine\"\" (predicted molecular formula SIRIUS: C30H47N7O3 / BUDDY: C34H51NO5) with delta m/z 14.016 (putative explanation: Asn->Gln substitution|Asp->Glu substitution|Gly->Ala substitution|Methylation|Ser->Thr substitution|Val->Leu/Ile substitution|chain elongation; atomic difference: 1C,2H|1C,2H|1C,2H|1C,2H|1C,2H|1C,2H|1C,2H)', 'principal_investigator': 'Pieter Dorrestein', 'data_collector': 'Wout Bittremieux', 'submit_user': 'jzemlin', 'confidence': '4', 'spectrum_id': 'CCMSLIB00012079751', 'precursor_mz': 554.384, 'adduct': '[M+H]+\"', 'retention_index': None, 'retention_time': None, 'id': 'spec_3'}\n",
      "\n",
      "{'charge': 1, 'ionmode': 'positive', 'inchi': '\"\"\"InChI=1S/C33H49NO5/c1-20(9-12-29(37)34-27(31(38)39)17-21-7-5-4-6-8-21)24-10-11-25-30-26(14-16-33(24,25)3)32(2)15-13-23(35)18-22(32)19-28(30)36/h4-8,20,22-28,30,35-36H,9-19H2,1-3H3,(H,34,37)(H,38,39)/t20-,22+,23-,24-,25+,26+,27+,28-,30+,32+,33-/m1/s1\"\" - 33.984 Da\"', 'scans': '5', 'ms_level': '2', 'instrument_type': 'ESI-qTof', 'file_name': 'suspect_list_batch_creation.mgf', 'peptide_sequence': '*..*', 'organism_name': 'GNPS-SUSPECTLIST', 'compound_name': '\"Suspect related to \"\"((4R)-4-((3R,5S,7R,9S,10S,13R,14S,17R)-3,7-dihydroxy-10,13-dimethylhexadecahydro-1H-cyclopenta[a]phenanthren-17-yl)pentanoyl)-L-phenylalanine\"\" (predicted molecular formula SIRIUS: C30H51NO5 / BUDDY: C30H51NO5) with delta m/z -33.984 (putative explanation: Phe->Leu/Ile substitution; atomic difference: -3C,2H)', 'principal_investigator': 'Pieter Dorrestein', 'data_collector': 'Wout Bittremieux', 'submit_user': 'jzemlin', 'confidence': '4', 'spectrum_id': 'CCMSLIB00012079752', 'precursor_mz': 528.366, 'adduct': '[M+Na]+', 'retention_index': None, 'retention_time': None, 'id': 'spec_4'}\n",
      "\n",
      "{'charge': 1, 'ionmode': 'positive', 'inchi': '\"\"\"InChI=1S/C33H49NO5/c1-20(9-12-29(37)34-27(31(38)39)17-21-7-5-4-6-8-21)24-10-11-25-30-26(14-16-33(24,25)3)32(2)15-13-23(35)18-22(32)19-28(30)36/h4-8,20,22-28,30,35-36H,9-19H2,1-3H3,(H,34,37)(H,38,39)/t20-,22+,23-,24-,25+,26+,27+,28-,30+,32+,33-/m1/s1\"\" + 15.995 Da\"', 'scans': '6', 'ms_level': '2', 'instrument_type': 'ESI-qTof', 'file_name': 'suspect_list_batch_creation.mgf', 'peptide_sequence': '*..*', 'organism_name': 'GNPS-SUSPECTLIST', 'compound_name': '\"Suspect related to \"\"((4R)-4-((3R,5S,7R,9S,10S,13R,14S,17R)-3,7-dihydroxy-10,13-dimethylhexadecahydro-1H-cyclopenta[a]phenanthren-17-yl)pentanoyl)-L-phenylalanine\"\" (predicted molecular formula SIRIUS: C29H45N7O4 / BUDDY: C33H49NO6) with delta m/z 15.995 (putative explanation: Ala->Ser substitution|Oxidation or Hydroxylation|Phe->Tyr substitution; atomic difference: 1O|1O|1O)', 'principal_investigator': 'Pieter Dorrestein', 'data_collector': 'Wout Bittremieux', 'submit_user': 'jzemlin', 'confidence': '4', 'spectrum_id': 'CCMSLIB00012079753', 'precursor_mz': 578.346, 'adduct': '[M+Na]+', 'retention_index': None, 'retention_time': None, 'id': 'spec_5'}\n",
      "\n",
      "{'charge': 1, 'ionmode': 'positive', 'inchi': '\"\"\"InChI=1S/C26H41NO6/c1-14(4-7-20(29)27-13-21(30)31)16-5-6-17-22-18(9-11-25(16,17)2)26(3)10-8-15(28)12-19(26)23(32)24(22)33/h4,7,14-19,22-24,28,32-33H,5-6,8-13H2,1-3H3,(H,27,29)(H,30,31)/b7-4+/t14-,15-,16-,17+,18+,19+,22+,23+,24-,25-,26-/m1/s1\"\" + 13.964 Da\"', 'scans': '7', 'ms_level': '2', 'instrument_type': 'ESI-qTof', 'file_name': 'suspect_list_batch_creation.mgf', 'peptide_sequence': '*..*', 'organism_name': 'GNPS-SUSPECTLIST', 'compound_name': '\"Suspect related to \"\"((R)-4-((3R,5R,6S,7R,8S,9S,10R,13R,14S,17R)-3,6,7-trihydroxy-10,13-dimethylhexadecahydro-1H-cyclopenta[a]phenanthren-17-yl)pent-2-enoyl)glycine\"\" (predicted molecular formula SIRIUS: C26H39NO5S / BUDDY: C29H35NO5) with delta m/z 13.964 (putative explanation: unspecified; atomic difference: unspecified)', 'principal_investigator': 'Pieter Dorrestein', 'data_collector': 'Wout Bittremieux', 'submit_user': 'jzemlin', 'confidence': '4', 'spectrum_id': 'CCMSLIB00012079754', 'precursor_mz': 478.261, 'adduct': '[M+H]+\"', 'retention_index': None, 'retention_time': None, 'id': 'spec_6'}\n",
      "\n",
      "{'charge': 1, 'ionmode': 'positive', 'inchi': '\"\"\"InChI=1S/C26H41NO6/c1-14(4-7-20(29)27-13-21(30)31)16-5-6-17-22-18(9-11-25(16,17)2)26(3)10-8-15(28)12-19(26)23(32)24(22)33/h4,7,14-19,22-24,28,32-33H,5-6,8-13H2,1-3H3,(H,27,29)(H,30,31)/b7-4+/t14-,15-,16-,17+,18+,19+,22+,23+,24-,25-,26-/m1/s1\"\" + 16.010 Da\"', 'scans': '8', 'ms_level': '2', 'instrument_type': 'ESI-qTof', 'file_name': 'suspect_list_batch_creation.mgf', 'peptide_sequence': '*..*', 'organism_name': 'GNPS-SUSPECTLIST', 'compound_name': '\"Suspect related to \"\"((R)-4-((3R,5R,6S,7R,8S,9S,10R,13R,14S,17R)-3,6,7-trihydroxy-10,13-dimethylhexadecahydro-1H-cyclopenta[a]phenanthren-17-yl)pent-2-enoyl)glycine\"\" (predicted molecular formula SIRIUS: C30H41NO4 / BUDDY: C30H41NO4) with delta m/z 16.01 (putative explanation: Asp->Met substitution; atomic difference: 1C,4H,-2O,1S)', 'principal_investigator': 'Pieter Dorrestein', 'data_collector': 'Wout Bittremieux', 'submit_user': 'jzemlin', 'confidence': '4', 'spectrum_id': 'CCMSLIB00012079755', 'precursor_mz': 480.315, 'adduct': '[M+H]+\"', 'retention_index': None, 'retention_time': None, 'id': 'spec_7'}\n",
      "\n",
      "{'charge': 1, 'ionmode': 'positive', 'inchi': '\"\"\"InChI=1S/C26H43NO6/c1-14(4-7-22(31)27-13-23(32)33)17-5-6-18-24-19(12-21(30)26(17,18)3)25(2)9-8-16(28)10-15(25)11-20(24)29/h14-21,24,28-30H,4-13H2,1-3H3,(H,27,31)(H,32,33)/t14-,15+,16-,17-,18+,19+,20+,21+,24+,25+,26-/m1/s1\"\" - 2.052 Da\"', 'scans': '9', 'ms_level': '2', 'instrument_type': 'ESI-qTof', 'file_name': 'suspect_list_batch_creation.mgf', 'peptide_sequence': '*..*', 'organism_name': 'GNPS-SUSPECTLIST', 'compound_name': '\"Suspect related to \"\"((R)-4-((3R,5S,7S,8R,9S,10S,12S,13R,14S,17R)-3,7,12-trihydroxy-10,13-dimethylhexadecahydro-1H-cyclopenta[a]phenanthren-17-yl)pentanoyl)glycine\"\" (predicted molecular formula SIRIUS: C22H35N6O5 / BUDDY: C31H33N3O) with delta m/z -2.052 (putative explanation: unspecified; atomic difference: unspecified)', 'principal_investigator': 'Pieter Dorrestein', 'data_collector': 'Wout Bittremieux', 'submit_user': 'jzemlin', 'confidence': '4', 'spectrum_id': 'CCMSLIB00012079756', 'precursor_mz': 464.27, 'adduct': '[M+H]+\"', 'retention_index': None, 'retention_time': None, 'id': 'spec_8'}\n",
      "\n",
      "{'charge': 1, 'ionmode': 'positive', 'inchi': '\"\"\"InChI=1S/C26H43NO6/c1-14(4-7-22(31)27-13-23(32)33)17-5-6-18-24-19(12-21(30)26(17,18)3)25(2)9-8-16(28)10-15(25)11-20(24)29/h14-21,24,28-30H,4-13H2,1-3H3,(H,27,31)(H,32,33)/t14-,15+,16-,17-,18+,19+,20+,21+,24+,25+,26-/m1/s1\"\" + 56.062 Da\"', 'scans': '10', 'ms_level': '2', 'instrument_type': 'ESI-qTof', 'file_name': 'suspect_list_batch_creation.mgf', 'peptide_sequence': '*..*', 'organism_name': 'GNPS-SUSPECTLIST', 'compound_name': '\"Suspect related to \"\"((R)-4-((3R,5S,7S,8R,9S,10S,12S,13R,14S,17R)-3,7,12-trihydroxy-10,13-dimethylhexadecahydro-1H-cyclopenta[a]phenanthren-17-yl)pentanoyl)glycine\"\" (predicted molecular formula SIRIUS: C26H47N7O4 / BUDDY: C30H51NO6) with delta m/z 56.062 (putative explanation: Diethylation, analogous to Dimethylation|Gly->Leu/Ile substitution; atomic difference: 4C,8H|4C,8H)', 'principal_investigator': 'Pieter Dorrestein', 'data_collector': 'Wout Bittremieux', 'submit_user': 'jzemlin', 'confidence': '4', 'spectrum_id': 'CCMSLIB00012079757', 'precursor_mz': 544.358, 'adduct': '[M+Na]+', 'retention_index': None, 'retention_time': None, 'id': 'spec_9'}\n",
      "\n",
      "{'charge': 1, 'ionmode': 'positive', 'inchi': '\"\"\"InChI=1S/C26H43NO6/c1-14(4-7-22(31)27-13-23(32)33)17-5-6-18-24-19(12-21(30)26(17,18)3)25(2)9-8-16(28)10-15(25)11-20(24)29/h14-21,24,28-30H,4-13H2,1-3H3,(H,27,31)(H,32,33)/t14-,15+,16-,17-,18+,19+,20+,21+,24+,25+,26-/m1/s1\"\" - 18.011 Da\"', 'scans': '11', 'ms_level': '2', 'instrument_type': 'ESI-qTof', 'file_name': 'suspect_list_batch_creation.mgf', 'peptide_sequence': '*..*', 'organism_name': 'GNPS-SUSPECTLIST', 'compound_name': '\"Suspect related to \"\"((R)-4-((3R,5S,7S,8R,9S,10S,12S,13R,14S,17R)-3,7,12-trihydroxy-10,13-dimethylhexadecahydro-1H-cyclopenta[a]phenanthren-17-yl)pentanoyl)glycine\"\" (predicted molecular formula SIRIUS: C26H41NO5 / BUDDY: C26H41NO5) with delta m/z -18.011 (putative explanation: Dehydration|Pyro-glu from E|carbodiimide crosslinker; atomic difference: -2H,-1O|-2H,-1O|-2H,-1O)', 'principal_investigator': 'Pieter Dorrestein', 'data_collector': 'Wout Bittremieux', 'submit_user': 'jzemlin', 'confidence': '4', 'spectrum_id': 'CCMSLIB00012079758', 'precursor_mz': 430.294, 'adduct': '[M-H2O+H]+', 'retention_index': None, 'retention_time': None, 'id': 'spec_10'}\n",
      "\n",
      "{'charge': 1, 'ionmode': 'positive', 'inchi': '\"\"\"InChI=1S/C26H43NO6/c1-14(4-7-22(31)27-13-23(32)33)17-5-6-18-24-19(12-21(30)26(17,18)3)25(2)9-8-16(28)10-15(25)11-20(24)29/h14-21,24,28-30H,4-13H2,1-3H3,(H,27,31)(H,32,33)/t14-,15+,16-,17-,18+,19+,20+,21+,24+,25+,26-/m1/s1\"\" - 17.956 Da\"', 'scans': '12', 'ms_level': '2', 'instrument_type': 'ESI-qTof', 'file_name': 'suspect_list_batch_creation.mgf', 'peptide_sequence': '*..*', 'organism_name': 'GNPS-SUSPECTLIST', 'compound_name': '\"Suspect related to \"\"((R)-4-((3R,5S,7S,8R,9S,10S,12S,13R,14S,17R)-3,7,12-trihydroxy-10,13-dimethylhexadecahydro-1H-cyclopenta[a]phenanthren-17-yl)pentanoyl)glycine\"\" (predicted molecular formula SIRIUS: C24H49NO6 / BUDDY: C24H49NO6) with delta m/z -17.956 (putative explanation: Met->Leu/Ile substitution; atomic difference: 1C,2H,-1S)', 'principal_investigator': 'Pieter Dorrestein', 'data_collector': 'Wout Bittremieux', 'submit_user': 'jzemlin', 'confidence': '4', 'spectrum_id': 'CCMSLIB00012079759', 'precursor_mz': 430.354, 'adduct': '[M-H2O+H]+', 'retention_index': None, 'retention_time': None, 'id': 'spec_11'}\n",
      "\n",
      "{'charge': 1, 'ionmode': 'positive', 'inchi': '\"\"\"InChI=1S/C26H43NO6/c1-14(4-7-22(31)27-13-23(32)33)17-5-6-18-24-19(12-21(30)26(17,18)3)25(2)9-8-16(28)10-15(25)11-20(24)29/h14-21,24,28-30H,4-13H2,1-3H3,(H,27,31)(H,32,33)/t14-,15+,16-,17-,18+,19+,20+,21+,24+,25+,26-/m1/s1\"\" + 18.010 Da\"', 'scans': '13', 'ms_level': '2', 'instrument_type': 'ESI-qTof', 'file_name': 'suspect_list_batch_creation.mgf', 'peptide_sequence': '*..*', 'organism_name': 'GNPS-SUSPECTLIST', 'compound_name': '\"Suspect related to \"\"((R)-4-((3R,5S,7S,8R,9S,10S,12S,13R,14S,17R)-3,7,12-trihydroxy-10,13-dimethylhexadecahydro-1H-cyclopenta[a]phenanthren-17-yl)pentanoyl)glycine\"\" (predicted molecular formula SIRIUS: C24H43N4O6 / BUDDY: C26H45NO7) with delta m/z 18.01 (putative explanation: Proline oxidation to 5-hydroxy-2-aminovaleric acid|water; atomic difference: 2H,1O|2H,1O)', 'principal_investigator': 'Pieter Dorrestein', 'data_collector': 'Wout Bittremieux', 'submit_user': 'jzemlin', 'confidence': '4', 'spectrum_id': 'CCMSLIB00012079760', 'precursor_mz': 466.317, 'adduct': '[M-H2O+H]+', 'retention_index': None, 'retention_time': None, 'id': 'spec_12'}\n",
      "\n",
      "{'charge': 1, 'ionmode': 'positive', 'inchi': '\"\"\"InChI=1S/C26H43NO6/c1-14(4-7-22(31)27-13-23(32)33)17-5-6-18-24-19(12-21(30)26(17,18)3)25(2)9-8-16(28)10-15(25)11-20(24)29/h14-21,24,28-30H,4-13H2,1-3H3,(H,27,31)(H,32,33)/t14-,15+,16-,17-,18+,19+,20+,21+,24+,25+,26-/m1/s1\"\" + 18.047 Da\"', 'scans': '14', 'ms_level': '2', 'instrument_type': 'ESI-qTof', 'file_name': 'suspect_list_batch_creation.mgf', 'peptide_sequence': '*..*', 'organism_name': 'GNPS-SUSPECTLIST', 'compound_name': '\"Suspect related to \"\"((R)-4-((3R,5S,7S,8R,9S,10S,12S,13R,14S,17R)-3,7,12-trihydroxy-10,13-dimethylhexadecahydro-1H-cyclopenta[a]phenanthren-17-yl)pentanoyl)glycine\"\" (predicted molecular formula SIRIUS: C29H45N3O3 / BUDDY: C29H45N3O3) with delta m/z 18.047 (putative explanation: unspecified; atomic difference: unspecified)', 'principal_investigator': 'Pieter Dorrestein', 'data_collector': 'Wout Bittremieux', 'submit_user': 'jzemlin', 'confidence': '4', 'spectrum_id': 'CCMSLIB00012079761', 'precursor_mz': 466.344, 'adduct': '[M-H2O+H]+', 'retention_index': None, 'retention_time': None, 'id': 'spec_13'}\n",
      "\n",
      "{'charge': 1, 'ionmode': 'positive', 'inchi': '\"\"\"InChI=1S/C26H43NO6/c1-14(4-7-22(31)27-13-23(32)33)17-5-6-18-24-19(12-21(30)26(17,18)3)25(2)9-8-16(28)10-15(25)11-20(24)29/h14-21,24,28-30H,4-13H2,1-3H3,(H,27,31)(H,32,33)/t14-,15+,16-,17-,18+,19+,20+,21+,24+,25+,26-/m1/s1\"\" + 49.982 Da\"', 'scans': '15', 'ms_level': '2', 'instrument_type': 'ESI-qTof', 'file_name': 'suspect_list_batch_creation.mgf', 'peptide_sequence': '*..*', 'organism_name': 'GNPS-SUSPECTLIST', 'compound_name': '\"Suspect related to \"\"((R)-4-((3R,5S,7S,8R,9S,10S,12S,13R,14S,17R)-3,7,12-trihydroxy-10,13-dimethylhexadecahydro-1H-cyclopenta[a]phenanthren-17-yl)pentanoyl)glycine\"\" (predicted molecular formula SIRIUS: C30H37N5O3 / BUDDY: C30H37N5O3) with delta m/z 49.982 (putative explanation: Leu/Ile->Tyr substitution; atomic difference: 3C,-2H,1O)', 'principal_investigator': 'Pieter Dorrestein', 'data_collector': 'Wout Bittremieux', 'submit_user': 'jzemlin', 'confidence': '4', 'spectrum_id': 'CCMSLIB00012079762', 'precursor_mz': 498.291, 'adduct': '[M-H2O+H]+', 'retention_index': None, 'retention_time': None, 'id': 'spec_14'}\n",
      "\n",
      "{'charge': 1, 'ionmode': 'positive', 'inchi': '\"\"\"InChI=1S/C26H43NO6/c1-14(4-7-22(31)27-13-23(32)33)17-5-6-18-24-19(12-21(30)26(17,18)3)25(2)9-8-16(28)10-15(25)11-20(24)29/h14-21,24,28-30H,4-13H2,1-3H3,(H,27,31)(H,32,33)/t14-,15+,16-,17-,18+,19+,20+,21+,24+,25+,26-/m1/s1\"\" + 78.010 Da\"', 'scans': '16', 'ms_level': '2', 'instrument_type': 'ESI-qTof', 'file_name': 'suspect_list_batch_creation.mgf', 'peptide_sequence': '*..*', 'organism_name': 'GNPS-SUSPECTLIST', 'compound_name': '\"Suspect related to \"\"((R)-4-((3R,5S,7S,8R,9S,10S,12S,13R,14S,17R)-3,7,12-trihydroxy-10,13-dimethylhexadecahydro-1H-cyclopenta[a]phenanthren-17-yl)pentanoyl)glycine\"\" (predicted molecular formula SIRIUS: C28H47O10 / BUDDY: C31H45NO7) with delta m/z 78.01 (putative explanation: unspecified|unspecified; atomic difference: 3C,3N|5C,2H,1O)', 'principal_investigator': 'Pieter Dorrestein', 'data_collector': 'Wout Bittremieux', 'submit_user': 'jzemlin', 'confidence': '4', 'spectrum_id': 'CCMSLIB00012079763', 'precursor_mz': 526.318, 'adduct': '[M-H2O+H]+', 'retention_index': None, 'retention_time': None, 'id': 'spec_15'}\n",
      "\n",
      "{'charge': 1, 'ionmode': 'positive', 'inchi': '\"\"\"InChI=1S/C20H30O2/c1-14-6-5-7-15(2)12-18-17(16(3)13-21-18)10-11-20(4)19(22-20)9-8-14/h6,12,18-19H,5,7-11,13H2,1-4H3/b14-6+,15-12+/t18-,19+,20+/m0/s1\"\" + 15.976 Da\"', 'scans': '17', 'ms_level': '2', 'instrument_type': 'ESI-qTof', 'file_name': 'suspect_list_batch_creation.mgf', 'peptide_sequence': '*..*', 'organism_name': 'GNPS-SUSPECTLIST', 'compound_name': '\"Suspect related to \"\"(2S, 11R, 12R)-isosarcophytoxide\"\" (predicted molecular formula SIRIUS: unknown / BUDDY: C18H30O4) with delta m/z 15.976 (putative explanation: Ser->Cys substitution|thiocarboxylic acid|sodium to potassium adduct|lithium to sodium adduct; atomic difference: -1O,1S|-1O,1S|none_adduct|none_adduct)', 'principal_investigator': 'Pieter Dorrestein', 'data_collector': 'Wout Bittremieux', 'submit_user': 'jzemlin', 'confidence': '4', 'spectrum_id': 'CCMSLIB00012079764', 'precursor_mz': 643.42, 'adduct': '[2M+Na]+', 'retention_index': None, 'retention_time': None, 'id': 'spec_16'}\n",
      "\n",
      "{'charge': 1, 'ionmode': 'positive', 'inchi': '\"\"\"InChI=1S/C20H30O2/c1-14-6-5-7-15(2)12-18-17(16(3)13-21-18)10-11-20(4)19(22-20)9-8-14/h6,12,18-19H,5,7-11,13H2,1-4H3/b14-6+,15-12+/t18-,19+,20+/m0/s1\"\" - 15.995 Da\"', 'scans': '18', 'ms_level': '2', 'instrument_type': 'ESI-qTof', 'file_name': 'suspect_list_batch_creation.mgf', 'peptide_sequence': '*..*', 'organism_name': 'GNPS-SUSPECTLIST', 'compound_name': '\"Suspect related to \"\"(2S, 11R, 12R)-isosarcophytoxide\"\" (predicted molecular formula SIRIUS: C14H30N4S / BUDDY: C17H26N4) with delta m/z -15.995 (putative explanation: Ser->Ala substitution|Tyr->Phe substitution|reduction; atomic difference: -1O|-1O|-1O)', 'principal_investigator': 'Pieter Dorrestein', 'data_collector': 'Wout Bittremieux', 'submit_user': 'jzemlin', 'confidence': '4', 'spectrum_id': 'CCMSLIB00012079765', 'precursor_mz': 287.224, 'adduct': '[M+H]+\"', 'retention_index': None, 'retention_time': None, 'id': 'spec_17'}\n",
      "\n",
      "{'charge': 1, 'ionmode': 'positive', 'inchi': '\"\"\"InChI=1S/C20H30O2/c1-14-6-5-7-15(2)12-18-17(16(3)13-21-18)10-11-20(4)19(22-20)9-8-14/h6,12,18-19H,5,7-11,13H2,1-4H3/b14-6+,15-12+/t18-,19+,20+/m0/s1\"\" - 4.031 Da\"', 'scans': '19', 'ms_level': '2', 'instrument_type': 'ESI-qTof', 'file_name': 'suspect_list_batch_creation.mgf', 'peptide_sequence': '*..*', 'organism_name': 'GNPS-SUSPECTLIST', 'compound_name': '\"Suspect related to \"\"(2S, 11R, 12R)-isosarcophytoxide\"\" (predicted molecular formula SIRIUS: C11H28N3O4S / BUDDY: C17H22N4O) with delta m/z -4.031 (putative explanation: x2 reduction (reverse); atomic difference: -4H)', 'principal_investigator': 'Pieter Dorrestein', 'data_collector': 'Wout Bittremieux', 'submit_user': 'jzemlin', 'confidence': '4', 'spectrum_id': 'CCMSLIB00012079766', 'precursor_mz': 299.189, 'adduct': '[M+H]+\"', 'retention_index': None, 'retention_time': None, 'id': 'spec_18'}\n",
      "\n",
      "{'charge': 1, 'ionmode': 'positive', 'inchi': '\"\"\"InChI=1S/C20H30O2/c1-14-6-5-7-15(2)12-18-17(16(3)13-21-18)10-11-20(4)19(22-20)9-8-14/h6,12,18-19H,5,7-11,13H2,1-4H3/b14-6+,15-12+/t18-,19+,20+/m0/s1\"\" - 4.024 Da\"', 'scans': '20', 'ms_level': '2', 'instrument_type': 'ESI-qTof', 'file_name': 'suspect_list_batch_creation.mgf', 'peptide_sequence': '*..*', 'organism_name': 'GNPS-SUSPECTLIST', 'compound_name': '\"Suspect related to \"\"(2S, 11R, 12R)-isosarcophytoxide\"\" (predicted molecular formula SIRIUS: C11H29N3O4P / BUDDY: C15H26N2O4) with delta m/z -4.024 (putative explanation: SILAC (reverse)|4,4,5,5-D4 Lysine (reverse); atomic difference: 1C,3H,-1C[13],-3H[2]|4H,-4H[2])', 'principal_investigator': 'Pieter Dorrestein', 'data_collector': 'Wout Bittremieux', 'submit_user': 'jzemlin', 'confidence': '4', 'spectrum_id': 'CCMSLIB00012079767', 'precursor_mz': 299.194, 'adduct': '[M+H]+\"', 'retention_index': None, 'retention_time': None, 'id': 'spec_19'}\n",
      "\n",
      "{'charge': 1, 'ionmode': 'positive', 'inchi': '\"\"\"InChI=1S/C20H30O2/c1-14-6-5-7-15(2)12-18-17(16(3)13-21-18)10-11-20(4)19(22-20)9-8-14/h6,12,18-19H,5,7-11,13H2,1-4H3/b14-6+,15-12+/t18-,19+,20+/m0/s1\"\" - 2.016 Da\"', 'scans': '21', 'ms_level': '2', 'instrument_type': 'ESI-qTof', 'file_name': 'suspect_list_batch_creation.mgf', 'peptide_sequence': '*..*', 'organism_name': 'GNPS-SUSPECTLIST', 'compound_name': '\"Suspect related to \"\"(2S, 11R, 12R)-isosarcophytoxide\"\" (predicted molecular formula SIRIUS: C9H25N5O3S / BUDDY: C17H24N4O) with delta m/z -2.016 (putative explanation: 2-amino-3-oxo-butanoic_acid|Intact disulfide bridge|Val->Pro substitution; atomic difference: -2H|-2H|-2H)', 'principal_investigator': 'Pieter Dorrestein', 'data_collector': 'Wout Bittremieux', 'submit_user': 'jzemlin', 'confidence': '4', 'spectrum_id': 'CCMSLIB00012079768', 'precursor_mz': 301.204, 'adduct': '[M+H]+\"', 'retention_index': None, 'retention_time': None, 'id': 'spec_20'}\n",
      "\n",
      "{'charge': 1, 'ionmode': 'positive', 'inchi': '\"\"\"InChI=1S/C20H30O2/c1-14-6-5-7-15(2)12-18-17(16(3)13-21-18)10-11-20(4)19(22-20)9-8-14/h6,12,18-19H,5,7-11,13H2,1-4H3/b14-6+,15-12+/t18-,19+,20+/m0/s1\"\" - 15.995 Da\"', 'scans': '22', 'ms_level': '2', 'instrument_type': 'ESI-qTof', 'file_name': 'suspect_list_batch_creation.mgf', 'peptide_sequence': '*..*', 'organism_name': 'GNPS-SUSPECTLIST', 'compound_name': '\"Suspect related to \"\"(2S, 11R, 12R)-isosarcophytoxide\"\" (predicted molecular formula SIRIUS: C14H28N3O3 / BUDDY: C16H30O4) with delta m/z -15.995 (putative explanation: Ser->Ala substitution|Tyr->Phe substitution|reduction; atomic difference: -1O|-1O|-1O)', 'principal_investigator': 'Pieter Dorrestein', 'data_collector': 'Wout Bittremieux', 'submit_user': 'jzemlin', 'confidence': '4', 'spectrum_id': 'CCMSLIB00012079769', 'precursor_mz': 269.212, 'adduct': '[M-H2O+H]+', 'retention_index': None, 'retention_time': None, 'id': 'spec_21'}\n",
      "\n",
      "{'charge': 1, 'ionmode': 'positive', 'inchi': '\"\"\"InChI=1S/C20H30O2/c1-14-6-5-7-15(2)12-18-17(16(3)13-21-18)10-11-20(4)19(22-20)9-8-14/h6,12,18-19H,5,7-11,13H2,1-4H3/b14-6+,15-12+/t18-,19+,20+/m0/s1\"\" - 13.981 Da\"', 'scans': '23', 'ms_level': '2', 'instrument_type': 'ESI-qTof', 'file_name': 'suspect_list_batch_creation.mgf', 'peptide_sequence': '*..*', 'organism_name': 'GNPS-SUSPECTLIST', 'compound_name': '\"Suspect related to \"\"(2S, 11R, 12R)-isosarcophytoxide\"\" (predicted molecular formula SIRIUS: C15H33N2OP / BUDDY: C16H32O4) with delta m/z -13.981 (putative explanation: Asp->Thr substitution; atomic difference: 2H,-1O)', 'principal_investigator': 'Pieter Dorrestein', 'data_collector': 'Wout Bittremieux', 'submit_user': 'jzemlin', 'confidence': '4', 'spectrum_id': 'CCMSLIB00012079770', 'precursor_mz': 271.23, 'adduct': '[M-H2O+H]+', 'retention_index': None, 'retention_time': None, 'id': 'spec_22'}\n",
      "\n",
      "{'charge': 1, 'ionmode': 'positive', 'inchi': '\"\"\"InChI=1S/C20H30O2/c1-14-6-5-7-15(2)12-18-17(16(3)13-21-18)10-11-20(4)19(22-20)9-8-14/h6,12,18-19H,5,7-11,13H2,1-4H3/b14-6+,15-12+/t18-,19+,20+/m0/s1\"\" + 13.979 Da\"', 'scans': '24', 'ms_level': '2', 'instrument_type': 'ESI-qTof', 'file_name': 'suspect_list_batch_creation.mgf', 'peptide_sequence': '*..*', 'organism_name': 'GNPS-SUSPECTLIST', 'compound_name': '\"Suspect related to \"\"(2S, 11R, 12R)-isosarcophytoxide\"\" (predicted molecular formula SIRIUS: C15H29N2O3P / BUDDY: C17H24N4O2) with delta m/z 13.979 (putative explanation: Thr->Asp substitution|Tryptophan oxidation to oxolactone|aldehyde and ketone modifications|hydroxylation difference carboxylation|proline oxidation to pyroglutamic acid|Oxidation, epoxidation; atomic difference: -2H,1O|-2H,1O|-2H,1O|-2H,1O|-2H,1O|1O,-2H)', 'principal_investigator': 'Pieter Dorrestein', 'data_collector': 'Wout Bittremieux', 'submit_user': 'jzemlin', 'confidence': '4', 'spectrum_id': 'CCMSLIB00012079771', 'precursor_mz': 299.188, 'adduct': '[M-H2O+H]+', 'retention_index': None, 'retention_time': None, 'id': 'spec_23'}\n",
      "\n",
      "{'charge': 1, 'ionmode': 'positive', 'inchi': '\"\"\"InChI=1S/C20H30O2/c1-14-6-5-7-15(2)12-18-17(16(3)13-21-18)10-11-20(4)19(22-20)9-8-14/h6,12,18-19H,5,7-11,13H2,1-4H3/b14-6+,15-12+/t18-,19+,20+/m0/s1\"\" + 14.051 Da\"', 'scans': '25', 'ms_level': '2', 'instrument_type': 'ESI-qTof', 'file_name': 'suspect_list_batch_creation.mgf', 'peptide_sequence': '*..*', 'organism_name': 'GNPS-SUSPECTLIST', 'compound_name': '\"Suspect related to \"\"(2S, 11R, 12R)-isosarcophytoxide\"\" (predicted molecular formula SIRIUS: C14H32N6O2 / BUDDY: C18H36O4) with delta m/z 14.051 (putative explanation: Asn->Lys substitution; atomic difference: 2C,6H,-1O)', 'principal_investigator': 'Pieter Dorrestein', 'data_collector': 'Wout Bittremieux', 'submit_user': 'jzemlin', 'confidence': '4', 'spectrum_id': 'CCMSLIB00012079772', 'precursor_mz': 299.257, 'adduct': '[M-H2O+H]+', 'retention_index': None, 'retention_time': None, 'id': 'spec_24'}\n",
      "\n",
      "{'charge': 1, 'ionmode': 'positive', 'inchi': '\"\"\"InChI=1S/C20H30O2/c1-14-6-5-7-15(2)12-18-17(16(3)13-21-18)10-11-20(4)19(22-20)9-8-14/h6,12,18-19H,5,7-11,13H2,1-4H3/b14-6+,15-12+/t18-,19+,20+/m0/s1\"\" + 15.995 Da\"', 'scans': '26', 'ms_level': '2', 'instrument_type': 'ESI-qTof', 'file_name': 'suspect_list_batch_creation.mgf', 'peptide_sequence': '*..*', 'organism_name': 'GNPS-SUSPECTLIST', 'compound_name': '\"Suspect related to \"\"(2S, 11R, 12R)-isosarcophytoxide\"\" (predicted molecular formula SIRIUS: C17H26N4O2 / BUDDY: C17H26N4O2) with delta m/z 15.995 (putative explanation: Ala->Ser substitution|Oxidation or Hydroxylation|Phe->Tyr substitution; atomic difference: 1O|1O|1O)', 'principal_investigator': 'Pieter Dorrestein', 'data_collector': 'Wout Bittremieux', 'submit_user': 'jzemlin', 'confidence': '4', 'spectrum_id': 'CCMSLIB00012079773', 'precursor_mz': 301.204, 'adduct': '[M-H2O+H]+', 'retention_index': None, 'retention_time': None, 'id': 'spec_25'}\n",
      "\n",
      "{'charge': 1, 'ionmode': 'positive', 'inchi': '\"\"\"InChI=1S/C20H30O2/c1-14-6-5-7-15(2)12-18-17(16(3)13-21-18)10-11-20(4)19(22-20)9-8-14/h6,12,18-19H,5,7-11,13H2,1-4H3/b14-6+,15-12+/t18-,19+,20+/m0/s1\"\" + 18.010 Da\"', 'scans': '27', 'ms_level': '2', 'instrument_type': 'ESI-qTof', 'file_name': 'suspect_list_batch_creation.mgf', 'peptide_sequence': '*..*', 'organism_name': 'GNPS-SUSPECTLIST', 'compound_name': '\"Suspect related to \"\"(2S, 11R, 12R)-isosarcophytoxide\"\" (predicted molecular formula SIRIUS: C14H32N4O2S / BUDDY: C17H28N4O2) with delta m/z 18.01 (putative explanation: Proline oxidation to 5-hydroxy-2-aminovaleric acid|water; atomic difference: 2H,1O|2H,1O)', 'principal_investigator': 'Pieter Dorrestein', 'data_collector': 'Wout Bittremieux', 'submit_user': 'jzemlin', 'confidence': '4', 'spectrum_id': 'CCMSLIB00012079774', 'precursor_mz': 303.219, 'adduct': '[M-H2O+H]+', 'retention_index': None, 'retention_time': None, 'id': 'spec_26'}\n",
      "\n",
      "{'charge': 1, 'ionmode': 'positive', 'inchi': '\"\"\"InChI=1S/C20H30O2/c1-14-6-5-7-15(2)12-18-17(16(3)13-21-18)10-11-20(4)19(22-20)9-8-14/h6,12,18-19H,5,7-11,13H2,1-4H3/b14-6+,15-12+/t18-,19+,20+/m0/s1\"\" + 31.990 Da\"', 'scans': '28', 'ms_level': '2', 'instrument_type': 'ESI-qTof', 'file_name': 'suspect_list_batch_creation.mgf', 'peptide_sequence': '*..*', 'organism_name': 'GNPS-SUSPECTLIST', 'compound_name': '\"Suspect related to \"\"(2S, 11R, 12R)-isosarcophytoxide\"\" (predicted molecular formula SIRIUS: C14H30N4O3S / BUDDY: C17H26N4O3) with delta m/z 31.99 (putative explanation: (Di)hydroxylation|Pro->Glu substitution|dihydroxy; atomic difference: 2O|2O|2O)', 'principal_investigator': 'Pieter Dorrestein', 'data_collector': 'Wout Bittremieux', 'submit_user': 'jzemlin', 'confidence': '4', 'spectrum_id': 'CCMSLIB00012079775', 'precursor_mz': 317.201, 'adduct': '[M-H2O+H]+', 'retention_index': None, 'retention_time': None, 'id': 'spec_27'}\n",
      "\n",
      "{'charge': 1, 'ionmode': 'positive', 'inchi': '\"\"\"InChI=1S/C20H30O2/c1-14-6-5-7-15(2)12-18-17(16(3)13-21-18)10-11-20(4)19(22-20)9-8-14/h6,12,18-19H,5,7-11,13H2,1-4H3/b14-6+,15-12+/t18-,19+,20+/m0/s1\"\" + 47.985 Da\"', 'scans': '29', 'ms_level': '2', 'instrument_type': 'ESI-qTof', 'file_name': 'suspect_list_batch_creation.mgf', 'peptide_sequence': '*..*', 'organism_name': 'GNPS-SUSPECTLIST', 'compound_name': '\"Suspect related to \"\"(2S, 11R, 12R)-isosarcophytoxide\"\" (predicted molecular formula SIRIUS: C17H26N4O4 / BUDDY: C16H30O8) with delta m/z 47.985 (putative explanation: cysteine oxidation to cysteic acid; atomic difference: 3O)', 'principal_investigator': 'Pieter Dorrestein', 'data_collector': 'Wout Bittremieux', 'submit_user': 'jzemlin', 'confidence': '4', 'spectrum_id': 'CCMSLIB00012079776', 'precursor_mz': 333.195, 'adduct': '[M-H2O+H]+', 'retention_index': None, 'retention_time': None, 'id': 'spec_28'}\n",
      "\n",
      "{'charge': 1, 'ionmode': 'positive', 'inchi': '\"\"\"InChI=1S/C30H48O10/c1-14(4-9-22(32)33)18-7-8-19-17-6-5-15-12-16(10-11-29(15,2)20(17)13-21(31)30(18,19)3)39-28-25(36)23(34)24(35)26(40-28)27(37)38/h14-21,23-26,28,31,34-36H,4-13H2,1-3H3,(H,32,33)(H,37,38)/t14-,15-,16-,17+,18-,19+,20+,21+,23+,24+,25-,26+,28-,29+,30-/m1/s1\"\" + 24.037 Da\"', 'scans': '30', 'ms_level': '2', 'instrument_type': 'ESI-qTof', 'file_name': 'suspect_list_batch_creation.mgf', 'peptide_sequence': '*..*', 'organism_name': 'GNPS-SUSPECTLIST', 'compound_name': '\"Suspect related to \"\"(2S,3S,4S,5R,6R)-6-(((3R,5R,8R,9S,10S,12S,13R,14S,17R)-17-((R)-4-carboxybutan-2-yl)-12-hydroxy-10,13-dimethylhexadecahydro-1H-cyclopenta[a]phenanthren-3-yl)oxy)-3,4,5-trihydroxytetrahydro-2H-pyran-2-carboxylic acid\"\" (predicted molecular formula SIRIUS: C33H52O9 / BUDDY: C33H52O9) with delta m/z 24.037 (putative explanation: unspecified; atomic difference: unspecified)', 'principal_investigator': 'Pieter Dorrestein', 'data_collector': 'Wout Bittremieux', 'submit_user': 'jzemlin', 'confidence': '4', 'spectrum_id': 'CCMSLIB00012079777', 'precursor_mz': 615.354, 'adduct': '[M+Na]+', 'retention_index': None, 'retention_time': None, 'id': 'spec_29'}\n",
      "\n",
      "{'charge': 1, 'ionmode': 'positive', 'inchi': '\"\"\"InChI=1S/C20H30O2/c1-14-6-5-11-20(4)19(22-20)10-8-15(2)12-18-17(9-7-14)16(3)13-21-18/h6,12,18-19H,5,7-11,13H2,1-4H3/b14-6+,15-12+/t18-,19+,20+/m0/s1\"\" + 2.016 Da\"', 'scans': '31', 'ms_level': '2', 'instrument_type': 'ESI-qTof', 'file_name': 'suspect_list_batch_creation.mgf', 'peptide_sequence': '*..*', 'organism_name': 'GNPS-SUSPECTLIST', 'compound_name': '\"Suspect related to \"\"(2S,7R,8R)-sarcophytoxide\"\" (predicted molecular formula SIRIUS: C14H32N4OS / BUDDY: C17H28N4O) with delta m/z 2.016 (putative explanation: Pro->Val substitution|reduction; atomic difference: 2H|2H)', 'principal_investigator': 'Pieter Dorrestein', 'data_collector': 'Wout Bittremieux', 'submit_user': 'jzemlin', 'confidence': '4', 'spectrum_id': 'CCMSLIB00012079778', 'precursor_mz': 287.224, 'adduct': '[M-H2O+H]+', 'retention_index': None, 'retention_time': None, 'id': 'spec_30'}\n",
      "\n",
      "{'charge': 1, 'ionmode': 'positive', 'inchi': '\"\"\"InChI=1S/C20H30O2/c1-14-6-5-11-20(4)19(22-20)10-8-15(2)12-18-17(9-7-14)16(3)13-21-18/h6,12,18-19H,5,7-11,13H2,1-4H3/b14-6+,15-12+/t18-,19+,20+/m0/s1\"\" + 13.979 Da\"', 'scans': '32', 'ms_level': '2', 'instrument_type': 'ESI-qTof', 'file_name': 'suspect_list_batch_creation.mgf', 'peptide_sequence': '*..*', 'organism_name': 'GNPS-SUSPECTLIST', 'compound_name': '\"Suspect related to \"\"(2S,7R,8R)-sarcophytoxide\"\" (predicted molecular formula SIRIUS: C17H24N4O2 / BUDDY: C17H24N4O2) with delta m/z 13.979 (putative explanation: Thr->Asp substitution|Tryptophan oxidation to oxolactone|aldehyde and ketone modifications|hydroxylation difference carboxylation|proline oxidation to pyroglutamic acid|Oxidation, epoxidation; atomic difference: -2H,1O|-2H,1O|-2H,1O|-2H,1O|-2H,1O|1O,-2H)', 'principal_investigator': 'Pieter Dorrestein', 'data_collector': 'Wout Bittremieux', 'submit_user': 'jzemlin', 'confidence': '4', 'spectrum_id': 'CCMSLIB00012079779', 'precursor_mz': 299.188, 'adduct': '[M-H2O+H]+', 'retention_index': None, 'retention_time': None, 'id': 'spec_31'}\n",
      "\n",
      "{'charge': 1, 'ionmode': 'positive', 'inchi': '\"\"\"InChI=1S/C20H30O2/c1-14-6-5-11-20(4)19(22-20)10-8-15(2)12-18-17(9-7-14)16(3)13-21-18/h6,12,18-19H,5,7-11,13H2,1-4H3/b14-6+,15-12+/t18-,19+,20+/m0/s1\"\" + 15.995 Da\"', 'scans': '33', 'ms_level': '2', 'instrument_type': 'ESI-qTof', 'file_name': 'suspect_list_batch_creation.mgf', 'peptide_sequence': '*..*', 'organism_name': 'GNPS-SUSPECTLIST', 'compound_name': '\"Suspect related to \"\"(2S,7R,8R)-sarcophytoxide\"\" (predicted molecular formula SIRIUS: C14H30N4O2S / BUDDY: C17H26N4O2) with delta m/z 15.995 (putative explanation: Ala->Ser substitution|Oxidation or Hydroxylation|Phe->Tyr substitution; atomic difference: 1O|1O|1O)', 'principal_investigator': 'Pieter Dorrestein', 'data_collector': 'Wout Bittremieux', 'submit_user': 'jzemlin', 'confidence': '4', 'spectrum_id': 'CCMSLIB00012079780', 'precursor_mz': 301.204, 'adduct': '[M-H2O+H]+', 'retention_index': None, 'retention_time': None, 'id': 'spec_32'}\n",
      "\n",
      "{'charge': 1, 'ionmode': 'positive', 'inchi': '\"\"\"InChI=1S/C20H30O2/c1-14-6-5-11-20(4)19(22-20)10-8-15(2)12-18-17(9-7-14)16(3)13-21-18/h6,12,18-19H,5,7-11,13H2,1-4H3/b14-6+,15-12+/t18-,19+,20+/m0/s1\"\" + 71.983 Da\"', 'scans': '34', 'ms_level': '2', 'instrument_type': 'ESI-qTof', 'file_name': 'suspect_list_batch_creation.mgf', 'peptide_sequence': '*..*', 'organism_name': 'GNPS-SUSPECTLIST', 'compound_name': '\"Suspect related to \"\"(2S,7R,8R)-sarcophytoxide\"\" (predicted molecular formula SIRIUS: C14H26N6O6 / BUDDY: C19H26N4O4) with delta m/z 71.983 (putative explanation: unspecified; atomic difference: 2C,3O)', 'principal_investigator': 'Pieter Dorrestein', 'data_collector': 'Wout Bittremieux', 'submit_user': 'jzemlin', 'confidence': '4', 'spectrum_id': 'CCMSLIB00012079781', 'precursor_mz': 357.19, 'adduct': '[M-H2O+H]+', 'retention_index': None, 'retention_time': None, 'id': 'spec_33'}\n",
      "\n",
      "{'charge': 1, 'ionmode': 'positive', 'inchi': '\"\"\"InChI=1S/C20H30O2/c1-14-6-5-11-20(4)19(22-20)10-8-15(2)12-18-17(9-7-14)16(3)13-21-18/h6,12,18-19H,5,7-11,13H2,1-4H3/b14-6+,15-12+/t18-,19-,20-/m0/s1\"\" - 15.995 Da\"', 'scans': '35', 'ms_level': '2', 'instrument_type': 'ESI-qTof', 'file_name': 'suspect_list_batch_creation.mgf', 'peptide_sequence': '*..*', 'organism_name': 'GNPS-SUSPECTLIST', 'compound_name': '\"Suspect related to \"\"(2S,7S,8S)-sarcophytoxide\"\" (predicted molecular formula SIRIUS: C17H26N4 / BUDDY: C17H26N4) with delta m/z -15.995 (putative explanation: Ser->Ala substitution|Tyr->Phe substitution|reduction; atomic difference: -1O|-1O|-1O)', 'principal_investigator': 'Pieter Dorrestein', 'data_collector': 'Wout Bittremieux', 'submit_user': 'jzemlin', 'confidence': '4', 'spectrum_id': 'CCMSLIB00012079782', 'precursor_mz': 287.223, 'adduct': '[M+H]+\"', 'retention_index': None, 'retention_time': None, 'id': 'spec_34'}\n",
      "\n",
      "{'charge': 1, 'ionmode': 'positive', 'inchi': '\"\"\"InChI=1S/C20H30O2/c1-14-6-5-11-20(4)19(22-20)10-8-15(2)12-18-17(9-7-14)16(3)13-21-18/h6,12,18-19H,5,7-11,13H2,1-4H3/b14-6+,15-12+/t18-,19-,20-/m0/s1\"\" - 2.016 Da\"', 'scans': '36', 'ms_level': '2', 'instrument_type': 'ESI-qTof', 'file_name': 'suspect_list_batch_creation.mgf', 'peptide_sequence': '*..*', 'organism_name': 'GNPS-SUSPECTLIST', 'compound_name': '\"Suspect related to \"\"(2S,7S,8S)-sarcophytoxide\"\" (predicted molecular formula SIRIUS: C12H24N6O3 / BUDDY: C17H24N4O) with delta m/z -2.016 (putative explanation: 2-amino-3-oxo-butanoic_acid|Intact disulfide bridge|Val->Pro substitution; atomic difference: -2H|-2H|-2H)', 'principal_investigator': 'Pieter Dorrestein', 'data_collector': 'Wout Bittremieux', 'submit_user': 'jzemlin', 'confidence': '4', 'spectrum_id': 'CCMSLIB00012079783', 'precursor_mz': 301.198, 'adduct': '[M+H]+\"', 'retention_index': None, 'retention_time': None, 'id': 'spec_35'}\n",
      "\n",
      "{'charge': 1, 'ionmode': 'positive', 'inchi': '\"\"\"InChI=1S/C20H30O2/c1-14-6-5-11-20(4)19(22-20)10-8-15(2)12-18-17(9-7-14)16(3)13-21-18/h6,12,18-19H,5,7-11,13H2,1-4H3/b14-6+,15-12+/t18-,19-,20-/m0/s1\"\" + 11.964 Da\"', 'scans': '37', 'ms_level': '2', 'instrument_type': 'ESI-qTof', 'file_name': 'suspect_list_batch_creation.mgf', 'peptide_sequence': '*..*', 'organism_name': 'GNPS-SUSPECTLIST', 'compound_name': '\"Suspect related to \"\"(2S,7S,8S)-sarcophytoxide\"\" (predicted molecular formula SIRIUS: C17H22N4O2 / BUDDY: C17H22N4O2) with delta m/z 11.964 (putative explanation: unspecified; atomic difference: unspecified)', 'principal_investigator': 'Pieter Dorrestein', 'data_collector': 'Wout Bittremieux', 'submit_user': 'jzemlin', 'confidence': '4', 'spectrum_id': 'CCMSLIB00012079784', 'precursor_mz': 315.184, 'adduct': '[M+H]+\"', 'retention_index': None, 'retention_time': None, 'id': 'spec_36'}\n",
      "\n",
      "{'charge': 1, 'ionmode': 'positive', 'inchi': '\"\"\"InChI=1S/C20H30O2/c1-14-6-5-11-20(4)19(22-20)10-8-15(2)12-18-17(9-7-14)16(3)13-21-18/h6,12,18-19H,5,7-11,13H2,1-4H3/b14-6+,15-12+/t18-,19-,20-/m0/s1\"\" - 14.029 Da\"', 'scans': '38', 'ms_level': '2', 'instrument_type': 'ESI-qTof', 'file_name': 'suspect_list_batch_creation.mgf', 'peptide_sequence': '*..*', 'organism_name': 'GNPS-SUSPECTLIST', 'compound_name': '\"Suspect related to \"\"(2S,7S,8S)-sarcophytoxide\"\" (predicted molecular formula SIRIUS: C17H24N2O2 / BUDDY: C17H24N2O2) with delta m/z -14.029 (putative explanation: unspecified; atomic difference: unspecified)', 'principal_investigator': 'Pieter Dorrestein', 'data_collector': 'Wout Bittremieux', 'submit_user': 'jzemlin', 'confidence': '4', 'spectrum_id': 'CCMSLIB00012079785', 'precursor_mz': 271.18, 'adduct': '[M-H2O+H]+', 'retention_index': None, 'retention_time': None, 'id': 'spec_37'}\n",
      "\n",
      "{'charge': 1, 'ionmode': 'positive', 'inchi': '\"\"\"InChI=1S/C20H30O2/c1-14-6-5-11-20(4)19(22-20)10-8-15(2)12-18-17(9-7-14)16(3)13-21-18/h6,12,18-19H,5,7-11,13H2,1-4H3/b14-6+,15-12+/t18-,19-,20-/m0/s1\"\" + 2.016 Da\"', 'scans': '39', 'ms_level': '2', 'instrument_type': 'ESI-qTof', 'file_name': 'suspect_list_batch_creation.mgf', 'peptide_sequence': '*..*', 'organism_name': 'GNPS-SUSPECTLIST', 'compound_name': '\"Suspect related to \"\"(2S,7S,8S)-sarcophytoxide\"\" (predicted molecular formula SIRIUS: C14H32N4OS / BUDDY: C17H28N4O) with delta m/z 2.016 (putative explanation: Pro->Val substitution|reduction; atomic difference: 2H|2H)', 'principal_investigator': 'Pieter Dorrestein', 'data_collector': 'Wout Bittremieux', 'submit_user': 'jzemlin', 'confidence': '4', 'spectrum_id': 'CCMSLIB00012079786', 'precursor_mz': 287.224, 'adduct': '[M-H2O+H]+', 'retention_index': None, 'retention_time': None, 'id': 'spec_38'}\n",
      "\n",
      "{'charge': 1, 'ionmode': 'positive', 'inchi': '\"\"\"InChI=1S/C20H30O2/c1-14-6-5-11-20(4)19(22-20)10-8-15(2)12-18-17(9-7-14)16(3)13-21-18/h6,12,18-19H,5,7-11,13H2,1-4H3/b14-6+,15-12+/t18-,19-,20-/m0/s1\"\" + 13.979 Da\"', 'scans': '40', 'ms_level': '2', 'instrument_type': 'ESI-qTof', 'file_name': 'suspect_list_batch_creation.mgf', 'peptide_sequence': '*..*', 'organism_name': 'GNPS-SUSPECTLIST', 'compound_name': '\"Suspect related to \"\"(2S,7S,8S)-sarcophytoxide\"\" (predicted molecular formula SIRIUS: C15H29N2O3P / BUDDY: C17H24N4O2) with delta m/z 13.979 (putative explanation: Thr->Asp substitution|Tryptophan oxidation to oxolactone|aldehyde and ketone modifications|hydroxylation difference carboxylation|proline oxidation to pyroglutamic acid|Oxidation, epoxidation; atomic difference: -2H,1O|-2H,1O|-2H,1O|-2H,1O|-2H,1O|1O,-2H)', 'principal_investigator': 'Pieter Dorrestein', 'data_collector': 'Wout Bittremieux', 'submit_user': 'jzemlin', 'confidence': '4', 'spectrum_id': 'CCMSLIB00012079787', 'precursor_mz': 299.188, 'adduct': '[M-H2O+H]+', 'retention_index': None, 'retention_time': None, 'id': 'spec_39'}\n",
      "\n",
      "{'charge': 1, 'ionmode': 'positive', 'inchi': '\"\"\"InChI=1S/C20H30O2/c1-14-6-5-11-20(4)19(22-20)10-8-15(2)12-18-17(9-7-14)16(3)13-21-18/h6,12,18-19H,5,7-11,13H2,1-4H3/b14-6+,15-12+/t18-,19-,20-/m0/s1\"\" + 15.995 Da\"', 'scans': '41', 'ms_level': '2', 'instrument_type': 'ESI-qTof', 'file_name': 'suspect_list_batch_creation.mgf', 'peptide_sequence': '*..*', 'organism_name': 'GNPS-SUSPECTLIST', 'compound_name': '\"Suspect related to \"\"(2S,7S,8S)-sarcophytoxide\"\" (predicted molecular formula SIRIUS: C11H26N8O3 / BUDDY: C16H26N6O) with delta m/z 15.995 (putative explanation: Ala->Ser substitution|Oxidation or Hydroxylation|Phe->Tyr substitution; atomic difference: 1O|1O|1O)', 'principal_investigator': 'Pieter Dorrestein', 'data_collector': 'Wout Bittremieux', 'submit_user': 'jzemlin', 'confidence': '4', 'spectrum_id': 'CCMSLIB00012079788', 'precursor_mz': 301.21, 'adduct': '[M-H2O+H]+', 'retention_index': None, 'retention_time': None, 'id': 'spec_40'}\n",
      "\n",
      "{'charge': 1, 'ionmode': 'positive', 'inchi': '\"\"\"InChI=1S/C20H30O2/c1-14-6-5-11-20(4)19(22-20)10-8-15(2)12-18-17(9-7-14)16(3)13-21-18/h6,12,18-19H,5,7-11,13H2,1-4H3/b14-6+,15-12+/t18-,19-,20-/m0/s1\"\" + 16.031 Da\"', 'scans': '42', 'ms_level': '2', 'instrument_type': 'ESI-qTof', 'file_name': 'suspect_list_batch_creation.mgf', 'peptide_sequence': '*..*', 'organism_name': 'GNPS-SUSPECTLIST', 'compound_name': '\"Suspect related to \"\"(2S,7S,8S)-sarcophytoxide\"\" (predicted molecular formula SIRIUS: C17H34O5 / BUDDY: C18H30N4O) with delta m/z 16.031 (putative explanation: Pro->Leu/Ile substitution|unspecified; atomic difference: 1C,4H|1C,4H)', 'principal_investigator': 'Pieter Dorrestein', 'data_collector': 'Wout Bittremieux', 'submit_user': 'jzemlin', 'confidence': '4', 'spectrum_id': 'CCMSLIB00012079789', 'precursor_mz': 301.238, 'adduct': '[M-H2O+H]+', 'retention_index': None, 'retention_time': None, 'id': 'spec_41'}\n",
      "\n",
      "{'charge': 1, 'ionmode': 'positive', 'inchi': '\"\"\"InChI=1S/C20H30O2/c1-14-6-5-11-20(4)19(22-20)10-8-15(2)12-18-17(9-7-14)16(3)13-21-18/h6,12,18-19H,5,7-11,13H2,1-4H3/b14-6+,15-12+/t18-,19-,20-/m0/s1\"\" + 42.010 Da\"', 'scans': '43', 'ms_level': '2', 'instrument_type': 'ESI-qTof', 'file_name': 'suspect_list_batch_creation.mgf', 'peptide_sequence': '*..*', 'organism_name': 'GNPS-SUSPECTLIST', 'compound_name': '\"Suspect related to \"\"(2S,7S,8S)-sarcophytoxide\"\" (predicted molecular formula SIRIUS: C16H32N4O2S / BUDDY: C19H28N4O2) with delta m/z 42.01 (putative explanation: Acetylation|Ser->Glu substitution|unspecified; atomic difference: 2C,2H,1O|2C,2H,1O|3N)', 'principal_investigator': 'Pieter Dorrestein', 'data_collector': 'Wout Bittremieux', 'submit_user': 'jzemlin', 'confidence': '4', 'spectrum_id': 'CCMSLIB00012079790', 'precursor_mz': 327.219, 'adduct': '[M-H2O+H]+', 'retention_index': None, 'retention_time': None, 'id': 'spec_42'}\n",
      "\n",
      "{'charge': 1, 'ionmode': 'positive', 'inchi': '\"\"\"InChI=1S/C20H30O2/c1-14-6-5-11-20(4)19(22-20)10-8-15(2)12-18-17(9-7-14)16(3)13-21-18/h6,12,18-19H,5,7-11,13H2,1-4H3/b14-6+,15-12+/t18-,19-,20-/m0/s1\"\" + 47.985 Da\"', 'scans': '44', 'ms_level': '2', 'instrument_type': 'ESI-qTof', 'file_name': 'suspect_list_batch_creation.mgf', 'peptide_sequence': '*..*', 'organism_name': 'GNPS-SUSPECTLIST', 'compound_name': '\"Suspect related to \"\"(2S,7S,8S)-sarcophytoxide\"\" (predicted molecular formula SIRIUS: C15H31N2O5P / BUDDY: C22H26N2O2) with delta m/z 47.985 (putative explanation: cysteine oxidation to cysteic acid; atomic difference: 3O)', 'principal_investigator': 'Pieter Dorrestein', 'data_collector': 'Wout Bittremieux', 'submit_user': 'jzemlin', 'confidence': '4', 'spectrum_id': 'CCMSLIB00012079791', 'precursor_mz': 333.196, 'adduct': '[M-H2O+H]+', 'retention_index': None, 'retention_time': None, 'id': 'spec_43'}\n",
      "\n",
      "{'charge': 1, 'ionmode': 'positive', 'inchi': '\"\"\"InChI=1S/C23H38O4/c1-13(10-21(26)27)16-4-5-17-15-12-20(25)19-11-14(24)6-8-23(19,3)18(15)7-9-22(16,17)2/h13-20,24-25H,4-12H2,1-3H3,(H,26,27)/t13-,14-,15+,16-,17+,18+,19+,20+,22-,23-/m1/s1\"\" + 14.033 Da\"', 'scans': '45', 'ms_level': '2', 'instrument_type': 'ESI-qTof', 'file_name': 'suspect_list_batch_creation.mgf', 'peptide_sequence': '*..*', 'organism_name': 'GNPS-SUSPECTLIST', 'compound_name': '\"Suspect related to \"\"(3R)-3-((3R,5R,6S,8S,9S,10R,13R,17R)-3,6-dihydroxy-10,13-dimethylhexadecahydro-1H-cyclopenta[a]phenanthren-17-yl)butanoic acid\"\" (predicted molecular formula SIRIUS: unknown / BUDDY: C25H39NO2) with delta m/z 14.033 (putative explanation: unspecified; atomic difference: unspecified)', 'principal_investigator': 'Pieter Dorrestein', 'data_collector': 'Wout Bittremieux', 'submit_user': 'jzemlin', 'confidence': '4', 'spectrum_id': 'CCMSLIB00012079792', 'precursor_mz': 771.6, 'adduct': '[2M+H]+\"', 'retention_index': None, 'retention_time': None, 'id': 'spec_44'}\n",
      "\n",
      "{'charge': 1, 'ionmode': 'positive', 'inchi': '\"\"\"InChI=1S/C26H46O5/c1-15(4-5-17(28)9-11-27)19-6-7-20-24-21(14-23(31)26(19,20)3)25(2)10-8-18(29)12-16(25)13-22(24)30/h15-24,27-31H,4-14H2,1-3H3/t15?,16-,17+,18+,19+,20-,21-,22+,23-,24-,25?,26?/m0/s1\"\" + 18.010 Da\"', 'scans': '46', 'ms_level': '2', 'instrument_type': 'ESI-qTof', 'file_name': 'suspect_list_batch_creation.mgf', 'peptide_sequence': '*..*', 'organism_name': 'GNPS-SUSPECTLIST', 'compound_name': '\"Suspect related to \"\"(3R,5S,7R,8R,9S,10S,12S,13R,14S,17R)-17-((2R,5R)-5,7-dihydroxyheptan-2-yl)-10,13-dimethylhexadecahydro-1H-cyclopenta[a]phenanthrene-3,7,12-triol\"\" (predicted molecular formula SIRIUS: C26H49O4P / BUDDY: C26H48O6) with delta m/z 18.01 (putative explanation: Proline oxidation to 5-hydroxy-2-aminovaleric acid|water; atomic difference: 2H,1O|2H,1O)', 'principal_investigator': 'Pieter Dorrestein', 'data_collector': 'Wout Bittremieux', 'submit_user': 'jzemlin', 'confidence': '4', 'spectrum_id': 'CCMSLIB00012079793', 'precursor_mz': 421.325, 'adduct': '[M-2H2O+H]+', 'retention_index': None, 'retention_time': None, 'id': 'spec_45'}\n",
      "\n",
      "{'charge': 1, 'ionmode': 'positive', 'inchi': '\"\"\"InChI=1S/C26H46O5/c1-15(4-5-17(28)9-11-27)19-6-7-20-24-21(14-23(31)26(19,20)3)25(2)10-8-18(29)12-16(25)13-22(24)30/h15-24,27-31H,4-14H2,1-3H3/t15?,16-,17+,18+,19+,20-,21-,22+,23-,24-,25?,26?/m0/s1\"\" - 18.011 Da\"', 'scans': '47', 'ms_level': '2', 'instrument_type': 'ESI-qTof', 'file_name': 'suspect_list_batch_creation.mgf', 'peptide_sequence': '*..*', 'organism_name': 'GNPS-SUSPECTLIST', 'compound_name': '\"Suspect related to \"\"(3R,5S,7R,8R,9S,10S,12S,13R,14S,17R)-17-((2R,5R)-5,7-dihydroxyheptan-2-yl)-10,13-dimethylhexadecahydro-1H-cyclopenta[a]phenanthrene-3,7,12-triol\"\" (predicted molecular formula SIRIUS: C26H44O4 / BUDDY: C26H44O4) with delta m/z -18.011 (putative explanation: Dehydration|Pyro-glu from E|carbodiimide crosslinker; atomic difference: -2H,-1O|-2H,-1O|-2H,-1O)', 'principal_investigator': 'Pieter Dorrestein', 'data_collector': 'Wout Bittremieux', 'submit_user': 'jzemlin', 'confidence': '4', 'spectrum_id': 'CCMSLIB00012079794', 'precursor_mz': 403.319, 'adduct': '[M-H2O+H]+', 'retention_index': None, 'retention_time': None, 'id': 'spec_46'}\n",
      "\n",
      "{'charge': 1, 'ionmode': 'positive', 'inchi': '\"\"\"InChI=1S/C26H46O5/c1-15(4-5-17(28)9-11-27)19-6-7-20-24-21(14-23(31)26(19,20)3)25(2)10-8-18(29)12-16(25)13-22(24)30/h15-24,27-31H,4-14H2,1-3H3/t15?,16-,17+,18+,19+,20-,21-,22+,23-,24-,25?,26?/m0/s1\"\" + 35.037 Da\"', 'scans': '48', 'ms_level': '2', 'instrument_type': 'ESI-qTof', 'file_name': 'suspect_list_batch_creation.mgf', 'peptide_sequence': '*..*', 'organism_name': 'GNPS-SUSPECTLIST', 'compound_name': '\"Suspect related to \"\"(3R,5S,7R,8R,9S,10S,12S,13R,14S,17R)-17-((2R,5R)-5,7-dihydroxyheptan-2-yl)-10,13-dimethylhexadecahydro-1H-cyclopenta[a]phenanthrene-3,7,12-triol\"\" (predicted molecular formula SIRIUS: C26H51NO6 / BUDDY: C26H51NO6) with delta m/z 35.037 (putative explanation: unspecified; atomic difference: unspecified)', 'principal_investigator': 'Pieter Dorrestein', 'data_collector': 'Wout Bittremieux', 'submit_user': 'jzemlin', 'confidence': '4', 'spectrum_id': 'CCMSLIB00012079795', 'precursor_mz': 456.371, 'adduct': '[M-H2O+H]+', 'retention_index': None, 'retention_time': None, 'id': 'spec_47'}\n",
      "\n",
      "{'charge': 1, 'ionmode': 'positive', 'inchi': '\"\"\"InChI=1S/C26H46O5/c1-15(4-5-17(28)9-11-27)19-6-7-20-24-21(14-23(31)26(19,20)3)25(2)10-8-18(29)12-16(25)13-22(24)30/h15-24,27-31H,4-14H2,1-3H3/t15?,16-,17+,18+,19+,20-,21-,22+,23-,24-,25?,26?/m0/s1\"\" + 194.043 Da\"', 'scans': '49', 'ms_level': '2', 'instrument_type': 'ESI-qTof', 'file_name': 'suspect_list_batch_creation.mgf', 'peptide_sequence': '*..*', 'organism_name': 'GNPS-SUSPECTLIST', 'compound_name': '\"Suspect related to \"\"(3R,5S,7R,8R,9S,10S,12S,13R,14S,17R)-17-((2R,5R)-5,7-dihydroxyheptan-2-yl)-10,13-dimethylhexadecahydro-1H-cyclopenta[a]phenanthrene-3,7,12-triol\"\" (predicted molecular formula SIRIUS: C32H56O12 / BUDDY: C32H56O12) with delta m/z 194.043 (putative explanation: unspecified; atomic difference: unspecified)', 'principal_investigator': 'Pieter Dorrestein', 'data_collector': 'Wout Bittremieux', 'submit_user': 'jzemlin', 'confidence': '4', 'spectrum_id': 'CCMSLIB00012079796', 'precursor_mz': 615.373, 'adduct': '[M-H2O+H]+', 'retention_index': None, 'retention_time': None, 'id': 'spec_48'}\n",
      "\n",
      "{'charge': 1, 'ionmode': 'positive', 'inchi': '\"\"\"InChI=1S/C26H46O8S/c1-15(4-5-18(9-11-27)34-35(31,32)33)19-6-7-20-24-21(14-23(30)26(19,20)3)25(2)10-8-17(28)12-16(25)13-22(24)29/h15-24,27-30H,4-14H2,1-3H3,(H,31,32,33)/t15?,16-,17-,18?,19-,20+,21+,22-,23+,24+,25?,26?/m1/s1\"\" + 14.033 Da\"', 'scans': '50', 'ms_level': '2', 'instrument_type': 'ESI-qTof', 'file_name': 'suspect_list_batch_creation.mgf', 'peptide_sequence': '*..*', 'organism_name': 'GNPS-SUSPECTLIST', 'compound_name': '\"Suspect related to \"\"(3R,6R)-1-hydroxy-6-((3R,5R,7R,8R,9S,10S,12S,13R,14S,17R)-3,7,12-trihydroxy-10,13-dimethylhexadecahydro-1H-cyclopenta[a]phenanthren-17-yl)heptan-3-yl hydrogen sulfate\"\" (predicted molecular formula SIRIUS: C31H48O7 / BUDDY: C31H48O7) with delta m/z 14.033 (putative explanation: unspecified; atomic difference: unspecified)', 'principal_investigator': 'Pieter Dorrestein', 'data_collector': 'Wout Bittremieux', 'submit_user': 'jzemlin', 'confidence': '4', 'spectrum_id': 'CCMSLIB00012079797', 'precursor_mz': 555.324, 'adduct': '[M+Na]+', 'retention_index': None, 'retention_time': None, 'id': 'spec_49'}\n",
      "\n",
      "{'charge': 1, 'ionmode': 'positive', 'inchi': '\"\"\"InChI=1S/C27H46O2/c1-18(17-28)6-5-7-19(2)23-10-11-24-22-9-8-20-16-21(29)12-14-26(20,3)25(22)13-15-27(23,24)4/h8,18-19,21-25,28-29H,5-7,9-17H2,1-4H3/t18?,19-,21+,22+,23-,24+,25+,26+,27-/m1/s1\"\" - 12.112 Da\"', 'scans': '51', 'ms_level': '2', 'instrument_type': 'ESI-qTof', 'file_name': 'suspect_list_batch_creation.mgf', 'peptide_sequence': '*..*', 'organism_name': 'GNPS-SUSPECTLIST', 'compound_name': '\"Suspect related to \"\"(3S,8S,9S,10R,13R,14S,17R)-17-((2R)-7-hydroxy-6-methylheptan-2-yl)-10,13-dimethyl-2,3,4,7,8,9,10,11,12,13,14,15,16,17-tetradecahydro-1H-cyclopenta[a]phenanthren-3-ol\"\" (predicted molecular formula SIRIUS: C18H30N8O2 / BUDDY: C23H34O5) with delta m/z -12.112 (putative explanation: unspecified; atomic difference: unspecified)', 'principal_investigator': 'Pieter Dorrestein', 'data_collector': 'Wout Bittremieux', 'submit_user': 'jzemlin', 'confidence': '4', 'spectrum_id': 'CCMSLIB00012079798', 'precursor_mz': 355.233, 'adduct': '[M-2H2O+H]+', 'retention_index': None, 'retention_time': None, 'id': 'spec_50'}\n",
      "\n"
     ]
    }
   ],
   "source": [
    "for doc_id in range(n_docs):\n",
    "    # retrieve distribution for document\n",
    "    top_1_motif, top_2_motif = ms2lda.docs[doc_id].get_topics(2)\n",
    "    \n",
    "    top_1_motif_id, top_1_motif_score = top_1_motif\n",
    "    top_2_motif_id, top_2_motif_score = top_2_motif\n",
    "\n",
    "    # retrieve spectrum\n",
    "    top_1_motif_spec = motif_spectra[top_1_motif_id]\n",
    "    top_2_motif_spec = motif_spectra[top_2_motif_id]\n",
    "\n",
    "    # extract document/input spectrum annotation\n",
    "    input_spec = retrieve_spec4doc(doc2spec_map, ms2lda, doc_id)\n",
    "    inchi = input_spec.get(\"inchi\")\n",
    "    smiles = inchi2smiles(inchi)\n",
    "\n",
    "    # extract fingerprints\n",
    "    #top_1_smiles = top_1_motif_spec.get(\"Auto_annotation\")\n",
    "    #top_1_motif_fps = calc_fingerprints([top_1_smiles])\n",
    "    print()\n",
    "    if doc_id == 50:\n",
    "        break"
   ]
  },
  {
   "cell_type": "code",
   "execution_count": 52,
   "id": "be741b8f-2fcf-4c2b-b78e-684fd932127a",
   "metadata": {},
   "outputs": [
    {
     "data": {
      "text/plain": [
       "{'id': 'motif_908', 'charge': 1, 'ms2accuracy': 0.005, 'motifset': 'unknown'}"
      ]
     },
     "execution_count": 52,
     "metadata": {},
     "output_type": "execute_result"
    }
   ],
   "source": [
    "top_1_motif_spec.metadata"
   ]
  },
  {
   "cell_type": "code",
   "execution_count": null,
   "id": "04b43733-7794-4598-ad72-5422bb1577df",
   "metadata": {},
   "outputs": [],
   "source": []
  }
 ],
 "metadata": {
  "kernelspec": {
   "display_name": "Python 3 (ipykernel)",
   "language": "python",
   "name": "python3"
  },
  "language_info": {
   "codemirror_mode": {
    "name": "ipython",
    "version": 3
   },
   "file_extension": ".py",
   "mimetype": "text/x-python",
   "name": "python",
   "nbconvert_exporter": "python",
   "pygments_lexer": "ipython3",
   "version": "3.9.19"
  }
 },
 "nbformat": 4,
 "nbformat_minor": 5
}
