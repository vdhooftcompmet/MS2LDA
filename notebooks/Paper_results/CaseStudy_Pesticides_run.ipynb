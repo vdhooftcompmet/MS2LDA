{
 "cells": [
  {
   "cell_type": "markdown",
   "id": "e231f2d4-c537-4c10-9fb1-3e4df87a54d5",
   "metadata": {},
   "source": [
    "## Running MS2LDA"
   ]
  },
  {
   "cell_type": "code",
   "execution_count": null,
   "id": "18cd2e05-410b-4785-adff-4be45124acfa",
   "metadata": {},
   "outputs": [],
   "source": "%matplotlib agg\nimport sys\nsys.path.insert(0, '../../')\nimport MS2LDA"
  },
  {
   "cell_type": "code",
   "execution_count": 2,
   "id": "944410aa-a4cc-4104-8e36-f9389175847a",
   "metadata": {},
   "outputs": [],
   "source": [
    "preprocessing_parameters = {\n",
    "    \"min_mz\": 0,\n",
    "    \"max_mz\": 1000,\n",
    "    \"max_frags\": 1000,\n",
    "    \"min_frags\": 4,\n",
    "    \"min_intensity\": 0.01,\n",
    "    \"max_intensity\": 1\n",
    "}"
   ]
  },
  {
   "cell_type": "code",
   "execution_count": 3,
   "id": "dcdf52c5-82a2-455a-89ed-506af3c4826c",
   "metadata": {},
   "outputs": [],
   "source": [
    "convergence_parameters = {\n",
    "    \"step_size\": 50,\n",
    "    \"window_size\": 10,\n",
    "    \"threshold\": 0.001,\n",
    "    \"type\": \"perplexity_history\"\n",
    "}"
   ]
  },
  {
   "cell_type": "code",
   "execution_count": null,
   "id": "590514d5-9c55-44b9-8fc0-f3f59d8a6bf2",
   "metadata": {},
   "outputs": [],
   "source": "annotation_parameters = {\n    \"criterium\": \"biggest\", \n    \"cosine_similarity\": 0.75,\n    \"n_mols_retrieved\": 10, \n    \"s2v_model_path\": \"../../MS2LDA/Add_On/Spec2Vec/model_positive_mode/150225_Spec2Vec_pos_CleanedLibraries.model\",\n    \"s2v_library_embeddings\": \"../../MS2LDA/Add_On/Spec2Vec/model_positive_mode/150225_CleanedLibraries_Spec2Vec_pos_embeddings.npy\",\n    \"s2v_library_db\": \"../../MS2LDA/Add_On/Spec2Vec/model_positive_mode/150225_CombLibraries_spectra.db\",\n}"
  },
  {
   "cell_type": "code",
   "execution_count": 5,
   "id": "4a056889-9ec4-4abf-9262-6f40e4499814",
   "metadata": {},
   "outputs": [],
   "source": [
    "n_motifs = 250\n",
    "n_iterations = 5000"
   ]
  },
  {
   "cell_type": "code",
   "execution_count": 6,
   "id": "5fd54ccb-aa47-49bd-a34d-518730ed0ef8",
   "metadata": {},
   "outputs": [],
   "source": [
    "import random\n",
    "random.seed(42)\n",
    "model_parameters = {\n",
    "    \"rm_top\": 0, \n",
    "    \"min_cf\": 0,\n",
    "    \"min_df\": 3,\n",
    "    \"alpha\": 0.4, #A higher alpha makes the document preferences \"smoother\" over topics\n",
    "    \"eta\": 0.01, #and a higher eta makes the topic preferences \"smoother\" over words.\n",
    "    \"seed\": 42,\n",
    "}"
   ]
  },
  {
   "cell_type": "code",
   "execution_count": 7,
   "id": "a0e0b0a4-d4f7-437d-ae69-0271c81f1efb",
   "metadata": {},
   "outputs": [],
   "source": [
    "train_parameters = {\n",
    "    \"parallel\": 3,\n",
    "    \"workers\": 0, \n",
    "}"
   ]
  },
  {
   "cell_type": "code",
   "execution_count": 8,
   "id": "366a586a-6121-4db3-9ac2-a40bb327239c",
   "metadata": {},
   "outputs": [],
   "source": [
    "dataset_parameters = {\n",
    "    \"acquisition_type\": \"DDA\",\n",
    "    \"significant_digits\": 3,\n",
    "    \"charge\": 1,\n",
    "    \"name\": \"DDA-Pesticide-Neurotox\",\n",
    "    \"output_folder\": f\"CaseStudy_Pesticide_{n_motifs}motifs_output\", \n",
    "}"
   ]
  },
  {
   "cell_type": "code",
   "execution_count": 9,
   "id": "68e7abcb-57c1-4494-a4bf-ea9b9e98b8c7",
   "metadata": {},
   "outputs": [],
   "source": [
    "fingerprint_parameters = {\n",
    "    \"fp_type\": \"maccs\",\n",
    "    \"threshold\": 0.8,\n",
    "}"
   ]
  },
  {
   "cell_type": "code",
   "execution_count": 10,
   "id": "c46ed944-06c8-4577-94d0-26630b788b88",
   "metadata": {},
   "outputs": [],
   "source": [
    "motif_parameter = 10"
   ]
  },
  {
   "cell_type": "code",
   "execution_count": 11,
   "id": "404d3207-3fc0-408f-906a-bcaad1989db7",
   "metadata": {},
   "outputs": [
    {
     "data": {
      "text/plain": [
       "9766"
      ]
     },
     "execution_count": 11,
     "metadata": {},
     "output_type": "execute_result"
    }
   ],
   "source": [
    "from matchms.importing import load_from_mgf\n",
    "dataset = list(load_from_mgf(\"../../datasets/mzmine443_Tomato200_InclusionListA_15000A.mgf\"))\n",
    "len(dataset)"
   ]
  },
  {
   "cell_type": "code",
   "execution_count": 12,
   "id": "f5e3adc8-b5b9-4df9-a30d-6058e0bea552",
   "metadata": {},
   "outputs": [
    {
     "name": "stdout",
     "output_type": "stream",
     "text": [
      "Cleaning spectra ... 5611 spectra left\n"
     ]
    },
    {
     "name": "stderr",
     "output_type": "stream",
     "text": [
      "C:\\Users\\dietr004\\AppData\\Local\\anaconda3\\envs\\newpython\\Lib\\site-packages\\MS2LDA\\modeling.py:54: RuntimeWarning: The training result may differ even with fixed seed if `workers` != 1.\n",
      "  model.train(convergence_parameters[\"step_size\"], **train_parameters)\n",
      " 53%|██████████████████████████████████████████▉                                      | 53/100 [02:49<02:30,  3.19s/it]"
     ]
    },
    {
     "name": "stdout",
     "output_type": "stream",
     "text": [
      "Model has converged\n"
     ]
    },
    {
     "name": "stderr",
     "output_type": "stream",
     "text": [
      "\n",
      "100%|████████████████████████████████████████████████████████████████████████████████| 250/250 [00:05<00:00, 43.88it/s]\n"
     ]
    },
    {
     "name": "stdout",
     "output_type": "stream",
     "text": [
      "m2m folder stored\n",
      "convergence curve stored\n",
      "network stored\n"
     ]
    },
    {
     "name": "stderr",
     "output_type": "stream",
     "text": [
      "C:\\Users\\dietr004\\AppData\\Local\\anaconda3\\envs\\newpython\\Lib\\site-packages\\MS2LDA\\Visualisation\\visualisation.py:421: UserWarning: No artists with labels found to put in legend.  Note that artists whose label start with an underscore are ignored when legend() is called with no argument.\n",
      "  plt.legend(loc=\"best\")\n"
     ]
    },
    {
     "name": "stdout",
     "output_type": "stream",
     "text": [
      "Visualization data saved to: CaseStudy_Pesticide_250motifs_output\\ms2lda_viz.json\n"
     ]
    },
    {
     "ename": "ValueError",
     "evalue": "not enough values to unpack (expected 4, got 3)",
     "output_type": "error",
     "traceback": [
      "\u001b[1;31m---------------------------------------------------------------------------\u001b[0m",
      "\u001b[1;31mValueError\u001b[0m                                Traceback (most recent call last)",
      "Cell \u001b[1;32mIn[12], line 1\u001b[0m\n\u001b[1;32m----> 1\u001b[0m motif_spectra, optimized_motifs, motif_fps, library_matches \u001b[38;5;241m=\u001b[39m MS2LDA\u001b[38;5;241m.\u001b[39mrun(dataset, n_motifs\u001b[38;5;241m=\u001b[39mn_motifs, n_iterations\u001b[38;5;241m=\u001b[39mn_iterations,\n\u001b[0;32m      2\u001b[0m         dataset_parameters\u001b[38;5;241m=\u001b[39mdataset_parameters,\n\u001b[0;32m      3\u001b[0m         train_parameters\u001b[38;5;241m=\u001b[39mtrain_parameters,\n\u001b[0;32m      4\u001b[0m         model_parameters\u001b[38;5;241m=\u001b[39mmodel_parameters,\n\u001b[0;32m      5\u001b[0m         convergence_parameters\u001b[38;5;241m=\u001b[39mconvergence_parameters,\n\u001b[0;32m      6\u001b[0m         annotation_parameters\u001b[38;5;241m=\u001b[39mannotation_parameters,\n\u001b[0;32m      7\u001b[0m         motif_parameter\u001b[38;5;241m=\u001b[39mmotif_parameter,\n\u001b[0;32m      8\u001b[0m         preprocessing_parameters\u001b[38;5;241m=\u001b[39mpreprocessing_parameters,\n\u001b[0;32m      9\u001b[0m         fingerprint_parameters\u001b[38;5;241m=\u001b[39mfingerprint_parameters)\n",
      "\u001b[1;31mValueError\u001b[0m: not enough values to unpack (expected 4, got 3)"
     ]
    }
   ],
   "source": [
    "motif_spectra, optimized_motifs, motif_fps = MS2LDA.run(dataset, n_motifs=n_motifs, n_iterations=n_iterations,\n",
    "        dataset_parameters=dataset_parameters,\n",
    "        train_parameters=train_parameters,\n",
    "        model_parameters=model_parameters,\n",
    "        convergence_parameters=convergence_parameters,\n",
    "        annotation_parameters=annotation_parameters,\n",
    "        motif_parameter=motif_parameter,\n",
    "        preprocessing_parameters=preprocessing_parameters,\n",
    "        fingerprint_parameters=fingerprint_parameters)"
   ]
  },
  {
   "cell_type": "markdown",
   "id": "3e9acd29-08bc-4864-aa58-1204a1cb0a26",
   "metadata": {},
   "source": [
    "---"
   ]
  }
 ],
 "metadata": {
  "kernelspec": {
   "display_name": "Python 3 (ipykernel)",
   "language": "python",
   "name": "python3"
  },
  "language_info": {
   "codemirror_mode": {
    "name": "ipython",
    "version": 3
   },
   "file_extension": ".py",
   "mimetype": "text/x-python",
   "name": "python",
   "nbconvert_exporter": "python",
   "pygments_lexer": "ipython3",
   "version": "3.12.9"
  }
 },
 "nbformat": 4,
 "nbformat_minor": 5
}