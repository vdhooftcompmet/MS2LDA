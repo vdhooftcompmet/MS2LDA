{
 "cells": [
  {
   "cell_type": "code",
   "execution_count": 1,
   "id": "c1541f5c-65ca-4de1-9f80-50865bb84f41",
   "metadata": {},
   "outputs": [],
   "source": [
    "import json\n",
    "\n",
    "from MS2LDA.motif_parser import load_m2m_folder\n",
    "from MS2LDA.run import s2v_annotation\n",
    "from MS2LDA.Add_On.Spec2Vec.annotation_refined import hit_clustering\n",
    "from MS2LDA.Add_On.Spec2Vec.annotation import load_s2v_model"
   ]
  },
  {
   "cell_type": "code",
   "execution_count": 34,
   "id": "530b20ea-b148-487d-be29-6c18a3fcae1b",
   "metadata": {},
   "outputs": [],
   "source": [
    "annotation_parameters = {\n",
    "    \"criterium\": \"best\",\n",
    "    \"cosine_similarity\": 0.8,\n",
    "    \"n_mols_retrieved\": 25, \n",
    "    \"s2v_model_path\": r\"C:\\Users\\dietr004\\Documents\\PhD\\computational mass spectrometry\\WP1\\MS2LDA\\MS2LDA\\Add_On\\Spec2Vec\\model_positive_mode\\150225_Spec2Vec_pos_CleanedLibraries.model\",\n",
    "    \"s2v_library_embeddings\": \"../../MS2LDA/Add_On/Spec2Vec/model_positive_mode/150225_CleanedLibraries_Spec2Vec_pos_embeddings.npy\",\n",
    "    \"s2v_library_db\": \"../../MS2LDA/Add_On/Spec2Vec/model_positive_mode/150225_CombLibraries_spectra.db\",\n",
    "}"
   ]
  },
  {
   "cell_type": "markdown",
   "id": "b9cf19af-a665-40d3-8523-e60be3bc3fc4",
   "metadata": {},
   "source": [
    "## Massbank"
   ]
  },
  {
   "cell_type": "code",
   "execution_count": 35,
   "id": "2eb0c4e4-827f-4aeb-a066-dbc1a3242697",
   "metadata": {},
   "outputs": [],
   "source": [
    "Massbank_motifset_201X = load_m2m_folder(\"../../../../PROGRAMS/pysubstructures/pySubstructures/resources/MOTIFDB/Massbank library derived Mass2Motifs/\")"
   ]
  },
  {
   "cell_type": "code",
   "execution_count": 36,
   "id": "854d241c-d977-4903-9d65-b2fb25aedc2d",
   "metadata": {},
   "outputs": [
    {
     "name": "stderr",
     "output_type": "stream",
     "text": [
      "100%|███████████████████████████████████████████████████████████████████████████████| 45/45 [00:02<00:00, 16.82it/s]\n"
     ]
    }
   ],
   "source": [
    "Massbank_library_matches, s2v_similarity = s2v_annotation(Massbank_motifset_201X, annotation_parameters)\n",
    "_, Massbank_clustered_smiles, _ = hit_clustering(s2v_similarity=s2v_similarity, motif_spectra=Massbank_motifset_201X, library_matches=Massbank_library_matches, criterium=\"best\", cosine_similarity=0.8)"
   ]
  },
  {
   "cell_type": "code",
   "execution_count": 37,
   "id": "857cbd36-d497-460b-9511-84a5b9e2d546",
   "metadata": {},
   "outputs": [],
   "source": [
    "MassBank_auto_annotation_pos = {}\n",
    "for smiles, motif in zip(Massbank_clustered_smiles, Massbank_motifset_201X):\n",
    "    motifname = motif.get(\"id\")\n",
    "    MassBank_auto_annotation_pos[f\"mb_{motifname}.m2m\"] = {\"SMILES\": smiles}"
   ]
  },
  {
   "cell_type": "code",
   "execution_count": 38,
   "id": "ed39e7c8-bd38-4378-9dcf-64a9311aab7e",
   "metadata": {},
   "outputs": [
    {
     "data": {
      "text/plain": [
       "45"
      ]
     },
     "execution_count": 38,
     "metadata": {},
     "output_type": "execute_result"
    }
   ],
   "source": [
    "len(MassBank_auto_annotation_pos)"
   ]
  },
  {
   "cell_type": "code",
   "execution_count": 39,
   "id": "5e18528d-57ee-4e92-8ec3-dd30c2c9f01e",
   "metadata": {},
   "outputs": [],
   "source": [
    "with open(\"Annotation_Benchmark_MotifSets/MassBank_auto_annotation_pos.json\", \"w\") as f:\n",
    "    json.dump(MassBank_auto_annotation_pos, f, indent=4)"
   ]
  },
  {
   "cell_type": "markdown",
   "id": "67211268-cc5e-4dcd-b5fe-ebb98a1d9bd6",
   "metadata": {},
   "source": [
    "## Urine"
   ]
  },
  {
   "cell_type": "code",
   "execution_count": 40,
   "id": "db7bce8e-5321-43d8-8e8e-7f90ac535288",
   "metadata": {},
   "outputs": [],
   "source": [
    "Urine_motifset_201X = load_m2m_folder(\"../../../../PROGRAMS/pysubstructures/pySubstructures/resources/MOTIFDB/Urine derived Mass2Motifs/\")"
   ]
  },
  {
   "cell_type": "code",
   "execution_count": 41,
   "id": "84f94a40-d3c7-4f11-9c03-0c1ff279aa22",
   "metadata": {},
   "outputs": [
    {
     "name": "stderr",
     "output_type": "stream",
     "text": [
      "100%|█████████████████████████████████████████████████████████████████████████████| 133/133 [00:07<00:00, 18.34it/s]\n"
     ]
    }
   ],
   "source": [
    "Urine_library_matches, s2v_similarity = s2v_annotation(Urine_motifset_201X, annotation_parameters)\n",
    "_, Urine_clustered_smiles, _ = hit_clustering(s2v_similarity=s2v_similarity, motif_spectra=Urine_motifset_201X, library_matches=Urine_library_matches, criterium=\"biggest\", cosine_similarity=0.8)"
   ]
  },
  {
   "cell_type": "code",
   "execution_count": 42,
   "id": "b9b92326-2791-4f65-9346-8d30da1e0b86",
   "metadata": {
    "scrolled": true
   },
   "outputs": [],
   "source": [
    "Urine_auto_annotation_pos = {}\n",
    "for smiles, motif in zip(Urine_clustered_smiles, Urine_motifset_201X):\n",
    "    motifname = motif.get(\"id\")\n",
    "    Urine_auto_annotation_pos[f\"urine_mass2{motifname}.m2m\"] = {\"SMILES\": smiles}"
   ]
  },
  {
   "cell_type": "code",
   "execution_count": 43,
   "id": "9c120947-ccf3-4a04-953b-ed61446aa90a",
   "metadata": {},
   "outputs": [
    {
     "data": {
      "text/plain": [
       "133"
      ]
     },
     "execution_count": 43,
     "metadata": {},
     "output_type": "execute_result"
    }
   ],
   "source": [
    "len(Urine_auto_annotation_pos)"
   ]
  },
  {
   "cell_type": "code",
   "execution_count": 44,
   "id": "3dafd203-9ee4-4a85-9bdd-6a3bd1431edf",
   "metadata": {},
   "outputs": [],
   "source": [
    "with open(\"Annotation_Benchmark_MotifSets/Urine_auto_annotation_pos.json\", \"w\") as f:\n",
    "    json.dump(Urine_auto_annotation_pos, f, indent=4)"
   ]
  },
  {
   "cell_type": "markdown",
   "id": "74be7165-6b4d-4b3e-ac96-d4a8aba397de",
   "metadata": {},
   "source": [
    "## GNPS"
   ]
  },
  {
   "cell_type": "code",
   "execution_count": 45,
   "id": "1725928c-0b11-4447-a6eb-6a93e44449f9",
   "metadata": {},
   "outputs": [],
   "source": [
    "GNPS_motifset_201X = load_m2m_folder(\"../../../../PROGRAMS/pysubstructures/pySubstructures/resources/MOTIFDB/GNPS library derived Mass2Motifs/\")"
   ]
  },
  {
   "cell_type": "code",
   "execution_count": 46,
   "id": "f020a323-bc31-45d2-933c-70afca8819be",
   "metadata": {},
   "outputs": [
    {
     "name": "stderr",
     "output_type": "stream",
     "text": [
      "100%|███████████████████████████████████████████████████████████████████████████████| 77/77 [00:04<00:00, 16.39it/s]\n"
     ]
    }
   ],
   "source": [
    "GNPS_library_matches, s2v_similarity = s2v_annotation(GNPS_motifset_201X, annotation_parameters)\n",
    "_, GNPS_clustered_smiles, _ = hit_clustering(s2v_similarity=s2v_similarity, motif_spectra=GNPS_motifset_201X, library_matches=GNPS_library_matches, criterium=\"best\", cosine_similarity=0.9)"
   ]
  },
  {
   "cell_type": "code",
   "execution_count": 47,
   "id": "f449741c-c1c1-48a7-acf0-26da9fba7e23",
   "metadata": {},
   "outputs": [],
   "source": [
    "GNPS_auto_annotation_pos = {}\n",
    "for smiles, motif in zip(GNPS_clustered_smiles, GNPS_motifset_201X):\n",
    "    motifname = motif.get(\"id\")\n",
    "    GNPS_auto_annotation_pos[f\"gnps_{motifname}.m2m\"] = {\"SMILES\": smiles}"
   ]
  },
  {
   "cell_type": "code",
   "execution_count": 48,
   "id": "b990a155-cab4-4ef3-b0ee-cf974e17941b",
   "metadata": {},
   "outputs": [
    {
     "data": {
      "text/plain": [
       "77"
      ]
     },
     "execution_count": 48,
     "metadata": {},
     "output_type": "execute_result"
    }
   ],
   "source": [
    "len(GNPS_auto_annotation_pos)"
   ]
  },
  {
   "cell_type": "code",
   "execution_count": 49,
   "id": "7e53e817-33e2-4261-be1f-1ae59bd35cc6",
   "metadata": {},
   "outputs": [],
   "source": [
    "with open(\"Annotation_Benchmark_MotifSets/GNPS_auto_annotation_pos.json\", \"w\") as f:\n",
    "    json.dump(GNPS_auto_annotation_pos, f, indent=4)"
   ]
  },
  {
   "cell_type": "markdown",
   "id": "7ef8a272-20ac-47fd-9511-a581196a5aa8",
   "metadata": {},
   "source": [
    "---"
   ]
  },
  {
   "cell_type": "code",
   "execution_count": null,
   "id": "e4bbf909-d8f5-4f33-8355-b1fdf2264167",
   "metadata": {},
   "outputs": [],
   "source": []
  },
  {
   "cell_type": "code",
   "execution_count": null,
   "id": "a8c416e4-9872-4a57-965f-70405c5caeee",
   "metadata": {},
   "outputs": [],
   "source": []
  },
  {
   "cell_type": "code",
   "execution_count": null,
   "id": "92ee0bc9-f7e2-4aa6-87b0-b74f8c2007de",
   "metadata": {},
   "outputs": [],
   "source": []
  }
 ],
 "metadata": {
  "kernelspec": {
   "display_name": "Python 3 (ipykernel)",
   "language": "python",
   "name": "python3"
  },
  "language_info": {
   "codemirror_mode": {
    "name": "ipython",
    "version": 3
   },
   "file_extension": ".py",
   "mimetype": "text/x-python",
   "name": "python",
   "nbconvert_exporter": "python",
   "pygments_lexer": "ipython3",
   "version": "3.12.9"
  }
 },
 "nbformat": 4,
 "nbformat_minor": 5
}
