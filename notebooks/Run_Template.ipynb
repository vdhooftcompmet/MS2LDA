{
 "cells": [
  {
   "cell_type": "code",
   "execution_count": 2,
   "id": "0dc35a80-f34a-4e27-a42a-298c109d96da",
   "metadata": {},
   "outputs": [
    {
     "name": "stdout",
     "output_type": "stream",
     "text": [
      "C:\\Users\\dietr004\\Documents\\PhD\\computational mass spectrometry\\Spec2Struc\\Project_SubstructureIdentification\\MS2LDA\n"
     ]
    }
   ],
   "source": [
    "import os\n",
    "os.chdir(\"..\")\n",
    "print(os.getcwd())"
   ]
  },
  {
   "cell_type": "markdown",
   "id": "62ba8388-00a5-48a7-9b16-c61dd8af9274",
   "metadata": {},
   "source": [
    "## Load spectra, Clean spectra and generate a Corpus for LDA"
   ]
  },
  {
   "cell_type": "code",
   "execution_count": 3,
   "id": "5d4f918c-8e68-4f04-8a79-095d78210232",
   "metadata": {},
   "outputs": [],
   "source": [
    "from Preprocessing.load_and_clean import load_mgf\n",
    "from Preprocessing.load_and_clean import clean_spectra\n",
    "\n",
    "from Preprocessing.generate_corpus import features_to_words\n",
    "from Preprocessing.generate_corpus import combine_features"
   ]
  },
  {
   "cell_type": "code",
   "execution_count": 4,
   "id": "cd029fd5-d58f-49e9-a982-389a661a04ee",
   "metadata": {},
   "outputs": [],
   "source": [
    "# define spectra path\n",
    "spectra_path = r\"test_data\\pos_ache_inhibitors_pesticides.mgf\""
   ]
  },
  {
   "cell_type": "code",
   "execution_count": 5,
   "id": "5cc0d42e-ef47-413d-8945-154b87e9b109",
   "metadata": {},
   "outputs": [],
   "source": [
    "# This is the cleaning part: removing spectra with too less peaks and so on ...\n",
    "spectra = load_mgf(spectra_path)\n",
    "cleaned_spectra = clean_spectra(spectra)"
   ]
  },
  {
   "cell_type": "code",
   "execution_count": 6,
   "id": "aa106d48-be5e-4889-a943-d6c66cd3b271",
   "metadata": {},
   "outputs": [],
   "source": [
    "# This is the Corpus generatino part: adding frag@ and loss@ and so on ...\n",
    "fragment_words, loss_words = features_to_words(cleaned_spectra)\n",
    "feature_words = combine_features(fragment_words, loss_words)"
   ]
  },
  {
   "cell_type": "markdown",
   "id": "ab64b0d4-ab7f-43b4-b224-75f8376839fa",
   "metadata": {},
   "source": [
    "## Topic Modelling"
   ]
  },
  {
   "cell_type": "code",
   "execution_count": 7,
   "id": "dff26bcd-c043-4e5f-ba54-c666ee159dc0",
   "metadata": {},
   "outputs": [],
   "source": [
    "from MS2LDA.modeling import define_model\n",
    "from MS2LDA.modeling import train_model\n",
    "from MS2LDA.modeling import extract_motifs\n",
    "from MS2LDA.modeling import create_motif_spectra"
   ]
  },
  {
   "cell_type": "code",
   "execution_count": 8,
   "id": "6dac9b37-1719-4187-98a4-c3e92e7f0255",
   "metadata": {},
   "outputs": [],
   "source": [
    "# set the model parameters. Number of motifs must be given, the rest can be based on tomotopy implementation: https://bab2min.github.io/tomotopy/v0.12.6/en/#tomotopy.LDAModel\n",
    "model_parameters = {}\n",
    "ms2lda = define_model(n_motifs=43)"
   ]
  },
  {
   "cell_type": "code",
   "execution_count": 11,
   "id": "4d1e2efd-16cf-4284-a353-85850de420e0",
   "metadata": {},
   "outputs": [
    {
     "name": "stdout",
     "output_type": "stream",
     "text": [
      "CPU times: total: 219 ms\n",
      "Wall time: 194 ms\n"
     ]
    }
   ],
   "source": [
    "%%time\n",
    "# set the training parameters based on the tomotopy implementation: https://bab2min.github.io/tomotopy/v0.12.6/en/#tomotopy.LDAModel.train\n",
    "# the parallization scheme (keyword parallel) has a big impact on the speed.\n",
    "train_parameters = {\"parallel\": 4}\n",
    "trained_ms2lda = train_model(ms2lda, feature_words, iterations=300, train_parameters=train_parameters)"
   ]
  },
  {
   "cell_type": "code",
   "execution_count": 12,
   "id": "2e319b80-28da-4ff1-ba4e-69891337a14a",
   "metadata": {},
   "outputs": [],
   "source": [
    "motifs = extract_motifs(trained_ms2lda, top_n=20)\n",
    "motif_spectra = create_motif_spectra(motifs)"
   ]
  },
  {
   "cell_type": "code",
   "execution_count": null,
   "id": "117b51fc-a07a-4d55-8817-6c94b5e050f8",
   "metadata": {},
   "outputs": [],
   "source": []
  },
  {
   "cell_type": "code",
   "execution_count": null,
   "id": "bfb0c1af-de5d-49cc-bcaa-e02650295da4",
   "metadata": {},
   "outputs": [],
   "source": []
  }
 ],
 "metadata": {
  "kernelspec": {
   "display_name": "Python 3 (ipykernel)",
   "language": "python",
   "name": "python3"
  },
  "language_info": {
   "codemirror_mode": {
    "name": "ipython",
    "version": 3
   },
   "file_extension": ".py",
   "mimetype": "text/x-python",
   "name": "python",
   "nbconvert_exporter": "python",
   "pygments_lexer": "ipython3",
   "version": "3.9.19"
  }
 },
 "nbformat": 4,
 "nbformat_minor": 5
}
