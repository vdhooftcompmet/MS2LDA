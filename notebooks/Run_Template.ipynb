{
 "cells": [
  {
   "cell_type": "code",
   "execution_count": 1,
   "id": "0dc35a80-f34a-4e27-a42a-298c109d96da",
   "metadata": {},
   "outputs": [
    {
     "name": "stdout",
     "output_type": "stream",
     "text": [
      "C:\\Users\\dietr004\\Documents\\PhD\\computational mass spectrometry\\Spec2Struc\\Project_SubstructureIdentification\\MS2LDA\n"
     ]
    }
   ],
   "source": [
    "import os\n",
    "os.chdir(\"..\")\n",
    "print(os.getcwd())"
   ]
  },
  {
   "cell_type": "markdown",
   "id": "62ba8388-00a5-48a7-9b16-c61dd8af9274",
   "metadata": {},
   "source": [
    "## Load spectra, Clean spectra and generate a Corpus for LDA"
   ]
  },
  {
   "cell_type": "code",
   "execution_count": 2,
   "id": "5d4f918c-8e68-4f04-8a79-095d78210232",
   "metadata": {},
   "outputs": [],
   "source": [
    "from Preprocessing.load_and_clean import load_mgf\n",
    "from Preprocessing.load_and_clean import clean_spectra\n",
    "\n",
    "from Preprocessing.generate_corpus import features_to_words\n",
    "from Preprocessing.generate_corpus import combine_features"
   ]
  },
  {
   "cell_type": "code",
   "execution_count": 3,
   "id": "cd029fd5-d58f-49e9-a982-389a661a04ee",
   "metadata": {},
   "outputs": [],
   "source": [
    "# define spectra path\n",
    "spectra_path = \"test_data\\\\pos_ache_inhibitors_pesticides.mgf\""
   ]
  },
  {
   "cell_type": "code",
   "execution_count": 4,
   "id": "5cc0d42e-ef47-413d-8945-154b87e9b109",
   "metadata": {},
   "outputs": [],
   "source": [
    "# This is the cleaning part: removing spectra with too less peaks and so on ...\n",
    "spectra = load_mgf(spectra_path)\n",
    "cleaned_spectra = clean_spectra(spectra)"
   ]
  },
  {
   "cell_type": "code",
   "execution_count": 5,
   "id": "aa106d48-be5e-4889-a943-d6c66cd3b271",
   "metadata": {},
   "outputs": [],
   "source": [
    "# This is the Corpus generatino part: adding frag@ and loss@ and so on ...\n",
    "fragment_words, loss_words = features_to_words(cleaned_spectra)\n",
    "feature_words = combine_features(fragment_words, loss_words)"
   ]
  },
  {
   "cell_type": "markdown",
   "id": "ab64b0d4-ab7f-43b4-b224-75f8376839fa",
   "metadata": {},
   "source": [
    "## Topic Modelling"
   ]
  },
  {
   "cell_type": "code",
   "execution_count": 6,
   "id": "dff26bcd-c043-4e5f-ba54-c666ee159dc0",
   "metadata": {},
   "outputs": [],
   "source": [
    "from MS2LDA.modeling import define_model\n",
    "from MS2LDA.modeling import train_model\n",
    "from MS2LDA.modeling import extract_motifs\n",
    "from MS2LDA.modeling import create_motif_spectra"
   ]
  },
  {
   "cell_type": "code",
   "execution_count": 7,
   "id": "6dac9b37-1719-4187-98a4-c3e92e7f0255",
   "metadata": {},
   "outputs": [],
   "source": [
    "# set the model parameters. Number of motifs must be given, the rest can be based on tomotopy implementation: https://bab2min.github.io/tomotopy/v0.12.6/en/#tomotopy.LDAModel\n",
    "model_parameters = {}\n",
    "ms2lda = define_model(n_motifs=43)"
   ]
  },
  {
   "cell_type": "code",
   "execution_count": 8,
   "id": "4d1e2efd-16cf-4284-a353-85850de420e0",
   "metadata": {},
   "outputs": [
    {
     "name": "stdout",
     "output_type": "stream",
     "text": [
      "CPU times: total: 46.9 ms\n",
      "Wall time: 37 ms\n"
     ]
    }
   ],
   "source": [
    "%%time\n",
    "# set the training parameters based on the tomotopy implementation: https://bab2min.github.io/tomotopy/v0.12.6/en/#tomotopy.LDAModel.train\n",
    "# the parallization scheme (keyword parallel) has a big impact on the speed.\n",
    "train_parameters = {\"parallel\": 4}\n",
    "trained_ms2lda = train_model(ms2lda, feature_words, iterations=300, train_parameters=train_parameters)"
   ]
  },
  {
   "cell_type": "code",
   "execution_count": 9,
   "id": "2e319b80-28da-4ff1-ba4e-69891337a14a",
   "metadata": {},
   "outputs": [],
   "source": [
    "# retrieves motif from LDA model and converts it into a matchms spectrum object\n",
    "motifs = extract_motifs(trained_ms2lda, top_n=20)\n",
    "motif_spectra = create_motif_spectra(motifs)"
   ]
  },
  {
   "cell_type": "markdown",
   "id": "28af6b7f-bd39-472d-ba38-05158c0d174f",
   "metadata": {},
   "source": [
    "## Store and load Motifs/Topics"
   ]
  },
  {
   "cell_type": "code",
   "execution_count": 10,
   "id": "117b51fc-a07a-4d55-8817-6c94b5e050f8",
   "metadata": {},
   "outputs": [],
   "source": [
    "from MS2LDA.motif_parser import store_m2m_folder\n",
    "from MS2LDA.motif_parser import load_m2m_folder"
   ]
  },
  {
   "cell_type": "code",
   "execution_count": 11,
   "id": "c2652df3-018b-4701-8d13-c5596de2667b",
   "metadata": {},
   "outputs": [],
   "source": [
    "non_existing_folder_name = \"notebooks\\\\ACHE Inhibitors from Pesticides in Positive Mode\""
   ]
  },
  {
   "cell_type": "code",
   "execution_count": 12,
   "id": "bfb0c1af-de5d-49cc-bcaa-e02650295da4",
   "metadata": {},
   "outputs": [
    {
     "data": {
      "text/plain": [
       "True"
      ]
     },
     "execution_count": 12,
     "metadata": {},
     "output_type": "execute_result"
    }
   ],
   "source": [
    "store_m2m_folder(motif_spectra, non_existing_folder_name)"
   ]
  },
  {
   "cell_type": "code",
   "execution_count": 12,
   "id": "660118c5-572b-413a-9eea-3a9b3721419e",
   "metadata": {},
   "outputs": [],
   "source": [
    "loaded_motif_spectra = load_m2m_folder(non_existing_folder_name)"
   ]
  },
  {
   "cell_type": "markdown",
   "id": "e3cadd90-5692-429b-9d02-38fa1f67992a",
   "metadata": {},
   "source": [
    "## Topic Modelling with \"fixed\" Topics"
   ]
  },
  {
   "cell_type": "code",
   "execution_count": 13,
   "id": "0bcdd135-6bfd-4855-9964-a07b417e65a0",
   "metadata": {},
   "outputs": [],
   "source": [
    "from MS2LDA.modeling import emulate_fixed_motifs"
   ]
  },
  {
   "cell_type": "code",
   "execution_count": 14,
   "id": "9f84bf8b-4b3c-4b18-b7c1-d4a814817a86",
   "metadata": {},
   "outputs": [],
   "source": [
    "# set the model parameters. Number of motifs must be given, the rest can be based on tomotopy implementation: https://bab2min.github.io/tomotopy/v0.12.6/en/#tomotopy.LDAModel\n",
    "model_parameters = {}\n",
    "ms2lda = define_model(n_motifs=73)"
   ]
  },
  {
   "cell_type": "code",
   "execution_count": 15,
   "id": "4d4dab79-a52b-4a02-aff4-b7f70345904c",
   "metadata": {},
   "outputs": [],
   "source": [
    "#! now include the \"fixed\" Topics/Motifs\n",
    "fixed_motifs = loaded_motif_spectra[:5] # fix the first 5 motifs\n",
    "fixed_ms2lda = emulate_fixed_motifs(ms2lda, fixed_motifs)"
   ]
  },
  {
   "cell_type": "code",
   "execution_count": 16,
   "id": "99777231-c171-4186-9f87-7b856998e91e",
   "metadata": {},
   "outputs": [
    {
     "name": "stdout",
     "output_type": "stream",
     "text": [
      "CPU times: total: 62.5 ms\n",
      "Wall time: 66.3 ms\n"
     ]
    }
   ],
   "source": [
    "%%time\n",
    "# set the training parameters based on the tomotopy implementation: https://bab2min.github.io/tomotopy/v0.12.6/en/#tomotopy.LDAModel.train\n",
    "# the parallization scheme (keyword parallel) has a big impact on the speed.\n",
    "train_parameters = {\"parallel\": 4}\n",
    "trained_fixed_ms2lda = train_model(fixed_ms2lda, feature_words, iterations=300, train_parameters=train_parameters)"
   ]
  },
  {
   "cell_type": "code",
   "execution_count": 17,
   "id": "c15ced6d-3b0d-470f-9724-12f43c3fa8c1",
   "metadata": {},
   "outputs": [],
   "source": [
    "# retrieves motif from LDA model and converts it into a matchms spectrum object\n",
    "motifs_fixed = extract_motifs(trained_fixed_ms2lda, top_n=20)\n",
    "motif_fixed_spectra = create_motif_spectra(motifs_fixed)"
   ]
  },
  {
   "cell_type": "markdown",
   "id": "115cf0ab-54d1-4c07-9c04-ee0116326ecb",
   "metadata": {},
   "source": [
    "## Annotate Topics"
   ]
  },
  {
   "cell_type": "code",
   "execution_count": 10,
   "id": "6b7d0eee-b49f-4bc6-805b-4f16eca539dc",
   "metadata": {},
   "outputs": [],
   "source": [
    "from Add_On.annotation import load_s2v_and_library\n",
    "from Add_On.annotation import calc_embeddings, calc_similarity\n",
    "from Add_On.annotation import get_library_matches"
   ]
  },
  {
   "cell_type": "code",
   "execution_count": 11,
   "id": "91a67f0d-2d32-4708-99e9-c1517e2b7689",
   "metadata": {},
   "outputs": [
    {
     "name": "stdout",
     "output_type": "stream",
     "text": [
      "CPU times: total: 14.5 s\n",
      "Wall time: 14.7 s\n"
     ]
    }
   ],
   "source": [
    "%%time\n",
    "s2v_similarity, library = load_s2v_and_library(\"Add_On\")"
   ]
  },
  {
   "cell_type": "code",
   "execution_count": 12,
   "id": "305daa5d-dd08-4488-81e5-f356d2cd6b14",
   "metadata": {
    "scrolled": true
   },
   "outputs": [
    {
     "name": "stdout",
     "output_type": "stream",
     "text": [
      "CPU times: total: 15.6 ms\n",
      "Wall time: 7.84 ms\n"
     ]
    }
   ],
   "source": [
    "%%time\n",
    "# calculate embeddings for found motifs\n",
    "motif_embeddings = calc_embeddings(s2v_similarity, motif_spectra)"
   ]
  },
  {
   "cell_type": "code",
   "execution_count": 13,
   "id": "c8c73712-d05f-4946-9de9-f3e2ecaeb982",
   "metadata": {},
   "outputs": [
    {
     "name": "stdout",
     "output_type": "stream",
     "text": [
      "CPU times: total: 52.6 s\n",
      "Wall time: 44.7 s\n"
     ]
    }
   ],
   "source": [
    "%%time\n",
    "# calculate similarity between found motifs and GNPS library with Spec2Vec\n",
    "similarity_matrix = calc_similarity(motif_embeddings, library.embeddings)"
   ]
  },
  {
   "cell_type": "code",
   "execution_count": 14,
   "id": "00bc77d3-8c08-48bb-a0f5-46bc31cf8a6e",
   "metadata": {},
   "outputs": [
    {
     "name": "stdout",
     "output_type": "stream",
     "text": [
      "CPU times: total: 1.31 s\n",
      "Wall time: 1.31 s\n"
     ]
    }
   ],
   "source": [
    "%%time\n",
    "matching_settings = {\n",
    "    \"similarity_matrix\": similarity_matrix,\n",
    "    \"library\": library,\n",
    "    \"top_n\": 10\n",
    "}\n",
    "library_matches = get_library_matches(matching_settings)"
   ]
  },
  {
   "cell_type": "markdown",
   "id": "fd540c60-b1d9-4dbe-8171-ce2d2c5c737c",
   "metadata": {},
   "source": [
    "### Refined Annotations"
   ]
  },
  {
   "cell_type": "code",
   "execution_count": 15,
   "id": "07bd2661-9ace-452a-9bf8-4f6cf4c1a4b2",
   "metadata": {},
   "outputs": [],
   "source": [
    "from Add_On.annotation_refined import mask_spectra"
   ]
  },
  {
   "cell_type": "code",
   "execution_count": 16,
   "id": "7a2015f7-dd37-42d1-b7cd-bea10dc22e6b",
   "metadata": {},
   "outputs": [],
   "source": [
    "masked_motif_spectra = mask_spectra(motif_spectra)"
   ]
  },
  {
   "cell_type": "markdown",
   "id": "56badc70-5128-4626-8396-cceb77c1a583",
   "metadata": {},
   "source": [
    "---"
   ]
  },
  {
   "cell_type": "code",
   "execution_count": 25,
   "id": "2e9343f0-e15e-463d-944f-af7ffa82e93f",
   "metadata": {},
   "outputs": [],
   "source": [
    "from Add_On.annotation_refined import hierachical_clustering"
   ]
  },
  {
   "cell_type": "code",
   "execution_count": 30,
   "id": "755b23e2-070d-44c9-9878-1ed8e65fccb1",
   "metadata": {
    "scrolled": true
   },
   "outputs": [
    {
     "name": "stdout",
     "output_type": "stream",
     "text": [
      "-0.5518796992481202\n",
      "[1 1 1 1 1 1 2 1 1 1]\n",
      "0.7488721804511278\n"
     ]
    }
   ],
   "source": [
    "cluster = hierachical_clustering(s2v_similarity, library_matches[0][1], masked_motif_spectra[0])"
   ]
  },
  {
   "cell_type": "code",
   "execution_count": null,
   "id": "ed21df43-ce87-4c22-8071-f6d834a745f2",
   "metadata": {},
   "outputs": [],
   "source": []
  }
 ],
 "metadata": {
  "kernelspec": {
   "display_name": "Python 3 (ipykernel)",
   "language": "python",
   "name": "python3"
  },
  "language_info": {
   "codemirror_mode": {
    "name": "ipython",
    "version": 3
   },
   "file_extension": ".py",
   "mimetype": "text/x-python",
   "name": "python",
   "nbconvert_exporter": "python",
   "pygments_lexer": "ipython3",
   "version": "3.9.19"
  }
 },
 "nbformat": 4,
 "nbformat_minor": 5
}
