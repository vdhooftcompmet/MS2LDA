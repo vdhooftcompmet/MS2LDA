{
 "cells": [
  {
   "cell_type": "code",
   "execution_count": 1,
   "metadata": {},
   "outputs": [
    {
     "name": "stdout",
     "output_type": "stream",
     "text": [
      "/Users/rosinatorres/Documents/PhD/WP1/Project/Code/MS2LDA/MS2LDA\n"
     ]
    }
   ],
   "source": [
    "import os\n",
    "os.chdir(\"../\")\n",
    "print(os.getcwd())"
   ]
  },
  {
   "cell_type": "code",
   "execution_count": 2,
   "metadata": {},
   "outputs": [],
   "source": [
    "%matplotlib qt"
   ]
  },
  {
   "cell_type": "code",
   "execution_count": 3,
   "metadata": {},
   "outputs": [],
   "source": [
    "from MS2LDA.Preprocessing.load_and_clean import load_mgf\n",
    "from MS2LDA.Preprocessing.load_and_clean import clean_spectra\n",
    "\n",
    "from MS2LDA.Preprocessing.generate_corpus import features_to_words\n",
    "from MS2LDA.Preprocessing.generate_corpus import combine_features\n",
    "\n",
    "from MS2LDA.modeling import define_model\n",
    "from MS2LDA.modeling import train_model\n",
    "from MS2LDA.modeling import extract_motifs\n",
    "from MS2LDA.modeling import create_motif_spectra\n",
    "\n",
    "from MS2LDA.Add_On.Spec2Vec.annotation import load_s2v_and_library\n",
    "from MS2LDA.Add_On.Spec2Vec.annotation import calc_embeddings, calc_similarity\n",
    "from MS2LDA.Add_On.Spec2Vec.annotation import get_library_matches\n",
    "\n",
    "from MS2LDA.Add_On.Spec2Vec.annotation_refined import mask_spectra\n",
    "from MS2LDA.Add_On.Spec2Vec.annotation_refined import refine_annotation\n",
    "\n",
    "from MS2LDA.Visualisation.visualisation import create_interactive_motif_network\n"
   ]
  },
  {
   "cell_type": "code",
   "execution_count": 4,
   "metadata": {},
   "outputs": [],
   "source": [
    "def generate_motifs(mgf_path, \n",
    "                    n_motifs = 50,\n",
    "                    model_parameters = {\n",
    "                        \"rm_top\": 0,\n",
    "                        \"min_cf\": 0,\n",
    "                        \"min_df\": 0,\n",
    "                        \"alpha\": 0.1,\n",
    "                        \"eta\": 0.1,\n",
    "                        \"seed\": 42,\n",
    "                    },\n",
    "                    train_parameters = {\n",
    "                        \"parallel\": 3\n",
    "                    }, \n",
    "                    motif_parameter = 20,\n",
    "                    charge=1,\n",
    "                    motifset_name=\"unknown\"):\n",
    "    \n",
    "    \"\"\"generates the motif spectra based on a given mgf file\n",
    "    \n",
    "    ARGS:\n",
    "        mgf_path (str): path to the mgf file\n",
    "        model_parameters (dict): model parameters that can be set for a tomotopy LDA model\n",
    "        train_parameters (dict): train parameters that can be set for a tomotopy training of an LDA model\n",
    "        motif_parameter (int): number of top n most important features per motif\n",
    "        \n",
    "    RETURNS:\n",
    "        motif_spectra (list): list of matchms spectrum objects (no precursor ion) \n",
    "    \"\"\"\n",
    "    # Preprocessing\n",
    "    loaded_spectra = load_mgf(mgf_path)\n",
    "    cleaned_spectra = clean_spectra(loaded_spectra)\n",
    "\n",
    "    # Corpus Generation\n",
    "    fragment_words, loss_words = features_to_words(cleaned_spectra)\n",
    "    feature_words = combine_features(fragment_words, loss_words)\n",
    "\n",
    "    # Modeling\n",
    "    ms2lda = define_model(n_motifs=n_motifs, model_parameters=model_parameters)\n",
    "    trained_ms2lda = train_model(ms2lda, feature_words, iterations=100, train_parameters=train_parameters)\n",
    "\n",
    "    # Motif Generation\n",
    "    motifs = extract_motifs(trained_ms2lda, top_n=motif_parameter)\n",
    "    motif_spectra = create_motif_spectra(motifs, charge, motifset_name)\n",
    "\n",
    "    return motif_spectra"
   ]
  },
  {
   "cell_type": "code",
   "execution_count": 5,
   "metadata": {},
   "outputs": [],
   "source": [
    "def annotate_motifs(motif_spectra, \n",
    "                    top_n_matches = 5,\n",
    "                    unique_mols = True,\n",
    "                    path_model = \"MS2LDA/Add_On/Spec2Vec/model_positive_mode/020724_Spec2Vec_pos_CleanedLibraries.model\",\n",
    "                    path_library = \"MS2LDA/Add_On/Spec2Vec/model_positive_mode/positive_s2v_library.pkl\"):\n",
    "    \"\"\"annotates motif with Spec2Vec\n",
    "    \n",
    "    ARGS:\n",
    "        top_n_matches (int): top n compounds retrieved the database \n",
    "        unique_mols (boolean): True if only unique compounds or False duplicates can also be retrieved\n",
    "        path_model (str): path to Spec2Vec model\n",
    "        path_library (str): path the pkl library file, which contains embeddings, spectra and smiles\n",
    "        \n",
    "    RETURNS:\n",
    "        optimized_motif_spectra (list): list of matchms motif spectra\n",
    "        optimized_clusters (list): list of lists of spectra from clustered compounds\n",
    "        smiles_clusters (list) list of lists of SMILES for clustered compounds\n",
    "    \"\"\"\n",
    "\n",
    "    \n",
    "    s2v_similarity, library = load_s2v_and_library(path_model, path_library)\n",
    "    print(\"Model loaded ...\")\n",
    "\n",
    "    motif_embeddings = calc_embeddings(s2v_similarity, motif_spectra)\n",
    "    similarity_matrix = calc_similarity(motif_embeddings, library.embeddings)\n",
    "   \n",
    "    matching_settings = {\n",
    "                        \"similarity_matrix\": similarity_matrix,\n",
    "                        \"library\": library,\n",
    "                        \"top_n\": 5,\n",
    "                        \"unique_mols\": True,\n",
    "                    }\n",
    "\n",
    "    \n",
    "    library_matches = get_library_matches(matching_settings)\n",
    "\n",
    "    masked_motif_spectra = mask_spectra(motif_spectra)\n",
    "    optimized_motif_spectra, optimized_clusters, smiles_clusters, clusters_similarity = refine_annotation(s2v_similarity, library_matches, masked_motif_spectra, motif_spectra)\n",
    "\n",
    "    return optimized_motif_spectra, optimized_clusters, smiles_clusters, clusters_similarity"
   ]
  },
  {
   "cell_type": "code",
   "execution_count": 6,
   "metadata": {},
   "outputs": [],
   "source": [
    "mgf_path_train = \"datasets/GNPS-NIH-NATURALPRODUCTSLIBRARY.mgf\""
   ]
  },
  {
   "cell_type": "code",
   "execution_count": 7,
   "metadata": {},
   "outputs": [
    {
     "name": "stderr",
     "output_type": "stream",
     "text": [
      "/Users/rosinatorres/Documents/PhD/WP1/Project/Code/MS2LDA/MS2LDA/MS2LDA/modeling.py:39: RuntimeWarning: The training result may differ even with fixed seed if `workers` != 1.\n",
      "  model.train(iterations, **train_parameters)\n"
     ]
    }
   ],
   "source": [
    "motif_spectra = generate_motifs(mgf_path_train, n_motifs=10)"
   ]
  },
  {
   "cell_type": "code",
   "execution_count": 8,
   "metadata": {},
   "outputs": [
    {
     "name": "stdout",
     "output_type": "stream",
     "text": [
      "Model loaded ...\n",
      "Similarity Match:  0.863157894736842\n",
      "One compound cluster!\n",
      "Similarity Match:  0.8977443609022555\n",
      "Similarity Match:  0.8421052631578947\n",
      "Similarity Match:  0.7218045112781954\n",
      "One compound cluster!\n",
      "One compound cluster!\n",
      "Similarity Match:  0.8887218045112781\n",
      "Only one cluster:  0.6511278195488721\n",
      "Similarity Match:  0.837593984962406\n"
     ]
    }
   ],
   "source": [
    "optimized_motif_spectra, optimized_clusters, smiles_clusters, clusters_similarity = annotate_motifs(motif_spectra)"
   ]
  },
  {
   "cell_type": "code",
   "execution_count": 9,
   "metadata": {},
   "outputs": [
    {
     "data": {
      "text/plain": [
       "<networkx.classes.graph.Graph at 0x308d55ad0>"
      ]
     },
     "execution_count": 9,
     "metadata": {},
     "output_type": "execute_result"
    },
    {
     "name": "stdout",
     "output_type": "stream",
     "text": [
      "Node motif_7 clicked!\n",
      "Cluster similarity: 88.87218045112782%\n",
      "Fragments: [103.05 119.06 146.02 209.08 254.06 265.1  266.1  293.09]\n",
      "Losses: []\n"
     ]
    }
   ],
   "source": [
    "create_interactive_motif_network(optimized_motif_spectra, 2, clusters_similarity, smiles_clusters)"
   ]
  },
  {
   "cell_type": "code",
   "execution_count": null,
   "metadata": {},
   "outputs": [],
   "source": []
  }
 ],
 "metadata": {
  "kernelspec": {
   "display_name": "MS2LDA_v2",
   "language": "python",
   "name": "python3"
  },
  "language_info": {
   "codemirror_mode": {
    "name": "ipython",
    "version": 3
   },
   "file_extension": ".py",
   "mimetype": "text/x-python",
   "name": "python",
   "nbconvert_exporter": "python",
   "pygments_lexer": "ipython3",
   "version": "3.11.8"
  }
 },
 "nbformat": 4,
 "nbformat_minor": 2
}
