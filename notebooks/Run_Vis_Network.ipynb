{
 "cells": [
  {
   "cell_type": "code",
   "execution_count": 10,
   "metadata": {},
   "outputs": [
    {
     "name": "stdout",
     "output_type": "stream",
     "text": [
      "/Users/rosinatorres/Documents/PhD/WP1/Project/Code/MS2LDA\n"
     ]
    }
   ],
   "source": [
    "import os\n",
    "os.chdir(\"../\")\n",
    "print(os.getcwd())"
   ]
  },
  {
   "cell_type": "code",
   "execution_count": 11,
   "metadata": {},
   "outputs": [],
   "source": [
    "%matplotlib qt"
   ]
  },
  {
   "cell_type": "code",
   "execution_count": 12,
   "metadata": {},
   "outputs": [],
   "source": [
    "from MS2LDA.Preprocessing.load_and_clean import load_mgf\n",
    "from MS2LDA.Preprocessing.load_and_clean import clean_spectra\n",
    "\n",
    "from MS2LDA.Preprocessing.generate_corpus import features_to_words\n",
    "from MS2LDA.Preprocessing.generate_corpus import combine_features\n",
    "\n",
    "from MS2LDA.modeling import define_model\n",
    "from MS2LDA.modeling import train_model\n",
    "from MS2LDA.modeling import extract_motifs\n",
    "from MS2LDA.modeling import create_motif_spectra\n",
    "\n",
    "from MS2LDA.Add_On.Spec2Vec.annotation import load_s2v_and_library\n",
    "from MS2LDA.Add_On.Spec2Vec.annotation import calc_embeddings, calc_similarity\n",
    "from MS2LDA.Add_On.Spec2Vec.annotation import get_library_matches\n",
    "\n",
    "from MS2LDA.Add_On.Spec2Vec.annotation_refined import mask_spectra\n",
    "from MS2LDA.Add_On.Spec2Vec.annotation_refined import refine_annotation\n",
    "\n",
    "from MS2LDA.Visualisation.visualisation import create_interactive_motif_network\n"
   ]
  },
  {
   "cell_type": "code",
   "execution_count": 13,
   "metadata": {},
   "outputs": [],
   "source": [
    "def generate_motifs(mgf_path, \n",
    "                    n_motifs = 50,\n",
    "                    model_parameters = {\n",
    "                        \"rm_top\": 0,\n",
    "                        \"min_cf\": 0,\n",
    "                        \"min_df\": 0,\n",
    "                        \"alpha\": 0.1,\n",
    "                        \"eta\": 0.1,\n",
    "                        \"seed\": 42,\n",
    "                    },\n",
    "                    train_parameters = {\n",
    "                        \"parallel\": 3\n",
    "                    }, \n",
    "                    motif_parameter = 20,\n",
    "                    charge=1,\n",
    "                    motifset_name=\"unknown\"):\n",
    "    \n",
    "    \"\"\"generates the motif spectra based on a given mgf file\n",
    "    \n",
    "    ARGS:\n",
    "        mgf_path (str): path to the mgf file\n",
    "        model_parameters (dict): model parameters that can be set for a tomotopy LDA model\n",
    "        train_parameters (dict): train parameters that can be set for a tomotopy training of an LDA model\n",
    "        motif_parameter (int): number of top n most important features per motif\n",
    "        \n",
    "    RETURNS:\n",
    "        motif_spectra (list): list of matchms spectrum objects (no precursor ion) \n",
    "    \"\"\"\n",
    "    # Preprocessing\n",
    "    loaded_spectra = load_mgf(mgf_path)\n",
    "    cleaned_spectra = clean_spectra(loaded_spectra)\n",
    "\n",
    "    # Corpus Generation\n",
    "    fragment_words, loss_words = features_to_words(cleaned_spectra)\n",
    "    feature_words = combine_features(fragment_words, loss_words)\n",
    "\n",
    "    # Modeling\n",
    "    ms2lda = define_model(n_motifs=n_motifs, model_parameters=model_parameters)\n",
    "    trained_ms2lda = train_model(ms2lda, feature_words, iterations=100, train_parameters=train_parameters)\n",
    "\n",
    "    # Motif Generation\n",
    "    motifs = extract_motifs(trained_ms2lda, top_n=motif_parameter)\n",
    "    motif_spectra = create_motif_spectra(motifs, charge, motifset_name)\n",
    "\n",
    "    return motif_spectra"
   ]
  },
  {
   "cell_type": "code",
   "execution_count": 14,
   "metadata": {},
   "outputs": [],
   "source": [
    "def annotate_motifs(motif_spectra, \n",
    "                    top_n_matches = 5,\n",
    "                    unique_mols = True,\n",
    "                    path_model = \"MS2LDA/Add_On/Spec2Vec/model_positive_mode/020724_Spec2Vec_pos_CleanedLibraries.model\",\n",
    "                    path_library = \"MS2LDA/Add_On/Spec2Vec/model_positive_mode/positive_s2v_library.pkl\"):\n",
    "    \"\"\"annotates motif with Spec2Vec\n",
    "    \n",
    "    ARGS:\n",
    "        top_n_matches (int): top n compounds retrieved the database \n",
    "        unique_mols (boolean): True if only unique compounds or False duplicates can also be retrieved\n",
    "        path_model (str): path to Spec2Vec model\n",
    "        path_library (str): path the pkl library file, which contains embeddings, spectra and smiles\n",
    "        \n",
    "    RETURNS:\n",
    "        optimized_motif_spectra (list): list of matchms motif spectra\n",
    "        optimized_clusters (list): list of lists of spectra from clustered compounds\n",
    "        smiles_clusters (list) list of lists of SMILES for clustered compounds\n",
    "    \"\"\"\n",
    "\n",
    "    \n",
    "    s2v_similarity, library = load_s2v_and_library(path_model, path_library)\n",
    "    print(\"Model loaded ...\")\n",
    "\n",
    "    motif_embeddings = calc_embeddings(s2v_similarity, motif_spectra)\n",
    "    similarity_matrix = calc_similarity(motif_embeddings, library.embeddings)\n",
    "   \n",
    "    matching_settings = {\n",
    "                        \"similarity_matrix\": similarity_matrix,\n",
    "                        \"library\": library,\n",
    "                        \"top_n\": 5,\n",
    "                        \"unique_mols\": True,\n",
    "                    }\n",
    "\n",
    "    \n",
    "    library_matches = get_library_matches(matching_settings)\n",
    "\n",
    "    masked_motif_spectra = mask_spectra(motif_spectra)\n",
    "    optimized_motif_spectra, optimized_clusters, smiles_clusters, clusters_similarity = refine_annotation(s2v_similarity, library_matches, masked_motif_spectra, motif_spectra)\n",
    "\n",
    "    return optimized_motif_spectra, optimized_clusters, smiles_clusters, clusters_similarity"
   ]
  },
  {
   "cell_type": "code",
   "execution_count": 15,
   "metadata": {},
   "outputs": [],
   "source": [
    "mgf_path_train = \"datasets/GNPS-NIH-NATURALPRODUCTSLIBRARY.mgf\""
   ]
  },
  {
   "cell_type": "code",
   "execution_count": 16,
   "metadata": {},
   "outputs": [
    {
     "ename": "FileNotFoundError",
     "evalue": "[Errno 2] No such file or directory: 'datasets/GNPS-NIH-NATURALPRODUCTSLIBRARY.mgf'",
     "output_type": "error",
     "traceback": [
      "\u001b[0;31m---------------------------------------------------------------------------\u001b[0m",
      "\u001b[0;31mFileNotFoundError\u001b[0m                         Traceback (most recent call last)",
      "\u001b[1;32m/Users/rosinatorres/Documents/PhD/WP1/Project/Code/MS2LDA/MS2LDA/notebooks/Run_Vis_Network.ipynb Cell 7\u001b[0m line \u001b[0;36m1\n\u001b[0;32m----> <a href='vscode-notebook-cell:/Users/rosinatorres/Documents/PhD/WP1/Project/Code/MS2LDA/MS2LDA/notebooks/Run_Vis_Network.ipynb#W6sZmlsZQ%3D%3D?line=0'>1</a>\u001b[0m motif_spectra \u001b[39m=\u001b[39m generate_motifs(mgf_path_train, n_motifs\u001b[39m=\u001b[39;49m\u001b[39m62\u001b[39;49m)\n",
      "\u001b[1;32m/Users/rosinatorres/Documents/PhD/WP1/Project/Code/MS2LDA/MS2LDA/notebooks/Run_Vis_Network.ipynb Cell 7\u001b[0m line \u001b[0;36m3\n\u001b[1;32m     <a href='vscode-notebook-cell:/Users/rosinatorres/Documents/PhD/WP1/Project/Code/MS2LDA/MS2LDA/notebooks/Run_Vis_Network.ipynb#W6sZmlsZQ%3D%3D?line=28'>29</a>\u001b[0m \u001b[39m# Preprocessing\u001b[39;00m\n\u001b[1;32m     <a href='vscode-notebook-cell:/Users/rosinatorres/Documents/PhD/WP1/Project/Code/MS2LDA/MS2LDA/notebooks/Run_Vis_Network.ipynb#W6sZmlsZQ%3D%3D?line=29'>30</a>\u001b[0m loaded_spectra \u001b[39m=\u001b[39m load_mgf(mgf_path)\n\u001b[0;32m---> <a href='vscode-notebook-cell:/Users/rosinatorres/Documents/PhD/WP1/Project/Code/MS2LDA/MS2LDA/notebooks/Run_Vis_Network.ipynb#W6sZmlsZQ%3D%3D?line=30'>31</a>\u001b[0m cleaned_spectra \u001b[39m=\u001b[39m clean_spectra(loaded_spectra)\n\u001b[1;32m     <a href='vscode-notebook-cell:/Users/rosinatorres/Documents/PhD/WP1/Project/Code/MS2LDA/MS2LDA/notebooks/Run_Vis_Network.ipynb#W6sZmlsZQ%3D%3D?line=32'>33</a>\u001b[0m \u001b[39m# Corpus Generation\u001b[39;00m\n\u001b[1;32m     <a href='vscode-notebook-cell:/Users/rosinatorres/Documents/PhD/WP1/Project/Code/MS2LDA/MS2LDA/notebooks/Run_Vis_Network.ipynb#W6sZmlsZQ%3D%3D?line=33'>34</a>\u001b[0m fragment_words, loss_words \u001b[39m=\u001b[39m features_to_words(cleaned_spectra)\n",
      "File \u001b[0;32m~/Documents/PhD/WP1/Project/Code/MS2LDA/MS2LDA/MS2LDA/Preprocessing/load_and_clean.py:82\u001b[0m, in \u001b[0;36mclean_spectra\u001b[0;34m(spectra, entropy_threshold)\u001b[0m\n\u001b[1;32m     71\u001b[0m \u001b[39m\u001b[39m\u001b[39m\"\"\"uses matchms to normalize intensities, add information and add losses to the spectra\u001b[39;00m\n\u001b[1;32m     72\u001b[0m \u001b[39m\u001b[39;00m\n\u001b[1;32m     73\u001b[0m \u001b[39mARGS:\u001b[39;00m\n\u001b[0;32m   (...)\u001b[0m\n\u001b[1;32m     78\u001b[0m \u001b[39m    cleaned_spectra (list): list of matchms.Spectrum.objects; spectra that do not fit will be removed\u001b[39;00m\n\u001b[1;32m     79\u001b[0m \u001b[39m\"\"\"\u001b[39;00m\n\u001b[1;32m     80\u001b[0m cleaned_spectra \u001b[39m=\u001b[39m []\n\u001b[0;32m---> 82\u001b[0m \u001b[39mfor\u001b[39;49;00m spectrum \u001b[39min\u001b[39;49;00m spectra:\n\u001b[1;32m     83\u001b[0m     \u001b[39m# metadata filters\u001b[39;49;00m\n\u001b[1;32m     84\u001b[0m     spectrum \u001b[39m=\u001b[39;49m msfilters\u001b[39m.\u001b[39;49mdefault_filters(spectrum)\n\u001b[1;32m     85\u001b[0m     spectrum \u001b[39m=\u001b[39;49m msfilters\u001b[39m.\u001b[39;49madd_retention_index(spectrum)\n",
      "File \u001b[0;32m~/anaconda3/envs/MS2LDA_v2/lib/python3.11/site-packages/matchms/importing/load_from_mgf.py:36\u001b[0m, in \u001b[0;36mload_from_mgf\u001b[0;34m(filename, metadata_harmonization)\u001b[0m\n\u001b[1;32m      7\u001b[0m \u001b[39mdef\u001b[39;00m \u001b[39mload_from_mgf\u001b[39m(filename: Union[\u001b[39mstr\u001b[39m, TextIO],\n\u001b[1;32m      8\u001b[0m                   metadata_harmonization: \u001b[39mbool\u001b[39m \u001b[39m=\u001b[39m \u001b[39mTrue\u001b[39;00m) \u001b[39m-\u001b[39m\u001b[39m>\u001b[39m Generator[Spectrum, \u001b[39mNone\u001b[39;00m, \u001b[39mNone\u001b[39;00m]:\n\u001b[1;32m      9\u001b[0m \u001b[39m    \u001b[39m\u001b[39m\"\"\"Load spectrum(s) from mgf file.\u001b[39;00m\n\u001b[1;32m     10\u001b[0m \n\u001b[1;32m     11\u001b[0m \u001b[39m    This function will create ~matchms.Spectrum for every spectrum in the given\u001b[39;00m\n\u001b[0;32m   (...)\u001b[0m\n\u001b[1;32m     34\u001b[0m \u001b[39m        The default is True.\u001b[39;00m\n\u001b[1;32m     35\u001b[0m \u001b[39m    \"\"\"\u001b[39;00m\n\u001b[0;32m---> 36\u001b[0m     \u001b[39mwith\u001b[39;00m MGF(filename, convert_arrays\u001b[39m=\u001b[39;49m\u001b[39m1\u001b[39;49m) \u001b[39mas\u001b[39;00m reader:\n\u001b[1;32m     37\u001b[0m         \u001b[39mfor\u001b[39;00m pyteomics_spectrum \u001b[39min\u001b[39;00m reader:\n\u001b[1;32m     38\u001b[0m             \u001b[39myield\u001b[39;00m parse_spectrum_dict(\n\u001b[1;32m     39\u001b[0m                 spectrum\u001b[39m=\u001b[39mpyteomics_spectrum,\n\u001b[1;32m     40\u001b[0m                 metadata_harmonization\u001b[39m=\u001b[39mmetadata_harmonization)\n",
      "File \u001b[0;32m~/anaconda3/envs/MS2LDA_v2/lib/python3.11/site-packages/pyteomics/mgf.py:444\u001b[0m, in \u001b[0;36mMGF.__init__\u001b[0;34m(self, source, use_header, convert_arrays, read_charges, read_ions, dtype, encoding)\u001b[0m\n\u001b[1;32m    399\u001b[0m \u001b[39mdef\u001b[39;00m \u001b[39m__init__\u001b[39m(\u001b[39mself\u001b[39m, source\u001b[39m=\u001b[39m\u001b[39mNone\u001b[39;00m, use_header\u001b[39m=\u001b[39m\u001b[39mTrue\u001b[39;00m, convert_arrays\u001b[39m=\u001b[39m\u001b[39m2\u001b[39m, read_charges\u001b[39m=\u001b[39m\u001b[39mTrue\u001b[39;00m,\n\u001b[1;32m    400\u001b[0m         read_ions\u001b[39m=\u001b[39m\u001b[39mFalse\u001b[39;00m, dtype\u001b[39m=\u001b[39m\u001b[39mNone\u001b[39;00m, encoding\u001b[39m=\u001b[39m\u001b[39mNone\u001b[39;00m):\n\u001b[1;32m    401\u001b[0m \u001b[39m    \u001b[39m\u001b[39m\"\"\"\u001b[39;00m\n\u001b[1;32m    402\u001b[0m \u001b[39m    Create an :py:class:`MGF` (text-mode) reader for a given MGF file.\u001b[39;00m\n\u001b[1;32m    403\u001b[0m \n\u001b[0;32m   (...)\u001b[0m\n\u001b[1;32m    442\u001b[0m \u001b[39m        The reader object.\u001b[39;00m\n\u001b[1;32m    443\u001b[0m \u001b[39m    \"\"\"\u001b[39;00m\n\u001b[0;32m--> 444\u001b[0m     \u001b[39msuper\u001b[39;49m(MGF, \u001b[39mself\u001b[39;49m)\u001b[39m.\u001b[39;49m\u001b[39m__init__\u001b[39;49m(source, mode\u001b[39m=\u001b[39;49m\u001b[39m'\u001b[39;49m\u001b[39mr\u001b[39;49m\u001b[39m'\u001b[39;49m, parser_func\u001b[39m=\u001b[39;49m\u001b[39mself\u001b[39;49m\u001b[39m.\u001b[39;49m_read, pass_file\u001b[39m=\u001b[39;49m\u001b[39mFalse\u001b[39;49;00m, args\u001b[39m=\u001b[39;49m(), kwargs\u001b[39m=\u001b[39;49m{},\n\u001b[1;32m    445\u001b[0m         encoding\u001b[39m=\u001b[39;49mencoding, use_header\u001b[39m=\u001b[39;49muse_header, convert_arrays\u001b[39m=\u001b[39;49mconvert_arrays, read_charges\u001b[39m=\u001b[39;49mread_charges,\n\u001b[1;32m    446\u001b[0m         read_ions\u001b[39m=\u001b[39;49mread_ions, dtype\u001b[39m=\u001b[39;49mdtype)\n",
      "File \u001b[0;32m~/anaconda3/envs/MS2LDA_v2/lib/python3.11/site-packages/pyteomics/mgf.py:122\u001b[0m, in \u001b[0;36mMGFBase.__init__\u001b[0;34m(self, source, **kwargs)\u001b[0m\n\u001b[1;32m     86\u001b[0m \u001b[39mdef\u001b[39;00m \u001b[39m__init__\u001b[39m(\u001b[39mself\u001b[39m, source\u001b[39m=\u001b[39m\u001b[39mNone\u001b[39;00m, \u001b[39m*\u001b[39m\u001b[39m*\u001b[39mkwargs):\n\u001b[1;32m     87\u001b[0m \u001b[39m    \u001b[39m\u001b[39m\"\"\"Create an MGF file object, set MGF-specific parameters.\u001b[39;00m\n\u001b[1;32m     88\u001b[0m \n\u001b[1;32m     89\u001b[0m \u001b[39m    Parameters\u001b[39;00m\n\u001b[0;32m   (...)\u001b[0m\n\u001b[1;32m    119\u001b[0m \u001b[39m        File encoding.\u001b[39;00m\n\u001b[1;32m    120\u001b[0m \u001b[39m    \"\"\"\u001b[39;00m\n\u001b[0;32m--> 122\u001b[0m     \u001b[39msuper\u001b[39;49m(MGFBase, \u001b[39mself\u001b[39;49m)\u001b[39m.\u001b[39;49m\u001b[39m__init__\u001b[39;49m(source, \u001b[39m*\u001b[39;49m\u001b[39m*\u001b[39;49mkwargs)\n\u001b[1;32m    123\u001b[0m     \u001b[39mself\u001b[39m\u001b[39m.\u001b[39m_use_header \u001b[39m=\u001b[39m kwargs\u001b[39m.\u001b[39mpop(\u001b[39m'\u001b[39m\u001b[39muse_header\u001b[39m\u001b[39m'\u001b[39m, \u001b[39mTrue\u001b[39;00m)\n\u001b[1;32m    124\u001b[0m     \u001b[39mself\u001b[39m\u001b[39m.\u001b[39m_read_charges \u001b[39m=\u001b[39m kwargs\u001b[39m.\u001b[39mpop(\u001b[39m'\u001b[39m\u001b[39mread_charges\u001b[39m\u001b[39m'\u001b[39m, \u001b[39mTrue\u001b[39;00m)\n",
      "File \u001b[0;32m~/anaconda3/envs/MS2LDA_v2/lib/python3.11/site-packages/pyteomics/auxiliary/utils.py:175\u001b[0m, in \u001b[0;36mMaskedArrayConversionMixin.__init__\u001b[0;34m(self, *args, **kwargs)\u001b[0m\n\u001b[1;32m    173\u001b[0m \u001b[39mself\u001b[39m\u001b[39m.\u001b[39m_convert_arrays \u001b[39m=\u001b[39m kwargs\u001b[39m.\u001b[39mpop(\u001b[39m'\u001b[39m\u001b[39mconvert_arrays\u001b[39m\u001b[39m'\u001b[39m, \u001b[39m2\u001b[39m)\n\u001b[1;32m    174\u001b[0m kwargs[\u001b[39m'\u001b[39m\u001b[39mconvert_arrays\u001b[39m\u001b[39m'\u001b[39m] \u001b[39m=\u001b[39m \u001b[39mself\u001b[39m\u001b[39m.\u001b[39m_convert_arrays\n\u001b[0;32m--> 175\u001b[0m \u001b[39msuper\u001b[39;49m(MaskedArrayConversionMixin, \u001b[39mself\u001b[39;49m)\u001b[39m.\u001b[39;49m\u001b[39m__init__\u001b[39;49m(\u001b[39m*\u001b[39;49margs, \u001b[39m*\u001b[39;49m\u001b[39m*\u001b[39;49mkwargs)\n",
      "File \u001b[0;32m~/anaconda3/envs/MS2LDA_v2/lib/python3.11/site-packages/pyteomics/auxiliary/utils.py:136\u001b[0m, in \u001b[0;36mArrayConversionMixin.__init__\u001b[0;34m(self, *args, **kwargs)\u001b[0m\n\u001b[1;32m    134\u001b[0m \u001b[39mif\u001b[39;00m \u001b[39mself\u001b[39m\u001b[39m.\u001b[39m_convert_arrays \u001b[39mand\u001b[39;00m np \u001b[39mis\u001b[39;00m \u001b[39mNone\u001b[39;00m:\n\u001b[1;32m    135\u001b[0m     \u001b[39mraise\u001b[39;00m PyteomicsError(\u001b[39m'\u001b[39m\u001b[39mnumpy is required for array conversion\u001b[39m\u001b[39m'\u001b[39m)\n\u001b[0;32m--> 136\u001b[0m \u001b[39msuper\u001b[39;49m(ArrayConversionMixin, \u001b[39mself\u001b[39;49m)\u001b[39m.\u001b[39;49m\u001b[39m__init__\u001b[39;49m(\u001b[39m*\u001b[39;49margs, \u001b[39m*\u001b[39;49m\u001b[39m*\u001b[39;49mkwargs)\n",
      "File \u001b[0;32m~/anaconda3/envs/MS2LDA_v2/lib/python3.11/site-packages/pyteomics/auxiliary/file_helpers.py:199\u001b[0m, in \u001b[0;36mFileReader.__init__\u001b[0;34m(self, source, **kwargs)\u001b[0m\n\u001b[1;32m    197\u001b[0m \u001b[39mself\u001b[39m\u001b[39m.\u001b[39m_mode \u001b[39m=\u001b[39m kwargs[\u001b[39m'\u001b[39m\u001b[39mmode\u001b[39m\u001b[39m'\u001b[39m]\n\u001b[1;32m    198\u001b[0m \u001b[39mself\u001b[39m\u001b[39m.\u001b[39m_encoding \u001b[39m=\u001b[39m kwargs\u001b[39m.\u001b[39mget(\u001b[39m'\u001b[39m\u001b[39mencoding\u001b[39m\u001b[39m'\u001b[39m)\n\u001b[0;32m--> 199\u001b[0m \u001b[39mself\u001b[39;49m\u001b[39m.\u001b[39;49mreset()\n",
      "File \u001b[0;32m~/anaconda3/envs/MS2LDA_v2/lib/python3.11/site-packages/pyteomics/auxiliary/file_helpers.py:204\u001b[0m, in \u001b[0;36mFileReader.reset\u001b[0;34m(self)\u001b[0m\n\u001b[1;32m    202\u001b[0m \u001b[39mif\u001b[39;00m \u001b[39mhasattr\u001b[39m(\u001b[39mself\u001b[39m, \u001b[39m'\u001b[39m\u001b[39m_source\u001b[39m\u001b[39m'\u001b[39m):\n\u001b[1;32m    203\u001b[0m     \u001b[39mself\u001b[39m\u001b[39m.\u001b[39m_source\u001b[39m.\u001b[39m\u001b[39m__exit__\u001b[39m(\u001b[39mNone\u001b[39;00m, \u001b[39mNone\u001b[39;00m, \u001b[39mNone\u001b[39;00m)\n\u001b[0;32m--> 204\u001b[0m \u001b[39mself\u001b[39m\u001b[39m.\u001b[39m_source \u001b[39m=\u001b[39m _file_obj(\u001b[39mself\u001b[39;49m\u001b[39m.\u001b[39;49m_source_init, \u001b[39mself\u001b[39;49m\u001b[39m.\u001b[39;49m_mode, \u001b[39mself\u001b[39;49m\u001b[39m.\u001b[39;49m_encoding)\n\u001b[1;32m    205\u001b[0m \u001b[39mtry\u001b[39;00m:\n\u001b[1;32m    206\u001b[0m     \u001b[39mif\u001b[39;00m \u001b[39mself\u001b[39m\u001b[39m.\u001b[39m_pass_file:\n",
      "File \u001b[0;32m~/anaconda3/envs/MS2LDA_v2/lib/python3.11/site-packages/pyteomics/auxiliary/file_helpers.py:102\u001b[0m, in \u001b[0;36m_file_obj.__init__\u001b[0;34m(self, f, mode, encoding)\u001b[0m\n\u001b[1;32m    100\u001b[0m     \u001b[39mself\u001b[39m\u001b[39m.\u001b[39m_file_spec \u001b[39m=\u001b[39m \u001b[39mNone\u001b[39;00m\n\u001b[1;32m    101\u001b[0m \u001b[39melif\u001b[39;00m \u001b[39misinstance\u001b[39m(f, basestring):\n\u001b[0;32m--> 102\u001b[0m     \u001b[39mself\u001b[39m\u001b[39m.\u001b[39mfile \u001b[39m=\u001b[39m codecs\u001b[39m.\u001b[39;49mopen(f, mode, encoding)\n\u001b[1;32m    103\u001b[0m     \u001b[39mself\u001b[39m\u001b[39m.\u001b[39m_file_spec \u001b[39m=\u001b[39m f\n\u001b[1;32m    104\u001b[0m \u001b[39melse\u001b[39;00m:\n",
      "File \u001b[0;32m<frozen codecs>:918\u001b[0m, in \u001b[0;36mopen\u001b[0;34m(filename, mode, encoding, errors, buffering)\u001b[0m\n",
      "\u001b[0;31mFileNotFoundError\u001b[0m: [Errno 2] No such file or directory: 'datasets/GNPS-NIH-NATURALPRODUCTSLIBRARY.mgf'"
     ]
    }
   ],
   "source": [
    "motif_spectra = generate_motifs(mgf_path_train, n_motifs=62)"
   ]
  },
  {
   "cell_type": "code",
   "execution_count": null,
   "metadata": {},
   "outputs": [
    {
     "name": "stdout",
     "output_type": "stream",
     "text": [
      "Model loaded ...\n"
     ]
    }
   ],
   "source": [
    "optimized_motif_spectra, optimized_clusters, smiles_clusters, clusters_similarity = annotate_motifs(motif_spectra)"
   ]
  },
  {
   "cell_type": "code",
   "execution_count": null,
   "metadata": {},
   "outputs": [
    {
     "data": {
      "text/plain": [
       "<networkx.classes.graph.Graph at 0x30bf3c6d0>"
      ]
     },
     "execution_count": 9,
     "metadata": {},
     "output_type": "execute_result"
    }
   ],
   "source": [
    "create_interactive_motif_network(optimized_motif_spectra, 2, clusters_similarity, smiles_clusters, optimized_clusters, motif_colors=None,  file_generation=True)"
   ]
  },
  {
   "cell_type": "code",
   "execution_count": null,
   "metadata": {},
   "outputs": [],
   "source": []
  }
 ],
 "metadata": {
  "kernelspec": {
   "display_name": "MS2LDA_v2",
   "language": "python",
   "name": "python3"
  },
  "language_info": {
   "codemirror_mode": {
    "name": "ipython",
    "version": 3
   },
   "file_extension": ".py",
   "mimetype": "text/x-python",
   "name": "python",
   "nbconvert_exporter": "python",
   "pygments_lexer": "ipython3",
   "version": "3.11.8"
  }
 },
 "nbformat": 4,
 "nbformat_minor": 2
}
