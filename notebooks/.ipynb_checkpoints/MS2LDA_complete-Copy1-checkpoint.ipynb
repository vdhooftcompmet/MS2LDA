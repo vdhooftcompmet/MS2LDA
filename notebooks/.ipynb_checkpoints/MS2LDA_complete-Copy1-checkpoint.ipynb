{
 "cells": [
  {
   "cell_type": "code",
   "execution_count": 1,
   "id": "d4b44b02-73a0-4bf7-87dd-fb5f2d62611a",
   "metadata": {},
   "outputs": [],
   "source": [
    "from rdkit.Chem import Draw\n",
    "from rdkit import Chem"
   ]
  },
  {
   "cell_type": "code",
   "execution_count": 2,
   "id": "d12ac8ab-0a31-4b19-8a35-7812c60f953e",
   "metadata": {},
   "outputs": [
    {
     "name": "stdout",
     "output_type": "stream",
     "text": [
      "C:\\Users\\dietr004\\Documents\\PhD\\computational mass spectrometry\\Spec2Struc\\Project_SubstructureIdentification\\scripts\\programming_scripts\n"
     ]
    }
   ],
   "source": [
    "import os\n",
    "os.chdir('../programming_scripts/.')\n",
    "print(os.getcwd())\n",
    "\n",
    "from MS2LDA_core import run_lda\n",
    "from MS2LDA_core import predict_with_lda\n",
    "\n",
    "#from Spec2Vec_annotation import motif_annotation\n",
    "\n",
    "from MS2LDA_core import load_mgf\n",
    "from MS2LDA_core import clean_spectra\n",
    "\n",
    "from utils import motifs2spectra\n",
    "from spec2vec import Spec2Vec"
   ]
  },
  {
   "cell_type": "code",
   "execution_count": 3,
   "id": "5e67daca-da06-4ef9-b40d-29a397f2cb98",
   "metadata": {},
   "outputs": [],
   "source": [
    "# spectra_path = r\"C:\\Users\\dietr004\\Documents\\PhD\\computational mass spectrometry\\Spec2Struc\\Project_SubformulaAnnotation\\raw_data\\_RAWdata1\\GNPS-COLLECTIONS-PESTICIDES-POSITIVE.mgf\"\n",
    "# spectra_path = r\"C:\\Users\\dietr004\\Documents\\PhD\\computational mass spectrometry\\Spec2Struc\\Project_SubformulaAnnotation\\raw_data\\_RAWdata1\\GNPS-NIH-SMALLMOLECULEPHARMACOLOGICALLYACTIVE.mgf\"\n",
    "# spectra_path = r\"C:\\Users\\dietr004\\Documents\\PhD\\computational mass spectrometry\\Spec2Struc\\Project_SubformulaAnnotation\\raw_data\\_RAWdata1\\GNPS-SCIEX-LIBRARY.mgf\"\n",
    "spectra_path = r\"C:\\Users\\dietr004\\Documents\\PhD\\computational mass spectrometry\\MEDUSA\\notebooks\\MS2LDA\\PDE5_standards_annotated_pos_unique.mgf\""
   ]
  },
  {
   "cell_type": "code",
   "execution_count": 4,
   "id": "5a73895f-85e5-4e6b-b18e-f948686a16a5",
   "metadata": {},
   "outputs": [],
   "source": [
    "lda_model, corpus, id2word = run_lda(spectra_path=spectra_path, num_motifs=6, iterations=300)"
   ]
  },
  {
   "cell_type": "code",
   "execution_count": 5,
   "id": "c9c03401-a373-40b5-9b19-4facc2555398",
   "metadata": {},
   "outputs": [],
   "source": [
    "motif_spectra = motifs2spectra(lda_model)"
   ]
  },
  {
   "cell_type": "markdown",
   "id": "59c65959-2510-4bd0-b273-45a0273e3278",
   "metadata": {},
   "source": [
    "### how to load the embeddings and then still retrieve the smiles afterwards"
   ]
  },
  {
   "cell_type": "code",
   "execution_count": 6,
   "id": "b594301f-7bc7-4682-b4f4-678aa22cb674",
   "metadata": {},
   "outputs": [],
   "source": [
    "import pandas as pd"
   ]
  },
  {
   "cell_type": "code",
   "execution_count": 7,
   "id": "6af70ab9-7b46-4be4-a3d7-412034a06ad3",
   "metadata": {},
   "outputs": [],
   "source": [
    "from Spec2Vec_annotation import load_model_and_data\n",
    "from Spec2Vec_annotation import calc_similarity\n",
    "from Spec2Vec_annotation import retrieve_top_hits"
   ]
  },
  {
   "cell_type": "code",
   "execution_count": 8,
   "id": "b52a073b-a4a6-4e83-8a07-f2d416262c4c",
   "metadata": {},
   "outputs": [],
   "source": [
    "s2v_model, embeddings_smiles_DB = load_model_and_data()"
   ]
  },
  {
   "cell_type": "code",
   "execution_count": 9,
   "id": "5b5a07ca-51ce-4a9e-86ca-6e656caf0c33",
   "metadata": {},
   "outputs": [],
   "source": [
    "smiles = embeddings_smiles_DB.smiles.to_numpy()\n",
    "embeddings_DB = embeddings_smiles_DB.array.to_list()"
   ]
  },
  {
   "cell_type": "code",
   "execution_count": 10,
   "id": "23c20837-b2a4-41c7-b183-5516116a838e",
   "metadata": {
    "scrolled": true
   },
   "outputs": [],
   "source": [
    "s2v_scores = calc_similarity(s2v_model, motif_spectra, embeddings_DB)"
   ]
  },
  {
   "cell_type": "code",
   "execution_count": 11,
   "id": "cbcc6d96-c216-4092-9f73-005fb5225e6e",
   "metadata": {},
   "outputs": [],
   "source": [
    "top_scores, top_smiles = retrieve_top_hits(s2v_scores, 5, smiles)"
   ]
  },
  {
   "cell_type": "code",
   "execution_count": 12,
   "id": "cf9aae65-6ac0-440d-9c99-656cad9f19cc",
   "metadata": {},
   "outputs": [
    {
     "data": {
      "text/plain": [
       "(0.8343679157796524,\n",
       " 0.8343479884549256,\n",
       " 0.830908753514659,\n",
       " 0.8289329372561467,\n",
       " 0.8273092228643626,\n",
       " 0.7924721037963902,\n",
       " 0.7924721037963902,\n",
       " 0.7923873476893448,\n",
       " 0.7923873476893448,\n",
       " 0.7908260348824603)"
      ]
     },
     "execution_count": 12,
     "metadata": {},
     "output_type": "execute_result"
    }
   ],
   "source": [
    "top_scores"
   ]
  },
  {
   "cell_type": "code",
   "execution_count": 13,
   "id": "05685206-d5cd-44b0-bd8d-87036196460e",
   "metadata": {},
   "outputs": [
    {
     "data": {
      "text/plain": [
       "['CCCc1nc(c2n1nc([nH]c2=O)c3cc(ccc3OCC)S(=O)(=O)N4CCN(CC4)CC)C',\n",
       " 'CCCc1nc(c2n1nc([nH]c2=O)c3cc(ccc3OCC)S(=O)(=O)N4CCN(CC4)CC)C',\n",
       " 'CCCc1nc(c2n1nc([nH]c2=O)c3cc(ccc3OCC)S(=O)(=O)N4CCN(CC4)CC)C',\n",
       " 'CCCc1nc(c2n1nc([nH]c2=O)c3cc(ccc3OCC)S(=O)(=O)N4CCN(CC4)CC)C',\n",
       " 'CCCc1nc(c2n1nc([nH]c2=O)c3cc(ccc3OCC)S(=O)(=O)N4CCN(CC4)CC)C',\n",
       " 'CCCc1nc(c2n1nc([nH]c2=O)c3cc(ccc3OCC)S(=O)(=O)N4CCN(CC4)CC)C',\n",
       " 'CCCc1nc(c2n1nc([nH]c2=O)c3cc(ccc3OCC)S(=O)(=O)N4CCN(CC4)CC)C',\n",
       " 'CCCc1nc(c2n1nc([nH]c2=O)c3cc(ccc3OCC)S(=O)(=O)N4CCN(CC4)CC)C',\n",
       " 'CCCc1nc(c2n1nc([nH]c2=O)c3cc(ccc3OCC)S(=O)(=O)N4CCN(CC4)CC)C',\n",
       " 'CCCc1nc(c2n1nc([nH]c2=O)c3cc(ccc3OCC)S(=O)(=O)N4CCN(CC4)CC)C']"
      ]
     },
     "execution_count": 13,
     "metadata": {},
     "output_type": "execute_result"
    }
   ],
   "source": [
    "top_smiles"
   ]
  },
  {
   "cell_type": "markdown",
   "id": "e2a73f8a-ac2a-4f06-970c-4b3e9951a908",
   "metadata": {},
   "source": [
    "---"
   ]
  },
  {
   "cell_type": "markdown",
   "id": "eb279f0a-8e19-4b34-8d2e-18adb0a59660",
   "metadata": {},
   "source": [
    "### New Part: Retrieve overlaping fragments between spectra with motif spectra"
   ]
  },
  {
   "cell_type": "code",
   "execution_count": 14,
   "id": "dcb43a99-a3b9-43bc-a5df-c6fd218a8a18",
   "metadata": {},
   "outputs": [],
   "source": [
    "from utils import match_frags_and_losses"
   ]
  },
  {
   "cell_type": "code",
   "execution_count": 15,
   "id": "68ffcc37-7824-4cc4-8acd-44519ae7d533",
   "metadata": {},
   "outputs": [],
   "source": [
    "# just to get some spectra: it is really important that the spectra are binned\n",
    "smiles_per_motifs, predicted_motifs, predicted_motifs_distribution, spectra_per_motifs = predict_with_lda(lda_model, spectra_path, id2word)"
   ]
  },
  {
   "cell_type": "code",
   "execution_count": 16,
   "id": "13110c25-fdb9-4018-b523-ddd77391ef50",
   "metadata": {},
   "outputs": [],
   "source": [
    "i = 5"
   ]
  },
  {
   "cell_type": "code",
   "execution_count": 17,
   "id": "ea89397b-341a-4211-aa61-4c6d4e1143e1",
   "metadata": {},
   "outputs": [],
   "source": [
    "matching_frags, matching_losses = match_frags_and_losses(motif_spectra[i], spectra_per_motifs[i])"
   ]
  },
  {
   "cell_type": "code",
   "execution_count": 18,
   "id": "a3c7b6b6-04e7-460c-aa14-84f29b3fc88a",
   "metadata": {},
   "outputs": [
    {
     "data": {
      "text/plain": [
       "[{58.06, 99.09, 491.19},\n",
       " {58.06, 99.09, 154.67, 169.1, 505.23},\n",
       " {58.06, 99.09, 154.67, 169.1, 489.23},\n",
       " {58.06, 99.09, 154.67, 532.26},\n",
       " {135.04, 154.67, 204.08, 262.09}]"
      ]
     },
     "execution_count": 18,
     "metadata": {},
     "output_type": "execute_result"
    }
   ],
   "source": [
    "matching_frags"
   ]
  },
  {
   "cell_type": "code",
   "execution_count": 19,
   "id": "909425ab-4dd0-4cca-ab0a-2d204b8b658d",
   "metadata": {},
   "outputs": [
    {
     "data": {
      "text/plain": [
       "[set(), set(), set(), set(), set()]"
      ]
     },
     "execution_count": 19,
     "metadata": {},
     "output_type": "execute_result"
    }
   ],
   "source": [
    "matching_losses"
   ]
  },
  {
   "cell_type": "markdown",
   "id": "4cb4711b-19d9-41ed-9575-62bd2bc688a7",
   "metadata": {},
   "source": [
    "### New Part: Use MassQL to search for matches"
   ]
  },
  {
   "cell_type": "code",
   "execution_count": 20,
   "id": "7051ac9e-b124-4b34-afa9-1a001969c72c",
   "metadata": {},
   "outputs": [],
   "source": [
    "from MassQL_annotation import initialize_massql_DB\n",
    "from MassQL_annotation import add_column\n",
    "from MassQL_annotation import search_massql_DB"
   ]
  },
  {
   "cell_type": "code",
   "execution_count": 24,
   "id": "debbf7d2-aaad-418e-82e2-96da1b8f434f",
   "metadata": {},
   "outputs": [],
   "source": [
    "spectra_path_GNPS = r\"C:\\Users\\dietr004\\Documents\\PhD\\computational mass spectrometry\\Spec2Struc\\Project_SubstructureIdentification\\raw_data\\GNPS\\cleaned_spectra_min_5_peaks.mgf\""
   ]
  },
  {
   "cell_type": "code",
   "execution_count": null,
   "id": "95a91d1a-5095-4ed6-a0b5-06d83ccaea71",
   "metadata": {},
   "outputs": [],
   "source": [
    "ms1_df, ms2_df = initialize_massql_DB(spectra_path_GNPS)"
   ]
  },
  {
   "cell_type": "code",
   "execution_count": 22,
   "id": "46349ee6-3d26-493f-8951-ceec45a019e4",
   "metadata": {},
   "outputs": [],
   "source": [
    "def generate_query(i):\n",
    "    input_query_base = \"QUERY scaninfo(MS2DATA) WHERE\"\n",
    "    input_query = \"QUERY scaninfo(MS2DATA) WHERE\"\n",
    "    for matching_frag in matching_frags[i]:\n",
    "        if input_query == input_query_base:\n",
    "            input_query += f\" MS2PROD={matching_frag}\"\n",
    "        else:\n",
    "            input_query += f\" AND MS2PROD={matching_frag}\"\n",
    "    for matching_loss in matching_losses[i]:\n",
    "         if input_query == input_query_base:\n",
    "            input_query += f\" MS2PROD={matching_loss}\"\n",
    "         else:\n",
    "            input_query += f\" AND MS2PROD={matching_loss}\"\n",
    "\n",
    "    return input_query"
   ]
  },
  {
   "cell_type": "code",
   "execution_count": 23,
   "id": "7da38ff5-ea0a-45e6-8a23-6e4ec390cf74",
   "metadata": {},
   "outputs": [
    {
     "name": "stdout",
     "output_type": "stream",
     "text": [
      "TOTAL QUERIES 1\n"
     ]
    },
    {
     "name": "stderr",
     "output_type": "stream",
     "text": [
      "100%|████████████████████████████████████████████████████████████████████████████████████| 1/1 [00:00<00:00, 40.76it/s]\n"
     ]
    },
    {
     "name": "stdout",
     "output_type": "stream",
     "text": [
      "[[594 491.18946 0 674.1 1 3.3262899999999997 1.0 2 nan\n",
      "  'CCCC1=NN(C2=C1NC(=NC2=S)C3=C(C=CC(=C3)S(=O)(=O)N4CCN(CC4)C)OCC)C']]\n",
      "TOTAL QUERIES 1\n"
     ]
    },
    {
     "name": "stderr",
     "output_type": "stream",
     "text": [
      "100%|████████████████████████████████████████████████████████████████████████████████████| 1/1 [00:00<00:00, 67.33it/s]\n"
     ]
    },
    {
     "name": "stdout",
     "output_type": "stream",
     "text": [
      "[[215 505.22332 0 539.78 1 2.53269 1.0 2 nan\n",
      "  'CCCC1=NN(C2=C1N=C(NC2=O)C3=C(C=CC(=C3)S(=O)(=O)N4CCN(CC4)CCO)OCC)C']]\n",
      "TOTAL QUERIES 1\n"
     ]
    },
    {
     "name": "stderr",
     "output_type": "stream",
     "text": [
      "100%|████████████████████████████████████████████████████████████████████████████████████| 1/1 [00:00<00:00, 53.65it/s]\n"
     ]
    },
    {
     "name": "stdout",
     "output_type": "stream",
     "text": [
      "[[222 489.22767 0 540.68 1 2.4637499999999997 1.0 2 nan\n",
      "  'CCCC1=NC(=C2N1N=C(NC2=O)C3=C(C=CC(=C3)S(=O)(=O)N4CCN(CC4)CC)OCC)C']]\n",
      "TOTAL QUERIES 1\n"
     ]
    },
    {
     "name": "stderr",
     "output_type": "stream",
     "text": [
      "100%|████████████████████████████████████████████████████████████████████████████████████| 1/1 [00:00<00:00, 81.63it/s]"
     ]
    },
    {
     "name": "stdout",
     "output_type": "stream",
     "text": [
      "[[483 532.25912 0 647.78 1 4.54353 1.0 2 nan\n",
      "  'CCCC1=CN(C2=C1N=C(NC2=O)C3=C(C=CC(=C3)S(=O)(=O)N4CCN(CC4)CCO)OCCC)CC']]\n",
      "TOTAL QUERIES 1\n"
     ]
    },
    {
     "name": "stderr",
     "output_type": "stream",
     "text": [
      "\n",
      "100%|████████████████████████████████████████████████████████████████████████████████████| 1/1 [00:00<00:00, 99.99it/s]"
     ]
    },
    {
     "name": "stdout",
     "output_type": "stream",
     "text": [
      "[[313 390.14504 0 622.64 1 4.5408100000000005 1.0 2 nan\n",
      "  'CN1CC(=O)N2[C@H](Cc3c([nH]c4ccccc34)[C@H]2c2ccc3c(c2)OCO3)C1=O']\n",
      " [321 391.14041 0 584.59 1 3.836 1.0 2 nan\n",
      "  'C1C2C(=O)N(CC(=O)N2C(C3=C1C4=CC=CC=C4N3)C5=CC6=C(C=C5)OCO6)N']\n",
      " [420 433.15077 0 588.35 1 4.25434 1.0 2 nan\n",
      "  'CC(=O)NN1CC(=O)N2C(C1=O)CC3=C(C2C4=CC5=C(C=C4)OCO5)NC6=CC=CC=C36']]\n"
     ]
    },
    {
     "name": "stderr",
     "output_type": "stream",
     "text": [
      "\n"
     ]
    }
   ],
   "source": [
    "for i in range(len(matching_frags)):\n",
    "    input_query = generate_query(i)\n",
    "    results_df = search_massql_DB(spectra_path, input_query, ms1_df, ms2_df)\n",
    "    print(results_df.to_numpy())"
   ]
  },
  {
   "cell_type": "code",
   "execution_count": null,
   "id": "0ef11fff-9cd3-4d0d-aed7-13007e9a193c",
   "metadata": {},
   "outputs": [],
   "source": []
  }
 ],
 "metadata": {
  "kernelspec": {
   "display_name": "Python 3 (ipykernel)",
   "language": "python",
   "name": "python3"
  },
  "language_info": {
   "codemirror_mode": {
    "name": "ipython",
    "version": 3
   },
   "file_extension": ".py",
   "mimetype": "text/x-python",
   "name": "python",
   "nbconvert_exporter": "python",
   "pygments_lexer": "ipython3",
   "version": "3.9.19"
  }
 },
 "nbformat": 4,
 "nbformat_minor": 5
}
