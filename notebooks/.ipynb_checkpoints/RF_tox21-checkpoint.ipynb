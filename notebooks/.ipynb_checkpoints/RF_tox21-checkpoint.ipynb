{
 "cells": [
  {
   "cell_type": "code",
   "execution_count": 10,
   "id": "bbbe29cb-f1f4-4251-b633-85783d80cd32",
   "metadata": {},
   "outputs": [],
   "source": [
    "import deepchem as dc\n",
    "from rdkit import Chem\n",
    "from rdkit.Chem import MACCSkeys"
   ]
  },
  {
   "cell_type": "code",
   "execution_count": 13,
   "id": "3ddea91a-1ded-4ebb-8b50-f5a693eb4f06",
   "metadata": {},
   "outputs": [
    {
     "ename": "ValueError",
     "evalue": "No Metadata found in the path C:\\Users\\dietr004\\AppData\\Local\\Temp\\tox21-featurized\\CircularFingerprint_size_1024\\ScaffoldSplitter\\BalancingTransformer\\train_dir",
     "output_type": "error",
     "traceback": [
      "\u001b[1;31m---------------------------------------------------------------------------\u001b[0m",
      "\u001b[1;31mValueError\u001b[0m                                Traceback (most recent call last)",
      "Cell \u001b[1;32mIn[13], line 1\u001b[0m\n\u001b[1;32m----> 1\u001b[0m tox21_tasks, tox21_datasets, tox21_transformers \u001b[38;5;241m=\u001b[39m \u001b[43mdc\u001b[49m\u001b[38;5;241;43m.\u001b[39;49m\u001b[43mmolnet\u001b[49m\u001b[38;5;241;43m.\u001b[39;49m\u001b[43mload_tox21\u001b[49m\u001b[43m(\u001b[49m\u001b[43m)\u001b[49m\n",
      "File \u001b[1;32m~\\AppData\\Local\\anaconda3\\envs\\MS2LDA\\lib\\site-packages\\deepchem\\molnet\\load_function\\tox21_datasets.py:90\u001b[0m, in \u001b[0;36mload_tox21\u001b[1;34m(featurizer, splitter, transformers, reload, data_dir, save_dir, tasks, **kwargs)\u001b[0m\n\u001b[0;32m     40\u001b[0m \u001b[38;5;250m\u001b[39m\u001b[38;5;124;03m\"\"\"Load Tox21 dataset\u001b[39;00m\n\u001b[0;32m     41\u001b[0m \n\u001b[0;32m     42\u001b[0m \u001b[38;5;124;03mThe \"Toxicology in the 21st Century\" (Tox21) initiative created a public\u001b[39;00m\n\u001b[1;32m   (...)\u001b[0m\n\u001b[0;32m     86\u001b[0m \u001b[38;5;124;03m.. [1] Tox21 Challenge. https://tripod.nih.gov/tox21/challenge/\u001b[39;00m\n\u001b[0;32m     87\u001b[0m \u001b[38;5;124;03m\"\"\"\u001b[39;00m\n\u001b[0;32m     88\u001b[0m loader \u001b[38;5;241m=\u001b[39m _Tox21Loader(featurizer, splitter, transformers, tasks, data_dir,\n\u001b[0;32m     89\u001b[0m                       save_dir, \u001b[38;5;241m*\u001b[39m\u001b[38;5;241m*\u001b[39mkwargs)\n\u001b[1;32m---> 90\u001b[0m \u001b[38;5;28;01mreturn\u001b[39;00m \u001b[43mloader\u001b[49m\u001b[38;5;241;43m.\u001b[39;49m\u001b[43mload_dataset\u001b[49m\u001b[43m(\u001b[49m\u001b[38;5;124;43m'\u001b[39;49m\u001b[38;5;124;43mtox21\u001b[39;49m\u001b[38;5;124;43m'\u001b[39;49m\u001b[43m,\u001b[49m\u001b[43m \u001b[49m\u001b[43mreload\u001b[49m\u001b[43m)\u001b[49m\n",
      "File \u001b[1;32m~\\AppData\\Local\\anaconda3\\envs\\MS2LDA\\lib\\site-packages\\deepchem\\molnet\\load_function\\molnet_loader.py:171\u001b[0m, in \u001b[0;36m_MolnetLoader.load_dataset\u001b[1;34m(self, name, reload)\u001b[0m\n\u001b[0;32m    169\u001b[0m         \u001b[38;5;28;01mreturn\u001b[39;00m \u001b[38;5;28mself\u001b[39m\u001b[38;5;241m.\u001b[39mtasks, (DiskDataset(save_folder),), transformers\n\u001b[0;32m    170\u001b[0m \u001b[38;5;28;01melse\u001b[39;00m:\n\u001b[1;32m--> 171\u001b[0m     loaded, all_dataset, transformers \u001b[38;5;241m=\u001b[39m \u001b[43mdc\u001b[49m\u001b[38;5;241;43m.\u001b[39;49m\u001b[43mutils\u001b[49m\u001b[38;5;241;43m.\u001b[39;49m\u001b[43mdata_utils\u001b[49m\u001b[38;5;241;43m.\u001b[39;49m\u001b[43mload_dataset_from_disk\u001b[49m\u001b[43m(\u001b[49m\n\u001b[0;32m    172\u001b[0m \u001b[43m        \u001b[49m\u001b[43msave_folder\u001b[49m\u001b[43m)\u001b[49m\n\u001b[0;32m    173\u001b[0m     \u001b[38;5;28;01mif\u001b[39;00m all_dataset \u001b[38;5;129;01mis\u001b[39;00m \u001b[38;5;129;01mnot\u001b[39;00m \u001b[38;5;28;01mNone\u001b[39;00m:\n\u001b[0;32m    174\u001b[0m         \u001b[38;5;28;01mreturn\u001b[39;00m \u001b[38;5;28mself\u001b[39m\u001b[38;5;241m.\u001b[39mtasks, all_dataset, transformers\n",
      "File \u001b[1;32m~\\AppData\\Local\\anaconda3\\envs\\MS2LDA\\lib\\site-packages\\deepchem\\utils\\data_utils.py:585\u001b[0m, in \u001b[0;36mload_dataset_from_disk\u001b[1;34m(save_dir)\u001b[0m\n\u001b[0;32m    583\u001b[0m     \u001b[38;5;28;01mreturn\u001b[39;00m \u001b[38;5;28;01mFalse\u001b[39;00m, \u001b[38;5;28;01mNone\u001b[39;00m, \u001b[38;5;28mlist\u001b[39m()\n\u001b[0;32m    584\u001b[0m loaded \u001b[38;5;241m=\u001b[39m \u001b[38;5;28;01mTrue\u001b[39;00m\n\u001b[1;32m--> 585\u001b[0m train \u001b[38;5;241m=\u001b[39m \u001b[43mdc\u001b[49m\u001b[38;5;241;43m.\u001b[39;49m\u001b[43mdata\u001b[49m\u001b[38;5;241;43m.\u001b[39;49m\u001b[43mDiskDataset\u001b[49m\u001b[43m(\u001b[49m\u001b[43mtrain_dir\u001b[49m\u001b[43m)\u001b[49m\n\u001b[0;32m    586\u001b[0m valid \u001b[38;5;241m=\u001b[39m dc\u001b[38;5;241m.\u001b[39mdata\u001b[38;5;241m.\u001b[39mDiskDataset(valid_dir)\n\u001b[0;32m    587\u001b[0m test \u001b[38;5;241m=\u001b[39m dc\u001b[38;5;241m.\u001b[39mdata\u001b[38;5;241m.\u001b[39mDiskDataset(test_dir)\n",
      "File \u001b[1;32m~\\AppData\\Local\\anaconda3\\envs\\MS2LDA\\lib\\site-packages\\deepchem\\data\\datasets.py:1220\u001b[0m, in \u001b[0;36mDiskDataset.__init__\u001b[1;34m(self, data_dir)\u001b[0m\n\u001b[0;32m   1217\u001b[0m \u001b[38;5;28mself\u001b[39m\u001b[38;5;241m.\u001b[39mdata_dir \u001b[38;5;241m=\u001b[39m data_dir\n\u001b[0;32m   1219\u001b[0m logger\u001b[38;5;241m.\u001b[39minfo(\u001b[38;5;124m\"\u001b[39m\u001b[38;5;124mLoading dataset from disk.\u001b[39m\u001b[38;5;124m\"\u001b[39m)\n\u001b[1;32m-> 1220\u001b[0m tasks, \u001b[38;5;28mself\u001b[39m\u001b[38;5;241m.\u001b[39mmetadata_df \u001b[38;5;241m=\u001b[39m \u001b[38;5;28;43mself\u001b[39;49m\u001b[38;5;241;43m.\u001b[39;49m\u001b[43mload_metadata\u001b[49m\u001b[43m(\u001b[49m\u001b[43m)\u001b[49m\n\u001b[0;32m   1221\u001b[0m \u001b[38;5;28mself\u001b[39m\u001b[38;5;241m.\u001b[39mtasks \u001b[38;5;241m=\u001b[39m np\u001b[38;5;241m.\u001b[39marray(tasks)\n\u001b[0;32m   1222\u001b[0m \u001b[38;5;28;01mif\u001b[39;00m \u001b[38;5;28mlen\u001b[39m(\u001b[38;5;28mself\u001b[39m\u001b[38;5;241m.\u001b[39mmetadata_df\u001b[38;5;241m.\u001b[39mcolumns) \u001b[38;5;241m==\u001b[39m \u001b[38;5;241m4\u001b[39m \u001b[38;5;129;01mand\u001b[39;00m \u001b[38;5;28mlist\u001b[39m(\n\u001b[0;32m   1223\u001b[0m         \u001b[38;5;28mself\u001b[39m\u001b[38;5;241m.\u001b[39mmetadata_df\u001b[38;5;241m.\u001b[39mcolumns) \u001b[38;5;241m==\u001b[39m [\u001b[38;5;124m'\u001b[39m\u001b[38;5;124mids\u001b[39m\u001b[38;5;124m'\u001b[39m, \u001b[38;5;124m'\u001b[39m\u001b[38;5;124mX\u001b[39m\u001b[38;5;124m'\u001b[39m, \u001b[38;5;124m'\u001b[39m\u001b[38;5;124my\u001b[39m\u001b[38;5;124m'\u001b[39m, \u001b[38;5;124m'\u001b[39m\u001b[38;5;124mw\u001b[39m\u001b[38;5;124m'\u001b[39m]:\n",
      "File \u001b[1;32m~\\AppData\\Local\\anaconda3\\envs\\MS2LDA\\lib\\site-packages\\deepchem\\data\\datasets.py:1311\u001b[0m, in \u001b[0;36mDiskDataset.load_metadata\u001b[1;34m(self)\u001b[0m\n\u001b[0;32m   1309\u001b[0m     DiskDataset\u001b[38;5;241m.\u001b[39m_save_metadata(metadata_df, \u001b[38;5;28mself\u001b[39m\u001b[38;5;241m.\u001b[39mdata_dir, tasks)\n\u001b[0;32m   1310\u001b[0m     \u001b[38;5;28;01mreturn\u001b[39;00m tasks, metadata_df\n\u001b[1;32m-> 1311\u001b[0m \u001b[38;5;28;01mraise\u001b[39;00m \u001b[38;5;167;01mValueError\u001b[39;00m(\u001b[38;5;124mf\u001b[39m\u001b[38;5;124m\"\u001b[39m\u001b[38;5;124mNo Metadata found in the path \u001b[39m\u001b[38;5;132;01m{\u001b[39;00m\u001b[38;5;28mself\u001b[39m\u001b[38;5;241m.\u001b[39mdata_dir\u001b[38;5;132;01m}\u001b[39;00m\u001b[38;5;124m\"\u001b[39m)\n",
      "\u001b[1;31mValueError\u001b[0m: No Metadata found in the path C:\\Users\\dietr004\\AppData\\Local\\Temp\\tox21-featurized\\CircularFingerprint_size_1024\\ScaffoldSplitter\\BalancingTransformer\\train_dir"
     ]
    }
   ],
   "source": [
    "tox21_tasks, tox21_datasets, tox21_transformers = dc.molnet.load_tox21()"
   ]
  },
  {
   "cell_type": "code",
   "execution_count": 11,
   "id": "76362ab0-ba5e-41e4-8b96-7150f4acfa24",
   "metadata": {},
   "outputs": [
    {
     "ename": "NameError",
     "evalue": "name 'tox21_datasets' is not defined",
     "output_type": "error",
     "traceback": [
      "\u001b[1;31m---------------------------------------------------------------------------\u001b[0m",
      "\u001b[1;31mNameError\u001b[0m                                 Traceback (most recent call last)",
      "Cell \u001b[1;32mIn[11], line 1\u001b[0m\n\u001b[1;32m----> 1\u001b[0m train_dataset, val_dataset, test_dataset \u001b[38;5;241m=\u001b[39m \u001b[43mtox21_datasets\u001b[49m\n\u001b[0;32m      2\u001b[0m \u001b[38;5;28mprint\u001b[39m(train_dataset\u001b[38;5;241m.\u001b[39mX\u001b[38;5;241m.\u001b[39mshape, train_dataset\u001b[38;5;241m.\u001b[39my\u001b[38;5;241m.\u001b[39mshape)\n\u001b[0;32m      3\u001b[0m \u001b[38;5;28mprint\u001b[39m(val_dataset\u001b[38;5;241m.\u001b[39mX\u001b[38;5;241m.\u001b[39mshape, val_dataset\u001b[38;5;241m.\u001b[39my\u001b[38;5;241m.\u001b[39mshape)\n",
      "\u001b[1;31mNameError\u001b[0m: name 'tox21_datasets' is not defined"
     ]
    }
   ],
   "source": [
    "train_dataset, val_dataset, test_dataset = tox21_datasets\n",
    "print(train_dataset.X.shape, train_dataset.y.shape)\n",
    "print(val_dataset.X.shape, val_dataset.y.shape)\n",
    "print(test_dataset.X.shape, test_dataset.y.shape)"
   ]
  },
  {
   "cell_type": "code",
   "execution_count": null,
   "id": "11037f6b-49f2-4767-88df-3fb67d68b5ee",
   "metadata": {},
   "outputs": [],
   "source": [
    "smiles_train = train_dataset.ids\n",
    "labels_train = train_dataset.y"
   ]
  },
  {
   "cell_type": "code",
   "execution_count": null,
   "id": "8ee487ac-670b-4dbe-b45c-b026bb3fe491",
   "metadata": {},
   "outputs": [],
   "source": [
    "smiles_val = val_dataset.ids\n",
    "labels_val = val_dataset.y"
   ]
  },
  {
   "cell_type": "code",
   "execution_count": null,
   "id": "86d8b94e-3ce0-4dc4-88a4-8de819df93d8",
   "metadata": {},
   "outputs": [],
   "source": [
    "mols_train = [Chem.MolFromSmiles(smi) for smi in smiles_train]\n",
    "maccs_train = [MACCSkeys.GenMACCSKeys(mol) for mol in mols_train]"
   ]
  }
 ],
 "metadata": {
  "kernelspec": {
   "display_name": "Python 3 (ipykernel)",
   "language": "python",
   "name": "python3"
  },
  "language_info": {
   "codemirror_mode": {
    "name": "ipython",
    "version": 3
   },
   "file_extension": ".py",
   "mimetype": "text/x-python",
   "name": "python",
   "nbconvert_exporter": "python",
   "pygments_lexer": "ipython3",
   "version": "3.9.19"
  }
 },
 "nbformat": 4,
 "nbformat_minor": 5
}
