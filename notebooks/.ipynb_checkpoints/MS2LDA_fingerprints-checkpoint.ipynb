{
 "cells": [
  {
   "cell_type": "code",
   "execution_count": 1,
   "id": "d4b44b02-73a0-4bf7-87dd-fb5f2d62611a",
   "metadata": {},
   "outputs": [],
   "source": [
    "from rdkit.Chem import Draw\n",
    "from rdkit import Chem"
   ]
  },
  {
   "cell_type": "code",
   "execution_count": 2,
   "id": "d12ac8ab-0a31-4b19-8a35-7812c60f953e",
   "metadata": {},
   "outputs": [
    {
     "name": "stdout",
     "output_type": "stream",
     "text": [
      "C:\\Users\\dietr004\\Documents\\PhD\\computational mass spectrometry\\Spec2Struc\\Project_SubstructureIdentification\\scripts\\programming_scripts\n"
     ]
    }
   ],
   "source": [
    "import os\n",
    "os.chdir('../programming_scripts/.')\n",
    "print(os.getcwd())\n",
    "\n",
    "from MS2LDA_core import run_lda\n",
    "from MS2LDA_core import predict_with_lda\n",
    "\n",
    "from FP_annotation import annotate_motifs\n",
    "from Substructure_retrieval import retrieve_substructures"
   ]
  },
  {
   "cell_type": "code",
   "execution_count": 3,
   "id": "5e67daca-da06-4ef9-b40d-29a397f2cb98",
   "metadata": {},
   "outputs": [],
   "source": [
    "# spectra_path = r\"C:\\Users\\dietr004\\Documents\\PhD\\computational mass spectrometry\\Spec2Struc\\Project_SubformulaAnnotation\\raw_data\\_RAWdata1\\GNPS-COLLECTIONS-PESTICIDES-POSITIVE.mgf\"\n",
    "# spectra_path = r\"C:\\Users\\dietr004\\Documents\\PhD\\computational mass spectrometry\\Spec2Struc\\Project_SubformulaAnnotation\\raw_data\\_RAWdata1\\GNPS-NIH-SMALLMOLECULEPHARMACOLOGICALLYACTIVE.mgf\"\n",
    "# spectra_path = r\"C:\\Users\\dietr004\\Documents\\PhD\\computational mass spectrometry\\Spec2Struc\\Project_SubformulaAnnotation\\raw_data\\_RAWdata1\\GNPS-SCIEX-LIBRARY.mgf\"\n",
    "spectra_path = r\"C:\\Users\\dietr004\\Documents\\PhD\\computational mass spectrometry\\MEDUSA\\notebooks\\MS2LDA\\PDE5_standards_annotated_pos_unique.mgf\""
   ]
  },
  {
   "cell_type": "code",
   "execution_count": 17,
   "id": "5a73895f-85e5-4e6b-b18e-f948686a16a5",
   "metadata": {},
   "outputs": [],
   "source": [
    "lda_model, corpus, id2word = run_lda(spectra_path=spectra_path, num_motifs=6, iterations=300)"
   ]
  },
  {
   "cell_type": "code",
   "execution_count": 18,
   "id": "2b65c436-4df0-44d5-9ec0-6eee63fd95cd",
   "metadata": {
    "scrolled": true
   },
   "outputs": [],
   "source": [
    "smiles_per_motifs, predicted_motifs, predicted_motifs_distribution, spectra_per_motifs = predict_with_lda(lda_model, spectra_path, id2word)"
   ]
  },
  {
   "cell_type": "markdown",
   "id": "08275399-dd1c-40cb-9d8a-5987621481a1",
   "metadata": {},
   "source": [
    "### Annotation"
   ]
  },
  {
   "cell_type": "code",
   "execution_count": 19,
   "id": "9f724d9a-3fa6-407f-b094-d23bf3fd8ba5",
   "metadata": {
    "scrolled": true
   },
   "outputs": [
    {
     "name": "stdout",
     "output_type": "stream",
     "text": [
      "[FP]: Executing calc_adaptive\n",
      "[FP]: Executing calc_adaptive\n",
      "[FP]: Executing calc_adaptive\n",
      "[FP]: Executing calc_adaptive\n",
      "[FP]: Executing calc_adaptive\n",
      "[FP]: Executing calc_adaptive\n"
     ]
    }
   ],
   "source": [
    "fps_motifs = annotate_motifs(smiles_per_motifs, fp_type=\"adaptive\", threshold=0.73)"
   ]
  },
  {
   "cell_type": "code",
   "execution_count": 20,
   "id": "92ea0eb0-cc44-46b9-b848-fb1c71476e02",
   "metadata": {},
   "outputs": [],
   "source": [
    "substructure_matches = retrieve_substructures(fps_motifs, smiles_per_motifs)"
   ]
  },
  {
   "cell_type": "code",
   "execution_count": 21,
   "id": "5e460792-06de-4dce-a3f6-ae97471ae58d",
   "metadata": {},
   "outputs": [
    {
     "data": {
      "text/plain": [
       "[['O', 'C=O', 'c1ccccc1', 'o'],\n",
       " ['O', 'N', '[nH]', 'n', 'c1ccccc1', 'o'],\n",
       " ['O', 'N', '[nH]', 'n', 'C=O', 'c1ccccc1', 'o'],\n",
       " ['O', 'N', '[nH]', 'n', 'c1ccccc1', 'o'],\n",
       " ['O', 'N', '[nH]', 'n', 'c1ccccc1', 'o'],\n",
       " ['O', 'C=O', 'c1ccccc1', 'o']]"
      ]
     },
     "execution_count": 21,
     "metadata": {},
     "output_type": "execute_result"
    }
   ],
   "source": [
    "substructure_matches"
   ]
  },
  {
   "cell_type": "code",
   "execution_count": 22,
   "id": "765678ef-efe0-419b-bee8-befb543a7739",
   "metadata": {},
   "outputs": [
    {
     "data": {
      "image/png": "[encoded data removed]",
      "text/plain": [
       "<IPython.core.display.Image object>"
      ]
     },
     "execution_count": 22,
     "metadata": {},
     "output_type": "execute_result"
    }
   ],
   "source": [
    "Draw.MolsToGridImage([Chem.MolFromSmiles(smi) for smi in smiles_per_motifs[0]])"
   ]
  }
 ],
 "metadata": {
  "kernelspec": {
   "display_name": "Python 3 (ipykernel)",
   "language": "python",
   "name": "python3"
  },
  "language_info": {
   "codemirror_mode": {
    "name": "ipython",
    "version": 3
   },
   "file_extension": ".py",
   "mimetype": "text/x-python",
   "name": "python",
   "nbconvert_exporter": "python",
   "pygments_lexer": "ipython3",
   "version": "3.9.19"
  }
 },
 "nbformat": 4,
 "nbformat_minor": 5
}
