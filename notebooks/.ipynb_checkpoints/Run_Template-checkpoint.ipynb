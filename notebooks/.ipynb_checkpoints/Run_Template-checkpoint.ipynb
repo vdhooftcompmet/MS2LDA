{
 "cells": [
  {
   "cell_type": "code",
   "execution_count": 2,
   "id": "0dc35a80-f34a-4e27-a42a-298c109d96da",
   "metadata": {},
   "outputs": [],
   "source": [
    "import os\n",
    "os.chdir(\"..\")"
   ]
  },
  {
   "cell_type": "code",
   "execution_count": null,
   "id": "518f6f4e-d912-47cf-8e91-339fd1e52493",
   "metadata": {},
   "outputs": [],
   "source": []
  },
  {
   "cell_type": "code",
   "execution_count": 3,
   "id": "5d4f918c-8e68-4f04-8a79-095d78210232",
   "metadata": {},
   "outputs": [],
   "source": [
    "from Preprocessing.load_and_clean import load_mgf\n",
    "from Preprocessing.load_and_clean import clean_spectra\n",
    "\n",
    "from Preprocessing.generate_corpus import features_to_words\n",
    "from Preprocessing.generate_corpus import combine_features"
   ]
  },
  {
   "cell_type": "code",
   "execution_count": null,
   "id": "cd029fd5-d58f-49e9-a982-389a661a04ee",
   "metadata": {},
   "outputs": [],
   "source": []
  }
 ],
 "metadata": {
  "kernelspec": {
   "display_name": "Python 3 (ipykernel)",
   "language": "python",
   "name": "python3"
  },
  "language_info": {
   "codemirror_mode": {
    "name": "ipython",
    "version": 3
   },
   "file_extension": ".py",
   "mimetype": "text/x-python",
   "name": "python",
   "nbconvert_exporter": "python",
   "pygments_lexer": "ipython3",
   "version": "3.9.19"
  }
 },
 "nbformat": 4,
 "nbformat_minor": 5
}
