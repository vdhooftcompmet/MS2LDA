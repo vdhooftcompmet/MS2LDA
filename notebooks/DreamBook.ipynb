{
 "cells": [
  {
   "cell_type": "markdown",
   "id": "e231f2d4-c537-4c10-9fb1-3e4df87a54d5",
   "metadata": {},
   "source": [
    "## Running MS2LDA"
   ]
  },
  {
   "cell_type": "code",
   "execution_count": 1,
   "metadata": {},
   "outputs": [
    {
     "name": "stdout",
     "output_type": "stream",
     "text": [
      "/Users/rosinatorres/Documents/PhD/WP1/Project/Code/MS2LDA/MS2LDA\n"
     ]
    }
   ],
   "source": [
    "import os\n",
    "os.chdir(\"../\")\n",
    "print(os.getcwd())"
   ]
  },
  {
   "cell_type": "code",
   "execution_count": 2,
   "id": "18cd2e05-410b-4785-adff-4be45124acfa",
   "metadata": {},
   "outputs": [],
   "source": [
    "%matplotlib agg\n",
    "import MS2LDA"
   ]
  },
  {
   "cell_type": "code",
   "execution_count": 3,
   "id": "944410aa-a4cc-4104-8e36-f9389175847a",
   "metadata": {},
   "outputs": [],
   "source": [
    "preprocessing_parameters = {\n",
    "    \"min_mz\": 0, #\n",
    "    \"max_mz\": 2000,\n",
    "    \"max_frags\": 1000,\n",
    "    \"min_frags\": 5,\n",
    "    \"min_intensity\": 0.01,\n",
    "    \"max_intensity\": 1\n",
    "}"
   ]
  },
  {
   "cell_type": "code",
   "execution_count": 4,
   "id": "dcdf52c5-82a2-455a-89ed-506af3c4826c",
   "metadata": {},
   "outputs": [],
   "source": [
    "convergence_parameters = {\n",
    "    \"step_size\": 50,\n",
    "    \"window_size\": 10,\n",
    "    \"threshold\": 0.005,\n",
    "    \"type\": \"perplexity_history\"\n",
    "}"
   ]
  },
  {
   "cell_type": "code",
   "execution_count": 5,
   "id": "590514d5-9c55-44b9-8fc0-f3f59d8a6bf2",
   "metadata": {},
   "outputs": [],
   "source": [
    "annotation_parameters = {\n",
    "    \"criterium\": \"biggest\", # return cluster with most compounds in it after optimization (\"best\" also an option)\n",
    "    \"cosine_similarity\": 0.90, # how similar are the spectra compared to motifs in the optimization\n",
    "    \"n_mols_retrieved\": 5 # molecules retrieved from database by Spec2Vec\n",
    "}"
   ]
  },
  {
   "cell_type": "code",
   "execution_count": 6,
   "id": "5fd54ccb-aa47-49bd-a34d-518730ed0ef8",
   "metadata": {},
   "outputs": [],
   "source": [
    "model_parameters = {\n",
    "    \"rm_top\": 0, \n",
    "    \"min_cf\": 0,\n",
    "    \"min_df\": 3,\n",
    "    \"alpha\": 0.6, #frag are more clutered in one motif, the lower the more clustered\n",
    "    \"eta\": 0.01, #motif that has a frag with high intensity (low)\n",
    "    \"seed\": 42,\n",
    "}"
   ]
  },
  {
   "cell_type": "code",
   "execution_count": 7,
   "id": "a0e0b0a4-d4f7-437d-ae69-0271c81f1efb",
   "metadata": {},
   "outputs": [],
   "source": [
    "train_parameters = {\n",
    "    \"parallel\": 3,\n",
    "    \"workers\": 0, #for 1> 1\n",
    "}"
   ]
  },
  {
   "cell_type": "code",
   "execution_count": 8,
   "id": "366a586a-6121-4db3-9ac2-a40bb327239c",
   "metadata": {},
   "outputs": [],
   "source": [
    "dataset_parameters = {\n",
    "    \"acquisition_type\": \"DDA\",\n",
    "    \"charge\": 1,\n",
    "    \"name\": \"mushrooms_100\",\n",
    "    \"output_folder\": \"testing\",\n",
    "}"
   ]
  },
  {
   "cell_type": "code",
   "execution_count": 9,
   "id": "68e7abcb-57c1-4494-a4bf-ea9b9e98b8c7",
   "metadata": {},
   "outputs": [],
   "source": [
    "fingerprint_parameters = {\n",
    "    \"fp_type\": \"rdkit\",\n",
    "    \"threshold\": 0.8,\n",
    "}"
   ]
  },
  {
   "cell_type": "code",
   "execution_count": 10,
   "id": "c46ed944-06c8-4577-94d0-26630b788b88",
   "metadata": {},
   "outputs": [],
   "source": [
    "motif_parameter = 50 # number of top n words that form the motif"
   ]
  },
  {
   "cell_type": "code",
   "execution_count": 11,
   "id": "b7682647-60ba-4a0b-bb04-0b8f1191f03f",
   "metadata": {},
   "outputs": [],
   "source": [
    "dataset = \"/Users/rosinatorres/Documents/PhD/WP1/Project/Code/MS2LDA/MS2LDA/datasets/mushroom_spectra.mgf\"\n",
    "n_motifs = 10\n",
    "n_iterations = 100"
   ]
  },
  {
   "cell_type": "code",
   "execution_count": 12,
   "id": "f5e3adc8-b5b9-4df9-a30d-6058e0bea552",
   "metadata": {
    "scrolled": true
   },
   "outputs": [
    {
     "name": "stdout",
     "output_type": "stream",
     "text": [
      "Cleaning spectra ... 1843 spectra left\n"
     ]
    },
    {
     "name": "stderr",
     "output_type": "stream",
     "text": [
      "  0%|          | 0/2 [00:00<?, ?it/s]/Users/rosinatorres/Documents/PhD/WP1/Project/Code/MS2LDA/MS2LDA/MS2LDA/modeling.py:54: RuntimeWarning: The training result may differ even with fixed seed if `workers` != 1.\n",
      "  model.train(convergence_parameters[\"step_size\"], **train_parameters)\n",
      "100%|██████████| 2/2 [00:01<00:00,  1.11it/s]\n"
     ]
    },
    {
     "name": "stdout",
     "output_type": "stream",
     "text": [
      "model did not converge\n",
      "Loading Spec2Vec model ...\n",
      "Searches for candidates ...\n"
     ]
    },
    {
     "name": "stderr",
     "output_type": "stream",
     "text": [
      "100%|██████████| 10/10 [00:00<00:00, 12.06it/s]\n"
     ]
    }
   ],
   "source": [
    "motif_spectra, optimized_motifs, motif_fps = MS2LDA.run(dataset, n_motifs=n_motifs, n_iterations=n_iterations,\n",
    "        dataset_parameters=dataset_parameters,\n",
    "        train_parameters=train_parameters,\n",
    "        model_parameters=model_parameters,\n",
    "        convergence_parameters=convergence_parameters,\n",
    "        annotation_parameters=annotation_parameters,\n",
    "        motif_parameter=motif_parameter,\n",
    "        preprocessing_parameters=preprocessing_parameters,\n",
    "        fingerprint_parameters=fingerprint_parameters)"
   ]
  },
  {
   "cell_type": "markdown",
   "id": "3e9acd29-08bc-4864-aa58-1204a1cb0a26",
   "metadata": {},
   "source": [
    "---"
   ]
  },
  {
   "cell_type": "markdown",
   "id": "50916750-591f-4ba1-ad88-d0db3666d600",
   "metadata": {},
   "source": [
    "## Screening for spectra from experiments, motifs or motifDB"
   ]
  },
  {
   "cell_type": "code",
   "execution_count": 13,
   "id": "6211a8de-c37a-443a-9aa7-9ab1c2bfeadb",
   "metadata": {},
   "outputs": [],
   "source": [
    "motifDB_query = \"QUERY scaninfo(MS2DATA) WHERE MS2MZ=379.4:TOLERANCE=0.1\""
   ]
  },
  {
   "cell_type": "code",
   "execution_count": 14,
   "metadata": {},
   "outputs": [],
   "source": [
    "from MS2LDA.run import screen_spectra"
   ]
  },
  {
   "cell_type": "code",
   "execution_count": 15,
   "id": "f3fe99e0-3e58-4ae5-99e2-e485f7f67249",
   "metadata": {},
   "outputs": [
    {
     "name": "stdout",
     "output_type": "stream",
     "text": [
      "Loading Spec2Vec model ...\n"
     ]
    }
   ],
   "source": [
    "screening_hits = screen_spectra(motifDB=\"mushrooms_n200_etalow/motifDB.xlsx\", dataset=dataset, motifDB_query=motifDB_query, output_folder=dataset_parameters[\"output_folder\"])"
   ]
  },
  {
   "cell_type": "markdown",
   "id": "314afe56-5f6d-4eca-885f-915b7cefc110",
   "metadata": {},
   "source": [
    "---"
   ]
  },
  {
   "cell_type": "markdown",
   "id": "d41f5043-292c-4567-8dca-9397267d813d",
   "metadata": {},
   "source": [
    "## Search by SMILES for annotated motifs"
   ]
  },
  {
   "cell_type": "code",
   "execution_count": null,
   "id": "4070f222-bbcd-42f8-9c8b-6e35853b54f7",
   "metadata": {},
   "outputs": [],
   "source": [
    "structure_query = [\"CC(C)[C@H]1C(=O)OCC2=CC(=O)C(=CN12)C(=O)C\"]"
   ]
  },
  {
   "cell_type": "code",
   "execution_count": null,
   "metadata": {},
   "outputs": [],
   "source": []
  },
  {
   "cell_type": "code",
   "execution_count": null,
   "id": "cefbfd16-8bf7-4f53-9b97-1b1b15101994",
   "metadata": {},
   "outputs": [],
   "source": [
    "screening_structure_hits = MS2LDA.screen_structure(motif_fps, motif_spectra, structure_query, fp_type=\"rdkit\", threshold=0.7, output_folder=dataset_parameters[\"output_folder\"])"
   ]
  },
  {
   "cell_type": "code",
   "execution_count": null,
   "id": "35da3eaf-4838-429e-9a53-84643d34aae2",
   "metadata": {},
   "outputs": [],
   "source": []
  },
  {
   "cell_type": "code",
   "execution_count": null,
   "metadata": {},
   "outputs": [],
   "source": []
  },
  {
   "cell_type": "code",
   "execution_count": null,
   "metadata": {},
   "outputs": [],
   "source": []
  }
 ],
 "metadata": {
  "kernelspec": {
   "display_name": "Python 3 (ipykernel)",
   "language": "python",
   "name": "python3"
  },
  "language_info": {
   "codemirror_mode": {
    "name": "ipython",
    "version": 3
   },
   "file_extension": ".py",
   "mimetype": "text/x-python",
   "name": "python",
   "nbconvert_exporter": "python",
   "pygments_lexer": "ipython3",
   "version": "3.11.8"
  }
 },
 "nbformat": 4,
 "nbformat_minor": 5
}
