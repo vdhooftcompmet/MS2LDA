{
 "cells": [
  {
   "cell_type": "markdown",
   "id": "199e7fbc",
   "metadata": {},
   "source": [
    "This notebook needs to be updated!!"
   ]
  },
  {
   "cell_type": "code",
   "execution_count": 3,
   "id": "c0d0cd13-c8d2-477b-bf72-278062470f44",
   "metadata": {},
   "outputs": [
    {
     "name": "stdout",
     "output_type": "stream",
     "text": [
      "C:\\Users\\dietr004\\Documents\\PhD\\computational mass spectrometry\\WP1\\MS2LDA\n"
     ]
    }
   ],
   "source": [
    "import os\n",
    "os.chdir(\"../..\")\n",
    "print(os.getcwd())"
   ]
  },
  {
   "cell_type": "code",
   "execution_count": 4,
   "id": "483fb23c-28ff-4c88-8279-a6b703f7e400",
   "metadata": {},
   "outputs": [],
   "source": [
    "from MS2LDA.Preprocessing.load_and_clean import load_mgf\n",
    "import matchms.filtering as msfilters\n",
    "\n",
    "from MS2LDA.Add_On.Spec2Vec.annotation import calc_embeddings\n",
    "from MS2LDA.Add_On.Spec2Vec.annotation import load_s2v_and_library\n",
    "\n",
    "from tqdm import tqdm\n",
    "\n",
    "from rdkit import Chem\n",
    "\n",
    "import numpy as np\n",
    "import sqlite3\n",
    "import pickle"
   ]
  },
  {
   "cell_type": "markdown",
   "id": "d4d725d0-eeb4-4d55-ba6a-3cd8a193dac2",
   "metadata": {},
   "source": [
    "## Negative Mode"
   ]
  },
  {
   "cell_type": "code",
   "execution_count": 3,
   "id": "3903f456-7a11-4c31-953a-2f52867ba313",
   "metadata": {},
   "outputs": [],
   "source": [
    "spectra_path = r\"C:\\Users\\dietr004\\Documents\\PhD\\computational mass spectrometry\\Spec2Struc\\MS2LDA\\Add_On\\Spec2Vec\\neg_model\\cleaned_libraries.mgf\""
   ]
  },
  {
   "cell_type": "code",
   "execution_count": 4,
   "id": "d84829e0-e4fb-48d4-862f-ae6310d6a0eb",
   "metadata": {},
   "outputs": [],
   "source": [
    "#path_model = r\"C:\\Users\\dietr004\\Documents\\PhD\\computational mass spectrometry\\Spec2Struc\\MS2LDA\\Add_On\\Spec2Vec\\model\\020724_Spec2Vec_CleanedLibraries.model\"\n",
    "path_model = r\"C:\\Users\\dietr004\\Documents\\PhD\\computational mass spectrometry\\Spec2Struc\\MS2LDA\\Add_On\\Spec2Vec\\neg_model\\150724_Spec2Vec_neg_CleanedLibraries.model\"\n",
    "#path_model = r\"C:\\Users\\dietr004\\Documents\\PhD\\computational mass spectrometry\\Spec2Struc\\MS2LDA\\Add_On\\Spec2Vec\\spec2vec_AllPositive_ratio05_filtered_201101_iter_15.model\"\n",
    "path_library = r\"C:\\Users\\dietr004\\Documents\\PhD\\computational mass spectrometry\\Spec2Struc\\MS2LDA\\Add_On\\Spec2Vec\\library.pkl\" # were are not using the library, so it can be any dummy pickle file"
   ]
  },
  {
   "cell_type": "code",
   "execution_count": 5,
   "id": "9b6705dc-5851-4cf4-a776-f562f20a94ea",
   "metadata": {},
   "outputs": [
    {
     "name": "stdout",
     "output_type": "stream",
     "text": [
      "CPU times: total: 13.2 s\n",
      "Wall time: 13.3 s\n"
     ]
    }
   ],
   "source": [
    "%%time \n",
    "s2v_similarity, _ = load_s2v_and_library(path_model, path_library)"
   ]
  },
  {
   "cell_type": "code",
   "execution_count": 6,
   "id": "e726f13b-823b-435d-a297-50a163a11efb",
   "metadata": {},
   "outputs": [
    {
     "name": "stderr",
     "output_type": "stream",
     "text": [
      "145594it [22:04, 109.88it/s]"
     ]
    },
    {
     "name": "stdout",
     "output_type": "stream",
     "text": [
      "CPU times: total: 22min 4s\n",
      "Wall time: 22min 4s\n"
     ]
    },
    {
     "name": "stderr",
     "output_type": "stream",
     "text": [
      "\n"
     ]
    }
   ],
   "source": [
    "%%time\n",
    "spectra = load_mgf(spectra_path)\n",
    "\n",
    "cleaned_spectra = []\n",
    "smiles = []\n",
    "embeddings = []\n",
    "\n",
    "\n",
    "for spectrum in tqdm(spectra):\n",
    "    # metadata filters\n",
    "    spectrum = msfilters.default_filters(spectrum)\n",
    "    spectrum = msfilters.add_retention_index(spectrum)\n",
    "    spectrum = msfilters.add_retention_time(spectrum)\n",
    "    spectrum = msfilters.require_precursor_mz(spectrum)\n",
    "\n",
    "    # normalize and filter peaks\n",
    "    spectrum = msfilters.normalize_intensities(spectrum)\n",
    "    spectrum = msfilters.select_by_relative_intensity(spectrum, 0.001, 1)\n",
    "    spectrum = msfilters.select_by_mz(spectrum, mz_from=0.0, mz_to=1000.0)\n",
    "    spectrum = msfilters.reduce_to_number_of_peaks(spectrum, n_max=500)\n",
    "    spectrum = msfilters.require_minimum_number_of_peaks(spectrum, n_required=3)\n",
    "    spectrum = msfilters.add_losses(spectrum)\n",
    "\n",
    "    if spectrum: \n",
    "        \n",
    "        smi = spectrum.get(\"smiles\")\n",
    "        mol = Chem.MolFromSmiles(smi)\n",
    "        Chem.RemoveStereochemistry(mol)\n",
    "        smi2D = Chem.MolToSmiles(mol)\n",
    "        \n",
    "        spectrum.set(\"smiles\", smi2D)\n",
    "        cleaned_spectra.append(spectrum)\n",
    "        \n",
    "        \n",
    "        smiles.append(smi2D)\n",
    "        \n",
    "        embedding = calc_embeddings(s2v_similarity, [spectrum])\n",
    "        embeddings.append(embedding)"
   ]
  },
  {
   "cell_type": "code",
   "execution_count": 7,
   "id": "64cfe427-c9b2-43ac-b7bc-600eba8af242",
   "metadata": {},
   "outputs": [
    {
     "name": "stdout",
     "output_type": "stream",
     "text": [
      "Amount of spectra: 132950\n"
     ]
    }
   ],
   "source": [
    "print(f\"Amount of spectra: {len(cleaned_spectra)}\")"
   ]
  },
  {
   "cell_type": "code",
   "execution_count": 8,
   "id": "978b8e7c-2b58-478a-a4b5-59405cb7208c",
   "metadata": {},
   "outputs": [],
   "source": [
    "import pandas as pd\n",
    "import pickle"
   ]
  },
  {
   "cell_type": "code",
   "execution_count": 9,
   "id": "bbb1b605-dea1-49f5-b39d-211f32a803b4",
   "metadata": {},
   "outputs": [],
   "source": [
    "new_library = pd.DataFrame({\n",
    "    \"embeddings\": embeddings,\n",
    "    \"smiles\": smiles,\n",
    "    \"spectra\": cleaned_spectra,\n",
    "})"
   ]
  },
  {
   "cell_type": "code",
   "execution_count": 10,
   "id": "d7818159-9139-45a4-8332-46089af1462a",
   "metadata": {},
   "outputs": [],
   "source": [
    "with open(r\"C:\\Users\\dietr004\\Documents\\PhD\\computational mass spectrometry\\Spec2Struc\\MS2LDA\\Add_On\\Spec2Vec\\neg_model\\new_library.pkl\", \"wb\") as outpkl:\n",
    "    pickle.dump(new_library, outpkl)"
   ]
  },
  {
   "cell_type": "markdown",
   "id": "6b4114b2-cb79-4ed7-b66b-ed89773616f7",
   "metadata": {},
   "source": [
    "---"
   ]
  },
  {
   "cell_type": "markdown",
   "id": "fa20d8df-8999-410a-b0cc-71a59c6bf409",
   "metadata": {},
   "source": [
    "This is for the \"old\" dataset where I only have the spectra stored together with the embeddings and smiles"
   ]
  },
  {
   "cell_type": "code",
   "execution_count": 11,
   "id": "fb08c8ff-af5b-4e6e-b618-655f4306fbe1",
   "metadata": {},
   "outputs": [],
   "source": [
    "import pickle"
   ]
  },
  {
   "cell_type": "code",
   "execution_count": 12,
   "id": "666dd985-d072-48c5-9332-883d5c91579c",
   "metadata": {},
   "outputs": [],
   "source": [
    "with open(r\"C:\\Users\\dietr004\\Documents\\PhD\\computational mass spectrometry\\Spec2Struc\\MS2LDA\\Add_On\\Spec2Vec\\library.pkl\", \"rb\") as inpkl:\n",
    "    old_dataset = pickle.load(inpkl)"
   ]
  },
  {
   "cell_type": "code",
   "execution_count": 15,
   "id": "ce4d66a4-cd50-4634-9982-6cc2ebb8c338",
   "metadata": {},
   "outputs": [],
   "source": [
    "path_model = r\"C:\\Users\\dietr004\\Documents\\PhD\\computational mass spectrometry\\Spec2Struc\\MS2LDA\\Add_On\\Spec2Vec\\model\\020724_Spec2Vec_CleanedLibraries.model\"\n",
    "path_library = r\"C:\\Users\\dietr004\\Documents\\PhD\\computational mass spectrometry\\Spec2Struc\\MS2LDA\\Add_On\\Spec2Vec\\library.pkl\" # were are not using the library, so it can be any dummy pickle file"
   ]
  },
  {
   "cell_type": "code",
   "execution_count": 16,
   "id": "2954afe2-d544-4b5a-b9f2-00b005bc8b32",
   "metadata": {},
   "outputs": [
    {
     "name": "stdout",
     "output_type": "stream",
     "text": [
      "CPU times: total: 21.7 s\n",
      "Wall time: 27 s\n"
     ]
    }
   ],
   "source": [
    "%%time \n",
    "s2v_similarity, _ = load_s2v_and_library(path_model, path_library)"
   ]
  },
  {
   "cell_type": "code",
   "execution_count": 17,
   "id": "f4e8f924-7dae-4e81-b9e1-f57a3f9b1a6f",
   "metadata": {},
   "outputs": [
    {
     "name": "stderr",
     "output_type": "stream",
     "text": [
      "100%|████████████████████████████████████████████████████████████████████████| 283261/283261 [04:32<00:00, 1040.05it/s]"
     ]
    },
    {
     "name": "stdout",
     "output_type": "stream",
     "text": [
      "CPU times: total: 4min 31s\n",
      "Wall time: 4min 32s\n"
     ]
    },
    {
     "name": "stderr",
     "output_type": "stream",
     "text": [
      "\n"
     ]
    }
   ],
   "source": [
    "%%time\n",
    "\n",
    "spectra = []\n",
    "smiles = []\n",
    "embeddings = []\n",
    "\n",
    "\n",
    "for spectrum in tqdm(old_dataset.spectra):\n",
    "    spectra.append(spectrum)\n",
    "    \n",
    "    smi = spectrum.get(\"smiles\")\n",
    "    smiles.append(smi)\n",
    "    \n",
    "    embedding = calc_embeddings(s2v_similarity, [spectrum])\n",
    "    embeddings.append(embedding)"
   ]
  },
  {
   "cell_type": "code",
   "execution_count": 19,
   "id": "78ac3a98-ef10-4ae0-86a6-4b9ac029d786",
   "metadata": {},
   "outputs": [
    {
     "name": "stdout",
     "output_type": "stream",
     "text": [
      "Amount of spectra: 283261\n"
     ]
    }
   ],
   "source": [
    "print(f\"Amount of spectra: {len(spectra)}\")"
   ]
  },
  {
   "cell_type": "code",
   "execution_count": 20,
   "id": "765800c3-e84d-4762-a7aa-e691d345b499",
   "metadata": {},
   "outputs": [],
   "source": [
    "import pandas as pd"
   ]
  },
  {
   "cell_type": "code",
   "execution_count": 21,
   "id": "010f3801-e5be-4cf6-b455-f331684589b8",
   "metadata": {},
   "outputs": [],
   "source": [
    "old_library = pd.DataFrame({\n",
    "    \"embeddings\": embeddings,\n",
    "    \"smiles\": smiles,\n",
    "    \"spectra\": spectra,\n",
    "})"
   ]
  },
  {
   "cell_type": "code",
   "execution_count": 22,
   "id": "68d744ab-ceb5-40b3-8dee-39389f931213",
   "metadata": {},
   "outputs": [],
   "source": [
    "with open(r\"C:\\Users\\dietr004\\Documents\\PhD\\computational mass spectrometry\\Spec2Struc\\MS2LDA\\Add_On\\Spec2Vec\\model\\library.pkl\", \"wb\") as outpkl:\n",
    "    pickle.dump(old_library, outpkl)"
   ]
  },
  {
   "cell_type": "markdown",
   "id": "f1f9a71e-067a-416c-b114-27fbfe68bc5e",
   "metadata": {},
   "source": [
    "## Positive Mode"
   ]
  },
  {
   "cell_type": "code",
   "execution_count": 18,
   "id": "53ded376-781f-49de-9341-aa979240ab30",
   "metadata": {},
   "outputs": [],
   "source": [
    "#spectra_path_pos = r\"C:\\Users\\dietr004\\Documents\\PhD\\computational mass spectrometry\\WP1\\MS2LDA\\MS2LDA\\Add_On\\Spec2Vec\\model_positive_mode_fast\\positive_train_data\\massspecgym.mgf\"\n",
    "spectra_path_pos = r\"C:\\Users\\dietr004\\Documents\\PhD\\computational mass spectrometry\\WP1\\MS2LDA\\MS2LDA\\Add_On\\Spec2Vec\\model_positive_mode\\positive_train_data\\cleaned_libraries.mgf\"\n",
    "#path_model_pos = r\"C:\\Users\\dietr004\\Documents\\PhD\\computational mass spectrometry\\WP1\\MS2LDA\\MS2LDA\\Add_On\\Spec2Vec\\model_positive_mode_fast\\150225_Spec2Vec_pos_MassSpecGym.model\"\n",
    "path_model_pos = r\"C:\\Users\\dietr004\\Documents\\PhD\\computational mass spectrometry\\WP1\\MS2LDA\\MS2LDA\\Add_On\\Spec2Vec\\model_positive_mode_fast\\150225_Spec2Vec_pos_CleanedLibraries.model\"\n",
    "dummy_pkl_file = r\"C:\\Users\\dietr004\\Documents\\PhD\\computational mass spectrometry\\WP1\\MS2LDA\\MS2LDA\\Add_On\\Spec2Vec\\model_positive_mode\\positive_s2v_library.pkl\" # were are not using the library, so it can be any dummy pickle file"
   ]
  },
  {
   "cell_type": "code",
   "execution_count": 19,
   "id": "1996c72b-46ac-493e-95c9-441dee199ada",
   "metadata": {},
   "outputs": [
    {
     "name": "stdout",
     "output_type": "stream",
     "text": [
      "CPU times: total: 25.6 s\n",
      "Wall time: 28.7 s\n"
     ]
    }
   ],
   "source": [
    "%%time \n",
    "s2v_similarity, _ = load_s2v_and_library(path_model_pos, dummy_pkl_file)"
   ]
  },
  {
   "cell_type": "code",
   "execution_count": 20,
   "id": "790b582e-5a46-4abf-b9d5-e6125039db84",
   "metadata": {},
   "outputs": [
    {
     "name": "stderr",
     "output_type": "stream",
     "text": [
      "502685it [32:43, 256.02it/s]"
     ]
    },
    {
     "name": "stdout",
     "output_type": "stream",
     "text": [
      "CPU times: total: 32min 37s\n",
      "Wall time: 32min 43s\n"
     ]
    },
    {
     "name": "stderr",
     "output_type": "stream",
     "text": [
      "\n"
     ]
    }
   ],
   "source": [
    "%%time\n",
    "spectra_pos = load_mgf(spectra_path_pos)\n",
    "\n",
    "cleaned_spectra_pos = []\n",
    "embeddings_pos = []\n",
    "\n",
    "\n",
    "for spectrum in tqdm(spectra_pos):\n",
    "    # metadata filters\n",
    "    spectrum = msfilters.default_filters(spectrum)\n",
    "    spectrum = msfilters.add_retention_index(spectrum)\n",
    "    spectrum = msfilters.add_retention_time(spectrum)\n",
    "    spectrum = msfilters.require_precursor_mz(spectrum)\n",
    "\n",
    "    # normalize and filter peaks\n",
    "    spectrum = msfilters.normalize_intensities(spectrum)\n",
    "    spectrum = msfilters.select_by_relative_intensity(spectrum, 0.001, 1)\n",
    "    spectrum = msfilters.select_by_mz(spectrum, mz_from=0.0, mz_to=1000.0)\n",
    "    spectrum = msfilters.reduce_to_number_of_peaks(spectrum, n_max=500)\n",
    "    spectrum = msfilters.require_minimum_number_of_peaks(spectrum, n_required=3)\n",
    "\n",
    "    if spectrum: \n",
    "        \n",
    "        smi = spectrum.get(\"smiles\")\n",
    "        mol = Chem.MolFromSmiles(smi)\n",
    "        Chem.RemoveStereochemistry(mol)\n",
    "        smi2D = Chem.MolToSmiles(mol)\n",
    "        \n",
    "        spectrum.set(\"smiles\", smi2D)\n",
    "        cleaned_spectra_pos.append(spectrum)\n",
    "        \n",
    "        embedding = calc_embeddings(s2v_similarity, [spectrum])\n",
    "        embeddings_pos.append(embedding)"
   ]
  },
  {
   "cell_type": "code",
   "execution_count": 21,
   "id": "2275fff5-e245-429f-af43-1500e6a18472",
   "metadata": {},
   "outputs": [
    {
     "data": {
      "text/plain": [
       "(426280, 1, 300)"
      ]
     },
     "execution_count": 21,
     "metadata": {},
     "output_type": "execute_result"
    }
   ],
   "source": [
    "x,y,z = np.array(embeddings_pos).shape\n",
    "x,y,z"
   ]
  },
  {
   "cell_type": "code",
   "execution_count": 22,
   "id": "738ee3ca-8958-44b5-9349-0823bbec3b20",
   "metadata": {},
   "outputs": [],
   "source": [
    "np.save(\"MS2LDA/Add_On/Spec2Vec/model_positive_mode_fast/150225_CleanedLibraries_Spec2Vec_pos_embeddings.npy\", np.array(embeddings_pos).reshape(x,z))"
   ]
  },
  {
   "cell_type": "code",
   "execution_count": 23,
   "id": "e8074e45-da84-4b25-9088-508a8448b185",
   "metadata": {},
   "outputs": [],
   "source": [
    "def create_spectra_db_from_list(spectra_list, db_path):\n",
    "    \"\"\"Create an SQLite database to store spectra from a list of spectra objects.\"\"\"\n",
    "    conn = sqlite3.connect(db_path)\n",
    "    cursor = conn.cursor()\n",
    "    cursor.execute('''\n",
    "        CREATE TABLE IF NOT EXISTS spectra (\n",
    "            id TEXT PRIMARY KEY,\n",
    "            smiles TEXT,\n",
    "            spectrum BLOB\n",
    "        )\n",
    "    ''')\n",
    "    conn.commit()\n",
    "\n",
    "    for i, spectrum in enumerate(spectra_list):\n",
    "        spectrum_id = i\n",
    "        smiles = spectrum.get('smiles')\n",
    "        spectrum_blob = pickle.dumps(spectrum)\n",
    "        cursor.execute('''\n",
    "            INSERT OR REPLACE INTO spectra (id, smiles, spectrum)\n",
    "            VALUES (?, ?, ?)\n",
    "        ''', (spectrum_id, smiles, spectrum_blob))\n",
    "\n",
    "    conn.commit()\n",
    "    conn.close()"
   ]
  },
  {
   "cell_type": "code",
   "execution_count": 24,
   "id": "fa856b48-7203-44df-a2e2-1a6e0c405011",
   "metadata": {},
   "outputs": [],
   "source": [
    "create_spectra_db_from_list(cleaned_spectra_pos, \"MS2LDA/Add_On/Spec2Vec/model_positive_mode_fast/150225_CombLibraries_spectra_b.db\")"
   ]
  },
  {
   "cell_type": "code",
   "execution_count": null,
   "id": "88f1f30f-8d9b-408a-8419-286db32320f5",
   "metadata": {},
   "outputs": [],
   "source": []
  }
 ],
 "metadata": {
  "kernelspec": {
   "display_name": "Python 3 (ipykernel)",
   "language": "python",
   "name": "python3"
  },
  "language_info": {
   "codemirror_mode": {
    "name": "ipython",
    "version": 3
   },
   "file_extension": ".py",
   "mimetype": "text/x-python",
   "name": "python",
   "nbconvert_exporter": "python",
   "pygments_lexer": "ipython3",
   "version": "3.12.9"
  }
 },
 "nbformat": 4,
 "nbformat_minor": 5
}
