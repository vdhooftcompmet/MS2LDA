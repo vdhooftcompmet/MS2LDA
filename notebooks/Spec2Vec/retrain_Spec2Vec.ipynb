{
 "cells": [
  {
   "cell_type": "code",
   "execution_count": 1,
   "id": "b56d52fc-a53c-4cb8-b9e3-521ae81727ab",
   "metadata": {},
   "outputs": [],
   "source": [
    "import matchms"
   ]
  },
  {
   "cell_type": "code",
   "execution_count": 2,
   "id": "05b39494-4ef8-462c-a947-7ab521b65e3e",
   "metadata": {},
   "outputs": [
    {
     "name": "stdout",
     "output_type": "stream",
     "text": [
      "C:\\Users\\dietr004\\Documents\\PhD\\computational mass spectrometry\\WP1\\MS2LDA\n"
     ]
    }
   ],
   "source": [
    "import os\n",
    "os.chdir(\"../..\")\n",
    "print(os.getcwd())"
   ]
  },
  {
   "cell_type": "code",
   "execution_count": 3,
   "id": "859dec11-8a2f-438a-a456-df36521d3b4c",
   "metadata": {},
   "outputs": [],
   "source": [
    "from matchms.importing import load_from_mgf"
   ]
  },
  {
   "cell_type": "code",
   "execution_count": 7,
   "id": "1f90025f-84a2-414d-afe3-d183ec71c431",
   "metadata": {},
   "outputs": [],
   "source": [
    "spectrums = load_from_mgf(r\"C:\\Users\\dietr004\\Documents\\PhD\\computational mass spectrometry\\WP1\\MS2LDA\\MS2LDA\\Add_On\\Spec2Vec\\model_positive_mode\\positive_train_data\\cleaned_libraries.mgf\")"
   ]
  },
  {
   "cell_type": "code",
   "execution_count": 8,
   "id": "8ba396e9-5c6d-4f7d-859e-ff84fc69a3e7",
   "metadata": {},
   "outputs": [],
   "source": [
    "from spec2vec import SpectrumDocument\n",
    "spectrum_documents = [SpectrumDocument(s, n_decimals=2) for s in spectrums]"
   ]
  },
  {
   "cell_type": "code",
   "execution_count": 10,
   "id": "de2420fc-f05c-4242-9197-201445b8cb7e",
   "metadata": {},
   "outputs": [
    {
     "name": "stdout",
     "output_type": "stream",
     "text": [
      "  Epoch 1 of 10.Change in loss after epoch 1: 9230101.0\n",
      "  Epoch 2 of 10.Change in loss after epoch 2: 6660861.0\n",
      "  Epoch 3 of 10.Change in loss after epoch 3: 5742142.0\n",
      "  Epoch 4 of 10.Change in loss after epoch 4: 5492052.0\n",
      "  Epoch 5 of 10.Change in loss after epoch 5: 5540444.0\n",
      "  Epoch 6 of 10.Change in loss after epoch 6: 4118168.0\n",
      "  Epoch 7 of 10.Change in loss after epoch 7: 3617244.0\n",
      "  Epoch 8 of 10.Change in loss after epoch 8: 3747084.0\n",
      "  Epoch 9 of 10.Change in loss after epoch 9: 3614132.0\n",
      "  Epoch 10 of 10.Change in loss after epoch 10: 3981052.0\n",
      "Saving model with name: C:\\Users\\dietr004\\Documents\\PhD\\computational mass spectrometry\\WP1\\MS2LDA\\MS2LDA\\Add_On\\Spec2Vec\\model_positive_mode_fast\\150225_Spec2Vec_pos_CleanedLibraries.model\n"
     ]
    }
   ],
   "source": [
    "from spec2vec.model_building import train_new_word2vec_model\n",
    "model_file = r\"C:\\Users\\dietr004\\Documents\\PhD\\computational mass spectrometry\\WP1\\MS2LDA\\MS2LDA\\Add_On\\Spec2Vec\\model_positive_mode_fast\\150225_Spec2Vec_pos_CleanedLibraries.model\"\n",
    "model = train_new_word2vec_model(spectrum_documents, iterations=[10], filename=model_file,\n",
    "                                 workers=8, progress_logger=True)"
   ]
  },
  {
   "cell_type": "code",
   "execution_count": null,
   "id": "57cd2718-eb93-4616-bcec-b988eb5d7627",
   "metadata": {},
   "outputs": [],
   "source": []
  }
 ],
 "metadata": {
  "kernelspec": {
   "display_name": "Python 3 (ipykernel)",
   "language": "python",
   "name": "python3"
  },
  "language_info": {
   "codemirror_mode": {
    "name": "ipython",
    "version": 3
   },
   "file_extension": ".py",
   "mimetype": "text/x-python",
   "name": "python",
   "nbconvert_exporter": "python",
   "pygments_lexer": "ipython3",
   "version": "3.12.9"
  }
 },
 "nbformat": 4,
 "nbformat_minor": 5
}
