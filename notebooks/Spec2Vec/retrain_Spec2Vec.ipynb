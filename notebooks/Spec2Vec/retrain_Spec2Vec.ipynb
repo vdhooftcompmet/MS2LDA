{
 "cells": [
  {
   "cell_type": "code",
   "execution_count": 1,
   "id": "05b39494-4ef8-462c-a947-7ab521b65e3e",
   "metadata": {},
   "outputs": [
    {
     "name": "stdout",
     "output_type": "stream",
     "text": [
      "C:\\Users\\dietr004\\Documents\\PhD\\computational mass spectrometry\\Spec2Struc\\MS2LDA\n"
     ]
    }
   ],
   "source": [
    "import os\n",
    "os.chdir(\"../..\")\n",
    "print(os.getcwd())"
   ]
  },
  {
   "cell_type": "code",
   "execution_count": 2,
   "id": "64e20587-868f-48fd-ba24-f50fce0d0fc0",
   "metadata": {},
   "outputs": [],
   "source": [
    "from Preprocessing.load_and_clean import load_mgf"
   ]
  },
  {
   "cell_type": "code",
   "execution_count": 3,
   "id": "1f90025f-84a2-414d-afe3-d183ec71c431",
   "metadata": {},
   "outputs": [],
   "source": [
    "spectrums = load_mgf(r\"C:\\Users\\dietr004\\Documents\\PhD\\computational mass spectrometry\\Spec2Struc\\MS2LDA\\Add_On\\Spec2Vec\\neg_model\\cleaned_libraries.mgf\")"
   ]
  },
  {
   "cell_type": "code",
   "execution_count": 4,
   "id": "8ba396e9-5c6d-4f7d-859e-ff84fc69a3e7",
   "metadata": {},
   "outputs": [],
   "source": [
    "from spec2vec import SpectrumDocument\n",
    "spectrum_documents = [SpectrumDocument(s, n_decimals=2) for s in spectrums]"
   ]
  },
  {
   "cell_type": "code",
   "execution_count": 5,
   "id": "de2420fc-f05c-4242-9197-201445b8cb7e",
   "metadata": {},
   "outputs": [
    {
     "name": "stdout",
     "output_type": "stream",
     "text": [
      "  Epoch 1 of 25.Change in loss after epoch 1: 5972945.0\n",
      "  Epoch 2 of 25.Change in loss after epoch 2: 4392557.0\n",
      "  Epoch 3 of 25.Change in loss after epoch 3: 3932840.0\n",
      "  Epoch 4 of 25.Change in loss after epoch 4: 3516222.0\n",
      "  Epoch 5 of 25.Change in loss after epoch 5: 2999798.0\n",
      "  Epoch 6 of 25.Change in loss after epoch 6: 2862298.0\n",
      "  Epoch 7 of 25.Change in loss after epoch 7: 2754994.0\n",
      "  Epoch 8 of 25.Change in loss after epoch 8: 2699616.0\n",
      "  Epoch 9 of 25.Change in loss after epoch 9: 2726372.0\n",
      "  Epoch 10 of 25.Change in loss after epoch 10: 2179874.0\n",
      "  Epoch 11 of 25.Change in loss after epoch 11: 1437096.0\n",
      "  Epoch 12 of 25.Change in loss after epoch 12: 1406232.0\n",
      "  Epoch 13 of 25.Change in loss after epoch 13: 1327024.0\n",
      "  Epoch 14 of 25.Change in loss after epoch 14: 1280284.0\n",
      "  Epoch 15 of 25.Change in loss after epoch 15: 1312880.0\n",
      "  Epoch 16 of 25.Change in loss after epoch 16: 1224860.0\n",
      "  Epoch 17 of 25.Change in loss after epoch 17: 1201672.0\n",
      "  Epoch 18 of 25.Change in loss after epoch 18: 1188716.0\n",
      "  Epoch 19 of 25.Change in loss after epoch 19: 1157332.0\n",
      "  Epoch 20 of 25.Change in loss after epoch 20: 1140584.0\n",
      "  Epoch 21 of 25.Change in loss after epoch 21: 1133700.0\n",
      "  Epoch 22 of 25.Change in loss after epoch 22: 1097996.0\n",
      "  Epoch 23 of 25.Change in loss after epoch 23: 1111660.0\n",
      "  Epoch 24 of 25.Change in loss after epoch 24: 1093608.0\n",
      "  Epoch 25 of 25.Change in loss after epoch 25: 1085196.0\n",
      "Saving model with name: C:\\Users\\dietr004\\Documents\\PhD\\computational mass spectrometry\\Spec2Struc\\MS2LDA\\Add_On\\Spec2Vec\\neg_model\\150724_Spec2Vec_neg_CleanedLibraries.model\n"
     ]
    }
   ],
   "source": [
    "from spec2vec.model_building import train_new_word2vec_model\n",
    "model_file = r\"C:\\Users\\dietr004\\Documents\\PhD\\computational mass spectrometry\\Spec2Struc\\MS2LDA\\Add_On\\Spec2Vec\\neg_model\\150724_Spec2Vec_neg_CleanedLibraries.model\"\n",
    "model = train_new_word2vec_model(spectrum_documents, iterations=[25], filename=model_file,\n",
    "                                 workers=2, progress_logger=True)"
   ]
  },
  {
   "cell_type": "code",
   "execution_count": null,
   "id": "57cd2718-eb93-4616-bcec-b988eb5d7627",
   "metadata": {},
   "outputs": [],
   "source": []
  }
 ],
 "metadata": {
  "kernelspec": {
   "display_name": "Python 3 (ipykernel)",
   "language": "python",
   "name": "python3"
  },
  "language_info": {
   "codemirror_mode": {
    "name": "ipython",
    "version": 3
   },
   "file_extension": ".py",
   "mimetype": "text/x-python",
   "name": "python",
   "nbconvert_exporter": "python",
   "pygments_lexer": "ipython3",
   "version": "3.9.19"
  }
 },
 "nbformat": 4,
 "nbformat_minor": 5
}
