{
 "cells": [
  {
   "cell_type": "code",
   "execution_count": 4,
   "id": "93fccba4-ed47-4b9e-86eb-155b254a3f40",
   "metadata": {},
   "outputs": [],
   "source": [
    "# ms2query 1.3.0 requires ms2deepscore<=0.4.0, but you have ms2deepscore 2.0.0 which is incompatible."
   ]
  },
  {
   "cell_type": "code",
   "execution_count": 5,
   "id": "f264a687-e9fc-43d1-a3b5-576d75d8e6fc",
   "metadata": {},
   "outputs": [],
   "source": [
    "from ms2deepscore.MS2DeepScoreMonteCarlo import MS2DeepScoreMonteCarlo"
   ]
  },
  {
   "cell_type": "code",
   "execution_count": null,
   "id": "b7d91a26-61ac-46ba-8bf3-960416bdd2e7",
   "metadata": {},
   "outputs": [],
   "source": []
  }
 ],
 "metadata": {
  "kernelspec": {
   "display_name": "Python 3 (ipykernel)",
   "language": "python",
   "name": "python3"
  },
  "language_info": {
   "codemirror_mode": {
    "name": "ipython",
    "version": 3
   },
   "file_extension": ".py",
   "mimetype": "text/x-python",
   "name": "python",
   "nbconvert_exporter": "python",
   "pygments_lexer": "ipython3",
   "version": "3.9.19"
  }
 },
 "nbformat": 4,
 "nbformat_minor": 5
}
