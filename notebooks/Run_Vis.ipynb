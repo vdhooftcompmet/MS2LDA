{
 "cells": [
  {
   "cell_type": "code",
   "execution_count": 1,
   "metadata": {},
   "outputs": [
    {
     "name": "stdout",
     "output_type": "stream",
     "text": [
      "/Users/rosinatorres/Documents/PhD/Project/Code/MS2LDA/MS2LDA\n"
     ]
    }
   ],
   "source": [
    "import os\n",
    "os.chdir(\"..\")\n",
    "print(os.getcwd())"
   ]
  },
  {
   "cell_type": "code",
   "execution_count": 2,
   "metadata": {},
   "outputs": [],
   "source": [
    "from Preprocessing.load_and_clean import load_mgf\n",
    "from Preprocessing.load_and_clean import clean_spectra\n",
    "\n",
    "from Preprocessing.generate_corpus import features_to_words\n",
    "from Preprocessing.generate_corpus import combine_features"
   ]
  },
  {
   "cell_type": "code",
   "execution_count": 3,
   "metadata": {},
   "outputs": [],
   "source": [
    "spectra_path = \"test_data/pos_ache_inhibitors_pesticides.mgf\"\n",
    "spectra = load_mgf(spectra_path)\n",
    "cleaned_spectra = clean_spectra(spectra)\n",
    "fragment_words, loss_words = features_to_words(cleaned_spectra)\n",
    "feature_words = combine_features(fragment_words, loss_words)"
   ]
  },
  {
   "cell_type": "code",
   "execution_count": 4,
   "metadata": {},
   "outputs": [],
   "source": [
    "from MS2LDA.modeling import define_model\n",
    "from MS2LDA.modeling import train_model\n",
    "from MS2LDA.modeling import extract_motifs\n",
    "from MS2LDA.modeling import create_motif_spectra"
   ]
  },
  {
   "cell_type": "code",
   "execution_count": 5,
   "metadata": {},
   "outputs": [],
   "source": [
    "model_parameters = {}\n",
    "ms2lda = define_model(n_motifs=88, model_parameters=model_parameters)\n",
    "train_parameters = {\"parallel\": 4}\n",
    "trained_ms2lda = train_model(ms2lda, feature_words, iterations=300, train_parameters=train_parameters)"
   ]
  },
  {
   "cell_type": "code",
   "execution_count": 6,
   "metadata": {},
   "outputs": [
    {
     "name": "stdout",
     "output_type": "stream",
     "text": [
      "0.561083340788768\n"
     ]
    }
   ],
   "source": [
    "from tomotopy.coherence import Coherence\n",
    "import tomotopy as tp\n",
    "coherence=tp.coherence.Coherence(trained_ms2lda, coherence='c_v')\n",
    "print(coherence.get_score())"
   ]
  },
  {
   "cell_type": "code",
   "execution_count": 7,
   "metadata": {},
   "outputs": [],
   "source": [
    "# retrieves motif from LDA model and converts it into a matchms spectrum object\n",
    "motifs = extract_motifs(trained_ms2lda, top_n=20)\n",
    "motif_spectra = create_motif_spectra(motifs)"
   ]
  },
  {
   "cell_type": "code",
   "execution_count": 8,
   "metadata": {},
   "outputs": [
    {
     "data": {
      "text/html": [
       "<div>\n",
       "<style scoped>\n",
       "    .dataframe tbody tr th:only-of-type {\n",
       "        vertical-align: middle;\n",
       "    }\n",
       "\n",
       "    .dataframe tbody tr th {\n",
       "        vertical-align: top;\n",
       "    }\n",
       "\n",
       "    .dataframe thead th {\n",
       "        text-align: right;\n",
       "    }\n",
       "</style>\n",
       "<table border=\"1\" class=\"dataframe\">\n",
       "  <thead>\n",
       "    <tr style=\"text-align: right;\">\n",
       "      <th>topics</th>\n",
       "      <th>0</th>\n",
       "      <th>1</th>\n",
       "      <th>2</th>\n",
       "      <th>3</th>\n",
       "      <th>4</th>\n",
       "      <th>5</th>\n",
       "      <th>6</th>\n",
       "      <th>7</th>\n",
       "      <th>8</th>\n",
       "      <th>9</th>\n",
       "      <th>...</th>\n",
       "      <th>78</th>\n",
       "      <th>79</th>\n",
       "      <th>80</th>\n",
       "      <th>81</th>\n",
       "      <th>82</th>\n",
       "      <th>83</th>\n",
       "      <th>84</th>\n",
       "      <th>85</th>\n",
       "      <th>86</th>\n",
       "      <th>87</th>\n",
       "    </tr>\n",
       "    <tr>\n",
       "      <th>words</th>\n",
       "      <th></th>\n",
       "      <th></th>\n",
       "      <th></th>\n",
       "      <th></th>\n",
       "      <th></th>\n",
       "      <th></th>\n",
       "      <th></th>\n",
       "      <th></th>\n",
       "      <th></th>\n",
       "      <th></th>\n",
       "      <th></th>\n",
       "      <th></th>\n",
       "      <th></th>\n",
       "      <th></th>\n",
       "      <th></th>\n",
       "      <th></th>\n",
       "      <th></th>\n",
       "      <th></th>\n",
       "      <th></th>\n",
       "      <th></th>\n",
       "      <th></th>\n",
       "    </tr>\n",
       "  </thead>\n",
       "  <tbody>\n",
       "    <tr>\n",
       "      <th>frag@124.98</th>\n",
       "      <td>0.019025</td>\n",
       "      <td>0.020565</td>\n",
       "      <td>0.016845</td>\n",
       "      <td>0.014053</td>\n",
       "      <td>0.015132</td>\n",
       "      <td>0.019396</td>\n",
       "      <td>0.019001</td>\n",
       "      <td>0.016410</td>\n",
       "      <td>0.017143</td>\n",
       "      <td>0.013784</td>\n",
       "      <td>...</td>\n",
       "      <td>0.012867</td>\n",
       "      <td>0.019318</td>\n",
       "      <td>0.014865</td>\n",
       "      <td>0.018630</td>\n",
       "      <td>0.018852</td>\n",
       "      <td>0.017405</td>\n",
       "      <td>0.017818</td>\n",
       "      <td>0.018309</td>\n",
       "      <td>0.019150</td>\n",
       "      <td>0.015456</td>\n",
       "    </tr>\n",
       "    <tr>\n",
       "      <th>frag@96.95</th>\n",
       "      <td>0.013623</td>\n",
       "      <td>0.016176</td>\n",
       "      <td>0.015692</td>\n",
       "      <td>0.014053</td>\n",
       "      <td>0.017496</td>\n",
       "      <td>0.018214</td>\n",
       "      <td>0.012514</td>\n",
       "      <td>0.014099</td>\n",
       "      <td>0.013669</td>\n",
       "      <td>0.013317</td>\n",
       "      <td>...</td>\n",
       "      <td>0.015623</td>\n",
       "      <td>0.016758</td>\n",
       "      <td>0.018116</td>\n",
       "      <td>0.015904</td>\n",
       "      <td>0.017013</td>\n",
       "      <td>0.019008</td>\n",
       "      <td>0.014810</td>\n",
       "      <td>0.014981</td>\n",
       "      <td>0.015081</td>\n",
       "      <td>0.015002</td>\n",
       "    </tr>\n",
       "    <tr>\n",
       "      <th>frag@77.04</th>\n",
       "      <td>0.013858</td>\n",
       "      <td>0.009475</td>\n",
       "      <td>0.014538</td>\n",
       "      <td>0.011946</td>\n",
       "      <td>0.012768</td>\n",
       "      <td>0.014430</td>\n",
       "      <td>0.012050</td>\n",
       "      <td>0.015717</td>\n",
       "      <td>0.014364</td>\n",
       "      <td>0.010981</td>\n",
       "      <td>...</td>\n",
       "      <td>0.013785</td>\n",
       "      <td>0.012569</td>\n",
       "      <td>0.009988</td>\n",
       "      <td>0.013859</td>\n",
       "      <td>0.011266</td>\n",
       "      <td>0.012596</td>\n",
       "      <td>0.010877</td>\n",
       "      <td>0.014030</td>\n",
       "      <td>0.011251</td>\n",
       "      <td>0.010229</td>\n",
       "    </tr>\n",
       "    <tr>\n",
       "      <th>frag@142.99</th>\n",
       "      <td>0.012684</td>\n",
       "      <td>0.013634</td>\n",
       "      <td>0.014769</td>\n",
       "      <td>0.012414</td>\n",
       "      <td>0.012532</td>\n",
       "      <td>0.012774</td>\n",
       "      <td>0.012977</td>\n",
       "      <td>0.011326</td>\n",
       "      <td>0.009499</td>\n",
       "      <td>0.011915</td>\n",
       "      <td>...</td>\n",
       "      <td>0.011718</td>\n",
       "      <td>0.011405</td>\n",
       "      <td>0.009988</td>\n",
       "      <td>0.012723</td>\n",
       "      <td>0.011036</td>\n",
       "      <td>0.011680</td>\n",
       "      <td>0.010877</td>\n",
       "      <td>0.011652</td>\n",
       "      <td>0.009097</td>\n",
       "      <td>0.009775</td>\n",
       "    </tr>\n",
       "    <tr>\n",
       "      <th>frag@114.96</th>\n",
       "      <td>0.009631</td>\n",
       "      <td>0.012017</td>\n",
       "      <td>0.011769</td>\n",
       "      <td>0.010541</td>\n",
       "      <td>0.011113</td>\n",
       "      <td>0.011355</td>\n",
       "      <td>0.011355</td>\n",
       "      <td>0.012944</td>\n",
       "      <td>0.008804</td>\n",
       "      <td>0.010280</td>\n",
       "      <td>...</td>\n",
       "      <td>0.011259</td>\n",
       "      <td>0.012336</td>\n",
       "      <td>0.010453</td>\n",
       "      <td>0.012723</td>\n",
       "      <td>0.011266</td>\n",
       "      <td>0.012825</td>\n",
       "      <td>0.010182</td>\n",
       "      <td>0.009988</td>\n",
       "      <td>0.012687</td>\n",
       "      <td>0.006820</td>\n",
       "    </tr>\n",
       "  </tbody>\n",
       "</table>\n",
       "<p>5 rows × 88 columns</p>\n",
       "</div>"
      ],
      "text/plain": [
       "topics             0         1         2         3         4         5   \\\n",
       "words                                                                     \n",
       "frag@124.98  0.019025  0.020565  0.016845  0.014053  0.015132  0.019396   \n",
       "frag@96.95   0.013623  0.016176  0.015692  0.014053  0.017496  0.018214   \n",
       "frag@77.04   0.013858  0.009475  0.014538  0.011946  0.012768  0.014430   \n",
       "frag@142.99  0.012684  0.013634  0.014769  0.012414  0.012532  0.012774   \n",
       "frag@114.96  0.009631  0.012017  0.011769  0.010541  0.011113  0.011355   \n",
       "\n",
       "topics             6         7         8         9   ...        78        79  \\\n",
       "words                                                ...                       \n",
       "frag@124.98  0.019001  0.016410  0.017143  0.013784  ...  0.012867  0.019318   \n",
       "frag@96.95   0.012514  0.014099  0.013669  0.013317  ...  0.015623  0.016758   \n",
       "frag@77.04   0.012050  0.015717  0.014364  0.010981  ...  0.013785  0.012569   \n",
       "frag@142.99  0.012977  0.011326  0.009499  0.011915  ...  0.011718  0.011405   \n",
       "frag@114.96  0.011355  0.012944  0.008804  0.010280  ...  0.011259  0.012336   \n",
       "\n",
       "topics             80        81        82        83        84        85  \\\n",
       "words                                                                     \n",
       "frag@124.98  0.014865  0.018630  0.018852  0.017405  0.017818  0.018309   \n",
       "frag@96.95   0.018116  0.015904  0.017013  0.019008  0.014810  0.014981   \n",
       "frag@77.04   0.009988  0.013859  0.011266  0.012596  0.010877  0.014030   \n",
       "frag@142.99  0.009988  0.012723  0.011036  0.011680  0.010877  0.011652   \n",
       "frag@114.96  0.010453  0.012723  0.011266  0.012825  0.010182  0.009988   \n",
       "\n",
       "topics             86        87  \n",
       "words                            \n",
       "frag@124.98  0.019150  0.015456  \n",
       "frag@96.95   0.015081  0.015002  \n",
       "frag@77.04   0.011251  0.010229  \n",
       "frag@142.99  0.009097  0.009775  \n",
       "frag@114.96  0.012687  0.006820  \n",
       "\n",
       "[5 rows x 88 columns]"
      ]
     },
     "execution_count": 8,
     "metadata": {},
     "output_type": "execute_result"
    }
   ],
   "source": [
    "import tmplot as tmp\n",
    "phi = tmp.get_phi(trained_ms2lda)\n",
    "phi.head()"
   ]
  },
  {
   "cell_type": "code",
   "execution_count": 9,
   "metadata": {},
   "outputs": [
    {
     "data": {
      "text/html": [
       "<div>\n",
       "<style scoped>\n",
       "    .dataframe tbody tr th:only-of-type {\n",
       "        vertical-align: middle;\n",
       "    }\n",
       "\n",
       "    .dataframe tbody tr th {\n",
       "        vertical-align: top;\n",
       "    }\n",
       "\n",
       "    .dataframe thead th {\n",
       "        text-align: right;\n",
       "    }\n",
       "</style>\n",
       "<table border=\"1\" class=\"dataframe\">\n",
       "  <thead>\n",
       "    <tr style=\"text-align: right;\">\n",
       "      <th></th>\n",
       "      <th>x</th>\n",
       "      <th>y</th>\n",
       "      <th>topic</th>\n",
       "      <th>size</th>\n",
       "      <th>label</th>\n",
       "    </tr>\n",
       "  </thead>\n",
       "  <tbody>\n",
       "    <tr>\n",
       "      <th>0</th>\n",
       "      <td>0.387890</td>\n",
       "      <td>0.361225</td>\n",
       "      <td>0</td>\n",
       "      <td>1.115309</td>\n",
       "      <td>0</td>\n",
       "    </tr>\n",
       "    <tr>\n",
       "      <th>1</th>\n",
       "      <td>0.262047</td>\n",
       "      <td>0.155091</td>\n",
       "      <td>1</td>\n",
       "      <td>1.150097</td>\n",
       "      <td>1</td>\n",
       "    </tr>\n",
       "    <tr>\n",
       "      <th>2</th>\n",
       "      <td>-0.150915</td>\n",
       "      <td>0.103056</td>\n",
       "      <td>2</td>\n",
       "      <td>1.155057</td>\n",
       "      <td>2</td>\n",
       "    </tr>\n",
       "    <tr>\n",
       "      <th>3</th>\n",
       "      <td>0.060351</td>\n",
       "      <td>0.880812</td>\n",
       "      <td>3</td>\n",
       "      <td>1.129557</td>\n",
       "      <td>3</td>\n",
       "    </tr>\n",
       "    <tr>\n",
       "      <th>4</th>\n",
       "      <td>-1.104322</td>\n",
       "      <td>1.065612</td>\n",
       "      <td>4</td>\n",
       "      <td>1.114089</td>\n",
       "      <td>4</td>\n",
       "    </tr>\n",
       "  </tbody>\n",
       "</table>\n",
       "</div>"
      ],
      "text/plain": [
       "          x         y  topic      size  label\n",
       "0  0.387890  0.361225      0  1.115309      0\n",
       "1  0.262047  0.155091      1  1.150097      1\n",
       "2 -0.150915  0.103056      2  1.155057      2\n",
       "3  0.060351  0.880812      3  1.129557      3\n",
       "4 -1.104322  1.065612      4  1.114089      4"
      ]
     },
     "execution_count": 9,
     "metadata": {},
     "output_type": "execute_result"
    }
   ],
   "source": [
    "topics_coords = tmp.prepare_coords(trained_ms2lda)\n",
    "topics_coords.head()"
   ]
  },
  {
   "cell_type": "code",
   "execution_count": 10,
   "metadata": {},
   "outputs": [
    {
     "data": {
      "text/html": [
       "\n",
       "<style>\n",
       "  #altair-viz-d712edee0b57448999a9e69fa2a7201e.vega-embed {\n",
       "    width: 100%;\n",
       "    display: flex;\n",
       "  }\n",
       "\n",
       "  #altair-viz-d712edee0b57448999a9e69fa2a7201e.vega-embed details,\n",
       "  #altair-viz-d712edee0b57448999a9e69fa2a7201e.vega-embed details summary {\n",
       "    position: relative;\n",
       "  }\n",
       "</style>\n",
       "<div id=\"altair-viz-d712edee0b57448999a9e69fa2a7201e\"></div>\n",
       "<script type=\"text/javascript\">\n",
       "  var VEGA_DEBUG = (typeof VEGA_DEBUG == \"undefined\") ? {} : VEGA_DEBUG;\n",
       "  (function(spec, embedOpt){\n",
       "    let outputDiv = document.currentScript.previousElementSibling;\n",
       "    if (outputDiv.id !== \"altair-viz-d712edee0b57448999a9e69fa2a7201e\") {\n",
       "      outputDiv = document.getElementById(\"altair-viz-d712edee0b57448999a9e69fa2a7201e\");\n",
       "    }\n",
       "    const paths = {\n",
       "      \"vega\": \"https://cdn.jsdelivr.net/npm/vega@5?noext\",\n",
       "      \"vega-lib\": \"https://cdn.jsdelivr.net/npm/vega-lib?noext\",\n",
       "      \"vega-lite\": \"https://cdn.jsdelivr.net/npm/vega-lite@5.17.0?noext\",\n",
       "      \"vega-embed\": \"https://cdn.jsdelivr.net/npm/vega-embed@6?noext\",\n",
       "    };\n",
       "\n",
       "    function maybeLoadScript(lib, version) {\n",
       "      var key = `${lib.replace(\"-\", \"\")}_version`;\n",
       "      return (VEGA_DEBUG[key] == version) ?\n",
       "        Promise.resolve(paths[lib]) :\n",
       "        new Promise(function(resolve, reject) {\n",
       "          var s = document.createElement('script');\n",
       "          document.getElementsByTagName(\"head\")[0].appendChild(s);\n",
       "          s.async = true;\n",
       "          s.onload = () => {\n",
       "            VEGA_DEBUG[key] = version;\n",
       "            return resolve(paths[lib]);\n",
       "          };\n",
       "          s.onerror = () => reject(`Error loading script: ${paths[lib]}`);\n",
       "          s.src = paths[lib];\n",
       "        });\n",
       "    }\n",
       "\n",
       "    function showError(err) {\n",
       "      outputDiv.innerHTML = `<div class=\"error\" style=\"color:red;\">${err}</div>`;\n",
       "      throw err;\n",
       "    }\n",
       "\n",
       "    function displayChart(vegaEmbed) {\n",
       "      vegaEmbed(outputDiv, spec, embedOpt)\n",
       "        .catch(err => showError(`Javascript Error: ${err.message}<br>This usually means there's a typo in your chart specification. See the javascript console for the full traceback.`));\n",
       "    }\n",
       "\n",
       "    if(typeof define === \"function\" && define.amd) {\n",
       "      requirejs.config({paths});\n",
       "      require([\"vega-embed\"], displayChart, err => showError(`Error loading script: ${err.message}`));\n",
       "    } else {\n",
       "      maybeLoadScript(\"vega\", \"5\")\n",
       "        .then(() => maybeLoadScript(\"vega-lite\", \"5.17.0\"))\n",
       "        .then(() => maybeLoadScript(\"vega-embed\", \"6\"))\n",
       "        .catch(showError)\n",
       "        .then(() => displayChart(vegaEmbed));\n",
       "    }\n",
       "  })({\"config\": {\"view\": {\"continuousWidth\": 300, \"continuousHeight\": 300, \"stroke\": \"transparent\", \"strokeWidth\": 0}, \"axis\": {\"disable\": true}, \"legend\": {\"labelFontSize\": 13, \"orient\": \"bottom\", \"titleFontSize\": 13}}, \"layer\": [{\"mark\": {\"type\": \"rule\"}, \"encoding\": {\"color\": {\"value\": \"gray\"}, \"size\": {\"value\": 0.2}, \"y\": {\"aggregate\": \"average\", \"field\": \"y\", \"type\": \"quantitative\"}}}, {\"mark\": {\"type\": \"rule\"}, \"encoding\": {\"color\": {\"value\": \"gray\"}, \"size\": {\"value\": 0.2}, \"x\": {\"aggregate\": \"average\", \"field\": \"x\", \"type\": \"quantitative\"}}}, {\"mark\": {\"type\": \"circle\", \"opacity\": 0.33, \"stroke\": \"black\", \"strokeWidth\": 1}, \"encoding\": {\"size\": {\"field\": \"size\", \"scale\": {\"range\": [0, 3000]}, \"title\": \"Marginal topic distribution\", \"type\": \"quantitative\"}, \"tooltip\": [{\"field\": \"label\", \"type\": \"quantitative\"}, {\"field\": \"size\", \"type\": \"quantitative\"}], \"x\": {\"axis\": null, \"field\": \"x\", \"type\": \"quantitative\"}, \"y\": {\"axis\": null, \"field\": \"y\", \"type\": \"quantitative\"}}}, {\"mark\": {\"type\": \"text\", \"align\": \"center\", \"baseline\": \"middle\"}, \"encoding\": {\"size\": {\"value\": 13}, \"text\": {\"field\": \"topic\", \"type\": \"quantitative\"}, \"tooltip\": [{\"field\": \"label\", \"type\": \"quantitative\"}, {\"field\": \"size\", \"type\": \"quantitative\"}], \"x\": {\"axis\": null, \"field\": \"x\", \"type\": \"quantitative\"}, \"y\": {\"axis\": null, \"field\": \"y\", \"type\": \"quantitative\"}}}], \"data\": {\"name\": \"data-211f0385fea7aaa145825c34a417453d\"}, \"$schema\": \"https://vega.github.io/schema/vega-lite/v5.17.0.json\", \"datasets\": {\"data-211f0385fea7aaa145825c34a417453d\": [{\"x\": 0.3878900110721588, \"y\": 0.36122527718544006, \"topic\": 0, \"size\": 1.1153090000152588, \"label\": 0}, {\"x\": 0.262046754360199, \"y\": 0.15509073436260223, \"topic\": 1, \"size\": 1.1500970125198364, \"label\": 1}, {\"x\": -0.15091462433338165, \"y\": 0.10305611044168472, \"topic\": 2, \"size\": 1.1550567150115967, \"label\": 2}, {\"x\": 0.06035139784216881, \"y\": 0.880811870098114, \"topic\": 3, \"size\": 1.1295565366744995, \"label\": 3}, {\"x\": -1.104322075843811, \"y\": 1.0656120777130127, \"topic\": 4, \"size\": 1.1140894889831543, \"label\": 4}, {\"x\": -1.1305315494537354, \"y\": 0.11645423620939255, \"topic\": 5, \"size\": 1.124799370765686, \"label\": 5}, {\"x\": -0.33347567915916443, \"y\": 0.6755722761154175, \"topic\": 6, \"size\": 1.1378775835037231, \"label\": 6}, {\"x\": -1.1836912631988525, \"y\": 0.1938508301973343, \"topic\": 7, \"size\": 1.1524840593338013, \"label\": 7}, {\"x\": 0.9234451055526733, \"y\": 0.21035631000995636, \"topic\": 8, \"size\": 1.1398056745529175, \"label\": 8}, {\"x\": 1.317277193069458, \"y\": 0.3398085832595825, \"topic\": 9, \"size\": 1.1336095333099365, \"label\": 9}, {\"x\": -0.33342525362968445, \"y\": 1.5799537897109985, \"topic\": 10, \"size\": 1.1334660053253174, \"label\": 10}, {\"x\": -1.1167654991149902, \"y\": 0.7467070817947388, \"topic\": 11, \"size\": 1.1436338424682617, \"label\": 11}, {\"x\": -0.6500661969184875, \"y\": -0.06354578584432602, \"topic\": 12, \"size\": 1.148665428161621, \"label\": 12}, {\"x\": -0.5500233769416809, \"y\": 1.2161173820495605, \"topic\": 13, \"size\": 1.1609729528427124, \"label\": 13}, {\"x\": -1.9905120134353638, \"y\": -0.5948161482810974, \"topic\": 14, \"size\": 1.163986086845398, \"label\": 14}, {\"x\": -0.30414509773254395, \"y\": 1.8154454231262207, \"topic\": 15, \"size\": 1.1407265663146973, \"label\": 15}, {\"x\": -1.6133267879486084, \"y\": -1.753160834312439, \"topic\": 16, \"size\": 1.1467697620391846, \"label\": 16}, {\"x\": -1.891556739807129, \"y\": -0.5449770092964172, \"topic\": 17, \"size\": 1.1643388271331787, \"label\": 17}, {\"x\": 0.769573450088501, \"y\": -0.4447409212589264, \"topic\": 18, \"size\": 1.151749610900879, \"label\": 18}, {\"x\": -0.5993830561637878, \"y\": 0.7074098587036133, \"topic\": 19, \"size\": 1.1232609748840332, \"label\": 19}, {\"x\": -0.9428646564483643, \"y\": 0.08127560466527939, \"topic\": 20, \"size\": 1.1413984298706055, \"label\": 20}, {\"x\": -1.5051769018173218, \"y\": -0.2642945945262909, \"topic\": 21, \"size\": 1.115691900253296, \"label\": 21}, {\"x\": -0.76431804895401, \"y\": 0.024761095643043518, \"topic\": 22, \"size\": 1.1284449100494385, \"label\": 22}, {\"x\": 0.16419798135757446, \"y\": -0.13815753161907196, \"topic\": 23, \"size\": 1.152514934539795, \"label\": 23}, {\"x\": -1.6019505262374878, \"y\": -1.3957687616348267, \"topic\": 24, \"size\": 1.1140410900115967, \"label\": 24}, {\"x\": -0.5470189452171326, \"y\": 0.3779853880405426, \"topic\": 25, \"size\": 1.1250864267349243, \"label\": 25}, {\"x\": -1.0424386262893677, \"y\": 0.5171304941177368, \"topic\": 26, \"size\": 1.13189697265625, \"label\": 26}, {\"x\": -0.9530772566795349, \"y\": 0.5418097376823425, \"topic\": 27, \"size\": 1.1513938903808594, \"label\": 27}, {\"x\": -1.2118723392486572, \"y\": 1.6893157958984375, \"topic\": 28, \"size\": 1.1290074586868286, \"label\": 28}, {\"x\": -1.5428062677383423, \"y\": -0.025982582941651344, \"topic\": 29, \"size\": 1.1219860315322876, \"label\": 29}, {\"x\": -0.34129777550697327, \"y\": 0.6577329039573669, \"topic\": 30, \"size\": 1.145060420036316, \"label\": 30}, {\"x\": 0.5109065771102905, \"y\": 1.029658317565918, \"topic\": 31, \"size\": 1.1355336904525757, \"label\": 31}, {\"x\": -0.48355168104171753, \"y\": -0.34089118242263794, \"topic\": 32, \"size\": 1.1327426433563232, \"label\": 32}, {\"x\": -0.19250798225402832, \"y\": -0.8680682182312012, \"topic\": 33, \"size\": 1.0981794595718384, \"label\": 33}, {\"x\": -0.005580155178904533, \"y\": 1.5961145162582397, \"topic\": 34, \"size\": 1.1179091930389404, \"label\": 34}, {\"x\": -0.3739436864852905, \"y\": 1.198249340057373, \"topic\": 35, \"size\": 1.1408884525299072, \"label\": 35}, {\"x\": -1.1335599422454834, \"y\": 0.3173128366470337, \"topic\": 36, \"size\": 1.1424182653427124, \"label\": 36}, {\"x\": -0.9329581260681152, \"y\": 0.06754476577043533, \"topic\": 37, \"size\": 1.1731191873550415, \"label\": 37}, {\"x\": -0.9172333478927612, \"y\": 0.020753638818860054, \"topic\": 38, \"size\": 1.1358288526535034, \"label\": 38}, {\"x\": 0.435482919216156, \"y\": 1.2431918382644653, \"topic\": 39, \"size\": 1.1225082874298096, \"label\": 39}, {\"x\": -1.4662718772888184, \"y\": 1.1075694561004639, \"topic\": 40, \"size\": 1.1175718307495117, \"label\": 40}, {\"x\": -1.164448618888855, \"y\": 0.76002037525177, \"topic\": 41, \"size\": 1.147270679473877, \"label\": 41}, {\"x\": -1.1555269956588745, \"y\": 0.5349097847938538, \"topic\": 42, \"size\": 1.1199893951416016, \"label\": 42}, {\"x\": 0.2962818443775177, \"y\": -0.37972432374954224, \"topic\": 43, \"size\": 1.163466215133667, \"label\": 43}, {\"x\": 0.36678630113601685, \"y\": -2.1984660625457764, \"topic\": 44, \"size\": 1.1253595352172852, \"label\": 44}, {\"x\": -0.04146745800971985, \"y\": 0.9356561899185181, \"topic\": 45, \"size\": 1.130096197128296, \"label\": 45}, {\"x\": -0.06280869245529175, \"y\": -1.9173561334609985, \"topic\": 46, \"size\": 1.1220777034759521, \"label\": 46}, {\"x\": 0.04426679387688637, \"y\": 1.3080030679702759, \"topic\": 47, \"size\": 1.1019132137298584, \"label\": 47}, {\"x\": 0.045386023819446564, \"y\": -0.09365184605121613, \"topic\": 48, \"size\": 1.1121180057525635, \"label\": 48}, {\"x\": -0.7175279855728149, \"y\": 0.5723563432693481, \"topic\": 49, \"size\": 1.1449127197265625, \"label\": 49}, {\"x\": -1.1417371034622192, \"y\": -0.37041088938713074, \"topic\": 50, \"size\": 1.1625168323516846, \"label\": 50}, {\"x\": -0.43273377418518066, \"y\": -2.425586223602295, \"topic\": 51, \"size\": 1.088422179222107, \"label\": 51}, {\"x\": -0.760077953338623, \"y\": -0.5707606077194214, \"topic\": 52, \"size\": 1.160014271736145, \"label\": 52}, {\"x\": 0.6454662084579468, \"y\": -0.7819127440452576, \"topic\": 53, \"size\": 1.1312419176101685, \"label\": 53}, {\"x\": -0.009606098756194115, \"y\": -1.8643685579299927, \"topic\": 54, \"size\": 1.135090947151184, \"label\": 54}, {\"x\": -0.7364136576652527, \"y\": -0.20429514348506927, \"topic\": 55, \"size\": 1.1386617422103882, \"label\": 55}, {\"x\": 0.16516639292240143, \"y\": 0.3718867003917694, \"topic\": 56, \"size\": 1.1381357908248901, \"label\": 56}, {\"x\": 0.716762363910675, \"y\": -0.7541373372077942, \"topic\": 57, \"size\": 1.1065953969955444, \"label\": 57}, {\"x\": -1.6754149198532104, \"y\": -0.9427942037582397, \"topic\": 58, \"size\": 1.1403090953826904, \"label\": 58}, {\"x\": -0.952555239200592, \"y\": -2.247117280960083, \"topic\": 59, \"size\": 1.0847561359405518, \"label\": 59}, {\"x\": 0.7259176969528198, \"y\": -1.3728324174880981, \"topic\": 60, \"size\": 1.1608781814575195, \"label\": 60}, {\"x\": -0.759421706199646, \"y\": -0.6249274015426636, \"topic\": 61, \"size\": 1.136958122253418, \"label\": 61}, {\"x\": -1.1096376180648804, \"y\": -1.462157964706421, \"topic\": 62, \"size\": 1.1159284114837646, \"label\": 62}, {\"x\": -0.0543178953230381, \"y\": -1.1566158533096313, \"topic\": 63, \"size\": 1.1335355043411255, \"label\": 63}, {\"x\": -0.41220930218696594, \"y\": -0.2327824831008911, \"topic\": 64, \"size\": 1.1714733839035034, \"label\": 64}, {\"x\": 0.2072610855102539, \"y\": 0.3439842462539673, \"topic\": 65, \"size\": 1.0892274379730225, \"label\": 65}, {\"x\": -0.4671878218650818, \"y\": -0.45501598715782166, \"topic\": 66, \"size\": 1.1770286560058594, \"label\": 66}, {\"x\": -1.102347493171692, \"y\": -0.5236396789550781, \"topic\": 67, \"size\": 1.1258691549301147, \"label\": 67}, {\"x\": -0.6003332734107971, \"y\": -0.34121784567832947, \"topic\": 68, \"size\": 1.1494004726409912, \"label\": 68}, {\"x\": -0.17177923023700714, \"y\": -1.7874631881713867, \"topic\": 69, \"size\": 1.1368025541305542, \"label\": 69}, {\"x\": -0.48361262679100037, \"y\": -0.5163869857788086, \"topic\": 70, \"size\": 1.1483570337295532, \"label\": 70}, {\"x\": -0.4584224224090576, \"y\": 0.4085046052932739, \"topic\": 71, \"size\": 1.1367450952529907, \"label\": 71}, {\"x\": -1.2764933109283447, \"y\": -0.283955842256546, \"topic\": 72, \"size\": 1.1380797624588013, \"label\": 72}, {\"x\": 0.576178252696991, \"y\": -1.4372857809066772, \"topic\": 73, \"size\": 1.1542119979858398, \"label\": 73}, {\"x\": 0.1959550529718399, \"y\": -1.2040369510650635, \"topic\": 74, \"size\": 1.105026364326477, \"label\": 74}, {\"x\": -1.1851422786712646, \"y\": -0.015349135734140873, \"topic\": 75, \"size\": 1.1805670261383057, \"label\": 75}, {\"x\": 0.3423686921596527, \"y\": -1.2688655853271484, \"topic\": 76, \"size\": 1.1521836519241333, \"label\": 76}, {\"x\": 0.3516217768192291, \"y\": -0.8059996962547302, \"topic\": 77, \"size\": 1.118935465812683, \"label\": 77}, {\"x\": -0.6387640237808228, \"y\": -1.517946720123291, \"topic\": 78, \"size\": 1.1590197086334229, \"label\": 78}, {\"x\": -1.3092732429504395, \"y\": -0.9680232405662537, \"topic\": 79, \"size\": 1.1267833709716797, \"label\": 79}, {\"x\": 0.37567609548568726, \"y\": -0.17656926810741425, \"topic\": 80, \"size\": 1.1366212368011475, \"label\": 80}, {\"x\": -0.7163974642753601, \"y\": -1.4613240957260132, \"topic\": 81, \"size\": 1.172660231590271, \"label\": 81}, {\"x\": -0.6000341176986694, \"y\": -0.2196347415447235, \"topic\": 82, \"size\": 1.1459006071090698, \"label\": 82}, {\"x\": -1.1368303298950195, \"y\": -0.3639175593852997, \"topic\": 83, \"size\": 1.1438297033309937, \"label\": 83}, {\"x\": -0.7159836292266846, \"y\": -1.0083930492401123, \"topic\": 84, \"size\": 1.1346877813339233, \"label\": 84}, {\"x\": -0.37091079354286194, \"y\": -1.8701533079147339, \"topic\": 85, \"size\": 1.1155855655670166, \"label\": 85}, {\"x\": 0.9240810871124268, \"y\": -1.25918710231781, \"topic\": 86, \"size\": 1.1051371097564697, \"label\": 86}, {\"x\": -0.5437576770782471, \"y\": -0.6288382411003113, \"topic\": 87, \"size\": 1.1721442937850952, \"label\": 87}]}}, {\"mode\": \"vega-lite\"});\n",
       "</script>"
      ],
      "text/plain": [
       "alt.LayerChart(...)"
      ]
     },
     "execution_count": 10,
     "metadata": {},
     "output_type": "execute_result"
    }
   ],
   "source": [
    "tmp.plot_scatter_topics(topics_coords, size_col='size', label_col='label')"
   ]
  },
  {
   "cell_type": "code",
   "execution_count": 11,
   "metadata": {},
   "outputs": [
    {
     "data": {
      "text/html": [
       "\n",
       "<style>\n",
       "  #altair-viz-a98dee27399e4931bf5e0b6ab08f1aa7.vega-embed {\n",
       "    width: 100%;\n",
       "    display: flex;\n",
       "  }\n",
       "\n",
       "  #altair-viz-a98dee27399e4931bf5e0b6ab08f1aa7.vega-embed details,\n",
       "  #altair-viz-a98dee27399e4931bf5e0b6ab08f1aa7.vega-embed details summary {\n",
       "    position: relative;\n",
       "  }\n",
       "</style>\n",
       "<div id=\"altair-viz-a98dee27399e4931bf5e0b6ab08f1aa7\"></div>\n",
       "<script type=\"text/javascript\">\n",
       "  var VEGA_DEBUG = (typeof VEGA_DEBUG == \"undefined\") ? {} : VEGA_DEBUG;\n",
       "  (function(spec, embedOpt){\n",
       "    let outputDiv = document.currentScript.previousElementSibling;\n",
       "    if (outputDiv.id !== \"altair-viz-a98dee27399e4931bf5e0b6ab08f1aa7\") {\n",
       "      outputDiv = document.getElementById(\"altair-viz-a98dee27399e4931bf5e0b6ab08f1aa7\");\n",
       "    }\n",
       "    const paths = {\n",
       "      \"vega\": \"https://cdn.jsdelivr.net/npm/vega@5?noext\",\n",
       "      \"vega-lib\": \"https://cdn.jsdelivr.net/npm/vega-lib?noext\",\n",
       "      \"vega-lite\": \"https://cdn.jsdelivr.net/npm/vega-lite@5.17.0?noext\",\n",
       "      \"vega-embed\": \"https://cdn.jsdelivr.net/npm/vega-embed@6?noext\",\n",
       "    };\n",
       "\n",
       "    function maybeLoadScript(lib, version) {\n",
       "      var key = `${lib.replace(\"-\", \"\")}_version`;\n",
       "      return (VEGA_DEBUG[key] == version) ?\n",
       "        Promise.resolve(paths[lib]) :\n",
       "        new Promise(function(resolve, reject) {\n",
       "          var s = document.createElement('script');\n",
       "          document.getElementsByTagName(\"head\")[0].appendChild(s);\n",
       "          s.async = true;\n",
       "          s.onload = () => {\n",
       "            VEGA_DEBUG[key] = version;\n",
       "            return resolve(paths[lib]);\n",
       "          };\n",
       "          s.onerror = () => reject(`Error loading script: ${paths[lib]}`);\n",
       "          s.src = paths[lib];\n",
       "        });\n",
       "    }\n",
       "\n",
       "    function showError(err) {\n",
       "      outputDiv.innerHTML = `<div class=\"error\" style=\"color:red;\">${err}</div>`;\n",
       "      throw err;\n",
       "    }\n",
       "\n",
       "    function displayChart(vegaEmbed) {\n",
       "      vegaEmbed(outputDiv, spec, embedOpt)\n",
       "        .catch(err => showError(`Javascript Error: ${err.message}<br>This usually means there's a typo in your chart specification. See the javascript console for the full traceback.`));\n",
       "    }\n",
       "\n",
       "    if(typeof define === \"function\" && define.amd) {\n",
       "      requirejs.config({paths});\n",
       "      require([\"vega-embed\"], displayChart, err => showError(`Error loading script: ${err.message}`));\n",
       "    } else {\n",
       "      maybeLoadScript(\"vega\", \"5\")\n",
       "        .then(() => maybeLoadScript(\"vega-lite\", \"5.17.0\"))\n",
       "        .then(() => maybeLoadScript(\"vega-embed\", \"6\"))\n",
       "        .catch(showError)\n",
       "        .then(() => displayChart(vegaEmbed));\n",
       "    }\n",
       "  })({\"config\": {\"view\": {\"continuousWidth\": 300, \"continuousHeight\": 300}, \"axis\": {\"labelFontSize\": 13, \"titleFontSize\": 13}, \"legend\": {\"columns\": 1, \"labelFontSize\": 13, \"labelLimit\": 250, \"titleFontSize\": 13}}, \"data\": {\"name\": \"data-b0bb0c8c9be3fb712002c22c6efe8a8e\"}, \"mark\": {\"type\": \"bar\"}, \"encoding\": {\"color\": {\"field\": \"Type\", \"legend\": {\"orient\": \"bottom\"}, \"scale\": {\"scheme\": \"category20\"}, \"type\": \"nominal\"}, \"x\": {\"field\": \"Probability\", \"stack\": null, \"type\": \"quantitative\"}, \"y\": {\"field\": \"Terms\", \"sort\": null, \"title\": null, \"type\": \"nominal\"}}, \"$schema\": \"https://vega.github.io/schema/vega-lite/v5.17.0.json\", \"datasets\": {\"data-b0bb0c8c9be3fb712002c22c6efe8a8e\": [{\"Terms\": \"frag@124.98\", \"Type\": \"Marginal term probability, p(w)\", \"Probability\": 1.5081257820129395}, {\"Terms\": \"frag@96.95\", \"Type\": \"Marginal term probability, p(w)\", \"Probability\": 1.3805733919143677}, {\"Terms\": \"frag@142.99\", \"Type\": \"Marginal term probability, p(w)\", \"Probability\": 1.0221055746078491}, {\"Terms\": \"frag@77.04\", \"Type\": \"Marginal term probability, p(w)\", \"Probability\": 1.1138895750045776}, {\"Terms\": \"frag@114.96\", \"Type\": \"Marginal term probability, p(w)\", \"Probability\": 0.9725874066352844}, {\"Terms\": \"frag@127.02\", \"Type\": \"Marginal term probability, p(w)\", \"Probability\": 0.782687783241272}, {\"Terms\": \"frag@72.04\", \"Type\": \"Marginal term probability, p(w)\", \"Probability\": 0.7562252283096313}, {\"Terms\": \"frag@169.08\", \"Type\": \"Marginal term probability, p(w)\", \"Probability\": 0.7384079098701477}, {\"Terms\": \"frag@88.02\", \"Type\": \"Marginal term probability, p(w)\", \"Probability\": 0.6687780618667603}, {\"Terms\": \"frag@121.06\", \"Type\": \"Marginal term probability, p(w)\", \"Probability\": 0.5936941504478455}, {\"Terms\": \"frag@78.99\", \"Type\": \"Marginal term probability, p(w)\", \"Probability\": 0.7022801637649536}, {\"Terms\": \"frag@51.02\", \"Type\": \"Marginal term probability, p(w)\", \"Probability\": 0.6020318865776062}, {\"Terms\": \"loss@141.99\", \"Type\": \"Marginal term probability, p(w)\", \"Probability\": 0.4409060776233673}, {\"Terms\": \"frag@91.05\", \"Type\": \"Marginal term probability, p(w)\", \"Probability\": 0.41353026032447815}, {\"Terms\": \"frag@153.1\", \"Type\": \"Marginal term probability, p(w)\", \"Probability\": 0.408111035823822}, {\"Terms\": \"loss@105.02\", \"Type\": \"Marginal term probability, p(w)\", \"Probability\": 0.41080376505851746}, {\"Terms\": \"frag@170.97\", \"Type\": \"Marginal term probability, p(w)\", \"Probability\": 0.4176584780216217}, {\"Terms\": \"frag@182.13\", \"Type\": \"Marginal term probability, p(w)\", \"Probability\": 0.4481247067451477}, {\"Terms\": \"frag@64.98\", \"Type\": \"Marginal term probability, p(w)\", \"Probability\": 0.501349687576294}, {\"Terms\": \"frag@65.04\", \"Type\": \"Marginal term probability, p(w)\", \"Probability\": 0.5128284096717834}, {\"Terms\": \"frag@74.02\", \"Type\": \"Marginal term probability, p(w)\", \"Probability\": 0.3178403675556183}, {\"Terms\": \"frag@194.06\", \"Type\": \"Marginal term probability, p(w)\", \"Probability\": 0.3535865247249603}, {\"Terms\": \"frag@197.93\", \"Type\": \"Marginal term probability, p(w)\", \"Probability\": 0.4010604918003082}, {\"Terms\": \"frag@220.95\", \"Type\": \"Marginal term probability, p(w)\", \"Probability\": 0.24230755865573883}, {\"Terms\": \"frag@59.0\", \"Type\": \"Marginal term probability, p(w)\", \"Probability\": 0.2931063175201416}, {\"Terms\": \"frag@109.0\", \"Type\": \"Marginal term probability, p(w)\", \"Probability\": 0.36962178349494934}, {\"Terms\": \"frag@98.98\", \"Type\": \"Marginal term probability, p(w)\", \"Probability\": 0.34467706084251404}, {\"Terms\": \"loss@73.05\", \"Type\": \"Marginal term probability, p(w)\", \"Probability\": 0.2176409810781479}, {\"Terms\": \"frag@107.05\", \"Type\": \"Marginal term probability, p(w)\", \"Probability\": 0.2856725752353668}, {\"Terms\": \"loss@136.03\", \"Type\": \"Marginal term probability, p(w)\", \"Probability\": 0.3993544578552246}, {\"Terms\": \"frag@124.98\", \"Type\": \"Conditional term probability, p(w | t)\", \"Probability\": 0.01599627360701561}, {\"Terms\": \"frag@96.95\", \"Type\": \"Conditional term probability, p(w | t)\", \"Probability\": 0.015764476731419563}, {\"Terms\": \"frag@142.99\", \"Type\": \"Conditional term probability, p(w | t)\", \"Probability\": 0.013910104520618916}, {\"Terms\": \"frag@77.04\", \"Type\": \"Conditional term probability, p(w | t)\", \"Probability\": 0.013678308576345444}, {\"Terms\": \"frag@114.96\", \"Type\": \"Conditional term probability, p(w | t)\", \"Probability\": 0.011823936365544796}, {\"Terms\": \"frag@127.02\", \"Type\": \"Conditional term probability, p(w | t)\", \"Probability\": 0.010201361030340195}, {\"Terms\": \"frag@72.04\", \"Type\": \"Conditional term probability, p(w | t)\", \"Probability\": 0.009274175390601158}, {\"Terms\": \"frag@169.08\", \"Type\": \"Conditional term probability, p(w | t)\", \"Probability\": 0.009274175390601158}, {\"Terms\": \"frag@88.02\", \"Type\": \"Conditional term probability, p(w | t)\", \"Probability\": 0.008578786626458168}, {\"Terms\": \"frag@121.06\", \"Type\": \"Conditional term probability, p(w | t)\", \"Probability\": 0.008346989750862122}, {\"Terms\": \"frag@78.99\", \"Type\": \"Conditional term probability, p(w | t)\", \"Probability\": 0.007651600521057844}, {\"Terms\": \"frag@51.02\", \"Type\": \"Conditional term probability, p(w | t)\", \"Probability\": 0.007188008166849613}, {\"Terms\": \"loss@141.99\", \"Type\": \"Conditional term probability, p(w | t)\", \"Probability\": 0.005797229241579771}, {\"Terms\": \"frag@91.05\", \"Type\": \"Conditional term probability, p(w | t)\", \"Probability\": 0.005333636421710253}, {\"Terms\": \"frag@153.1\", \"Type\": \"Conditional term probability, p(w | t)\", \"Probability\": 0.005333636421710253}, {\"Terms\": \"loss@105.02\", \"Type\": \"Conditional term probability, p(w | t)\", \"Probability\": 0.005333636421710253}, {\"Terms\": \"frag@170.97\", \"Type\": \"Conditional term probability, p(w | t)\", \"Probability\": 0.005333636421710253}, {\"Terms\": \"frag@182.13\", \"Type\": \"Conditional term probability, p(w | t)\", \"Probability\": 0.005101840011775494}, {\"Terms\": \"frag@64.98\", \"Type\": \"Conditional term probability, p(w | t)\", \"Probability\": 0.005101840011775494}, {\"Terms\": \"frag@65.04\", \"Type\": \"Conditional term probability, p(w | t)\", \"Probability\": 0.005101840011775494}, {\"Terms\": \"frag@74.02\", \"Type\": \"Conditional term probability, p(w | t)\", \"Probability\": 0.0048700436018407345}, {\"Terms\": \"frag@194.06\", \"Type\": \"Conditional term probability, p(w | t)\", \"Probability\": 0.0048700436018407345}, {\"Terms\": \"frag@197.93\", \"Type\": \"Conditional term probability, p(w | t)\", \"Probability\": 0.004638247191905975}, {\"Terms\": \"frag@220.95\", \"Type\": \"Conditional term probability, p(w | t)\", \"Probability\": 0.004638247191905975}, {\"Terms\": \"frag@59.0\", \"Type\": \"Conditional term probability, p(w | t)\", \"Probability\": 0.004406450781971216}, {\"Terms\": \"frag@109.0\", \"Type\": \"Conditional term probability, p(w | t)\", \"Probability\": 0.004174654372036457}, {\"Terms\": \"frag@98.98\", \"Type\": \"Conditional term probability, p(w | t)\", \"Probability\": 0.004174654372036457}, {\"Terms\": \"loss@73.05\", \"Type\": \"Conditional term probability, p(w | t)\", \"Probability\": 0.004174654372036457}, {\"Terms\": \"frag@107.05\", \"Type\": \"Conditional term probability, p(w | t)\", \"Probability\": 0.003942857496440411}, {\"Terms\": \"loss@136.03\", \"Type\": \"Conditional term probability, p(w | t)\", \"Probability\": 0.003942857496440411}]}}, {\"mode\": \"vega-lite\"});\n",
       "</script>"
      ],
      "text/plain": [
       "alt.Chart(...)"
      ]
     },
     "execution_count": 11,
     "metadata": {},
     "output_type": "execute_result"
    }
   ],
   "source": [
    "terms_probs = tmp.calc_terms_probs_ratio(phi, topic=10, lambda_=1)\n",
    "tmp.plot_terms(terms_probs)"
   ]
  },
  {
   "cell_type": "code",
   "execution_count": 12,
   "metadata": {},
   "outputs": [
    {
     "data": {
      "application/vnd.jupyter.widget-view+json": {
       "model_id": "e520ab86e746482e99933b8d6a0cbe47",
       "version_major": 2,
       "version_minor": 0
      },
      "text/plain": [
       "VBox(children=(VBox(children=(HBox(children=(HTML(value='<b>Select a topic</b>:'), Dropdown(options=((0, 0), (…"
      ]
     },
     "execution_count": 12,
     "metadata": {},
     "output_type": "execute_result"
    }
   ],
   "source": [
    "tmp.report(trained_ms2lda, docs=feature_words, height=400, width=250)"
   ]
  },
  {
   "cell_type": "code",
   "execution_count": null,
   "metadata": {},
   "outputs": [],
   "source": [
    "#Quick way of savin the LDA output into a list (pickle)\n",
    "import pickle\n",
    "\n",
    "folder_path = \"test_data\"\n",
    "# Save the list to a file\n",
    "with open(os.path.join(folder_path, 'motifs.pkl'), 'wb') as f:\n",
    "    pickle.dump(motifs, f)"
   ]
  },
  {
   "cell_type": "code",
   "execution_count": null,
   "metadata": {},
   "outputs": [],
   "source": [
    "folder_path = \"test_data\"\n",
    "# Save the list to a file\n",
    "with open(os.path.join(folder_path, 'motifs_spectra.pkl'), 'wb') as f:\n",
    "    pickle.dump(motif_spectra, f)"
   ]
  },
  {
   "cell_type": "code",
   "execution_count": null,
   "metadata": {},
   "outputs": [],
   "source": [
    "folder_path = \"test_data\"\n",
    "# Save the list to a file\n",
    "with open(os.path.join(folder_path, 'corpus.pkl'), 'wb') as f:\n",
    "    pickle.dump(feature_words, f)"
   ]
  },
  {
   "cell_type": "code",
   "execution_count": null,
   "metadata": {},
   "outputs": [],
   "source": [
    "import joblib\n",
    "import os\n",
    "\n",
    "folder_path = \"test_data\"\n",
    "#Load the motifs from MS2LDA Run_Template as a list\n",
    "lda_model = joblib.load(os.path.join(folder_path, 'motifs.pkl'))\n",
    "\n",
    "motifs_spectra = joblib.load(os.path.join(folder_path, 'motifs_spectra.pkl'))\n",
    "\n",
    "corpus = joblib.load(os.path.join(folder_path, 'corpus.pkl'))"
   ]
  },
  {
   "cell_type": "code",
   "execution_count": null,
   "metadata": {},
   "outputs": [],
   "source": [
    "import pickle as pkl\n",
    "\n",
    "with open(os.path.join(folder_path, 'motifs.pkl'), 'rb') as file:\n",
    "    model = pkl.load(file)\n",
    "\n",
    "print(model)"
   ]
  },
  {
   "cell_type": "code",
   "execution_count": null,
   "metadata": {},
   "outputs": [],
   "source": [
    "import tmplot as tmp\n",
    "phi = tmp.get_phi(model)\n",
    "phi.head()"
   ]
  },
  {
   "cell_type": "code",
   "execution_count": null,
   "metadata": {},
   "outputs": [],
   "source": [
    "topics_coords = tmp.prepare_coords(model)\n",
    "topics_coords.head()"
   ]
  },
  {
   "cell_type": "code",
   "execution_count": null,
   "metadata": {},
   "outputs": [],
   "source": [
    "motifs_spectra[1].plot()"
   ]
  }
 ],
 "metadata": {
  "kernelspec": {
   "display_name": "MS2LDA_v2",
   "language": "python",
   "name": "python3"
  },
  "language_info": {
   "codemirror_mode": {
    "name": "ipython",
    "version": 3
   },
   "file_extension": ".py",
   "mimetype": "text/x-python",
   "name": "python",
   "nbconvert_exporter": "python",
   "pygments_lexer": "ipython3",
   "version": "3.11.8"
  }
 },
 "nbformat": 4,
 "nbformat_minor": 2
}
