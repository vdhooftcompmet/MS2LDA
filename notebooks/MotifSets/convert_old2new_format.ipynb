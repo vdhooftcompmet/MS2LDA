{
 "cells": [
  {
   "cell_type": "code",
   "execution_count": 1,
   "id": "7315c478-4588-49e9-a0d4-3ba1bc928b2f",
   "metadata": {},
   "outputs": [],
   "source": [
    "from ms2lda.motif_parser import load_m2m_folder\n",
    "from ms2lda.Add_On.MassQL.MassQL4MotifDB import motifs2motifDB\n",
    "from ms2lda.Add_On.MassQL.MassQL4MotifDB import motifDB2motifs\n",
    "from ms2lda.Add_On.MassQL.MassQL4MotifDB import store_motifDB\n",
    "from ms2lda.Add_On.MassQL.MassQL4MotifDB import load_motifDB\n",
    "from ms2lda.Add_On.MassQL.MassQL4MotifDB import group_ms2\n",
    "import json"
   ]
  },
  {
   "cell_type": "code",
   "execution_count": 2,
   "id": "8c5026ab-62f0-48f1-ab2e-db6b89b29255",
   "metadata": {},
   "outputs": [],
   "source": [
    "old_motifDB_path = r\"C:\\Users\\dietr004\\Documents\\PhD\\computational mass spectrometry\\PROGRAMS\\pySubstructures\\pySubstructures\\resources\\MOTIFDB\""
   ]
  },
  {
   "cell_type": "markdown",
   "id": "236f3174-32ed-43d5-9148-824cd710f461",
   "metadata": {},
   "source": [
    "## Show all Motifsets available in MotifDB"
   ]
  },
  {
   "cell_type": "code",
   "execution_count": 3,
   "id": "99e70748-58ba-4661-a805-1961bbd54235",
   "metadata": {},
   "outputs": [
    {
     "data": {
      "text/plain": [
       "['Euphorbia Plant Mass2Motifs',\n",
       " 'GNPS library derived Mass2Motifs',\n",
       " 'LDB MotifDB POS',\n",
       " 'LDB_NEG_MotifDB_01',\n",
       " 'LDB_NEG_MotifDB_02',\n",
       " 'Massbank library derived Mass2Motifs',\n",
       " 'MIADB_pos_100',\n",
       " 'MIADB_pos_60',\n",
       " 'MIADB_pos_indole',\n",
       " 'Photorhabdus and Xenorhabdus Mass2Motifs',\n",
       " 'Planomonospora-associated Mass2Motifs',\n",
       " 'Rhamnaceae Plant Mass2Motifs',\n",
       " 'Streptomyces and Salinispora Mass2Motifs',\n",
       " 'Streptomyces S29',\n",
       " 'Urine derived Mass2Motifs']"
      ]
     },
     "execution_count": 3,
     "metadata": {},
     "output_type": "execute_result"
    }
   ],
   "source": [
    "import os\n",
    "old_motifDB_motifsets = os.listdir(old_motifDB_path)\n",
    "old_motifDB_motifsets"
   ]
  },
  {
   "cell_type": "markdown",
   "id": "656bb59f-3c52-4008-9f82-82d7e4a4ee5a",
   "metadata": {},
   "source": [
    "## Add Charge and motifset name to Motif Spectra"
   ]
  },
  {
   "cell_type": "markdown",
   "id": "2f02c89a-c2ae-4279-8e83-d62bd0adc272",
   "metadata": {},
   "source": [
    "https://ms2lda.org/motifdb/"
   ]
  },
  {
   "cell_type": "code",
   "execution_count": 4,
   "id": "d77fe851-b6dd-48af-a6b0-cbdfde6072d0",
   "metadata": {},
   "outputs": [],
   "source": [
    "# same order as list above\n",
    "accuracy_in_dalton = [ \n",
    "    0.005, # 'Euphorbia Plant Mass2Motifs'\n",
    "    0.005, # 'GNPS library derived Mass2Motifs'\n",
    "    0.01, # 'LDB MotifDB POS'\n",
    "    0.005, # 'LDB_NEG_MotifDB_01'\n",
    "    0.01, # 'LDB_NEG_MotifDB_02'\n",
    "    0.005, # 'Massbank library derived Mass2Motifs'\n",
    "    0.005, # 'MIADB_pos_100'\n",
    "    0.005, # 'MIADB_pos_60'\n",
    "    0.005, # 'MIADB_pos_indole'\n",
    "    0.005, # 'Photorhabdus and Xenorhabdus Mass2Motifs'\n",
    "    0.005, # 'Planomonospora-associated Mass2Motifs'\n",
    "    0.005, # 'Rhamnaceae Plant Mass2Motifs'\n",
    "    0.1, # 'Streptomyces and Salinispora Mass2Motifs'\n",
    "    0.005, # 'Streptomyces S29'\n",
    "    0.005, # 'Urine derived Mass2Motifs'\n",
    "]"
   ]
  },
  {
   "cell_type": "code",
   "execution_count": 5,
   "id": "fb11fb06-b0f0-43f4-ada4-4b6b4ec3d485",
   "metadata": {},
   "outputs": [],
   "source": [
    "motif_spectra = []\n",
    "negative_mode_motifsets = ['LDB_NEG_MotifDB_01', 'LDB_NEG_MotifDB_02', 'Euphorbia Plant Mass2Motifs'] # libraries in negative mode\n",
    "for accuracy, motifset in zip(accuracy_in_dalton, old_motifDB_motifsets):\n",
    "    motifs = load_m2m_folder(old_motifDB_path + \"/\" + motifset) # load m2m file\n",
    "    for motif in motifs:\n",
    "        motif.set(\"motifset\", motifset) # add motif set name\n",
    "        motif.set(\"ms2accuracy\", accuracy) # add ms2 accuracy in Dalton\n",
    "        if motifset in negative_mode_motifsets:\n",
    "            motif.set(\"charge\", -1) # add negative charge\n",
    "        else:\n",
    "            motif.set(\"charge\", 1) # add positive charge\n",
    "    motif_spectra += motifs"
   ]
  },
  {
   "cell_type": "markdown",
   "id": "2c15ead9-f78a-4415-a7ff-9dc69c6b1885",
   "metadata": {},
   "source": [
    "## Store motifDB in new format"
   ]
  },
  {
   "cell_type": "code",
   "execution_count": 6,
   "id": "96751611-a9c9-4836-a3f9-15302b6129bc",
   "metadata": {},
   "outputs": [],
   "source": [
    "motifDB_ms1, motifDB_ms2 = motifs2motifDB(motif_spectra)"
   ]
  },
  {
   "cell_type": "code",
   "execution_count": 7,
   "id": "72d449f0-17b4-4d75-aa9d-c1ba30cad6ff",
   "metadata": {},
   "outputs": [
    {
     "data": {
      "text/plain": [
       "['frag_mz',\n",
       " 'frag_intens',\n",
       " 'loss_mz',\n",
       " 'loss_intens',\n",
       " 'charge',\n",
       " 'ms2accuracy',\n",
       " 'short_annotation',\n",
       " 'annotation',\n",
       " 'auto_annotation',\n",
       " 'motif_id',\n",
       " 'motifset',\n",
       " 'analysis_massspectrometer',\n",
       " 'collision_energy',\n",
       " 'other_information',\n",
       " 'scientific_name',\n",
       " 'sample_type',\n",
       " 'massive_id',\n",
       " 'taxon_id',\n",
       " 'analysis_ionizationsource',\n",
       " 'analysis_chromatographyandphase',\n",
       " 'analysis_polarity',\n",
       " 'paper_url',\n",
       " 'property',\n",
       " 'scan',\n",
       " 'ms1scan']"
      ]
     },
     "execution_count": 7,
     "metadata": {},
     "output_type": "execute_result"
    }
   ],
   "source": [
    "list(motifDB_ms1)"
   ]
  },
  {
   "cell_type": "markdown",
   "id": "12476163-6fbc-48ef-bd60-34895d9c88d5",
   "metadata": {},
   "source": [
    "## Add Metadata to motifDB"
   ]
  },
  {
   "cell_type": "markdown",
   "id": "2842c8f4-1693-4099-b511-ff5b4392dc85",
   "metadata": {},
   "source": [
    "Not all available data about a motif was stored in the m2m files, so additional metadata was collected from the server using the script in the pySubstructures repository. The script was shared by Joe and is only locally available."
   ]
  },
  {
   "cell_type": "code",
   "execution_count": 8,
   "id": "f9153923-7542-4a6f-b7f8-c7dc2e132826",
   "metadata": {},
   "outputs": [],
   "source": [
    "old_motifDB_metadata_path = r\"C:\\Users\\dietr004\\Documents\\PhD\\computational mass spectrometry\\PROGRAMS\\pySubstructures\\motif_sets.json\"\n",
    "with open(old_motifDB_metadata_path, \"r\") as metafile:\n",
    "    motifDB_metadata_old = json.load(metafile)"
   ]
  },
  {
   "cell_type": "markdown",
   "id": "c70448b7-20cc-453d-835b-3ad5d9655e59",
   "metadata": {},
   "source": [
    "The metadata include eleven names that were used consistently over all motifsets and here they are added to the MotifDB dataframe."
   ]
  },
  {
   "cell_type": "markdown",
   "id": "fe9ee816-c4e4-47db-a528-7a252cce1660",
   "metadata": {},
   "source": [
    "All the data is saved in lists"
   ]
  },
  {
   "cell_type": "code",
   "execution_count": 9,
   "id": "762bbf44-ded0-495e-a9cd-86cf5ad6d903",
   "metadata": {},
   "outputs": [],
   "source": [
    "Analysis_MassSpectrometer = []\n",
    "Collision_Energy = []\n",
    "Other_Information = []\n",
    "Scientific_Name = []\n",
    "Sample_Type = []\n",
    "Massive_ID = []\n",
    "Taxon_ID = []\n",
    "Analysis_IonizationSource = []\n",
    "Analysis_ChromatographyAndPhase = []\n",
    "Analysis_Polarity = []\n",
    "Paper_URL = []\n",
    "\n",
    "for row in motifDB_ms2.itertuples():\n",
    "    motifset_name = row.motifset\n",
    "    for metadata in motifDB_metadata_old:\n",
    "        if metadata[\"name\"] == motifset_name:\n",
    "            Analysis_MassSpectrometer.append(metadata[\"metadata\"][\"Analysis_MassSpectrometer\"])\n",
    "            Collision_Energy.append(metadata[\"metadata\"][\"Collision_Energy\"])\n",
    "            Other_Information.append(metadata[\"metadata\"][\"Other_Information\"])\n",
    "            Scientific_Name.append(metadata[\"metadata\"][\"Scientific_Name\"])\n",
    "            Sample_Type.append(metadata[\"metadata\"][\"Sample_Type\"])\n",
    "            Massive_ID.append(metadata[\"metadata\"][\"Massive_ID\"])\n",
    "            Taxon_ID.append(metadata[\"metadata\"][\"Taxon_ID\"])\n",
    "            Analysis_IonizationSource.append(metadata[\"metadata\"][\"Analysis_IonizationSource\"])\n",
    "            Analysis_ChromatographyAndPhase.append(metadata[\"metadata\"][\"Analysis_ChromatographyAndPhase\"])\n",
    "            Analysis_Polarity.append(metadata[\"metadata\"][\"Analysis_Polarity\"])\n",
    "            Paper_URL.append(metadata[\"metadata\"][\"Paper_URL\"])"
   ]
  },
  {
   "cell_type": "markdown",
   "id": "b22d4a48-67b7-49f0-bdc2-0c9efce0fdb1",
   "metadata": {},
   "source": [
    "lists are added to the dataframe"
   ]
  },
  {
   "cell_type": "code",
   "execution_count": 10,
   "id": "4a830c27-a06b-4dbe-807c-369aa37c43d9",
   "metadata": {},
   "outputs": [],
   "source": [
    "motifDB_ms2[\"analysis_massspectrometer\"] = Analysis_MassSpectrometer\n",
    "motifDB_ms2[\"collision_energy\"] = Collision_Energy\n",
    "motifDB_ms2[\"other_information\"] = Other_Information\n",
    "motifDB_ms2[\"scientific_name\"] = Scientific_Name\n",
    "motifDB_ms2[\"analysis_massspectrometer\"] = Analysis_MassSpectrometer\n",
    "motifDB_ms2[\"sample_type\"] = Sample_Type\n",
    "motifDB_ms2[\"massive_id\"] = Massive_ID\n",
    "motifDB_ms2[\"taxon_id\"] = Taxon_ID\n",
    "motifDB_ms2[\"analysis_ionizationsource\"] = Analysis_IonizationSource\n",
    "motifDB_ms2[\"analysis_chromatographyandphase\"] = Analysis_ChromatographyAndPhase\n",
    "motifDB_ms2[\"analysis_polarity\"] = Analysis_Polarity\n",
    "motifDB_ms2[\"paper_url\"] = Paper_URL\n",
    "motifDB_ms2[\"auto_annotation\"] = [None for i in range(motifDB_ms2.shape[0])]\n",
    "motifDB_ms2[\"property\"] = [None for i in range(motifDB_ms2.shape[0])]"
   ]
  },
  {
   "cell_type": "code",
   "execution_count": 11,
   "id": "db8acf00-84a7-4bd1-9633-50e2f901639b",
   "metadata": {},
   "outputs": [
    {
     "data": {
      "text/html": [
       "<div>\n",
       "<style scoped>\n",
       "    .dataframe tbody tr th:only-of-type {\n",
       "        vertical-align: middle;\n",
       "    }\n",
       "\n",
       "    .dataframe tbody tr th {\n",
       "        vertical-align: top;\n",
       "    }\n",
       "\n",
       "    .dataframe thead th {\n",
       "        text-align: right;\n",
       "    }\n",
       "</style>\n",
       "<table border=\"1\" class=\"dataframe\">\n",
       "  <thead>\n",
       "    <tr style=\"text-align: right;\">\n",
       "      <th></th>\n",
       "      <th>frag_mz</th>\n",
       "      <th>frag_intens</th>\n",
       "      <th>loss_mz</th>\n",
       "      <th>loss_intens</th>\n",
       "      <th>charge</th>\n",
       "      <th>ms2accuracy</th>\n",
       "      <th>short_annotation</th>\n",
       "      <th>annotation</th>\n",
       "      <th>auto_annotation</th>\n",
       "      <th>motif_id</th>\n",
       "      <th>...</th>\n",
       "      <th>sample_type</th>\n",
       "      <th>massive_id</th>\n",
       "      <th>taxon_id</th>\n",
       "      <th>analysis_ionizationsource</th>\n",
       "      <th>analysis_chromatographyandphase</th>\n",
       "      <th>analysis_polarity</th>\n",
       "      <th>paper_url</th>\n",
       "      <th>property</th>\n",
       "      <th>scan</th>\n",
       "      <th>ms1scan</th>\n",
       "    </tr>\n",
       "  </thead>\n",
       "  <tbody>\n",
       "    <tr>\n",
       "      <th>0</th>\n",
       "      <td>71.047</td>\n",
       "      <td>0.076913</td>\n",
       "      <td>NaN</td>\n",
       "      <td>NaN</td>\n",
       "      <td>-1</td>\n",
       "      <td>0.005</td>\n",
       "      <td>173 415 216 185 351 171 593 387</td>\n",
       "      <td>Unknown</td>\n",
       "      <td>None</td>\n",
       "      <td>motif_0</td>\n",
       "      <td>...</td>\n",
       "      <td>Plant extracts</td>\n",
       "      <td>MSV000081082</td>\n",
       "      <td>3990</td>\n",
       "      <td>electospray ionization</td>\n",
       "      <td>reverse phase (C18)</td>\n",
       "      <td>positive ionisation mode</td>\n",
       "      <td>https://www.biorxiv.org/content/10.1101/323014...</td>\n",
       "      <td>None</td>\n",
       "      <td>9e44605547a2c3c0a91d9a0fd1bbf816</td>\n",
       "      <td>0</td>\n",
       "    </tr>\n",
       "    <tr>\n",
       "      <th>1</th>\n",
       "      <td>97.028</td>\n",
       "      <td>0.130360</td>\n",
       "      <td>NaN</td>\n",
       "      <td>NaN</td>\n",
       "      <td>-1</td>\n",
       "      <td>0.005</td>\n",
       "      <td>173 415 216 185 351 171 593 387</td>\n",
       "      <td>Unknown</td>\n",
       "      <td>None</td>\n",
       "      <td>motif_0</td>\n",
       "      <td>...</td>\n",
       "      <td>Plant extracts</td>\n",
       "      <td>MSV000081082</td>\n",
       "      <td>3990</td>\n",
       "      <td>electospray ionization</td>\n",
       "      <td>reverse phase (C18)</td>\n",
       "      <td>positive ionisation mode</td>\n",
       "      <td>https://www.biorxiv.org/content/10.1101/323014...</td>\n",
       "      <td>None</td>\n",
       "      <td>9e44605547a2c3c0a91d9a0fd1bbf816</td>\n",
       "      <td>0</td>\n",
       "    </tr>\n",
       "    <tr>\n",
       "      <th>2</th>\n",
       "      <td>105.073</td>\n",
       "      <td>0.039002</td>\n",
       "      <td>NaN</td>\n",
       "      <td>NaN</td>\n",
       "      <td>-1</td>\n",
       "      <td>0.005</td>\n",
       "      <td>173 415 216 185 351 171 593 387</td>\n",
       "      <td>Unknown</td>\n",
       "      <td>None</td>\n",
       "      <td>motif_0</td>\n",
       "      <td>...</td>\n",
       "      <td>Plant extracts</td>\n",
       "      <td>MSV000081082</td>\n",
       "      <td>3990</td>\n",
       "      <td>electospray ionization</td>\n",
       "      <td>reverse phase (C18)</td>\n",
       "      <td>positive ionisation mode</td>\n",
       "      <td>https://www.biorxiv.org/content/10.1101/323014...</td>\n",
       "      <td>None</td>\n",
       "      <td>9e44605547a2c3c0a91d9a0fd1bbf816</td>\n",
       "      <td>0</td>\n",
       "    </tr>\n",
       "  </tbody>\n",
       "</table>\n",
       "<p>3 rows × 25 columns</p>\n",
       "</div>"
      ],
      "text/plain": [
       "   frag_mz  frag_intens  loss_mz  loss_intens  charge  ms2accuracy  \\\n",
       "0   71.047     0.076913      NaN          NaN      -1        0.005   \n",
       "1   97.028     0.130360      NaN          NaN      -1        0.005   \n",
       "2  105.073     0.039002      NaN          NaN      -1        0.005   \n",
       "\n",
       "                  short_annotation annotation auto_annotation motif_id  ...  \\\n",
       "0  173 415 216 185 351 171 593 387    Unknown            None  motif_0  ...   \n",
       "1  173 415 216 185 351 171 593 387    Unknown            None  motif_0  ...   \n",
       "2  173 415 216 185 351 171 593 387    Unknown            None  motif_0  ...   \n",
       "\n",
       "      sample_type    massive_id taxon_id analysis_ionizationsource  \\\n",
       "0  Plant extracts  MSV000081082     3990    electospray ionization   \n",
       "1  Plant extracts  MSV000081082     3990    electospray ionization   \n",
       "2  Plant extracts  MSV000081082     3990    electospray ionization   \n",
       "\n",
       "  analysis_chromatographyandphase         analysis_polarity  \\\n",
       "0             reverse phase (C18)  positive ionisation mode   \n",
       "1             reverse phase (C18)  positive ionisation mode   \n",
       "2             reverse phase (C18)  positive ionisation mode   \n",
       "\n",
       "                                           paper_url property  \\\n",
       "0  https://www.biorxiv.org/content/10.1101/323014...     None   \n",
       "1  https://www.biorxiv.org/content/10.1101/323014...     None   \n",
       "2  https://www.biorxiv.org/content/10.1101/323014...     None   \n",
       "\n",
       "                               scan ms1scan  \n",
       "0  9e44605547a2c3c0a91d9a0fd1bbf816       0  \n",
       "1  9e44605547a2c3c0a91d9a0fd1bbf816       0  \n",
       "2  9e44605547a2c3c0a91d9a0fd1bbf816       0  \n",
       "\n",
       "[3 rows x 25 columns]"
      ]
     },
     "execution_count": 11,
     "metadata": {},
     "output_type": "execute_result"
    }
   ],
   "source": [
    "motifDB_ms2.head(3)"
   ]
  },
  {
   "cell_type": "markdown",
   "id": "07e5ef25-4215-483f-975e-d33dbb17c540",
   "metadata": {},
   "source": [
    "## Load automated Annotation"
   ]
  },
  {
   "cell_type": "code",
   "execution_count": 16,
   "id": "61f234c8-3bcb-4ec2-923f-4af74509eec4",
   "metadata": {},
   "outputs": [],
   "source": [
    "with open(\"../Paper_results/Annotation_Benchmark_MotifSets/Urine_auto_annotation_pos.json\", \"r\") as f:\n",
    "    urine_annotations = json.load(f)"
   ]
  },
  {
   "cell_type": "code",
   "execution_count": 17,
   "id": "a3536e0c-a3ae-4abd-8a2a-3ed8f38f1f12",
   "metadata": {},
   "outputs": [],
   "source": [
    "with open(\"../Paper_results/Annotation_Benchmark_MotifSets/MassBank_auto_annotation_pos.json\", \"r\") as f:\n",
    "    massbank_annotations = json.load(f)"
   ]
  },
  {
   "cell_type": "code",
   "execution_count": 18,
   "id": "0ab01494-165f-4555-8df2-a8dd42a9fa83",
   "metadata": {},
   "outputs": [],
   "source": [
    "with open(\"../Paper_results/Annotation_Benchmark_MotifSets/GNPS_auto_annotation_pos.json\", \"r\") as f:\n",
    "    gnps_annotations = json.load(f)"
   ]
  },
  {
   "cell_type": "markdown",
   "id": "8b095c44-2c83-4530-b118-666238560817",
   "metadata": {},
   "source": [
    "## Add automated Annotation"
   ]
  },
  {
   "cell_type": "code",
   "execution_count": 19,
   "id": "de9b5778-298b-4fb7-ac20-746f61a0b26e",
   "metadata": {},
   "outputs": [],
   "source": [
    "motifDB_ms2_grouped = group_ms2(motifDB_ms2)"
   ]
  },
  {
   "cell_type": "code",
   "execution_count": 20,
   "id": "aa907b7d-36bf-497a-8ffa-55ce6ce1fc14",
   "metadata": {},
   "outputs": [
    {
     "data": {
      "text/html": [
       "<div>\n",
       "<style scoped>\n",
       "    .dataframe tbody tr th:only-of-type {\n",
       "        vertical-align: middle;\n",
       "    }\n",
       "\n",
       "    .dataframe tbody tr th {\n",
       "        vertical-align: top;\n",
       "    }\n",
       "\n",
       "    .dataframe thead th {\n",
       "        text-align: right;\n",
       "    }\n",
       "</style>\n",
       "<table border=\"1\" class=\"dataframe\">\n",
       "  <thead>\n",
       "    <tr style=\"text-align: right;\">\n",
       "      <th></th>\n",
       "      <th>scan</th>\n",
       "      <th>frag_mz</th>\n",
       "      <th>frag_intens</th>\n",
       "      <th>loss_mz</th>\n",
       "      <th>loss_intens</th>\n",
       "      <th>charge</th>\n",
       "      <th>ms2accuracy</th>\n",
       "      <th>short_annotation</th>\n",
       "      <th>annotation</th>\n",
       "      <th>motif_id</th>\n",
       "      <th>...</th>\n",
       "      <th>scientific_name</th>\n",
       "      <th>sample_type</th>\n",
       "      <th>massive_id</th>\n",
       "      <th>taxon_id</th>\n",
       "      <th>analysis_ionizationsource</th>\n",
       "      <th>analysis_chromatographyandphase</th>\n",
       "      <th>analysis_polarity</th>\n",
       "      <th>paper_url</th>\n",
       "      <th>auto_annotation</th>\n",
       "      <th>property</th>\n",
       "    </tr>\n",
       "  </thead>\n",
       "  <tbody>\n",
       "    <tr>\n",
       "      <th>0</th>\n",
       "      <td>00121649bd68236b880fe188d2d7fcff</td>\n",
       "      <td>[178.028, 179.032, 179.037, 194.028, 195.067, ...</td>\n",
       "      <td>[0.006147241600132363, 0.005836453324917286, 0...</td>\n",
       "      <td>[nan, nan, nan, nan, nan, nan, nan, nan, nan, ...</td>\n",
       "      <td>[nan, nan, nan, nan, nan, nan, nan, nan, nan, ...</td>\n",
       "      <td>1</td>\n",
       "      <td>0.005</td>\n",
       "      <td>losses indicative for 4-oxo-1 4-dihydroquinoli...</td>\n",
       "      <td>losses indicative for 4-oxo-1 4-dihydroquinoli...</td>\n",
       "      <td>motif_22</td>\n",
       "      <td>...</td>\n",
       "      <td></td>\n",
       "      <td>Reference molecules</td>\n",
       "      <td></td>\n",
       "      <td></td>\n",
       "      <td>electospray ionization</td>\n",
       "      <td>direct infusion (DI)</td>\n",
       "      <td>positive ionisation mode</td>\n",
       "      <td>https://gnps.ucsd.edu/ProteoSAFe/static/gnps-s...</td>\n",
       "      <td>None</td>\n",
       "      <td>None</td>\n",
       "    </tr>\n",
       "    <tr>\n",
       "      <th>1</th>\n",
       "      <td>00410965838a992c7b561e0991f6f856</td>\n",
       "      <td>[88.022, 134.028, 212.998, 223.077, 254.137, 3...</td>\n",
       "      <td>[0.03500737750751771, 0.009896050742188208, 0....</td>\n",
       "      <td>[nan, nan, nan, nan, nan, nan, nan, 39.968, 41...</td>\n",
       "      <td>[nan, nan, nan, nan, nan, nan, nan, 0.00170567...</td>\n",
       "      <td>1</td>\n",
       "      <td>0.005</td>\n",
       "      <td>C2H3N loss - could be specific for a type of r...</td>\n",
       "      <td>C2H3N loss - could be specific for a type of r...</td>\n",
       "      <td>motif_18</td>\n",
       "      <td>...</td>\n",
       "      <td></td>\n",
       "      <td>human urine extracts</td>\n",
       "      <td>MSV000083538, MSV000081118</td>\n",
       "      <td></td>\n",
       "      <td>electospray ionization</td>\n",
       "      <td>normal phase (HILIC)</td>\n",
       "      <td>positive ionisation mode</td>\n",
       "      <td>http://pubs.acs.org/doi/abs/10.1021/acs.analch...</td>\n",
       "      <td>None</td>\n",
       "      <td>None</td>\n",
       "    </tr>\n",
       "    <tr>\n",
       "      <th>2</th>\n",
       "      <td>00aae1dd7eb0e6b6621d96c60a70370d</td>\n",
       "      <td>[89.005, 106.005, 107.045, 120.055, 132.015, 1...</td>\n",
       "      <td>[0.00567928871041006, 0.028237740873515802, 0....</td>\n",
       "      <td>[nan, nan, nan, nan, nan, nan, nan, nan, nan, ...</td>\n",
       "      <td>[nan, nan, nan, nan, nan, nan, nan, nan, nan, ...</td>\n",
       "      <td>-1</td>\n",
       "      <td>0.010</td>\n",
       "      <td>No short annotation available</td>\n",
       "      <td>No annotation available</td>\n",
       "      <td>motif_91</td>\n",
       "      <td>...</td>\n",
       "      <td></td>\n",
       "      <td></td>\n",
       "      <td></td>\n",
       "      <td></td>\n",
       "      <td>electospray ionization</td>\n",
       "      <td>reverse phase (C18)</td>\n",
       "      <td>negative ionisation mode</td>\n",
       "      <td></td>\n",
       "      <td>None</td>\n",
       "      <td>None</td>\n",
       "    </tr>\n",
       "    <tr>\n",
       "      <th>3</th>\n",
       "      <td>00ce91ebe30504d304cdebcb4471b1e2</td>\n",
       "      <td>[nan]</td>\n",
       "      <td>[nan]</td>\n",
       "      <td>[17.027]</td>\n",
       "      <td>[1.0]</td>\n",
       "      <td>1</td>\n",
       "      <td>0.005</td>\n",
       "      <td>Amine loss - Indicative for free NH2 group in ...</td>\n",
       "      <td>Amine loss - Indicative for free NH2 group in ...</td>\n",
       "      <td>motif_13</td>\n",
       "      <td>...</td>\n",
       "      <td></td>\n",
       "      <td>Reference molecules</td>\n",
       "      <td></td>\n",
       "      <td></td>\n",
       "      <td>electospray ionization</td>\n",
       "      <td>direct infusion (DI)</td>\n",
       "      <td>positive ionisation mode</td>\n",
       "      <td>https://gnps.ucsd.edu/ProteoSAFe/static/gnps-s...</td>\n",
       "      <td>None</td>\n",
       "      <td>None</td>\n",
       "    </tr>\n",
       "    <tr>\n",
       "      <th>4</th>\n",
       "      <td>00fd2eaba1ea0db2c92309e0f1baf8d2</td>\n",
       "      <td>[107.055, 115.055, 131.055, 135.065, 137.055, ...</td>\n",
       "      <td>[0.04875972773242482, 0.021737673394840014, 0....</td>\n",
       "      <td>[nan, nan, nan, nan, nan, nan, nan, nan, nan, ...</td>\n",
       "      <td>[nan, nan, nan, nan, nan, nan, nan, nan, nan, ...</td>\n",
       "      <td>1</td>\n",
       "      <td>0.010</td>\n",
       "      <td>No short annotation available</td>\n",
       "      <td>11 spectra, 6 molecules, 4 classes: 33.3% Quin...</td>\n",
       "      <td>motif_82</td>\n",
       "      <td>...</td>\n",
       "      <td></td>\n",
       "      <td></td>\n",
       "      <td></td>\n",
       "      <td></td>\n",
       "      <td>electospray ionization</td>\n",
       "      <td>reverse phase (C18)</td>\n",
       "      <td>positive ionisation mode</td>\n",
       "      <td>https://www.nature.com/articles/s41597-019-0305-1</td>\n",
       "      <td>None</td>\n",
       "      <td>None</td>\n",
       "    </tr>\n",
       "  </tbody>\n",
       "</table>\n",
       "<p>5 rows × 25 columns</p>\n",
       "</div>"
      ],
      "text/plain": [
       "                               scan  \\\n",
       "0  00121649bd68236b880fe188d2d7fcff   \n",
       "1  00410965838a992c7b561e0991f6f856   \n",
       "2  00aae1dd7eb0e6b6621d96c60a70370d   \n",
       "3  00ce91ebe30504d304cdebcb4471b1e2   \n",
       "4  00fd2eaba1ea0db2c92309e0f1baf8d2   \n",
       "\n",
       "                                             frag_mz  \\\n",
       "0  [178.028, 179.032, 179.037, 194.028, 195.067, ...   \n",
       "1  [88.022, 134.028, 212.998, 223.077, 254.137, 3...   \n",
       "2  [89.005, 106.005, 107.045, 120.055, 132.015, 1...   \n",
       "3                                              [nan]   \n",
       "4  [107.055, 115.055, 131.055, 135.065, 137.055, ...   \n",
       "\n",
       "                                         frag_intens  \\\n",
       "0  [0.006147241600132363, 0.005836453324917286, 0...   \n",
       "1  [0.03500737750751771, 0.009896050742188208, 0....   \n",
       "2  [0.00567928871041006, 0.028237740873515802, 0....   \n",
       "3                                              [nan]   \n",
       "4  [0.04875972773242482, 0.021737673394840014, 0....   \n",
       "\n",
       "                                             loss_mz  \\\n",
       "0  [nan, nan, nan, nan, nan, nan, nan, nan, nan, ...   \n",
       "1  [nan, nan, nan, nan, nan, nan, nan, 39.968, 41...   \n",
       "2  [nan, nan, nan, nan, nan, nan, nan, nan, nan, ...   \n",
       "3                                           [17.027]   \n",
       "4  [nan, nan, nan, nan, nan, nan, nan, nan, nan, ...   \n",
       "\n",
       "                                         loss_intens  charge  ms2accuracy  \\\n",
       "0  [nan, nan, nan, nan, nan, nan, nan, nan, nan, ...       1        0.005   \n",
       "1  [nan, nan, nan, nan, nan, nan, nan, 0.00170567...       1        0.005   \n",
       "2  [nan, nan, nan, nan, nan, nan, nan, nan, nan, ...      -1        0.010   \n",
       "3                                              [1.0]       1        0.005   \n",
       "4  [nan, nan, nan, nan, nan, nan, nan, nan, nan, ...       1        0.010   \n",
       "\n",
       "                                    short_annotation  \\\n",
       "0  losses indicative for 4-oxo-1 4-dihydroquinoli...   \n",
       "1  C2H3N loss - could be specific for a type of r...   \n",
       "2                      No short annotation available   \n",
       "3  Amine loss - Indicative for free NH2 group in ...   \n",
       "4                      No short annotation available   \n",
       "\n",
       "                                          annotation  motif_id  ...  \\\n",
       "0  losses indicative for 4-oxo-1 4-dihydroquinoli...  motif_22  ...   \n",
       "1  C2H3N loss - could be specific for a type of r...  motif_18  ...   \n",
       "2                            No annotation available  motif_91  ...   \n",
       "3  Amine loss - Indicative for free NH2 group in ...  motif_13  ...   \n",
       "4  11 spectra, 6 molecules, 4 classes: 33.3% Quin...  motif_82  ...   \n",
       "\n",
       "  scientific_name           sample_type                  massive_id taxon_id  \\\n",
       "0                   Reference molecules                                        \n",
       "1                  human urine extracts  MSV000083538, MSV000081118            \n",
       "2                                                                              \n",
       "3                   Reference molecules                                        \n",
       "4                                                                              \n",
       "\n",
       "  analysis_ionizationsource analysis_chromatographyandphase  \\\n",
       "0    electospray ionization            direct infusion (DI)   \n",
       "1    electospray ionization            normal phase (HILIC)   \n",
       "2    electospray ionization             reverse phase (C18)   \n",
       "3    electospray ionization            direct infusion (DI)   \n",
       "4    electospray ionization             reverse phase (C18)   \n",
       "\n",
       "          analysis_polarity  \\\n",
       "0  positive ionisation mode   \n",
       "1  positive ionisation mode   \n",
       "2  negative ionisation mode   \n",
       "3  positive ionisation mode   \n",
       "4  positive ionisation mode   \n",
       "\n",
       "                                           paper_url auto_annotation property  \n",
       "0  https://gnps.ucsd.edu/ProteoSAFe/static/gnps-s...            None     None  \n",
       "1  http://pubs.acs.org/doi/abs/10.1021/acs.analch...            None     None  \n",
       "2                                                               None     None  \n",
       "3  https://gnps.ucsd.edu/ProteoSAFe/static/gnps-s...            None     None  \n",
       "4  https://www.nature.com/articles/s41597-019-0305-1            None     None  \n",
       "\n",
       "[5 rows x 25 columns]"
      ]
     },
     "execution_count": 20,
     "metadata": {},
     "output_type": "execute_result"
    }
   ],
   "source": [
    "motifDB_ms2_grouped.head()"
   ]
  },
  {
   "cell_type": "code",
   "execution_count": 21,
   "id": "ca3c80dd-b29a-4e45-b47d-84b766674635",
   "metadata": {},
   "outputs": [],
   "source": [
    "import re"
   ]
  },
  {
   "cell_type": "code",
   "execution_count": 22,
   "id": "f36513a1-432e-4628-88f1-2fcd5396fa78",
   "metadata": {},
   "outputs": [],
   "source": [
    "def add_automated_annotation(annotation_list, motifset, motifDB_ms2):\n",
    "    for name, annotation_dict in annotation_list.items():\n",
    "        motif_id = re.search(r\"(motif_\\d+)\", name).group(1)\n",
    "        if annotation_dict[\"SMILES\"]:\n",
    "            Auto_annotation = annotation_dict[\"SMILES\"]\n",
    "            index = motifDB_ms2.loc[(motifDB_ms2[\"motif_id\"] == motif_id) & (motifDB_ms2[\"motifset\"] == motifset)].index[0]\n",
    "            motifDB_ms2.at[index, \"auto_annotation\"] = Auto_annotation"
   ]
  },
  {
   "cell_type": "code",
   "execution_count": 23,
   "id": "f5c4d0be-f449-4307-a935-87f23bb66524",
   "metadata": {
    "scrolled": true
   },
   "outputs": [],
   "source": [
    "add_automated_annotation(urine_annotations, 'Urine derived Mass2Motifs', motifDB_ms2_grouped)\n",
    "add_automated_annotation(gnps_annotations, 'GNPS library derived Mass2Motifs', motifDB_ms2_grouped)\n",
    "add_automated_annotation(massbank_annotations, 'Massbank library derived Mass2Motifs', motifDB_ms2_grouped)"
   ]
  },
  {
   "cell_type": "code",
   "execution_count": 24,
   "id": "63b07c74-6c06-4bc7-a5a1-fa5f739ca6f6",
   "metadata": {},
   "outputs": [
    {
     "data": {
      "text/html": [
       "<div>\n",
       "<style scoped>\n",
       "    .dataframe tbody tr th:only-of-type {\n",
       "        vertical-align: middle;\n",
       "    }\n",
       "\n",
       "    .dataframe tbody tr th {\n",
       "        vertical-align: top;\n",
       "    }\n",
       "\n",
       "    .dataframe thead th {\n",
       "        text-align: right;\n",
       "    }\n",
       "</style>\n",
       "<table border=\"1\" class=\"dataframe\">\n",
       "  <thead>\n",
       "    <tr style=\"text-align: right;\">\n",
       "      <th></th>\n",
       "      <th>scan</th>\n",
       "      <th>frag_mz</th>\n",
       "      <th>frag_intens</th>\n",
       "      <th>loss_mz</th>\n",
       "      <th>loss_intens</th>\n",
       "      <th>charge</th>\n",
       "      <th>ms2accuracy</th>\n",
       "      <th>short_annotation</th>\n",
       "      <th>annotation</th>\n",
       "      <th>motif_id</th>\n",
       "      <th>...</th>\n",
       "      <th>scientific_name</th>\n",
       "      <th>sample_type</th>\n",
       "      <th>massive_id</th>\n",
       "      <th>taxon_id</th>\n",
       "      <th>analysis_ionizationsource</th>\n",
       "      <th>analysis_chromatographyandphase</th>\n",
       "      <th>analysis_polarity</th>\n",
       "      <th>paper_url</th>\n",
       "      <th>auto_annotation</th>\n",
       "      <th>property</th>\n",
       "    </tr>\n",
       "  </thead>\n",
       "  <tbody>\n",
       "    <tr>\n",
       "      <th>0</th>\n",
       "      <td>00121649bd68236b880fe188d2d7fcff</td>\n",
       "      <td>[178.028, 179.032, 179.037, 194.028, 195.067, ...</td>\n",
       "      <td>[0.006147241600132363, 0.005836453324917286, 0...</td>\n",
       "      <td>[nan, nan, nan, nan, nan, nan, nan, nan, nan, ...</td>\n",
       "      <td>[nan, nan, nan, nan, nan, nan, nan, nan, nan, ...</td>\n",
       "      <td>1</td>\n",
       "      <td>0.005</td>\n",
       "      <td>losses indicative for 4-oxo-1 4-dihydroquinoli...</td>\n",
       "      <td>losses indicative for 4-oxo-1 4-dihydroquinoli...</td>\n",
       "      <td>motif_22</td>\n",
       "      <td>...</td>\n",
       "      <td></td>\n",
       "      <td>Reference molecules</td>\n",
       "      <td></td>\n",
       "      <td></td>\n",
       "      <td>electospray ionization</td>\n",
       "      <td>direct infusion (DI)</td>\n",
       "      <td>positive ionisation mode</td>\n",
       "      <td>https://gnps.ucsd.edu/ProteoSAFe/static/gnps-s...</td>\n",
       "      <td>[CC1COc2c(N3CCN(C)CC3)c(F)cc3c(=O)c(C(=O)O)cn1...</td>\n",
       "      <td>None</td>\n",
       "    </tr>\n",
       "    <tr>\n",
       "      <th>1</th>\n",
       "      <td>00410965838a992c7b561e0991f6f856</td>\n",
       "      <td>[88.022, 134.028, 212.998, 223.077, 254.137, 3...</td>\n",
       "      <td>[0.03500737750751771, 0.009896050742188208, 0....</td>\n",
       "      <td>[nan, nan, nan, nan, nan, nan, nan, 39.968, 41...</td>\n",
       "      <td>[nan, nan, nan, nan, nan, nan, nan, 0.00170567...</td>\n",
       "      <td>1</td>\n",
       "      <td>0.005</td>\n",
       "      <td>C2H3N loss - could be specific for a type of r...</td>\n",
       "      <td>C2H3N loss - could be specific for a type of r...</td>\n",
       "      <td>motif_18</td>\n",
       "      <td>...</td>\n",
       "      <td></td>\n",
       "      <td>human urine extracts</td>\n",
       "      <td>MSV000083538, MSV000081118</td>\n",
       "      <td></td>\n",
       "      <td>electospray ionization</td>\n",
       "      <td>normal phase (HILIC)</td>\n",
       "      <td>positive ionisation mode</td>\n",
       "      <td>http://pubs.acs.org/doi/abs/10.1021/acs.analch...</td>\n",
       "      <td>[CCc1cc2c(=O)c(-c3ccc4c(c3)OCCCO4)c(C)oc2cc1OC...</td>\n",
       "      <td>None</td>\n",
       "    </tr>\n",
       "    <tr>\n",
       "      <th>2</th>\n",
       "      <td>00aae1dd7eb0e6b6621d96c60a70370d</td>\n",
       "      <td>[89.005, 106.005, 107.045, 120.055, 132.015, 1...</td>\n",
       "      <td>[0.00567928871041006, 0.028237740873515802, 0....</td>\n",
       "      <td>[nan, nan, nan, nan, nan, nan, nan, nan, nan, ...</td>\n",
       "      <td>[nan, nan, nan, nan, nan, nan, nan, nan, nan, ...</td>\n",
       "      <td>-1</td>\n",
       "      <td>0.010</td>\n",
       "      <td>No short annotation available</td>\n",
       "      <td>No annotation available</td>\n",
       "      <td>motif_91</td>\n",
       "      <td>...</td>\n",
       "      <td></td>\n",
       "      <td></td>\n",
       "      <td></td>\n",
       "      <td></td>\n",
       "      <td>electospray ionization</td>\n",
       "      <td>reverse phase (C18)</td>\n",
       "      <td>negative ionisation mode</td>\n",
       "      <td></td>\n",
       "      <td>None</td>\n",
       "      <td>None</td>\n",
       "    </tr>\n",
       "    <tr>\n",
       "      <th>3</th>\n",
       "      <td>00ce91ebe30504d304cdebcb4471b1e2</td>\n",
       "      <td>[nan]</td>\n",
       "      <td>[nan]</td>\n",
       "      <td>[17.027]</td>\n",
       "      <td>[1.0]</td>\n",
       "      <td>1</td>\n",
       "      <td>0.005</td>\n",
       "      <td>Amine loss - Indicative for free NH2 group in ...</td>\n",
       "      <td>Amine loss - Indicative for free NH2 group in ...</td>\n",
       "      <td>motif_13</td>\n",
       "      <td>...</td>\n",
       "      <td></td>\n",
       "      <td>Reference molecules</td>\n",
       "      <td></td>\n",
       "      <td></td>\n",
       "      <td>electospray ionization</td>\n",
       "      <td>direct infusion (DI)</td>\n",
       "      <td>positive ionisation mode</td>\n",
       "      <td>https://gnps.ucsd.edu/ProteoSAFe/static/gnps-s...</td>\n",
       "      <td>[CC(C)CC1OC(=O)C2CCCN2C(=O)CCNC(=O)C(Cc2ccccc2...</td>\n",
       "      <td>None</td>\n",
       "    </tr>\n",
       "  </tbody>\n",
       "</table>\n",
       "<p>4 rows × 25 columns</p>\n",
       "</div>"
      ],
      "text/plain": [
       "                               scan  \\\n",
       "0  00121649bd68236b880fe188d2d7fcff   \n",
       "1  00410965838a992c7b561e0991f6f856   \n",
       "2  00aae1dd7eb0e6b6621d96c60a70370d   \n",
       "3  00ce91ebe30504d304cdebcb4471b1e2   \n",
       "\n",
       "                                             frag_mz  \\\n",
       "0  [178.028, 179.032, 179.037, 194.028, 195.067, ...   \n",
       "1  [88.022, 134.028, 212.998, 223.077, 254.137, 3...   \n",
       "2  [89.005, 106.005, 107.045, 120.055, 132.015, 1...   \n",
       "3                                              [nan]   \n",
       "\n",
       "                                         frag_intens  \\\n",
       "0  [0.006147241600132363, 0.005836453324917286, 0...   \n",
       "1  [0.03500737750751771, 0.009896050742188208, 0....   \n",
       "2  [0.00567928871041006, 0.028237740873515802, 0....   \n",
       "3                                              [nan]   \n",
       "\n",
       "                                             loss_mz  \\\n",
       "0  [nan, nan, nan, nan, nan, nan, nan, nan, nan, ...   \n",
       "1  [nan, nan, nan, nan, nan, nan, nan, 39.968, 41...   \n",
       "2  [nan, nan, nan, nan, nan, nan, nan, nan, nan, ...   \n",
       "3                                           [17.027]   \n",
       "\n",
       "                                         loss_intens  charge  ms2accuracy  \\\n",
       "0  [nan, nan, nan, nan, nan, nan, nan, nan, nan, ...       1        0.005   \n",
       "1  [nan, nan, nan, nan, nan, nan, nan, 0.00170567...       1        0.005   \n",
       "2  [nan, nan, nan, nan, nan, nan, nan, nan, nan, ...      -1        0.010   \n",
       "3                                              [1.0]       1        0.005   \n",
       "\n",
       "                                    short_annotation  \\\n",
       "0  losses indicative for 4-oxo-1 4-dihydroquinoli...   \n",
       "1  C2H3N loss - could be specific for a type of r...   \n",
       "2                      No short annotation available   \n",
       "3  Amine loss - Indicative for free NH2 group in ...   \n",
       "\n",
       "                                          annotation  motif_id  ...  \\\n",
       "0  losses indicative for 4-oxo-1 4-dihydroquinoli...  motif_22  ...   \n",
       "1  C2H3N loss - could be specific for a type of r...  motif_18  ...   \n",
       "2                            No annotation available  motif_91  ...   \n",
       "3  Amine loss - Indicative for free NH2 group in ...  motif_13  ...   \n",
       "\n",
       "  scientific_name           sample_type                  massive_id taxon_id  \\\n",
       "0                   Reference molecules                                        \n",
       "1                  human urine extracts  MSV000083538, MSV000081118            \n",
       "2                                                                              \n",
       "3                   Reference molecules                                        \n",
       "\n",
       "  analysis_ionizationsource analysis_chromatographyandphase  \\\n",
       "0    electospray ionization            direct infusion (DI)   \n",
       "1    electospray ionization            normal phase (HILIC)   \n",
       "2    electospray ionization             reverse phase (C18)   \n",
       "3    electospray ionization            direct infusion (DI)   \n",
       "\n",
       "          analysis_polarity  \\\n",
       "0  positive ionisation mode   \n",
       "1  positive ionisation mode   \n",
       "2  negative ionisation mode   \n",
       "3  positive ionisation mode   \n",
       "\n",
       "                                           paper_url  \\\n",
       "0  https://gnps.ucsd.edu/ProteoSAFe/static/gnps-s...   \n",
       "1  http://pubs.acs.org/doi/abs/10.1021/acs.analch...   \n",
       "2                                                      \n",
       "3  https://gnps.ucsd.edu/ProteoSAFe/static/gnps-s...   \n",
       "\n",
       "                                     auto_annotation property  \n",
       "0  [CC1COc2c(N3CCN(C)CC3)c(F)cc3c(=O)c(C(=O)O)cn1...     None  \n",
       "1  [CCc1cc2c(=O)c(-c3ccc4c(c3)OCCCO4)c(C)oc2cc1OC...     None  \n",
       "2                                               None     None  \n",
       "3  [CC(C)CC1OC(=O)C2CCCN2C(=O)CCNC(=O)C(Cc2ccccc2...     None  \n",
       "\n",
       "[4 rows x 25 columns]"
      ]
     },
     "execution_count": 24,
     "metadata": {},
     "output_type": "execute_result"
    }
   ],
   "source": [
    "motifDB_ms2_grouped.head(4)"
   ]
  },
  {
   "cell_type": "code",
   "execution_count": 25,
   "id": "d677b6af-dfe7-4420-a130-0050f7f010c1",
   "metadata": {},
   "outputs": [],
   "source": [
    "motifDB_ms2_expoded = motifDB_ms2_grouped.explode([\"frag_mz\", \"frag_intens\", \"loss_mz\", \"loss_intens\"]).reset_index(drop=True)"
   ]
  },
  {
   "cell_type": "code",
   "execution_count": 26,
   "id": "8a2ec5e8-d7e1-49d0-b6a3-4e21e3b990f6",
   "metadata": {},
   "outputs": [
    {
     "data": {
      "text/html": [
       "<div>\n",
       "<style scoped>\n",
       "    .dataframe tbody tr th:only-of-type {\n",
       "        vertical-align: middle;\n",
       "    }\n",
       "\n",
       "    .dataframe tbody tr th {\n",
       "        vertical-align: top;\n",
       "    }\n",
       "\n",
       "    .dataframe thead th {\n",
       "        text-align: right;\n",
       "    }\n",
       "</style>\n",
       "<table border=\"1\" class=\"dataframe\">\n",
       "  <thead>\n",
       "    <tr style=\"text-align: right;\">\n",
       "      <th></th>\n",
       "      <th>scan</th>\n",
       "      <th>frag_mz</th>\n",
       "      <th>frag_intens</th>\n",
       "      <th>loss_mz</th>\n",
       "      <th>loss_intens</th>\n",
       "      <th>charge</th>\n",
       "      <th>ms2accuracy</th>\n",
       "      <th>short_annotation</th>\n",
       "      <th>annotation</th>\n",
       "      <th>motif_id</th>\n",
       "      <th>...</th>\n",
       "      <th>scientific_name</th>\n",
       "      <th>sample_type</th>\n",
       "      <th>massive_id</th>\n",
       "      <th>taxon_id</th>\n",
       "      <th>analysis_ionizationsource</th>\n",
       "      <th>analysis_chromatographyandphase</th>\n",
       "      <th>analysis_polarity</th>\n",
       "      <th>paper_url</th>\n",
       "      <th>auto_annotation</th>\n",
       "      <th>property</th>\n",
       "    </tr>\n",
       "  </thead>\n",
       "  <tbody>\n",
       "    <tr>\n",
       "      <th>0</th>\n",
       "      <td>00121649bd68236b880fe188d2d7fcff</td>\n",
       "      <td>178.028</td>\n",
       "      <td>0.006147</td>\n",
       "      <td>NaN</td>\n",
       "      <td>NaN</td>\n",
       "      <td>1</td>\n",
       "      <td>0.005</td>\n",
       "      <td>losses indicative for 4-oxo-1 4-dihydroquinoli...</td>\n",
       "      <td>losses indicative for 4-oxo-1 4-dihydroquinoli...</td>\n",
       "      <td>motif_22</td>\n",
       "      <td>...</td>\n",
       "      <td></td>\n",
       "      <td>Reference molecules</td>\n",
       "      <td></td>\n",
       "      <td></td>\n",
       "      <td>electospray ionization</td>\n",
       "      <td>direct infusion (DI)</td>\n",
       "      <td>positive ionisation mode</td>\n",
       "      <td>https://gnps.ucsd.edu/ProteoSAFe/static/gnps-s...</td>\n",
       "      <td>[CC1COc2c(N3CCN(C)CC3)c(F)cc3c(=O)c(C(=O)O)cn1...</td>\n",
       "      <td>None</td>\n",
       "    </tr>\n",
       "    <tr>\n",
       "      <th>1</th>\n",
       "      <td>00121649bd68236b880fe188d2d7fcff</td>\n",
       "      <td>179.032</td>\n",
       "      <td>0.005836</td>\n",
       "      <td>NaN</td>\n",
       "      <td>NaN</td>\n",
       "      <td>1</td>\n",
       "      <td>0.005</td>\n",
       "      <td>losses indicative for 4-oxo-1 4-dihydroquinoli...</td>\n",
       "      <td>losses indicative for 4-oxo-1 4-dihydroquinoli...</td>\n",
       "      <td>motif_22</td>\n",
       "      <td>...</td>\n",
       "      <td></td>\n",
       "      <td>Reference molecules</td>\n",
       "      <td></td>\n",
       "      <td></td>\n",
       "      <td>electospray ionization</td>\n",
       "      <td>direct infusion (DI)</td>\n",
       "      <td>positive ionisation mode</td>\n",
       "      <td>https://gnps.ucsd.edu/ProteoSAFe/static/gnps-s...</td>\n",
       "      <td>[CC1COc2c(N3CCN(C)CC3)c(F)cc3c(=O)c(C(=O)O)cn1...</td>\n",
       "      <td>None</td>\n",
       "    </tr>\n",
       "    <tr>\n",
       "      <th>2</th>\n",
       "      <td>00121649bd68236b880fe188d2d7fcff</td>\n",
       "      <td>179.037</td>\n",
       "      <td>0.005873</td>\n",
       "      <td>NaN</td>\n",
       "      <td>NaN</td>\n",
       "      <td>1</td>\n",
       "      <td>0.005</td>\n",
       "      <td>losses indicative for 4-oxo-1 4-dihydroquinoli...</td>\n",
       "      <td>losses indicative for 4-oxo-1 4-dihydroquinoli...</td>\n",
       "      <td>motif_22</td>\n",
       "      <td>...</td>\n",
       "      <td></td>\n",
       "      <td>Reference molecules</td>\n",
       "      <td></td>\n",
       "      <td></td>\n",
       "      <td>electospray ionization</td>\n",
       "      <td>direct infusion (DI)</td>\n",
       "      <td>positive ionisation mode</td>\n",
       "      <td>https://gnps.ucsd.edu/ProteoSAFe/static/gnps-s...</td>\n",
       "      <td>[CC1COc2c(N3CCN(C)CC3)c(F)cc3c(=O)c(C(=O)O)cn1...</td>\n",
       "      <td>None</td>\n",
       "    </tr>\n",
       "    <tr>\n",
       "      <th>3</th>\n",
       "      <td>00121649bd68236b880fe188d2d7fcff</td>\n",
       "      <td>194.028</td>\n",
       "      <td>0.005689</td>\n",
       "      <td>NaN</td>\n",
       "      <td>NaN</td>\n",
       "      <td>1</td>\n",
       "      <td>0.005</td>\n",
       "      <td>losses indicative for 4-oxo-1 4-dihydroquinoli...</td>\n",
       "      <td>losses indicative for 4-oxo-1 4-dihydroquinoli...</td>\n",
       "      <td>motif_22</td>\n",
       "      <td>...</td>\n",
       "      <td></td>\n",
       "      <td>Reference molecules</td>\n",
       "      <td></td>\n",
       "      <td></td>\n",
       "      <td>electospray ionization</td>\n",
       "      <td>direct infusion (DI)</td>\n",
       "      <td>positive ionisation mode</td>\n",
       "      <td>https://gnps.ucsd.edu/ProteoSAFe/static/gnps-s...</td>\n",
       "      <td>[CC1COc2c(N3CCN(C)CC3)c(F)cc3c(=O)c(C(=O)O)cn1...</td>\n",
       "      <td>None</td>\n",
       "    </tr>\n",
       "  </tbody>\n",
       "</table>\n",
       "<p>4 rows × 25 columns</p>\n",
       "</div>"
      ],
      "text/plain": [
       "                               scan  frag_mz frag_intens loss_mz loss_intens  \\\n",
       "0  00121649bd68236b880fe188d2d7fcff  178.028    0.006147     NaN         NaN   \n",
       "1  00121649bd68236b880fe188d2d7fcff  179.032    0.005836     NaN         NaN   \n",
       "2  00121649bd68236b880fe188d2d7fcff  179.037    0.005873     NaN         NaN   \n",
       "3  00121649bd68236b880fe188d2d7fcff  194.028    0.005689     NaN         NaN   \n",
       "\n",
       "   charge  ms2accuracy                                   short_annotation  \\\n",
       "0       1        0.005  losses indicative for 4-oxo-1 4-dihydroquinoli...   \n",
       "1       1        0.005  losses indicative for 4-oxo-1 4-dihydroquinoli...   \n",
       "2       1        0.005  losses indicative for 4-oxo-1 4-dihydroquinoli...   \n",
       "3       1        0.005  losses indicative for 4-oxo-1 4-dihydroquinoli...   \n",
       "\n",
       "                                          annotation  motif_id  ...  \\\n",
       "0  losses indicative for 4-oxo-1 4-dihydroquinoli...  motif_22  ...   \n",
       "1  losses indicative for 4-oxo-1 4-dihydroquinoli...  motif_22  ...   \n",
       "2  losses indicative for 4-oxo-1 4-dihydroquinoli...  motif_22  ...   \n",
       "3  losses indicative for 4-oxo-1 4-dihydroquinoli...  motif_22  ...   \n",
       "\n",
       "  scientific_name          sample_type massive_id taxon_id  \\\n",
       "0                  Reference molecules                       \n",
       "1                  Reference molecules                       \n",
       "2                  Reference molecules                       \n",
       "3                  Reference molecules                       \n",
       "\n",
       "  analysis_ionizationsource analysis_chromatographyandphase  \\\n",
       "0    electospray ionization            direct infusion (DI)   \n",
       "1    electospray ionization            direct infusion (DI)   \n",
       "2    electospray ionization            direct infusion (DI)   \n",
       "3    electospray ionization            direct infusion (DI)   \n",
       "\n",
       "          analysis_polarity  \\\n",
       "0  positive ionisation mode   \n",
       "1  positive ionisation mode   \n",
       "2  positive ionisation mode   \n",
       "3  positive ionisation mode   \n",
       "\n",
       "                                           paper_url  \\\n",
       "0  https://gnps.ucsd.edu/ProteoSAFe/static/gnps-s...   \n",
       "1  https://gnps.ucsd.edu/ProteoSAFe/static/gnps-s...   \n",
       "2  https://gnps.ucsd.edu/ProteoSAFe/static/gnps-s...   \n",
       "3  https://gnps.ucsd.edu/ProteoSAFe/static/gnps-s...   \n",
       "\n",
       "                                     auto_annotation property  \n",
       "0  [CC1COc2c(N3CCN(C)CC3)c(F)cc3c(=O)c(C(=O)O)cn1...     None  \n",
       "1  [CC1COc2c(N3CCN(C)CC3)c(F)cc3c(=O)c(C(=O)O)cn1...     None  \n",
       "2  [CC1COc2c(N3CCN(C)CC3)c(F)cc3c(=O)c(C(=O)O)cn1...     None  \n",
       "3  [CC1COc2c(N3CCN(C)CC3)c(F)cc3c(=O)c(C(=O)O)cn1...     None  \n",
       "\n",
       "[4 rows x 25 columns]"
      ]
     },
     "execution_count": 26,
     "metadata": {},
     "output_type": "execute_result"
    }
   ],
   "source": [
    "motifDB_ms2_expoded.head(4)"
   ]
  },
  {
   "cell_type": "markdown",
   "id": "f8970017-e0e9-48fe-9943-e5bbaf7029fd",
   "metadata": {},
   "source": [
    "## Test if storing, loading and converting works"
   ]
  },
  {
   "cell_type": "code",
   "execution_count": 27,
   "id": "ef72cc92-926c-4199-a216-06310afb8e92",
   "metadata": {},
   "outputs": [
    {
     "data": {
      "text/plain": [
       "True"
      ]
     },
     "execution_count": 27,
     "metadata": {},
     "output_type": "execute_result"
    }
   ],
   "source": [
    "store_motifDB(motifDB_ms1, motifDB_ms2_expoded)"
   ]
  },
  {
   "cell_type": "code",
   "execution_count": 28,
   "id": "a1ebf547-8090-4620-a322-49d56b635c1b",
   "metadata": {},
   "outputs": [],
   "source": [
    "m1, m2 = load_motifDB(\"motifDB.json\")"
   ]
  },
  {
   "cell_type": "code",
   "execution_count": 30,
   "id": "b41fa483-d90f-44cf-bed6-5b042acf82b2",
   "metadata": {
    "scrolled": true
   },
   "outputs": [
    {
     "data": {
      "text/html": [
       "<div>\n",
       "<style scoped>\n",
       "    .dataframe tbody tr th:only-of-type {\n",
       "        vertical-align: middle;\n",
       "    }\n",
       "\n",
       "    .dataframe tbody tr th {\n",
       "        vertical-align: top;\n",
       "    }\n",
       "\n",
       "    .dataframe thead th {\n",
       "        text-align: right;\n",
       "    }\n",
       "</style>\n",
       "<table border=\"1\" class=\"dataframe\">\n",
       "  <thead>\n",
       "    <tr style=\"text-align: right;\">\n",
       "      <th></th>\n",
       "      <th>scan</th>\n",
       "      <th>frag_mz</th>\n",
       "      <th>frag_intens</th>\n",
       "      <th>loss_mz</th>\n",
       "      <th>loss_intens</th>\n",
       "      <th>charge</th>\n",
       "      <th>ms2accuracy</th>\n",
       "      <th>short_annotation</th>\n",
       "      <th>annotation</th>\n",
       "      <th>motif_id</th>\n",
       "      <th>...</th>\n",
       "      <th>scientific_name</th>\n",
       "      <th>sample_type</th>\n",
       "      <th>massive_id</th>\n",
       "      <th>taxon_id</th>\n",
       "      <th>analysis_ionizationsource</th>\n",
       "      <th>analysis_chromatographyandphase</th>\n",
       "      <th>analysis_polarity</th>\n",
       "      <th>paper_url</th>\n",
       "      <th>auto_annotation</th>\n",
       "      <th>property</th>\n",
       "    </tr>\n",
       "  </thead>\n",
       "  <tbody>\n",
       "    <tr>\n",
       "      <th>0</th>\n",
       "      <td>00121649bd68236b880fe188d2d7fcff</td>\n",
       "      <td>178.028</td>\n",
       "      <td>0.006147</td>\n",
       "      <td>NaN</td>\n",
       "      <td>NaN</td>\n",
       "      <td>1</td>\n",
       "      <td>0.005</td>\n",
       "      <td>losses indicative for 4-oxo-1 4-dihydroquinoli...</td>\n",
       "      <td>losses indicative for 4-oxo-1 4-dihydroquinoli...</td>\n",
       "      <td>motif_22</td>\n",
       "      <td>...</td>\n",
       "      <td></td>\n",
       "      <td>Reference molecules</td>\n",
       "      <td></td>\n",
       "      <td></td>\n",
       "      <td>electospray ionization</td>\n",
       "      <td>direct infusion (DI)</td>\n",
       "      <td>positive ionisation mode</td>\n",
       "      <td>https://gnps.ucsd.edu/ProteoSAFe/static/gnps-s...</td>\n",
       "      <td>[CC1COc2c(N3CCN(C)CC3)c(F)cc3c(=O)c(C(=O)O)cn1...</td>\n",
       "      <td>None</td>\n",
       "    </tr>\n",
       "    <tr>\n",
       "      <th>1</th>\n",
       "      <td>00121649bd68236b880fe188d2d7fcff</td>\n",
       "      <td>179.032</td>\n",
       "      <td>0.005836</td>\n",
       "      <td>NaN</td>\n",
       "      <td>NaN</td>\n",
       "      <td>1</td>\n",
       "      <td>0.005</td>\n",
       "      <td>losses indicative for 4-oxo-1 4-dihydroquinoli...</td>\n",
       "      <td>losses indicative for 4-oxo-1 4-dihydroquinoli...</td>\n",
       "      <td>motif_22</td>\n",
       "      <td>...</td>\n",
       "      <td></td>\n",
       "      <td>Reference molecules</td>\n",
       "      <td></td>\n",
       "      <td></td>\n",
       "      <td>electospray ionization</td>\n",
       "      <td>direct infusion (DI)</td>\n",
       "      <td>positive ionisation mode</td>\n",
       "      <td>https://gnps.ucsd.edu/ProteoSAFe/static/gnps-s...</td>\n",
       "      <td>[CC1COc2c(N3CCN(C)CC3)c(F)cc3c(=O)c(C(=O)O)cn1...</td>\n",
       "      <td>None</td>\n",
       "    </tr>\n",
       "    <tr>\n",
       "      <th>2</th>\n",
       "      <td>00121649bd68236b880fe188d2d7fcff</td>\n",
       "      <td>179.037</td>\n",
       "      <td>0.005873</td>\n",
       "      <td>NaN</td>\n",
       "      <td>NaN</td>\n",
       "      <td>1</td>\n",
       "      <td>0.005</td>\n",
       "      <td>losses indicative for 4-oxo-1 4-dihydroquinoli...</td>\n",
       "      <td>losses indicative for 4-oxo-1 4-dihydroquinoli...</td>\n",
       "      <td>motif_22</td>\n",
       "      <td>...</td>\n",
       "      <td></td>\n",
       "      <td>Reference molecules</td>\n",
       "      <td></td>\n",
       "      <td></td>\n",
       "      <td>electospray ionization</td>\n",
       "      <td>direct infusion (DI)</td>\n",
       "      <td>positive ionisation mode</td>\n",
       "      <td>https://gnps.ucsd.edu/ProteoSAFe/static/gnps-s...</td>\n",
       "      <td>[CC1COc2c(N3CCN(C)CC3)c(F)cc3c(=O)c(C(=O)O)cn1...</td>\n",
       "      <td>None</td>\n",
       "    </tr>\n",
       "    <tr>\n",
       "      <th>3</th>\n",
       "      <td>00121649bd68236b880fe188d2d7fcff</td>\n",
       "      <td>194.028</td>\n",
       "      <td>0.005689</td>\n",
       "      <td>NaN</td>\n",
       "      <td>NaN</td>\n",
       "      <td>1</td>\n",
       "      <td>0.005</td>\n",
       "      <td>losses indicative for 4-oxo-1 4-dihydroquinoli...</td>\n",
       "      <td>losses indicative for 4-oxo-1 4-dihydroquinoli...</td>\n",
       "      <td>motif_22</td>\n",
       "      <td>...</td>\n",
       "      <td></td>\n",
       "      <td>Reference molecules</td>\n",
       "      <td></td>\n",
       "      <td></td>\n",
       "      <td>electospray ionization</td>\n",
       "      <td>direct infusion (DI)</td>\n",
       "      <td>positive ionisation mode</td>\n",
       "      <td>https://gnps.ucsd.edu/ProteoSAFe/static/gnps-s...</td>\n",
       "      <td>[CC1COc2c(N3CCN(C)CC3)c(F)cc3c(=O)c(C(=O)O)cn1...</td>\n",
       "      <td>None</td>\n",
       "    </tr>\n",
       "    <tr>\n",
       "      <th>4</th>\n",
       "      <td>00121649bd68236b880fe188d2d7fcff</td>\n",
       "      <td>195.067</td>\n",
       "      <td>0.013432</td>\n",
       "      <td>NaN</td>\n",
       "      <td>NaN</td>\n",
       "      <td>1</td>\n",
       "      <td>0.005</td>\n",
       "      <td>losses indicative for 4-oxo-1 4-dihydroquinoli...</td>\n",
       "      <td>losses indicative for 4-oxo-1 4-dihydroquinoli...</td>\n",
       "      <td>motif_22</td>\n",
       "      <td>...</td>\n",
       "      <td></td>\n",
       "      <td>Reference molecules</td>\n",
       "      <td></td>\n",
       "      <td></td>\n",
       "      <td>electospray ionization</td>\n",
       "      <td>direct infusion (DI)</td>\n",
       "      <td>positive ionisation mode</td>\n",
       "      <td>https://gnps.ucsd.edu/ProteoSAFe/static/gnps-s...</td>\n",
       "      <td>[CC1COc2c(N3CCN(C)CC3)c(F)cc3c(=O)c(C(=O)O)cn1...</td>\n",
       "      <td>None</td>\n",
       "    </tr>\n",
       "  </tbody>\n",
       "</table>\n",
       "<p>5 rows × 25 columns</p>\n",
       "</div>"
      ],
      "text/plain": [
       "                               scan  frag_mz  frag_intens  loss_mz  \\\n",
       "0  00121649bd68236b880fe188d2d7fcff  178.028     0.006147      NaN   \n",
       "1  00121649bd68236b880fe188d2d7fcff  179.032     0.005836      NaN   \n",
       "2  00121649bd68236b880fe188d2d7fcff  179.037     0.005873      NaN   \n",
       "3  00121649bd68236b880fe188d2d7fcff  194.028     0.005689      NaN   \n",
       "4  00121649bd68236b880fe188d2d7fcff  195.067     0.013432      NaN   \n",
       "\n",
       "   loss_intens  charge  ms2accuracy  \\\n",
       "0          NaN       1        0.005   \n",
       "1          NaN       1        0.005   \n",
       "2          NaN       1        0.005   \n",
       "3          NaN       1        0.005   \n",
       "4          NaN       1        0.005   \n",
       "\n",
       "                                    short_annotation  \\\n",
       "0  losses indicative for 4-oxo-1 4-dihydroquinoli...   \n",
       "1  losses indicative for 4-oxo-1 4-dihydroquinoli...   \n",
       "2  losses indicative for 4-oxo-1 4-dihydroquinoli...   \n",
       "3  losses indicative for 4-oxo-1 4-dihydroquinoli...   \n",
       "4  losses indicative for 4-oxo-1 4-dihydroquinoli...   \n",
       "\n",
       "                                          annotation  motif_id  ...  \\\n",
       "0  losses indicative for 4-oxo-1 4-dihydroquinoli...  motif_22  ...   \n",
       "1  losses indicative for 4-oxo-1 4-dihydroquinoli...  motif_22  ...   \n",
       "2  losses indicative for 4-oxo-1 4-dihydroquinoli...  motif_22  ...   \n",
       "3  losses indicative for 4-oxo-1 4-dihydroquinoli...  motif_22  ...   \n",
       "4  losses indicative for 4-oxo-1 4-dihydroquinoli...  motif_22  ...   \n",
       "\n",
       "  scientific_name          sample_type massive_id taxon_id  \\\n",
       "0                  Reference molecules                       \n",
       "1                  Reference molecules                       \n",
       "2                  Reference molecules                       \n",
       "3                  Reference molecules                       \n",
       "4                  Reference molecules                       \n",
       "\n",
       "  analysis_ionizationsource analysis_chromatographyandphase  \\\n",
       "0    electospray ionization            direct infusion (DI)   \n",
       "1    electospray ionization            direct infusion (DI)   \n",
       "2    electospray ionization            direct infusion (DI)   \n",
       "3    electospray ionization            direct infusion (DI)   \n",
       "4    electospray ionization            direct infusion (DI)   \n",
       "\n",
       "          analysis_polarity  \\\n",
       "0  positive ionisation mode   \n",
       "1  positive ionisation mode   \n",
       "2  positive ionisation mode   \n",
       "3  positive ionisation mode   \n",
       "4  positive ionisation mode   \n",
       "\n",
       "                                           paper_url  \\\n",
       "0  https://gnps.ucsd.edu/ProteoSAFe/static/gnps-s...   \n",
       "1  https://gnps.ucsd.edu/ProteoSAFe/static/gnps-s...   \n",
       "2  https://gnps.ucsd.edu/ProteoSAFe/static/gnps-s...   \n",
       "3  https://gnps.ucsd.edu/ProteoSAFe/static/gnps-s...   \n",
       "4  https://gnps.ucsd.edu/ProteoSAFe/static/gnps-s...   \n",
       "\n",
       "                                     auto_annotation property  \n",
       "0  [CC1COc2c(N3CCN(C)CC3)c(F)cc3c(=O)c(C(=O)O)cn1...     None  \n",
       "1  [CC1COc2c(N3CCN(C)CC3)c(F)cc3c(=O)c(C(=O)O)cn1...     None  \n",
       "2  [CC1COc2c(N3CCN(C)CC3)c(F)cc3c(=O)c(C(=O)O)cn1...     None  \n",
       "3  [CC1COc2c(N3CCN(C)CC3)c(F)cc3c(=O)c(C(=O)O)cn1...     None  \n",
       "4  [CC1COc2c(N3CCN(C)CC3)c(F)cc3c(=O)c(C(=O)O)cn1...     None  \n",
       "\n",
       "[5 rows x 25 columns]"
      ]
     },
     "execution_count": 30,
     "metadata": {},
     "output_type": "execute_result"
    }
   ],
   "source": [
    "m2.head()"
   ]
  },
  {
   "cell_type": "markdown",
   "id": "5ff97bed-29e8-4dc8-83e9-02889b4780ac",
   "metadata": {},
   "source": [
    "## Split large dataset based on motifset"
   ]
  },
  {
   "cell_type": "code",
   "execution_count": 41,
   "id": "0710ec6a-9950-468b-985f-36ada0944d0c",
   "metadata": {},
   "outputs": [
    {
     "data": {
      "text/plain": [
       "{'Euphorbia Plant Mass2Motifs',\n",
       " 'GNPS library derived Mass2Motifs',\n",
       " 'LDB MotifDB POS',\n",
       " 'LDB_NEG_MotifDB_01',\n",
       " 'LDB_NEG_MotifDB_02',\n",
       " 'MIADB_pos_100',\n",
       " 'MIADB_pos_60',\n",
       " 'MIADB_pos_indole',\n",
       " 'Massbank library derived Mass2Motifs',\n",
       " 'Photorhabdus and Xenorhabdus Mass2Motifs',\n",
       " 'Planomonospora-associated Mass2Motifs',\n",
       " 'Rhamnaceae Plant Mass2Motifs',\n",
       " 'Streptomyces S29',\n",
       " 'Streptomyces and Salinispora Mass2Motifs',\n",
       " 'Urine derived Mass2Motifs'}"
      ]
     },
     "execution_count": 41,
     "metadata": {},
     "output_type": "execute_result"
    }
   ],
   "source": [
    "set(m2.motifset)"
   ]
  },
  {
   "cell_type": "code",
   "execution_count": 43,
   "id": "73c931b2-32bd-4e6d-95af-f06f52fb140a",
   "metadata": {},
   "outputs": [],
   "source": [
    "motifset_euphorbia = m2.loc[m2.motifset == 'Euphorbia Plant Mass2Motifs']\n",
    "motifset_gnps = m2.loc[m2.motifset == 'GNPS library derived Mass2Motifs']\n",
    "motifset_ldb_pos = m2.loc[m2.motifset == 'LDB MotifDB POS']\n",
    "motifset_ldb_neg_01 = m2.loc[m2.motifset == 'LDB_NEG_MotifDB_01']\n",
    "motifset_ldb_neg_02 = m2.loc[m2.motifset == 'LDB_NEG_MotifDB_02']\n",
    "motifset_miadb_pos_100 = m2.loc[m2.motifset == 'MIADB_pos_100']\n",
    "motifset_miadb_pos_60 = m2.loc[m2.motifset == 'MIADB_pos_60']\n",
    "motifset_miadb_pos_indole = m2.loc[m2.motifset == 'MIADB_pos_indole']\n",
    "motifset_massbank = m2.loc[m2.motifset == 'Massbank library derived Mass2Motifs']\n",
    "motifset_photorhabdus_xenorhabdus = m2.loc[m2.motifset == 'Photorhabdus and Xenorhabdus Mass2Motifs']\n",
    "motifset_planomonspora = m2.loc[m2.motifset == 'Planomonospora-associated Mass2Motifs']\n",
    "motifset_rhamnaceae = m2.loc[m2.motifset == 'Rhamnaceae Plant Mass2Motifs']\n",
    "motifset_streptomyces = m2.loc[m2.motifset == 'Streptomyces S29']\n",
    "motifset_streptomyces_salinispora = m2.loc[m2.motifset == 'Streptomyces and Salinispora Mass2Motifs']\n",
    "motifset_urine = m2.loc[m2.motifset == 'Urine derived Mass2Motifs']"
   ]
  },
  {
   "cell_type": "code",
   "execution_count": 44,
   "id": "c91494f0-57f1-443c-9b26-fbc6c52c5eb1",
   "metadata": {},
   "outputs": [
    {
     "data": {
      "text/plain": [
       "True"
      ]
     },
     "execution_count": 44,
     "metadata": {},
     "output_type": "execute_result"
    }
   ],
   "source": [
    "store_motifDB(motifDB_ms1, motifset_euphorbia, name=\"Motifset Euphorbia Plant Mass2Motifs.json\")"
   ]
  },
  {
   "cell_type": "code",
   "execution_count": 45,
   "id": "3b312208-064a-4201-b77c-714a02a8e671",
   "metadata": {},
   "outputs": [
    {
     "data": {
      "text/plain": [
       "True"
      ]
     },
     "execution_count": 45,
     "metadata": {},
     "output_type": "execute_result"
    }
   ],
   "source": [
    "store_motifDB(motifDB_ms1, motifset_gnps, name=\"Motifset GNPS library derived Mass2Motifs.json\")"
   ]
  },
  {
   "cell_type": "code",
   "execution_count": 46,
   "id": "a33c9045-7848-447a-85ad-4838faea3250",
   "metadata": {},
   "outputs": [
    {
     "data": {
      "text/plain": [
       "True"
      ]
     },
     "execution_count": 46,
     "metadata": {},
     "output_type": "execute_result"
    }
   ],
   "source": [
    "store_motifDB(motifDB_ms1, motifset_ldb_pos, name=\"Motifset LDB MotifDB POS.json\")"
   ]
  },
  {
   "cell_type": "code",
   "execution_count": 47,
   "id": "1f66b89a-d534-43f3-b722-1905f66311c4",
   "metadata": {},
   "outputs": [
    {
     "data": {
      "text/plain": [
       "True"
      ]
     },
     "execution_count": 47,
     "metadata": {},
     "output_type": "execute_result"
    }
   ],
   "source": [
    "store_motifDB(motifDB_ms1, motifset_ldb_neg_01, name=\"Motifset LDB_NEG_MotifDB_01.json\")"
   ]
  },
  {
   "cell_type": "code",
   "execution_count": 48,
   "id": "65140a5f-15a1-4620-9b0f-0c460e0558ff",
   "metadata": {},
   "outputs": [
    {
     "data": {
      "text/plain": [
       "True"
      ]
     },
     "execution_count": 48,
     "metadata": {},
     "output_type": "execute_result"
    }
   ],
   "source": [
    "store_motifDB(motifDB_ms1, motifset_ldb_neg_02, name=\"Motifset LDB_NEG_MotifDB_02.json\")"
   ]
  },
  {
   "cell_type": "code",
   "execution_count": 51,
   "id": "6ac0c4c3-5b0f-473d-92ab-ca1e0acb0cca",
   "metadata": {},
   "outputs": [
    {
     "data": {
      "text/plain": [
       "True"
      ]
     },
     "execution_count": 51,
     "metadata": {},
     "output_type": "execute_result"
    }
   ],
   "source": [
    "store_motifDB(motifDB_ms1, motifset_miadb_pos_100, name=\"Motifset MIADB_pos_100.json\")"
   ]
  },
  {
   "cell_type": "code",
   "execution_count": 52,
   "id": "d6665a17-8e9e-4ffe-8af1-ea86c61aef62",
   "metadata": {},
   "outputs": [
    {
     "data": {
      "text/plain": [
       "True"
      ]
     },
     "execution_count": 52,
     "metadata": {},
     "output_type": "execute_result"
    }
   ],
   "source": [
    "store_motifDB(motifDB_ms1, motifset_miadb_pos_60, name=\"Motifset MIADB_pos_60.json\")"
   ]
  },
  {
   "cell_type": "code",
   "execution_count": 53,
   "id": "e1e0272b-3449-4383-bee9-33d4ada199e9",
   "metadata": {},
   "outputs": [
    {
     "data": {
      "text/plain": [
       "True"
      ]
     },
     "execution_count": 53,
     "metadata": {},
     "output_type": "execute_result"
    }
   ],
   "source": [
    "store_motifDB(motifDB_ms1, motifset_miadb_pos_indole, name=\"Motifset MIADB_pos_indole.json\")"
   ]
  },
  {
   "cell_type": "code",
   "execution_count": 54,
   "id": "e6c7fa43-7df6-44f3-839e-be09819bcf69",
   "metadata": {},
   "outputs": [
    {
     "data": {
      "text/plain": [
       "True"
      ]
     },
     "execution_count": 54,
     "metadata": {},
     "output_type": "execute_result"
    }
   ],
   "source": [
    "store_motifDB(motifDB_ms1, motifset_massbank, name=\"Motifset Massbank library derived Mass2Motifs.json\")"
   ]
  },
  {
   "cell_type": "code",
   "execution_count": 55,
   "id": "5687f35c-896c-4c21-bd16-d29de8c8431c",
   "metadata": {},
   "outputs": [
    {
     "data": {
      "text/plain": [
       "True"
      ]
     },
     "execution_count": 55,
     "metadata": {},
     "output_type": "execute_result"
    }
   ],
   "source": [
    "store_motifDB(motifDB_ms1, motifset_photorhabdus_xenorhabdus, name=\"Motifset Photorhabdus and Xenorhabdus Mass2Motifs.json\")"
   ]
  },
  {
   "cell_type": "code",
   "execution_count": 56,
   "id": "085aac92-3012-4ffb-a04f-43b2af712af3",
   "metadata": {},
   "outputs": [
    {
     "data": {
      "text/plain": [
       "True"
      ]
     },
     "execution_count": 56,
     "metadata": {},
     "output_type": "execute_result"
    }
   ],
   "source": [
    "store_motifDB(motifDB_ms1, motifset_planomonspora, name=\"Motifset Planomonospora-associated Mass2Motifs.json\")"
   ]
  },
  {
   "cell_type": "code",
   "execution_count": 57,
   "id": "9d8987ce-732b-42b4-a3a5-625b5d2c5fda",
   "metadata": {},
   "outputs": [
    {
     "data": {
      "text/plain": [
       "True"
      ]
     },
     "execution_count": 57,
     "metadata": {},
     "output_type": "execute_result"
    }
   ],
   "source": [
    "store_motifDB(motifDB_ms1, motifset_rhamnaceae, name=\"Motifset Rhamnaceae Plant Mass2Motifs.json\")"
   ]
  },
  {
   "cell_type": "code",
   "execution_count": 58,
   "id": "a86c26ca-65f5-4cf7-b21b-24ec08db2333",
   "metadata": {},
   "outputs": [
    {
     "data": {
      "text/plain": [
       "True"
      ]
     },
     "execution_count": 58,
     "metadata": {},
     "output_type": "execute_result"
    }
   ],
   "source": [
    "store_motifDB(motifDB_ms1, motifset_streptomyces, name=\"Motifset Streptomyces S29.json\")"
   ]
  },
  {
   "cell_type": "code",
   "execution_count": 59,
   "id": "f7eb9672-d64f-485d-aa23-a640146dc6fc",
   "metadata": {},
   "outputs": [
    {
     "data": {
      "text/plain": [
       "True"
      ]
     },
     "execution_count": 59,
     "metadata": {},
     "output_type": "execute_result"
    }
   ],
   "source": [
    "store_motifDB(motifDB_ms1, motifset_streptomyces_salinispora, name=\"Motifset Streptomyces and Salinispora Mass2Motifs.json\")"
   ]
  },
  {
   "cell_type": "code",
   "execution_count": 60,
   "id": "bab5e161-342e-4040-9174-73b302ce8c48",
   "metadata": {},
   "outputs": [
    {
     "data": {
      "text/plain": [
       "True"
      ]
     },
     "execution_count": 60,
     "metadata": {},
     "output_type": "execute_result"
    }
   ],
   "source": [
    "store_motifDB(motifDB_ms1, motifset_urine, name=\"Motifset Urine derived Mass2Motifs.json\")"
   ]
  },
  {
   "cell_type": "code",
   "execution_count": null,
   "id": "de920a92-7388-4bd2-858b-4859936cdbb8",
   "metadata": {},
   "outputs": [],
   "source": []
  }
 ],
 "metadata": {
  "kernelspec": {
   "display_name": "Python 3 (ipykernel)",
   "language": "python",
   "name": "python3"
  },
  "language_info": {
   "codemirror_mode": {
    "name": "ipython",
    "version": 3
   },
   "file_extension": ".py",
   "mimetype": "text/x-python",
   "name": "python",
   "nbconvert_exporter": "python",
   "pygments_lexer": "ipython3",
   "version": "3.12.9"
  }
 },
 "nbformat": 4,
 "nbformat_minor": 5
}