{
 "cells": [
  {
   "cell_type": "code",
   "execution_count": 1,
   "id": "d4b44b02-73a0-4bf7-87dd-fb5f2d62611a",
   "metadata": {},
   "outputs": [],
   "source": [
    "from rdkit.Chem import Draw\n",
    "from rdkit import Chem"
   ]
  },
  {
   "cell_type": "code",
   "execution_count": 2,
   "id": "d12ac8ab-0a31-4b19-8a35-7812c60f953e",
   "metadata": {},
   "outputs": [
    {
     "name": "stdout",
     "output_type": "stream",
     "text": [
      "C:\\Users\\dietr004\\Documents\\PhD\\computational mass spectrometry\\Spec2Struc\\Project_SubstructureIdentification\\scripts\\programming_scripts\n"
     ]
    }
   ],
   "source": [
    "import os\n",
    "os.chdir('../programming_scripts/.')\n",
    "print(os.getcwd())\n",
    "\n",
    "from MS2LDA_core import run_lda\n",
    "from MS2LDA_core import predict_with_lda\n",
    "\n",
    "#from Spec2Vec_annotation import motif_annotation\n",
    "\n",
    "from MS2LDA_core import load_mgf\n",
    "from MS2LDA_core import clean_spectra\n",
    "\n",
    "from utils import motifs2spectra\n",
    "from spec2vec import Spec2Vec"
   ]
  },
  {
   "cell_type": "code",
   "execution_count": 5,
   "id": "5e67daca-da06-4ef9-b40d-29a397f2cb98",
   "metadata": {},
   "outputs": [],
   "source": [
    "# spectra_path = r\"C:\\Users\\dietr004\\Documents\\PhD\\computational mass spectrometry\\Spec2Struc\\Project_SubformulaAnnotation\\raw_data\\_RAWdata1\\GNPS-COLLECTIONS-PESTICIDES-POSITIVE.mgf\"\n",
    "# spectra_path = r\"C:\\Users\\dietr004\\Documents\\PhD\\computational mass spectrometry\\Spec2Struc\\Project_SubformulaAnnotation\\raw_data\\_RAWdata1\\GNPS-NIH-SMALLMOLECULEPHARMACOLOGICALLYACTIVE.mgf\"\n",
    "# spectra_path = r\"C:\\Users\\dietr004\\Documents\\PhD\\computational mass spectrometry\\Spec2Struc\\Project_SubformulaAnnotation\\raw_data\\_RAWdata1\\GNPS-SCIEX-LIBRARY.mgf\"\n",
    "spectra_path = r\"C:\\Users\\dietr004\\Documents\\PhD\\computational mass spectrometry\\MEDUSA\\notebooks\\MS2LDA\\PDE5_standards_annotated_pos_unique.mgf\""
   ]
  },
  {
   "cell_type": "code",
   "execution_count": 6,
   "id": "5a73895f-85e5-4e6b-b18e-f948686a16a5",
   "metadata": {},
   "outputs": [],
   "source": [
    "lda_model, corpus, id2word = run_lda(spectra_path=spectra_path, num_motifs=65, iterations=300)"
   ]
  },
  {
   "cell_type": "code",
   "execution_count": 7,
   "id": "c9c03401-a373-40b5-9b19-4facc2555398",
   "metadata": {},
   "outputs": [],
   "source": [
    "motif_spectra = motifs2spectra(lda_model)"
   ]
  },
  {
   "cell_type": "markdown",
   "id": "59c65959-2510-4bd0-b273-45a0273e3278",
   "metadata": {},
   "source": [
    "### how to load the embeddings and then still retrieve the smiles afterwards"
   ]
  },
  {
   "cell_type": "code",
   "execution_count": 8,
   "id": "b594301f-7bc7-4682-b4f4-678aa22cb674",
   "metadata": {},
   "outputs": [],
   "source": [
    "import pandas as pd"
   ]
  },
  {
   "cell_type": "code",
   "execution_count": 9,
   "id": "6af70ab9-7b46-4be4-a3d7-412034a06ad3",
   "metadata": {},
   "outputs": [],
   "source": [
    "from Spec2Vec_annotation import load_model_and_data\n",
    "from Spec2Vec_annotation import calc_similarity\n",
    "from Spec2Vec_annotation import retrieve_top_hits"
   ]
  },
  {
   "cell_type": "code",
   "execution_count": 10,
   "id": "b52a073b-a4a6-4e83-8a07-f2d416262c4c",
   "metadata": {},
   "outputs": [],
   "source": [
    "s2v_model, embeddings_smiles_DB = load_model_and_data()"
   ]
  },
  {
   "cell_type": "code",
   "execution_count": 11,
   "id": "5b5a07ca-51ce-4a9e-86ca-6e656caf0c33",
   "metadata": {},
   "outputs": [],
   "source": [
    "smiles = embeddings_smiles_DB.smiles.to_numpy()\n",
    "embeddings_DB = embeddings_smiles_DB.embeddings.to_list()\n",
    "spectra = embeddings_smiles_DB.spectra.to_list()"
   ]
  },
  {
   "cell_type": "code",
   "execution_count": 12,
   "id": "23c20837-b2a4-41c7-b183-5516116a838e",
   "metadata": {
    "scrolled": true
   },
   "outputs": [
    {
     "ename": "AssertionError",
     "evalue": "Weights are not normalized to unity as expected.",
     "output_type": "error",
     "traceback": [
      "\u001b[1;31m---------------------------------------------------------------------------\u001b[0m",
      "\u001b[1;31mAssertionError\u001b[0m                            Traceback (most recent call last)",
      "Cell \u001b[1;32mIn[12], line 1\u001b[0m\n\u001b[1;32m----> 1\u001b[0m s2v_scores \u001b[38;5;241m=\u001b[39m \u001b[43mcalc_similarity\u001b[49m\u001b[43m(\u001b[49m\u001b[43ms2v_model\u001b[49m\u001b[43m,\u001b[49m\u001b[43m \u001b[49m\u001b[43mmotif_spectra\u001b[49m\u001b[43m,\u001b[49m\u001b[43m \u001b[49m\u001b[43membeddings_DB\u001b[49m\u001b[43m)\u001b[49m\n",
      "File \u001b[1;32m~\\Documents\\PhD\\computational mass spectrometry\\Spec2Struc\\Project_SubstructureIdentification\\scripts\\programming_scripts\\Spec2Vec_annotation.py:87\u001b[0m, in \u001b[0;36mcalc_similarity\u001b[1;34m(s2v_model, motif_spectra, embeddings_DB)\u001b[0m\n\u001b[0;32m     69\u001b[0m \u001b[38;5;250m\u001b[39m\u001b[38;5;124;03m\"\"\"calculates the spec2vec scores between ref and query spectra\u001b[39;00m\n\u001b[0;32m     70\u001b[0m \u001b[38;5;124;03m\u001b[39;00m\n\u001b[0;32m     71\u001b[0m \u001b[38;5;124;03mARGS:\u001b[39;00m\n\u001b[1;32m   (...)\u001b[0m\n\u001b[0;32m     78\u001b[0m \n\u001b[0;32m     79\u001b[0m \u001b[38;5;124;03m\"\"\"\u001b[39;00m\n\u001b[0;32m     81\u001b[0m spec2vec_similarity \u001b[38;5;241m=\u001b[39m Spec2Vec(\n\u001b[0;32m     82\u001b[0m     model\u001b[38;5;241m=\u001b[39ms2v_model,\n\u001b[0;32m     83\u001b[0m     intensity_weighting_power\u001b[38;5;241m=\u001b[39m\u001b[38;5;241m0.5\u001b[39m,\n\u001b[0;32m     84\u001b[0m     allowed_missing_percentage\u001b[38;5;241m=\u001b[39m\u001b[38;5;241m100\u001b[39m,\n\u001b[0;32m     85\u001b[0m     )\n\u001b[1;32m---> 87\u001b[0m motif_embeddings \u001b[38;5;241m=\u001b[39m np\u001b[38;5;241m.\u001b[39marray([spec2vec_similarity\u001b[38;5;241m.\u001b[39m_calculate_embedding(motif_spectrum) \u001b[38;5;28;01mfor\u001b[39;00m motif_spectrum \u001b[38;5;129;01min\u001b[39;00m motif_spectra])\n\u001b[0;32m     89\u001b[0m s2v_scores \u001b[38;5;241m=\u001b[39m []\n\u001b[0;32m     90\u001b[0m \u001b[38;5;28;01mfor\u001b[39;00m motif_embedding \u001b[38;5;129;01min\u001b[39;00m motif_embeddings:\n",
      "File \u001b[1;32m~\\Documents\\PhD\\computational mass spectrometry\\Spec2Struc\\Project_SubstructureIdentification\\scripts\\programming_scripts\\Spec2Vec_annotation.py:87\u001b[0m, in \u001b[0;36m<listcomp>\u001b[1;34m(.0)\u001b[0m\n\u001b[0;32m     69\u001b[0m \u001b[38;5;250m\u001b[39m\u001b[38;5;124;03m\"\"\"calculates the spec2vec scores between ref and query spectra\u001b[39;00m\n\u001b[0;32m     70\u001b[0m \u001b[38;5;124;03m\u001b[39;00m\n\u001b[0;32m     71\u001b[0m \u001b[38;5;124;03mARGS:\u001b[39;00m\n\u001b[1;32m   (...)\u001b[0m\n\u001b[0;32m     78\u001b[0m \n\u001b[0;32m     79\u001b[0m \u001b[38;5;124;03m\"\"\"\u001b[39;00m\n\u001b[0;32m     81\u001b[0m spec2vec_similarity \u001b[38;5;241m=\u001b[39m Spec2Vec(\n\u001b[0;32m     82\u001b[0m     model\u001b[38;5;241m=\u001b[39ms2v_model,\n\u001b[0;32m     83\u001b[0m     intensity_weighting_power\u001b[38;5;241m=\u001b[39m\u001b[38;5;241m0.5\u001b[39m,\n\u001b[0;32m     84\u001b[0m     allowed_missing_percentage\u001b[38;5;241m=\u001b[39m\u001b[38;5;241m100\u001b[39m,\n\u001b[0;32m     85\u001b[0m     )\n\u001b[1;32m---> 87\u001b[0m motif_embeddings \u001b[38;5;241m=\u001b[39m np\u001b[38;5;241m.\u001b[39marray([\u001b[43mspec2vec_similarity\u001b[49m\u001b[38;5;241;43m.\u001b[39;49m\u001b[43m_calculate_embedding\u001b[49m\u001b[43m(\u001b[49m\u001b[43mmotif_spectrum\u001b[49m\u001b[43m)\u001b[49m \u001b[38;5;28;01mfor\u001b[39;00m motif_spectrum \u001b[38;5;129;01min\u001b[39;00m motif_spectra])\n\u001b[0;32m     89\u001b[0m s2v_scores \u001b[38;5;241m=\u001b[39m []\n\u001b[0;32m     90\u001b[0m \u001b[38;5;28;01mfor\u001b[39;00m motif_embedding \u001b[38;5;129;01min\u001b[39;00m motif_embeddings:\n",
      "File \u001b[1;32m~\\AppData\\Local\\anaconda3\\envs\\MS2LDA\\lib\\site-packages\\spec2vec\\Spec2Vec.py:198\u001b[0m, in \u001b[0;36mSpec2Vec._calculate_embedding\u001b[1;34m(self, spectrum_in)\u001b[0m\n\u001b[0;32m    196\u001b[0m \u001b[38;5;28;01melse\u001b[39;00m:\n\u001b[0;32m    197\u001b[0m     \u001b[38;5;28;01mraise\u001b[39;00m \u001b[38;5;167;01mValueError\u001b[39;00m(\u001b[38;5;124m\"\u001b[39m\u001b[38;5;124mExpected input type to be Spectrum or SpectrumDocument\u001b[39m\u001b[38;5;124m\"\u001b[39m)\n\u001b[1;32m--> 198\u001b[0m \u001b[38;5;28;01mreturn\u001b[39;00m \u001b[43mcalc_vector\u001b[49m\u001b[43m(\u001b[49m\u001b[38;5;28;43mself\u001b[39;49m\u001b[38;5;241;43m.\u001b[39;49m\u001b[43mmodel\u001b[49m\u001b[43m,\u001b[49m\n\u001b[0;32m    199\u001b[0m \u001b[43m                   \u001b[49m\u001b[43mspectrum_in\u001b[49m\u001b[43m,\u001b[49m\n\u001b[0;32m    200\u001b[0m \u001b[43m                   \u001b[49m\u001b[38;5;28;43mself\u001b[39;49m\u001b[38;5;241;43m.\u001b[39;49m\u001b[43mintensity_weighting_power\u001b[49m\u001b[43m,\u001b[49m\n\u001b[0;32m    201\u001b[0m \u001b[43m                   \u001b[49m\u001b[38;5;28;43mself\u001b[39;49m\u001b[38;5;241;43m.\u001b[39;49m\u001b[43mallowed_missing_percentage\u001b[49m\u001b[43m)\u001b[49m\n",
      "File \u001b[1;32m~\\AppData\\Local\\anaconda3\\envs\\MS2LDA\\lib\\site-packages\\spec2vec\\vector_operations.py:40\u001b[0m, in \u001b[0;36mcalc_vector\u001b[1;34m(model, document, intensity_weighting_power, allowed_missing_percentage)\u001b[0m\n\u001b[0;32m     12\u001b[0m \u001b[38;5;28;01mdef\u001b[39;00m \u001b[38;5;21mcalc_vector\u001b[39m(model: BaseTopicModel, document: Document,\n\u001b[0;32m     13\u001b[0m                 intensity_weighting_power: Union[\u001b[38;5;28mfloat\u001b[39m, \u001b[38;5;28mint\u001b[39m] \u001b[38;5;241m=\u001b[39m \u001b[38;5;241m0\u001b[39m,\n\u001b[0;32m     14\u001b[0m                 allowed_missing_percentage: Union[\u001b[38;5;28mfloat\u001b[39m, \u001b[38;5;28mint\u001b[39m] \u001b[38;5;241m=\u001b[39m \u001b[38;5;241m10\u001b[39m) \u001b[38;5;241m-\u001b[39m\u001b[38;5;241m>\u001b[39m np\u001b[38;5;241m.\u001b[39mndarray:\n\u001b[0;32m     15\u001b[0m \u001b[38;5;250m    \u001b[39m\u001b[38;5;124;03m\"\"\"Compute document vector as a (weighted) sum of individual word vectors.\u001b[39;00m\n\u001b[0;32m     16\u001b[0m \n\u001b[0;32m     17\u001b[0m \u001b[38;5;124;03m    Parameters\u001b[39;00m\n\u001b[1;32m   (...)\u001b[0m\n\u001b[0;32m     38\u001b[0m \u001b[38;5;124;03m        if the missing percentage of the document in the model is > allowed_missing_percentage.\u001b[39;00m\n\u001b[0;32m     39\u001b[0m \u001b[38;5;124;03m    \"\"\"\u001b[39;00m\n\u001b[1;32m---> 40\u001b[0m     \u001b[38;5;28;01massert\u001b[39;00m \u001b[38;5;28mmax\u001b[39m(document\u001b[38;5;241m.\u001b[39mweights) \u001b[38;5;241m<\u001b[39m\u001b[38;5;241m=\u001b[39m \u001b[38;5;241m1.0\u001b[39m, \u001b[38;5;124m\"\u001b[39m\u001b[38;5;124mWeights are not normalized to unity as expected.\u001b[39m\u001b[38;5;124m\"\u001b[39m\n\u001b[0;32m     41\u001b[0m     \u001b[38;5;28;01massert\u001b[39;00m \u001b[38;5;241m0\u001b[39m \u001b[38;5;241m<\u001b[39m\u001b[38;5;241m=\u001b[39m allowed_missing_percentage \u001b[38;5;241m<\u001b[39m\u001b[38;5;241m=\u001b[39m \u001b[38;5;241m100.0\u001b[39m, \u001b[38;5;124m\"\u001b[39m\u001b[38;5;124mallowed_missing_percentage must be within [0,100]\u001b[39m\u001b[38;5;124m\"\u001b[39m\n\u001b[0;32m     43\u001b[0m     \u001b[38;5;28;01mdef\u001b[39;00m \u001b[38;5;21m_check_model_coverage\u001b[39m():\n",
      "\u001b[1;31mAssertionError\u001b[0m: Weights are not normalized to unity as expected."
     ]
    }
   ],
   "source": [
    "s2v_scores = calc_similarity(s2v_model, motif_spectra, embeddings_DB)"
   ]
  },
  {
   "cell_type": "code",
   "execution_count": null,
   "id": "cbcc6d96-c216-4092-9f73-005fb5225e6e",
   "metadata": {},
   "outputs": [],
   "source": [
    "top_scores, top_smiles = retrieve_top_hits(s2v_scores, 5, smiles)"
   ]
  },
  {
   "cell_type": "code",
   "execution_count": null,
   "id": "cf9aae65-6ac0-440d-9c99-656cad9f19cc",
   "metadata": {},
   "outputs": [],
   "source": [
    "top_scores"
   ]
  },
  {
   "cell_type": "code",
   "execution_count": null,
   "id": "05685206-d5cd-44b0-bd8d-87036196460e",
   "metadata": {},
   "outputs": [],
   "source": [
    "top_smiles"
   ]
  },
  {
   "cell_type": "markdown",
   "id": "e2a73f8a-ac2a-4f06-970c-4b3e9951a908",
   "metadata": {},
   "source": [
    "---"
   ]
  },
  {
   "cell_type": "markdown",
   "id": "eb279f0a-8e19-4b34-8d2e-18adb0a59660",
   "metadata": {},
   "source": [
    "### New Part: Retrieve overlaping fragments between spectra with motif spectra"
   ]
  },
  {
   "cell_type": "code",
   "execution_count": 14,
   "id": "dcb43a99-a3b9-43bc-a5df-c6fd218a8a18",
   "metadata": {},
   "outputs": [],
   "source": [
    "from utils import match_frags_and_losses"
   ]
  },
  {
   "cell_type": "code",
   "execution_count": 15,
   "id": "68ffcc37-7824-4cc4-8acd-44519ae7d533",
   "metadata": {},
   "outputs": [],
   "source": [
    "# just to get some spectra: it is really important that the spectra are binned\n",
    "smiles_per_motifs, predicted_motifs, predicted_motifs_distribution, spectra_per_motifs = predict_with_lda(lda_model, spectra_path, id2word)"
   ]
  },
  {
   "cell_type": "code",
   "execution_count": 16,
   "id": "13110c25-fdb9-4018-b523-ddd77391ef50",
   "metadata": {},
   "outputs": [],
   "source": [
    "i = 5"
   ]
  },
  {
   "cell_type": "code",
   "execution_count": 17,
   "id": "ea89397b-341a-4211-aa61-4c6d4e1143e1",
   "metadata": {},
   "outputs": [],
   "source": [
    "matching_frags, matching_losses = match_frags_and_losses(motif_spectra[i], spectra_per_motifs[i])"
   ]
  },
  {
   "cell_type": "code",
   "execution_count": 18,
   "id": "a3c7b6b6-04e7-460c-aa14-84f29b3fc88a",
   "metadata": {},
   "outputs": [
    {
     "data": {
      "text/plain": [
       "[{58.06, 99.09, 491.19},\n",
       " {58.06, 99.09, 154.67, 169.1, 505.23},\n",
       " {58.06, 99.09, 154.67, 169.1, 489.23},\n",
       " {58.06, 99.09, 154.67, 532.26},\n",
       " {135.04, 154.67, 204.08, 262.09}]"
      ]
     },
     "execution_count": 18,
     "metadata": {},
     "output_type": "execute_result"
    }
   ],
   "source": [
    "matching_frags"
   ]
  },
  {
   "cell_type": "code",
   "execution_count": 19,
   "id": "909425ab-4dd0-4cca-ab0a-2d204b8b658d",
   "metadata": {},
   "outputs": [
    {
     "data": {
      "text/plain": [
       "[set(), set(), set(), set(), set()]"
      ]
     },
     "execution_count": 19,
     "metadata": {},
     "output_type": "execute_result"
    }
   ],
   "source": [
    "matching_losses"
   ]
  },
  {
   "cell_type": "markdown",
   "id": "4cb4711b-19d9-41ed-9575-62bd2bc688a7",
   "metadata": {},
   "source": [
    "### New Part: Use MassQL to search for matches"
   ]
  },
  {
   "cell_type": "code",
   "execution_count": 20,
   "id": "7051ac9e-b124-4b34-afa9-1a001969c72c",
   "metadata": {},
   "outputs": [],
   "source": [
    "from MassQL_annotation import initialize_massql_DB\n",
    "from MassQL_annotation import add_column\n",
    "from MassQL_annotation import search_massql_DB"
   ]
  },
  {
   "cell_type": "code",
   "execution_count": 24,
   "id": "debbf7d2-aaad-418e-82e2-96da1b8f434f",
   "metadata": {},
   "outputs": [],
   "source": [
    "spectra_path_GNPS = r\"C:\\Users\\dietr004\\Documents\\PhD\\computational mass spectrometry\\Spec2Struc\\Project_SubstructureIdentification\\raw_data\\GNPS\\cleaned_spectra_min_5_peaks.mgf\""
   ]
  },
  {
   "cell_type": "code",
   "execution_count": 25,
   "id": "95a91d1a-5095-4ed6-a0b5-06d83ccaea71",
   "metadata": {},
   "outputs": [],
   "source": [
    "ms1_df, ms2_df = initialize_massql_DB(spectra_path_GNPS)"
   ]
  },
  {
   "cell_type": "code",
   "execution_count": 35,
   "id": "02b2dc5d-568e-4aa6-b349-02f1cc7d07f6",
   "metadata": {
    "scrolled": true
   },
   "outputs": [
    {
     "data": {
      "text/html": [
       "<div>\n",
       "<style scoped>\n",
       "    .dataframe tbody tr th:only-of-type {\n",
       "        vertical-align: middle;\n",
       "    }\n",
       "\n",
       "    .dataframe tbody tr th {\n",
       "        vertical-align: top;\n",
       "    }\n",
       "\n",
       "    .dataframe thead th {\n",
       "        text-align: right;\n",
       "    }\n",
       "</style>\n",
       "<table border=\"1\" class=\"dataframe\">\n",
       "  <thead>\n",
       "    <tr style=\"text-align: right;\">\n",
       "      <th></th>\n",
       "      <th>i</th>\n",
       "      <th>i_norm</th>\n",
       "      <th>i_tic_norm</th>\n",
       "      <th>mz</th>\n",
       "      <th>scan</th>\n",
       "      <th>rt</th>\n",
       "      <th>precmz</th>\n",
       "      <th>ms1scan</th>\n",
       "      <th>charge</th>\n",
       "      <th>polarity</th>\n",
       "    </tr>\n",
       "  </thead>\n",
       "  <tbody>\n",
       "    <tr>\n",
       "      <th>0</th>\n",
       "      <td>0.008392</td>\n",
       "      <td>0.008392</td>\n",
       "      <td>0.006534</td>\n",
       "      <td>173.521896</td>\n",
       "      <td>7232</td>\n",
       "      <td>0</td>\n",
       "      <td>0</td>\n",
       "      <td>0</td>\n",
       "      <td>1</td>\n",
       "      <td>1</td>\n",
       "    </tr>\n",
       "  </tbody>\n",
       "</table>\n",
       "</div>"
      ],
      "text/plain": [
       "          i    i_norm  i_tic_norm          mz  scan  rt  precmz  ms1scan  \\\n",
       "0  0.008392  0.008392    0.006534  173.521896  7232   0       0        0   \n",
       "\n",
       "   charge  polarity  \n",
       "0       1         1  "
      ]
     },
     "execution_count": 35,
     "metadata": {},
     "output_type": "execute_result"
    }
   ],
   "source": [
    "ms1_df"
   ]
  },
  {
   "cell_type": "code",
   "execution_count": 43,
   "id": "3930fea0-13b5-44f0-91b4-abbaf82a61f3",
   "metadata": {},
   "outputs": [
    {
     "data": {
      "text/html": [
       "<div>\n",
       "<style scoped>\n",
       "    .dataframe tbody tr th:only-of-type {\n",
       "        vertical-align: middle;\n",
       "    }\n",
       "\n",
       "    .dataframe tbody tr th {\n",
       "        vertical-align: top;\n",
       "    }\n",
       "\n",
       "    .dataframe thead th {\n",
       "        text-align: right;\n",
       "    }\n",
       "</style>\n",
       "<table border=\"1\" class=\"dataframe\">\n",
       "  <thead>\n",
       "    <tr style=\"text-align: right;\">\n",
       "      <th></th>\n",
       "      <th>i</th>\n",
       "      <th>i_norm</th>\n",
       "      <th>i_tic_norm</th>\n",
       "      <th>mz</th>\n",
       "      <th>scan</th>\n",
       "      <th>rt</th>\n",
       "      <th>precmz</th>\n",
       "      <th>ms1scan</th>\n",
       "      <th>charge</th>\n",
       "      <th>polarity</th>\n",
       "    </tr>\n",
       "  </thead>\n",
       "  <tbody>\n",
       "    <tr>\n",
       "      <th>0</th>\n",
       "      <td>0.010553</td>\n",
       "      <td>0.010553</td>\n",
       "      <td>0.000843</td>\n",
       "      <td>289.286377</td>\n",
       "      <td>1</td>\n",
       "      <td>0</td>\n",
       "      <td>0</td>\n",
       "      <td>0</td>\n",
       "      <td>1</td>\n",
       "      <td>1</td>\n",
       "    </tr>\n",
       "    <tr>\n",
       "      <th>1</th>\n",
       "      <td>0.029439</td>\n",
       "      <td>0.029439</td>\n",
       "      <td>0.002352</td>\n",
       "      <td>295.545288</td>\n",
       "      <td>1</td>\n",
       "      <td>0</td>\n",
       "      <td>0</td>\n",
       "      <td>0</td>\n",
       "      <td>1</td>\n",
       "      <td>1</td>\n",
       "    </tr>\n",
       "    <tr>\n",
       "      <th>2</th>\n",
       "      <td>0.005134</td>\n",
       "      <td>0.005134</td>\n",
       "      <td>0.000410</td>\n",
       "      <td>298.489624</td>\n",
       "      <td>1</td>\n",
       "      <td>0</td>\n",
       "      <td>0</td>\n",
       "      <td>0</td>\n",
       "      <td>1</td>\n",
       "      <td>1</td>\n",
       "    </tr>\n",
       "    <tr>\n",
       "      <th>3</th>\n",
       "      <td>0.024515</td>\n",
       "      <td>0.024515</td>\n",
       "      <td>0.001959</td>\n",
       "      <td>317.324951</td>\n",
       "      <td>1</td>\n",
       "      <td>0</td>\n",
       "      <td>0</td>\n",
       "      <td>0</td>\n",
       "      <td>1</td>\n",
       "      <td>1</td>\n",
       "    </tr>\n",
       "    <tr>\n",
       "      <th>4</th>\n",
       "      <td>0.011254</td>\n",
       "      <td>0.011254</td>\n",
       "      <td>0.000899</td>\n",
       "      <td>319.655945</td>\n",
       "      <td>1</td>\n",
       "      <td>0</td>\n",
       "      <td>0</td>\n",
       "      <td>0</td>\n",
       "      <td>1</td>\n",
       "      <td>1</td>\n",
       "    </tr>\n",
       "    <tr>\n",
       "      <th>...</th>\n",
       "      <td>...</td>\n",
       "      <td>...</td>\n",
       "      <td>...</td>\n",
       "      <td>...</td>\n",
       "      <td>...</td>\n",
       "      <td>...</td>\n",
       "      <td>...</td>\n",
       "      <td>...</td>\n",
       "      <td>...</td>\n",
       "      <td>...</td>\n",
       "    </tr>\n",
       "    <tr>\n",
       "      <th>21288060</th>\n",
       "      <td>1.000000</td>\n",
       "      <td>1.000000</td>\n",
       "      <td>0.778560</td>\n",
       "      <td>74.024498</td>\n",
       "      <td>7232</td>\n",
       "      <td>0</td>\n",
       "      <td>0</td>\n",
       "      <td>0</td>\n",
       "      <td>1</td>\n",
       "      <td>1</td>\n",
       "    </tr>\n",
       "    <tr>\n",
       "      <th>21288061</th>\n",
       "      <td>0.163899</td>\n",
       "      <td>0.163899</td>\n",
       "      <td>0.127606</td>\n",
       "      <td>74.029800</td>\n",
       "      <td>7232</td>\n",
       "      <td>0</td>\n",
       "      <td>0</td>\n",
       "      <td>0</td>\n",
       "      <td>1</td>\n",
       "      <td>1</td>\n",
       "    </tr>\n",
       "    <tr>\n",
       "      <th>21288062</th>\n",
       "      <td>0.040293</td>\n",
       "      <td>0.040293</td>\n",
       "      <td>0.031371</td>\n",
       "      <td>74.032402</td>\n",
       "      <td>7232</td>\n",
       "      <td>0</td>\n",
       "      <td>0</td>\n",
       "      <td>0</td>\n",
       "      <td>1</td>\n",
       "      <td>1</td>\n",
       "    </tr>\n",
       "    <tr>\n",
       "      <th>21288063</th>\n",
       "      <td>0.029471</td>\n",
       "      <td>0.029471</td>\n",
       "      <td>0.022945</td>\n",
       "      <td>128.107895</td>\n",
       "      <td>7232</td>\n",
       "      <td>0</td>\n",
       "      <td>0</td>\n",
       "      <td>0</td>\n",
       "      <td>1</td>\n",
       "      <td>1</td>\n",
       "    </tr>\n",
       "    <tr>\n",
       "      <th>21288064</th>\n",
       "      <td>0.008392</td>\n",
       "      <td>0.008392</td>\n",
       "      <td>0.006534</td>\n",
       "      <td>173.521896</td>\n",
       "      <td>7232</td>\n",
       "      <td>0</td>\n",
       "      <td>0</td>\n",
       "      <td>0</td>\n",
       "      <td>1</td>\n",
       "      <td>1</td>\n",
       "    </tr>\n",
       "  </tbody>\n",
       "</table>\n",
       "<p>21288065 rows × 10 columns</p>\n",
       "</div>"
      ],
      "text/plain": [
       "                 i    i_norm  i_tic_norm          mz  scan  rt  precmz  \\\n",
       "0         0.010553  0.010553    0.000843  289.286377     1   0       0   \n",
       "1         0.029439  0.029439    0.002352  295.545288     1   0       0   \n",
       "2         0.005134  0.005134    0.000410  298.489624     1   0       0   \n",
       "3         0.024515  0.024515    0.001959  317.324951     1   0       0   \n",
       "4         0.011254  0.011254    0.000899  319.655945     1   0       0   \n",
       "...            ...       ...         ...         ...   ...  ..     ...   \n",
       "21288060  1.000000  1.000000    0.778560   74.024498  7232   0       0   \n",
       "21288061  0.163899  0.163899    0.127606   74.029800  7232   0       0   \n",
       "21288062  0.040293  0.040293    0.031371   74.032402  7232   0       0   \n",
       "21288063  0.029471  0.029471    0.022945  128.107895  7232   0       0   \n",
       "21288064  0.008392  0.008392    0.006534  173.521896  7232   0       0   \n",
       "\n",
       "          ms1scan  charge  polarity  \n",
       "0               0       1         1  \n",
       "1               0       1         1  \n",
       "2               0       1         1  \n",
       "3               0       1         1  \n",
       "4               0       1         1  \n",
       "...           ...     ...       ...  \n",
       "21288060        0       1         1  \n",
       "21288061        0       1         1  \n",
       "21288062        0       1         1  \n",
       "21288063        0       1         1  \n",
       "21288064        0       1         1  \n",
       "\n",
       "[21288065 rows x 10 columns]"
      ]
     },
     "execution_count": 43,
     "metadata": {},
     "output_type": "execute_result"
    }
   ],
   "source": [
    "ms2_df"
   ]
  },
  {
   "cell_type": "code",
   "execution_count": 59,
   "id": "eb4ecee7-be8c-4bde-af97-92ddf6f0fd79",
   "metadata": {},
   "outputs": [
    {
     "data": {
      "text/html": [
       "<div>\n",
       "<style scoped>\n",
       "    .dataframe tbody tr th:only-of-type {\n",
       "        vertical-align: middle;\n",
       "    }\n",
       "\n",
       "    .dataframe tbody tr th {\n",
       "        vertical-align: top;\n",
       "    }\n",
       "\n",
       "    .dataframe thead th {\n",
       "        text-align: right;\n",
       "    }\n",
       "</style>\n",
       "<table border=\"1\" class=\"dataframe\">\n",
       "  <thead>\n",
       "    <tr style=\"text-align: right;\">\n",
       "      <th></th>\n",
       "      <th>i</th>\n",
       "      <th>i_norm</th>\n",
       "      <th>i_tic_norm</th>\n",
       "      <th>mz</th>\n",
       "      <th>scan</th>\n",
       "      <th>rt</th>\n",
       "      <th>precmz</th>\n",
       "      <th>ms1scan</th>\n",
       "      <th>charge</th>\n",
       "      <th>polarity</th>\n",
       "    </tr>\n",
       "  </thead>\n",
       "  <tbody>\n",
       "    <tr>\n",
       "      <th>0</th>\n",
       "      <td>0.010553</td>\n",
       "      <td>0.010553</td>\n",
       "      <td>0.000843</td>\n",
       "      <td>289.286377</td>\n",
       "      <td>1</td>\n",
       "      <td>0</td>\n",
       "      <td>0</td>\n",
       "      <td>0</td>\n",
       "      <td>1</td>\n",
       "      <td>1</td>\n",
       "    </tr>\n",
       "    <tr>\n",
       "      <th>1</th>\n",
       "      <td>0.029439</td>\n",
       "      <td>0.029439</td>\n",
       "      <td>0.002352</td>\n",
       "      <td>295.545288</td>\n",
       "      <td>1</td>\n",
       "      <td>0</td>\n",
       "      <td>0</td>\n",
       "      <td>0</td>\n",
       "      <td>1</td>\n",
       "      <td>1</td>\n",
       "    </tr>\n",
       "    <tr>\n",
       "      <th>2</th>\n",
       "      <td>0.005134</td>\n",
       "      <td>0.005134</td>\n",
       "      <td>0.000410</td>\n",
       "      <td>298.489624</td>\n",
       "      <td>1</td>\n",
       "      <td>0</td>\n",
       "      <td>0</td>\n",
       "      <td>0</td>\n",
       "      <td>1</td>\n",
       "      <td>1</td>\n",
       "    </tr>\n",
       "    <tr>\n",
       "      <th>3</th>\n",
       "      <td>0.024515</td>\n",
       "      <td>0.024515</td>\n",
       "      <td>0.001959</td>\n",
       "      <td>317.324951</td>\n",
       "      <td>1</td>\n",
       "      <td>0</td>\n",
       "      <td>0</td>\n",
       "      <td>0</td>\n",
       "      <td>1</td>\n",
       "      <td>1</td>\n",
       "    </tr>\n",
       "    <tr>\n",
       "      <th>4</th>\n",
       "      <td>0.011254</td>\n",
       "      <td>0.011254</td>\n",
       "      <td>0.000899</td>\n",
       "      <td>319.655945</td>\n",
       "      <td>1</td>\n",
       "      <td>0</td>\n",
       "      <td>0</td>\n",
       "      <td>0</td>\n",
       "      <td>1</td>\n",
       "      <td>1</td>\n",
       "    </tr>\n",
       "    <tr>\n",
       "      <th>...</th>\n",
       "      <td>...</td>\n",
       "      <td>...</td>\n",
       "      <td>...</td>\n",
       "      <td>...</td>\n",
       "      <td>...</td>\n",
       "      <td>...</td>\n",
       "      <td>...</td>\n",
       "      <td>...</td>\n",
       "      <td>...</td>\n",
       "      <td>...</td>\n",
       "    </tr>\n",
       "    <tr>\n",
       "      <th>21163387</th>\n",
       "      <td>0.068055</td>\n",
       "      <td>0.068055</td>\n",
       "      <td>0.025530</td>\n",
       "      <td>345.151093</td>\n",
       "      <td>1</td>\n",
       "      <td>0</td>\n",
       "      <td>0</td>\n",
       "      <td>0</td>\n",
       "      <td>1</td>\n",
       "      <td>1</td>\n",
       "    </tr>\n",
       "    <tr>\n",
       "      <th>21163388</th>\n",
       "      <td>1.000000</td>\n",
       "      <td>1.000000</td>\n",
       "      <td>0.375147</td>\n",
       "      <td>361.182404</td>\n",
       "      <td>1</td>\n",
       "      <td>0</td>\n",
       "      <td>0</td>\n",
       "      <td>0</td>\n",
       "      <td>1</td>\n",
       "      <td>1</td>\n",
       "    </tr>\n",
       "    <tr>\n",
       "      <th>21163389</th>\n",
       "      <td>0.067293</td>\n",
       "      <td>0.067293</td>\n",
       "      <td>0.025245</td>\n",
       "      <td>362.185913</td>\n",
       "      <td>1</td>\n",
       "      <td>0</td>\n",
       "      <td>0</td>\n",
       "      <td>0</td>\n",
       "      <td>1</td>\n",
       "      <td>1</td>\n",
       "    </tr>\n",
       "    <tr>\n",
       "      <th>21163390</th>\n",
       "      <td>0.008383</td>\n",
       "      <td>0.008383</td>\n",
       "      <td>0.003145</td>\n",
       "      <td>391.191010</td>\n",
       "      <td>1</td>\n",
       "      <td>0</td>\n",
       "      <td>0</td>\n",
       "      <td>0</td>\n",
       "      <td>1</td>\n",
       "      <td>1</td>\n",
       "    </tr>\n",
       "    <tr>\n",
       "      <th>21163391</th>\n",
       "      <td>0.003825</td>\n",
       "      <td>0.003825</td>\n",
       "      <td>0.001435</td>\n",
       "      <td>435.073395</td>\n",
       "      <td>1</td>\n",
       "      <td>0</td>\n",
       "      <td>0</td>\n",
       "      <td>0</td>\n",
       "      <td>1</td>\n",
       "      <td>1</td>\n",
       "    </tr>\n",
       "  </tbody>\n",
       "</table>\n",
       "<p>452404 rows × 10 columns</p>\n",
       "</div>"
      ],
      "text/plain": [
       "                 i    i_norm  i_tic_norm          mz  scan  rt  precmz  \\\n",
       "0         0.010553  0.010553    0.000843  289.286377     1   0       0   \n",
       "1         0.029439  0.029439    0.002352  295.545288     1   0       0   \n",
       "2         0.005134  0.005134    0.000410  298.489624     1   0       0   \n",
       "3         0.024515  0.024515    0.001959  317.324951     1   0       0   \n",
       "4         0.011254  0.011254    0.000899  319.655945     1   0       0   \n",
       "...            ...       ...         ...         ...   ...  ..     ...   \n",
       "21163387  0.068055  0.068055    0.025530  345.151093     1   0       0   \n",
       "21163388  1.000000  1.000000    0.375147  361.182404     1   0       0   \n",
       "21163389  0.067293  0.067293    0.025245  362.185913     1   0       0   \n",
       "21163390  0.008383  0.008383    0.003145  391.191010     1   0       0   \n",
       "21163391  0.003825  0.003825    0.001435  435.073395     1   0       0   \n",
       "\n",
       "          ms1scan  charge  polarity  \n",
       "0               0       1         1  \n",
       "1               0       1         1  \n",
       "2               0       1         1  \n",
       "3               0       1         1  \n",
       "4               0       1         1  \n",
       "...           ...     ...       ...  \n",
       "21163387        0       1         1  \n",
       "21163388        0       1         1  \n",
       "21163389        0       1         1  \n",
       "21163390        0       1         1  \n",
       "21163391        0       1         1  \n",
       "\n",
       "[452404 rows x 10 columns]"
      ]
     },
     "execution_count": 59,
     "metadata": {},
     "output_type": "execute_result"
    }
   ],
   "source": [
    "ms2_df.loc[ms2_df[\"scan\"] == 1]"
   ]
  },
  {
   "cell_type": "code",
   "execution_count": 26,
   "id": "6443aa2c-05e1-45fb-b489-5f1a4a50cb58",
   "metadata": {},
   "outputs": [],
   "source": [
    "# store ms1_df and ms2_df right away!!!"
   ]
  },
  {
   "cell_type": "code",
   "execution_count": 30,
   "id": "78c844cc-05c3-4101-b579-004fdbe05727",
   "metadata": {},
   "outputs": [],
   "source": [
    "ms1_df.to_parquet(\"ms1_massql.parquet\")"
   ]
  },
  {
   "cell_type": "code",
   "execution_count": 31,
   "id": "dbcc1680-7dce-48c4-9747-4d96e0c6d7c8",
   "metadata": {},
   "outputs": [],
   "source": [
    "ms2_df.to_parquet(\"ms2_massql.parquet\")"
   ]
  },
  {
   "cell_type": "code",
   "execution_count": 32,
   "id": "46349ee6-3d26-493f-8951-ceec45a019e4",
   "metadata": {},
   "outputs": [],
   "source": [
    "def generate_query(i):\n",
    "    input_query_base = \"QUERY scaninfo(MS2DATA) WHERE\"\n",
    "    input_query = \"QUERY scaninfo(MS2DATA) WHERE\"\n",
    "    for matching_frag in matching_frags[i]:\n",
    "        if input_query == input_query_base:\n",
    "            input_query += f\" MS2PROD={matching_frag}\"\n",
    "        else:\n",
    "            input_query += f\" AND MS2PROD={matching_frag}\"\n",
    "    for matching_loss in matching_losses[i]:\n",
    "         if input_query == input_query_base:\n",
    "            input_query += f\" MS2PROD={matching_loss}\"\n",
    "         else:\n",
    "            input_query += f\" AND MS2PROD={matching_loss}\"\n",
    "\n",
    "    return input_query"
   ]
  },
  {
   "cell_type": "code",
   "execution_count": 55,
   "id": "9376ec18-bdc1-4a90-af33-dfb390001c17",
   "metadata": {},
   "outputs": [],
   "source": [
    "input_query = generate_query(1)"
   ]
  },
  {
   "cell_type": "code",
   "execution_count": 56,
   "id": "5952f4e1-8ad3-4d11-9c2f-dc97c5ab6098",
   "metadata": {},
   "outputs": [
    {
     "data": {
      "text/plain": [
       "'QUERY scaninfo(MS2DATA) WHERE MS2PROD=99.09 AND MS2PROD=58.06 AND MS2PROD=169.1 AND MS2PROD=505.23 AND MS2PROD=154.67'"
      ]
     },
     "execution_count": 56,
     "metadata": {},
     "output_type": "execute_result"
    }
   ],
   "source": [
    "input_query"
   ]
  },
  {
   "cell_type": "code",
   "execution_count": 39,
   "id": "a402ab42-8745-4c9d-8caf-2e6f211b9305",
   "metadata": {},
   "outputs": [],
   "source": [
    "from massql import msql_engine"
   ]
  },
  {
   "cell_type": "code",
   "execution_count": 57,
   "id": "b3a05103-8bde-428b-a05e-7884025f87f6",
   "metadata": {},
   "outputs": [
    {
     "name": "stdout",
     "output_type": "stream",
     "text": [
      "TOTAL QUERIES 1\n"
     ]
    },
    {
     "name": "stderr",
     "output_type": "stream",
     "text": [
      "100%|████████████████████████████████████████████████████████████████████████████████████| 1/1 [00:03<00:00,  3.83s/it]\n"
     ]
    }
   ],
   "source": [
    "results_df = msql_engine.process_query(input_query, spectra_path_GNPS, ms1_df=ms1_df, ms2_df=ms2_df)"
   ]
  },
  {
   "cell_type": "code",
   "execution_count": 58,
   "id": "9b13875a-e56b-405d-820a-363bb2d92271",
   "metadata": {},
   "outputs": [
    {
     "data": {
      "text/html": [
       "<div>\n",
       "<style scoped>\n",
       "    .dataframe tbody tr th:only-of-type {\n",
       "        vertical-align: middle;\n",
       "    }\n",
       "\n",
       "    .dataframe tbody tr th {\n",
       "        vertical-align: top;\n",
       "    }\n",
       "\n",
       "    .dataframe thead th {\n",
       "        text-align: right;\n",
       "    }\n",
       "</style>\n",
       "<table border=\"1\" class=\"dataframe\">\n",
       "  <thead>\n",
       "    <tr style=\"text-align: right;\">\n",
       "      <th></th>\n",
       "      <th>scan</th>\n",
       "      <th>precmz</th>\n",
       "      <th>ms1scan</th>\n",
       "      <th>rt</th>\n",
       "      <th>charge</th>\n",
       "      <th>i</th>\n",
       "      <th>i_norm</th>\n",
       "      <th>mslevel</th>\n",
       "      <th>i_norm_ms1</th>\n",
       "    </tr>\n",
       "  </thead>\n",
       "  <tbody>\n",
       "    <tr>\n",
       "      <th>0</th>\n",
       "      <td>1</td>\n",
       "      <td>0</td>\n",
       "      <td>0</td>\n",
       "      <td>0</td>\n",
       "      <td>1</td>\n",
       "      <td>20370.455346</td>\n",
       "      <td>1.0</td>\n",
       "      <td>2</td>\n",
       "      <td>NaN</td>\n",
       "    </tr>\n",
       "    <tr>\n",
       "      <th>1</th>\n",
       "      <td>2</td>\n",
       "      <td>0</td>\n",
       "      <td>0</td>\n",
       "      <td>0</td>\n",
       "      <td>1</td>\n",
       "      <td>735.131476</td>\n",
       "      <td>1.0</td>\n",
       "      <td>2</td>\n",
       "      <td>NaN</td>\n",
       "    </tr>\n",
       "    <tr>\n",
       "      <th>2</th>\n",
       "      <td>3</td>\n",
       "      <td>0</td>\n",
       "      <td>0</td>\n",
       "      <td>0</td>\n",
       "      <td>1</td>\n",
       "      <td>1252.619839</td>\n",
       "      <td>1.0</td>\n",
       "      <td>2</td>\n",
       "      <td>NaN</td>\n",
       "    </tr>\n",
       "    <tr>\n",
       "      <th>3</th>\n",
       "      <td>6</td>\n",
       "      <td>0</td>\n",
       "      <td>0</td>\n",
       "      <td>0</td>\n",
       "      <td>1</td>\n",
       "      <td>485.094371</td>\n",
       "      <td>1.0</td>\n",
       "      <td>2</td>\n",
       "      <td>NaN</td>\n",
       "    </tr>\n",
       "    <tr>\n",
       "      <th>4</th>\n",
       "      <td>8</td>\n",
       "      <td>0</td>\n",
       "      <td>0</td>\n",
       "      <td>0</td>\n",
       "      <td>1</td>\n",
       "      <td>300.356656</td>\n",
       "      <td>1.0</td>\n",
       "      <td>2</td>\n",
       "      <td>NaN</td>\n",
       "    </tr>\n",
       "    <tr>\n",
       "      <th>...</th>\n",
       "      <td>...</td>\n",
       "      <td>...</td>\n",
       "      <td>...</td>\n",
       "      <td>...</td>\n",
       "      <td>...</td>\n",
       "      <td>...</td>\n",
       "      <td>...</td>\n",
       "      <td>...</td>\n",
       "      <td>...</td>\n",
       "    </tr>\n",
       "    <tr>\n",
       "      <th>357</th>\n",
       "      <td>7895</td>\n",
       "      <td>0</td>\n",
       "      <td>0</td>\n",
       "      <td>0</td>\n",
       "      <td>1</td>\n",
       "      <td>15.128028</td>\n",
       "      <td>1.0</td>\n",
       "      <td>2</td>\n",
       "      <td>NaN</td>\n",
       "    </tr>\n",
       "    <tr>\n",
       "      <th>358</th>\n",
       "      <td>8168</td>\n",
       "      <td>0</td>\n",
       "      <td>0</td>\n",
       "      <td>0</td>\n",
       "      <td>1</td>\n",
       "      <td>31.133472</td>\n",
       "      <td>1.0</td>\n",
       "      <td>2</td>\n",
       "      <td>NaN</td>\n",
       "    </tr>\n",
       "    <tr>\n",
       "      <th>359</th>\n",
       "      <td>9537</td>\n",
       "      <td>0</td>\n",
       "      <td>0</td>\n",
       "      <td>0</td>\n",
       "      <td>1</td>\n",
       "      <td>26.525331</td>\n",
       "      <td>1.0</td>\n",
       "      <td>2</td>\n",
       "      <td>NaN</td>\n",
       "    </tr>\n",
       "    <tr>\n",
       "      <th>360</th>\n",
       "      <td>9925</td>\n",
       "      <td>0</td>\n",
       "      <td>0</td>\n",
       "      <td>0</td>\n",
       "      <td>1</td>\n",
       "      <td>25.420851</td>\n",
       "      <td>1.0</td>\n",
       "      <td>2</td>\n",
       "      <td>NaN</td>\n",
       "    </tr>\n",
       "    <tr>\n",
       "      <th>361</th>\n",
       "      <td>12938</td>\n",
       "      <td>0</td>\n",
       "      <td>0</td>\n",
       "      <td>0</td>\n",
       "      <td>1</td>\n",
       "      <td>25.139062</td>\n",
       "      <td>1.0</td>\n",
       "      <td>2</td>\n",
       "      <td>NaN</td>\n",
       "    </tr>\n",
       "  </tbody>\n",
       "</table>\n",
       "<p>362 rows × 9 columns</p>\n",
       "</div>"
      ],
      "text/plain": [
       "      scan  precmz  ms1scan  rt  charge             i  i_norm  mslevel  \\\n",
       "0        1       0        0   0       1  20370.455346     1.0        2   \n",
       "1        2       0        0   0       1    735.131476     1.0        2   \n",
       "2        3       0        0   0       1   1252.619839     1.0        2   \n",
       "3        6       0        0   0       1    485.094371     1.0        2   \n",
       "4        8       0        0   0       1    300.356656     1.0        2   \n",
       "..     ...     ...      ...  ..     ...           ...     ...      ...   \n",
       "357   7895       0        0   0       1     15.128028     1.0        2   \n",
       "358   8168       0        0   0       1     31.133472     1.0        2   \n",
       "359   9537       0        0   0       1     26.525331     1.0        2   \n",
       "360   9925       0        0   0       1     25.420851     1.0        2   \n",
       "361  12938       0        0   0       1     25.139062     1.0        2   \n",
       "\n",
       "     i_norm_ms1  \n",
       "0           NaN  \n",
       "1           NaN  \n",
       "2           NaN  \n",
       "3           NaN  \n",
       "4           NaN  \n",
       "..          ...  \n",
       "357         NaN  \n",
       "358         NaN  \n",
       "359         NaN  \n",
       "360         NaN  \n",
       "361         NaN  \n",
       "\n",
       "[362 rows x 9 columns]"
      ]
     },
     "execution_count": 58,
     "metadata": {},
     "output_type": "execute_result"
    }
   ],
   "source": [
    "results_df"
   ]
  },
  {
   "cell_type": "code",
   "execution_count": 36,
   "id": "89c27ad2-75e4-4b8c-96db-d542b37acc04",
   "metadata": {},
   "outputs": [
    {
     "name": "stdout",
     "output_type": "stream",
     "text": [
      "TOTAL QUERIES 1\n"
     ]
    },
    {
     "name": "stderr",
     "output_type": "stream",
     "text": [
      "100%|████████████████████████████████████████████████████████████████████████████████████| 1/1 [00:03<00:00,  3.79s/it]\n"
     ]
    },
    {
     "ename": "KeyboardInterrupt",
     "evalue": "",
     "output_type": "error",
     "traceback": [
      "\u001b[1;31m---------------------------------------------------------------------------\u001b[0m",
      "\u001b[1;31mKeyboardInterrupt\u001b[0m                         Traceback (most recent call last)",
      "Cell \u001b[1;32mIn[36], line 3\u001b[0m\n\u001b[0;32m      1\u001b[0m \u001b[38;5;66;03m# single test:\u001b[39;00m\n\u001b[0;32m      2\u001b[0m input_query \u001b[38;5;241m=\u001b[39m generate_query(\u001b[38;5;241m1\u001b[39m)\n\u001b[1;32m----> 3\u001b[0m results_df \u001b[38;5;241m=\u001b[39m \u001b[43msearch_massql_DB\u001b[49m\u001b[43m(\u001b[49m\u001b[43mspectra_path_GNPS\u001b[49m\u001b[43m,\u001b[49m\u001b[43m \u001b[49m\u001b[43minput_query\u001b[49m\u001b[43m,\u001b[49m\u001b[43m \u001b[49m\u001b[43mms1_df\u001b[49m\u001b[43m,\u001b[49m\u001b[43m \u001b[49m\u001b[43mms2_df\u001b[49m\u001b[43m)\u001b[49m\n\u001b[0;32m      4\u001b[0m \u001b[38;5;28mprint\u001b[39m(results_df\u001b[38;5;241m.\u001b[39mto_numpy())\n",
      "File \u001b[1;32m~\\Documents\\PhD\\computational mass spectrometry\\Spec2Struc\\Project_SubstructureIdentification\\scripts\\programming_scripts\\MassQL_annotation.py:46\u001b[0m, in \u001b[0;36msearch_massql_DB\u001b[1;34m(filename, input_query, ms1_df, ms2_df)\u001b[0m\n\u001b[0;32m     42\u001b[0m \u001b[38;5;250m\u001b[39m\u001b[38;5;124;03m\"\"\"The idea is to query all spectra-motif overlaping peaks. based on this information the smiles can be compared and this time a substructure retrieval (mcs) methods can be used\"\"\"\u001b[39;00m\n\u001b[0;32m     44\u001b[0m results_df \u001b[38;5;241m=\u001b[39m msql_engine\u001b[38;5;241m.\u001b[39mprocess_query(input_query, filename, ms1_df\u001b[38;5;241m=\u001b[39mms1_df, ms2_df\u001b[38;5;241m=\u001b[39mms2_df)\n\u001b[1;32m---> 46\u001b[0m spectra \u001b[38;5;241m=\u001b[39m \u001b[38;5;28;43mlist\u001b[39;49m\u001b[43m(\u001b[49m\u001b[43mload_from_mgf\u001b[49m\u001b[43m(\u001b[49m\u001b[43mfilename\u001b[49m\u001b[43m)\u001b[49m\u001b[43m)\u001b[49m\n\u001b[0;32m     48\u001b[0m results_df[\u001b[38;5;124m\"\u001b[39m\u001b[38;5;124msmiles\u001b[39m\u001b[38;5;124m\"\u001b[39m] \u001b[38;5;241m=\u001b[39m add_column(results_df, spectra, \u001b[38;5;124m\"\u001b[39m\u001b[38;5;124msmiles\u001b[39m\u001b[38;5;124m\"\u001b[39m)\n\u001b[0;32m     49\u001b[0m results_df[\u001b[38;5;124m\"\u001b[39m\u001b[38;5;124mprecmz\u001b[39m\u001b[38;5;124m\"\u001b[39m] \u001b[38;5;241m=\u001b[39m add_column(results_df, spectra, \u001b[38;5;124m\"\u001b[39m\u001b[38;5;124mprecursor_mz\u001b[39m\u001b[38;5;124m\"\u001b[39m)\n",
      "File \u001b[1;32m~\\AppData\\Local\\anaconda3\\envs\\MS2LDA\\lib\\site-packages\\matchms\\importing\\load_from_mgf.py:37\u001b[0m, in \u001b[0;36mload_from_mgf\u001b[1;34m(filename, metadata_harmonization)\u001b[0m\n\u001b[0;32m      9\u001b[0m \u001b[38;5;250m\u001b[39m\u001b[38;5;124;03m\"\"\"Load spectrum(s) from mgf file.\u001b[39;00m\n\u001b[0;32m     10\u001b[0m \n\u001b[0;32m     11\u001b[0m \u001b[38;5;124;03mThis function will create ~matchms.Spectrum for every spectrum in the given\u001b[39;00m\n\u001b[1;32m   (...)\u001b[0m\n\u001b[0;32m     34\u001b[0m \u001b[38;5;124;03m    The default is True.\u001b[39;00m\n\u001b[0;32m     35\u001b[0m \u001b[38;5;124;03m\"\"\"\u001b[39;00m\n\u001b[0;32m     36\u001b[0m \u001b[38;5;28;01mwith\u001b[39;00m MGF(filename, convert_arrays\u001b[38;5;241m=\u001b[39m\u001b[38;5;241m1\u001b[39m) \u001b[38;5;28;01mas\u001b[39;00m reader:\n\u001b[1;32m---> 37\u001b[0m     \u001b[38;5;28;01mfor\u001b[39;00m pyteomics_spectrum \u001b[38;5;129;01min\u001b[39;00m reader:\n\u001b[0;32m     38\u001b[0m         \u001b[38;5;28;01myield\u001b[39;00m parse_spectrum_dict(\n\u001b[0;32m     39\u001b[0m             spectrum\u001b[38;5;241m=\u001b[39mpyteomics_spectrum,\n\u001b[0;32m     40\u001b[0m             metadata_harmonization\u001b[38;5;241m=\u001b[39mmetadata_harmonization)\n",
      "File \u001b[1;32m~\\AppData\\Local\\anaconda3\\envs\\MS2LDA\\lib\\site-packages\\pyteomics\\auxiliary\\file_helpers.py:178\u001b[0m, in \u001b[0;36mIteratorContextManager.__next__\u001b[1;34m(self)\u001b[0m\n\u001b[0;32m    176\u001b[0m \u001b[38;5;28;01mdef\u001b[39;00m \u001b[38;5;21m__next__\u001b[39m(\u001b[38;5;28mself\u001b[39m):\n\u001b[0;32m    177\u001b[0m     \u001b[38;5;66;03m# try:\u001b[39;00m\n\u001b[1;32m--> 178\u001b[0m     \u001b[38;5;28;01mreturn\u001b[39;00m \u001b[38;5;28;43mnext\u001b[39;49m\u001b[43m(\u001b[49m\u001b[38;5;28;43mself\u001b[39;49m\u001b[38;5;241;43m.\u001b[39;49m\u001b[43m_reader\u001b[49m\u001b[43m)\u001b[49m\n",
      "File \u001b[1;32m~\\AppData\\Local\\anaconda3\\envs\\MS2LDA\\lib\\site-packages\\pyteomics\\mgf.py:458\u001b[0m, in \u001b[0;36mMGF._read\u001b[1;34m(self)\u001b[0m\n\u001b[0;32m    456\u001b[0m \u001b[38;5;28;01mfor\u001b[39;00m line \u001b[38;5;129;01min\u001b[39;00m \u001b[38;5;28mself\u001b[39m\u001b[38;5;241m.\u001b[39m_source:\n\u001b[0;32m    457\u001b[0m     \u001b[38;5;28;01mif\u001b[39;00m line\u001b[38;5;241m.\u001b[39mstrip() \u001b[38;5;241m==\u001b[39m \u001b[38;5;124m'\u001b[39m\u001b[38;5;124mBEGIN IONS\u001b[39m\u001b[38;5;124m'\u001b[39m:\n\u001b[1;32m--> 458\u001b[0m         \u001b[38;5;28;01myield\u001b[39;00m \u001b[38;5;28;43mself\u001b[39;49m\u001b[38;5;241;43m.\u001b[39;49m\u001b[43m_read_spectrum\u001b[49m\u001b[43m(\u001b[49m\u001b[43m)\u001b[49m\n",
      "File \u001b[1;32m~\\AppData\\Local\\anaconda3\\envs\\MS2LDA\\lib\\site-packages\\pyteomics\\mgf.py:453\u001b[0m, in \u001b[0;36mMGF._read_spectrum\u001b[1;34m(self)\u001b[0m\n\u001b[0;32m    452\u001b[0m \u001b[38;5;28;01mdef\u001b[39;00m \u001b[38;5;21m_read_spectrum\u001b[39m(\u001b[38;5;28mself\u001b[39m):\n\u001b[1;32m--> 453\u001b[0m     \u001b[38;5;28;01mreturn\u001b[39;00m \u001b[38;5;28;43mself\u001b[39;49m\u001b[38;5;241;43m.\u001b[39;49m\u001b[43m_read_spectrum_lines\u001b[49m\u001b[43m(\u001b[49m\u001b[38;5;28;43mself\u001b[39;49m\u001b[38;5;241;43m.\u001b[39;49m\u001b[43m_source\u001b[49m\u001b[43m)\u001b[49m\n",
      "File \u001b[1;32m~\\AppData\\Local\\anaconda3\\envs\\MS2LDA\\lib\\site-packages\\pyteomics\\mgf.py:195\u001b[0m, in \u001b[0;36mMGFBase._read_spectrum_lines\u001b[1;34m(self, lines)\u001b[0m\n\u001b[0;32m    191\u001b[0m ions \u001b[38;5;241m=\u001b[39m []\n\u001b[0;32m    193\u001b[0m params \u001b[38;5;241m=\u001b[39m \u001b[38;5;28mself\u001b[39m\u001b[38;5;241m.\u001b[39mheader\u001b[38;5;241m.\u001b[39mcopy() \u001b[38;5;28;01mif\u001b[39;00m \u001b[38;5;28mself\u001b[39m\u001b[38;5;241m.\u001b[39m_use_header \u001b[38;5;28;01melse\u001b[39;00m {}\n\u001b[1;32m--> 195\u001b[0m \u001b[38;5;28;01mfor\u001b[39;00m i, line \u001b[38;5;129;01min\u001b[39;00m \u001b[38;5;28menumerate\u001b[39m(lines):\n\u001b[0;32m    196\u001b[0m     sline \u001b[38;5;241m=\u001b[39m line\u001b[38;5;241m.\u001b[39mstrip()\n\u001b[0;32m    197\u001b[0m     \u001b[38;5;28;01mif\u001b[39;00m sline \u001b[38;5;241m==\u001b[39m \u001b[38;5;124m'\u001b[39m\u001b[38;5;124mBEGIN IONS\u001b[39m\u001b[38;5;124m'\u001b[39m:\n",
      "File \u001b[1;32m~\\AppData\\Local\\anaconda3\\envs\\MS2LDA\\lib\\encodings\\cp1252.py:22\u001b[0m, in \u001b[0;36mIncrementalDecoder.decode\u001b[1;34m(self, input, final)\u001b[0m\n\u001b[0;32m     21\u001b[0m \u001b[38;5;28;01mclass\u001b[39;00m \u001b[38;5;21;01mIncrementalDecoder\u001b[39;00m(codecs\u001b[38;5;241m.\u001b[39mIncrementalDecoder):\n\u001b[1;32m---> 22\u001b[0m     \u001b[38;5;28;01mdef\u001b[39;00m \u001b[38;5;21mdecode\u001b[39m(\u001b[38;5;28mself\u001b[39m, \u001b[38;5;28minput\u001b[39m, final\u001b[38;5;241m=\u001b[39m\u001b[38;5;28;01mFalse\u001b[39;00m):\n\u001b[0;32m     23\u001b[0m         \u001b[38;5;28;01mreturn\u001b[39;00m codecs\u001b[38;5;241m.\u001b[39mcharmap_decode(\u001b[38;5;28minput\u001b[39m,\u001b[38;5;28mself\u001b[39m\u001b[38;5;241m.\u001b[39merrors,decoding_table)[\u001b[38;5;241m0\u001b[39m]\n",
      "\u001b[1;31mKeyboardInterrupt\u001b[0m: "
     ]
    }
   ],
   "source": [
    "# single test:\n",
    "input_query = generate_query(1)\n",
    "results_df = search_massql_DB(spectra_path_GNPS, input_query, ms1_df, ms2_df)\n",
    "print(results_df.to_numpy())"
   ]
  },
  {
   "cell_type": "code",
   "execution_count": null,
   "id": "58cce92e-4f94-4149-922a-0b02c526ea74",
   "metadata": {},
   "outputs": [],
   "source": []
  },
  {
   "cell_type": "code",
   "execution_count": null,
   "id": "6fe7a6c3-e3a4-4f0d-acbe-92262c57dc2a",
   "metadata": {},
   "outputs": [],
   "source": []
  },
  {
   "cell_type": "code",
   "execution_count": null,
   "id": "a4be1230-598b-4fcf-9b1e-87b8cfd132c8",
   "metadata": {},
   "outputs": [],
   "source": []
  },
  {
   "cell_type": "code",
   "execution_count": null,
   "id": "f43b6301-58ff-4c3f-b7b5-0448e1c6952c",
   "metadata": {},
   "outputs": [],
   "source": []
  },
  {
   "cell_type": "code",
   "execution_count": 23,
   "id": "7da38ff5-ea0a-45e6-8a23-6e4ec390cf74",
   "metadata": {},
   "outputs": [
    {
     "name": "stdout",
     "output_type": "stream",
     "text": [
      "TOTAL QUERIES 1\n"
     ]
    },
    {
     "name": "stderr",
     "output_type": "stream",
     "text": [
      "100%|████████████████████████████████████████████████████████████████████████████████████| 1/1 [00:00<00:00, 40.76it/s]\n"
     ]
    },
    {
     "name": "stdout",
     "output_type": "stream",
     "text": [
      "[[594 491.18946 0 674.1 1 3.3262899999999997 1.0 2 nan\n",
      "  'CCCC1=NN(C2=C1NC(=NC2=S)C3=C(C=CC(=C3)S(=O)(=O)N4CCN(CC4)C)OCC)C']]\n",
      "TOTAL QUERIES 1\n"
     ]
    },
    {
     "name": "stderr",
     "output_type": "stream",
     "text": [
      "100%|████████████████████████████████████████████████████████████████████████████████████| 1/1 [00:00<00:00, 67.33it/s]\n"
     ]
    },
    {
     "name": "stdout",
     "output_type": "stream",
     "text": [
      "[[215 505.22332 0 539.78 1 2.53269 1.0 2 nan\n",
      "  'CCCC1=NN(C2=C1N=C(NC2=O)C3=C(C=CC(=C3)S(=O)(=O)N4CCN(CC4)CCO)OCC)C']]\n",
      "TOTAL QUERIES 1\n"
     ]
    },
    {
     "name": "stderr",
     "output_type": "stream",
     "text": [
      "100%|████████████████████████████████████████████████████████████████████████████████████| 1/1 [00:00<00:00, 53.65it/s]\n"
     ]
    },
    {
     "name": "stdout",
     "output_type": "stream",
     "text": [
      "[[222 489.22767 0 540.68 1 2.4637499999999997 1.0 2 nan\n",
      "  'CCCC1=NC(=C2N1N=C(NC2=O)C3=C(C=CC(=C3)S(=O)(=O)N4CCN(CC4)CC)OCC)C']]\n",
      "TOTAL QUERIES 1\n"
     ]
    },
    {
     "name": "stderr",
     "output_type": "stream",
     "text": [
      "100%|████████████████████████████████████████████████████████████████████████████████████| 1/1 [00:00<00:00, 81.63it/s]"
     ]
    },
    {
     "name": "stdout",
     "output_type": "stream",
     "text": [
      "[[483 532.25912 0 647.78 1 4.54353 1.0 2 nan\n",
      "  'CCCC1=CN(C2=C1N=C(NC2=O)C3=C(C=CC(=C3)S(=O)(=O)N4CCN(CC4)CCO)OCCC)CC']]\n",
      "TOTAL QUERIES 1\n"
     ]
    },
    {
     "name": "stderr",
     "output_type": "stream",
     "text": [
      "\n",
      "100%|████████████████████████████████████████████████████████████████████████████████████| 1/1 [00:00<00:00, 99.99it/s]"
     ]
    },
    {
     "name": "stdout",
     "output_type": "stream",
     "text": [
      "[[313 390.14504 0 622.64 1 4.5408100000000005 1.0 2 nan\n",
      "  'CN1CC(=O)N2[C@H](Cc3c([nH]c4ccccc34)[C@H]2c2ccc3c(c2)OCO3)C1=O']\n",
      " [321 391.14041 0 584.59 1 3.836 1.0 2 nan\n",
      "  'C1C2C(=O)N(CC(=O)N2C(C3=C1C4=CC=CC=C4N3)C5=CC6=C(C=C5)OCO6)N']\n",
      " [420 433.15077 0 588.35 1 4.25434 1.0 2 nan\n",
      "  'CC(=O)NN1CC(=O)N2C(C1=O)CC3=C(C2C4=CC5=C(C=C4)OCO5)NC6=CC=CC=C36']]\n"
     ]
    },
    {
     "name": "stderr",
     "output_type": "stream",
     "text": [
      "\n"
     ]
    }
   ],
   "source": [
    "for i in range(len(matching_frags)):\n",
    "    input_query = generate_query(i)\n",
    "    results_df = search_massql_DB(spectra_path, input_query, ms1_df, ms2_df)\n",
    "    print(results_df.to_numpy())"
   ]
  },
  {
   "cell_type": "code",
   "execution_count": null,
   "id": "0ef11fff-9cd3-4d0d-aed7-13007e9a193c",
   "metadata": {},
   "outputs": [],
   "source": []
  }
 ],
 "metadata": {
  "kernelspec": {
   "display_name": "Python 3 (ipykernel)",
   "language": "python",
   "name": "python3"
  },
  "language_info": {
   "codemirror_mode": {
    "name": "ipython",
    "version": 3
   },
   "file_extension": ".py",
   "mimetype": "text/x-python",
   "name": "python",
   "nbconvert_exporter": "python",
   "pygments_lexer": "ipython3",
   "version": "3.9.19"
  }
 },
 "nbformat": 4,
 "nbformat_minor": 5
}
