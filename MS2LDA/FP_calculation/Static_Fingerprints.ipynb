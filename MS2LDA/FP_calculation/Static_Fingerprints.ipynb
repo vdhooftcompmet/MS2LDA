{
 "cells": [
  {
   "cell_type": "markdown",
   "id": "69629514-35f0-4bbc-a760-2dbfead49744",
   "metadata": {},
   "source": [
    "## Overview and testing of the 20 fingerprints calculations implemented in https://github.com/dahvida/NP_Fingerprints. \n",
    "Paper: https://jcheminf.biomedcentral.com/articles/10.1186/s13321-024-00830-3"
   ]
  },
  {
   "cell_type": "code",
   "execution_count": 1,
   "id": "de7fc8bb-9aa9-4eb9-8ad4-55d5171c2dff",
   "metadata": {},
   "outputs": [
    {
     "name": "stdout",
     "output_type": "stream",
     "text": [
      "C:\\Users\\dietr004\\Documents\\PhD\\computational mass spectrometry\\Spec2Struc\\Project_SubstructureIdentification\\scripts\\programming_scripts\\FP_calculation\n"
     ]
    }
   ],
   "source": [
    "from rdkit_fps import *\n",
    "from minhash_fps import *\n",
    "# from jmap_fps import calc_DFS, calc_ASP, calc_LSTAR, calc_RAD2D, calc_PH2, calc_PH3 # only if cdk_fps is not imported\n",
    "from cdk_fps import calc_PUBCHEM, calc_DAYLIGHT, calc_KR, calc_LINGO, calc_ESTATE # only if jmap_fps is not imported"
   ]
  },
  {
   "cell_type": "code",
   "execution_count": 2,
   "id": "4f45f9be-79ca-421f-bedc-5b34c9567da9",
   "metadata": {},
   "outputs": [],
   "source": [
    "from matchms.importing import load_from_mgf"
   ]
  },
  {
   "cell_type": "code",
   "execution_count": 3,
   "id": "ec3a6ede-d5ef-46c0-a47b-1d6d1cfbebf2",
   "metadata": {},
   "outputs": [],
   "source": [
    "from rdkit import Chem"
   ]
  },
  {
   "cell_type": "code",
   "execution_count": 4,
   "id": "2a4ff743-d16a-48ff-8d14-c34486dfd19d",
   "metadata": {},
   "outputs": [],
   "source": [
    "spectra_path = r\"C:\\Users\\dietr004\\Documents\\PhD\\computational mass spectrometry\\MEDUSA\\notebooks\\MS2LDA\\PDE5_standards_annotated_pos_unique.mgf\""
   ]
  },
  {
   "cell_type": "code",
   "execution_count": 5,
   "id": "807123f0-0e9b-497d-9fe1-2baca49a67bf",
   "metadata": {},
   "outputs": [],
   "source": [
    "spectra = load_from_mgf(spectra_path)\n",
    "\n",
    "smiles = []\n",
    "for spectrum in spectra:\n",
    "    smi = spectrum.get(\"smiles\") \n",
    "    smiles.append(smi)"
   ]
  },
  {
   "cell_type": "code",
   "execution_count": 6,
   "id": "263b9531-046b-4eb0-9eff-7f4ae24a9239",
   "metadata": {},
   "outputs": [
    {
     "data": {
      "text/plain": [
       "['O=C1OC(C2=C1C=CC=C2)(C3=CC=C(C=C3)O[H])C4=CC=C(C=C4)O[H]',\n",
       " 'COC1=CC(=O)OC(C1)/C=C/C2=CC=CC=C2',\n",
       " 'O[C@H](c1ccccc1)[C@@H](NC)C',\n",
       " 'Oc1ccc(cc1)CC3c2c(cc(O)c(O)c2)CCN3',\n",
       " 'CCC(C)CC(C)N',\n",
       " 'CC1C(C(C(C(O1)OC2=C(OC3=C(C2=O)C(=CC(=C3CC=C(C)C)OC4C(C(C(C(O4)CO)O)O)O)O)C5=CC=C(C=C5)OC)O)O)O',\n",
       " 'ClC1=CC=C(C2(CCC2)C(CC(C)C)N(C)C)C=C1',\n",
       " 'CN1CC(=O)N2[C@H](Cc3c([nH]c4ccccc34)[C@H]2c2ccc3c(c2)OCO3)C1=O',\n",
       " 'CCCC1=NN(C2=C1NC(=NC2=S)C3=C(C=CC(=C3)S(=O)(=O)N4CCN(CC4)C)OCC)C',\n",
       " 'COC(=O)C1C(CCC2C1CC3C4=C(CCN3C2)C5=CC=CC=C5N4)O',\n",
       " 'CCCC1=NN(C2=C1N=C(NC2=O)C3=C(C=CC(=C3)S(=O)(=O)N4CCN(CC4)C)OCC)C',\n",
       " 'CCCC1=NN(C2=C1N=C(NC2=O)C3=C(C=CC(=C3)S(=O)(=O)N4CCN(CC4)CCO)OCC)C',\n",
       " 'CCCC1=NN(C2=C1N=C(NC2=O)C3=C(C=CC(=C3)C(=O)CN4CCN(CC4)C)OCC)C',\n",
       " 'CCCC1=NC(=C2N1N=C(NC2=O)C3=C(C=CC(=C3)S(=O)(=O)N4CCN(CC4)CC)OCC)C',\n",
       " 'CNCC(C1=CC=CC=C1)O',\n",
       " 'CCCC1=NN(C2=C1N=C(NC2=O)C3=C(C=CC(=C3)C(=O)CN4CCN(CC4)CCO)OCC)C',\n",
       " 'CCCC1=CN(C2=C1N=C(NC2=O)C3=C(C=CC(=C3)S(=O)(=O)N4CCN(CC4)CCO)OCCC)CC',\n",
       " 'COC1=C(C=C(C=C1)CNC2=NC(=NC=C2C(=O)NCC3=NC=CC=N3)N4CCCC4CO)Cl',\n",
       " 'CC1=C(N(N=C1C(=O)NN2CCCCC2)C3=C(C=C(C=C3)Cl)Cl)C4=CC=C(C=C4)Cl',\n",
       " 'CCCC1=NN(C2=C1NC(=NC2=S)C3=C(C=CC(=C3)S(=O)(=O)N4CCN(CC4)CCO)OCC)C',\n",
       " 'C1C2C(=O)N(CC(=O)N2C(C3=C1C4=CC=CC=C4N3)C5=CC6=C(C=C5)OCO6)N',\n",
       " 'CC(=O)NN1CC(=O)N2C(C1=O)CC3=C(C2C4=CC5=C(C=C4)OCO5)NC6=CC=CC=C36',\n",
       " 'CCCC1=NC(=C2N1N=C(NC2=O)C3=C(C=CC(=C3)S(=O)(=O)N4CCN(CC4)CCO)OCC)C']"
      ]
     },
     "execution_count": 6,
     "metadata": {},
     "output_type": "execute_result"
    }
   ],
   "source": [
    "smiles"
   ]
  },
  {
   "cell_type": "code",
   "execution_count": 7,
   "id": "04460342-5324-4223-8e43-572217634c40",
   "metadata": {},
   "outputs": [],
   "source": [
    "mols = [Chem.MolFromSmiles(smi) for smi in smiles]"
   ]
  },
  {
   "cell_type": "code",
   "execution_count": 8,
   "id": "d5330fa0-c52f-4368-a0fa-3058349a6352",
   "metadata": {},
   "outputs": [
    {
     "name": "stdout",
     "output_type": "stream",
     "text": [
      "[FP]: Executing calc_MACCS\n"
     ]
    },
    {
     "data": {
      "text/plain": [
       "array([[0, 0, 0, ..., 1, 1, 0],\n",
       "       [0, 0, 0, ..., 1, 1, 0],\n",
       "       [0, 0, 0, ..., 1, 1, 0],\n",
       "       ...,\n",
       "       [0, 0, 0, ..., 1, 1, 0],\n",
       "       [0, 0, 0, ..., 1, 1, 0],\n",
       "       [0, 0, 0, ..., 1, 1, 0]], dtype=int16)"
      ]
     },
     "execution_count": 8,
     "metadata": {},
     "output_type": "execute_result"
    }
   ],
   "source": [
    "fps_maccs = calc_MACCS(mols)\n",
    "fps_maccs"
   ]
  },
  {
   "cell_type": "code",
   "execution_count": 9,
   "id": "cdb9c78d-8038-4d84-86b9-07b25bb56e15",
   "metadata": {},
   "outputs": [],
   "source": [
    "# other functions\n",
    "\n",
    "\n",
    "#### from here with mols !!!\n",
    "\n",
    "# calc_ECFP()\n",
    "# calc_AVALON()\n",
    "# calc_TT()\n",
    "# calc_MACCS()\n",
    "# calc_FCFP()\n",
    "# calc_AP()\n",
    "# calc_RDKIT()\n",
    "\n",
    "# calc_MAP4()\n",
    "# calc_MHFP()\n",
    "\n",
    "\n",
    "#### from here with SMILES !!!\n",
    "\n",
    "# calc_PUBCHEM() \n",
    "# calc_DAYLIGHT()\n",
    "# calc_KR()\n",
    "# calc_LINGO()\n",
    "# calc_ESTATE()\n",
    "\n",
    "# calc_DFS()\n",
    "# calc_ASP()\n",
    "# calc_LSTAR()\n",
    "# calc_RAD2D()\n",
    "# calc_PH2()\n",
    "# calc_PH3()"
   ]
  },
  {
   "cell_type": "code",
   "execution_count": 10,
   "id": "03d9a9eb-fdea-4976-b2f2-110b9609f1e3",
   "metadata": {},
   "outputs": [
    {
     "name": "stdout",
     "output_type": "stream",
     "text": [
      "[FP]: Executing calc_MAP4\n"
     ]
    },
    {
     "data": {
      "text/plain": [
       "array([[ 50186854,   2349897,  20225403, ...,  67715465,  29382247,\n",
       "        122464540],\n",
       "       [  5750255,  59462622,   5466971, ...,  14769077,  12093399,\n",
       "         27876804],\n",
       "       [ 57194939,  16273412,  21242617, ...,  33179602,  47811959,\n",
       "         44885388],\n",
       "       ...,\n",
       "       [  5547132,   3877094,   6371442, ...,  17523748,   4397319,\n",
       "          5253124],\n",
       "       [  5547132,   3877094,   6371442, ...,  16431985,   4397319,\n",
       "          5253124],\n",
       "       [   612573,   1022418,  10221826, ...,   8387076,    889591,\n",
       "          7599764]])"
      ]
     },
     "execution_count": 10,
     "metadata": {},
     "output_type": "execute_result"
    }
   ],
   "source": [
    "fps_map4 = calc_MAP4(mols)\n",
    "fps_map4"
   ]
  },
  {
   "cell_type": "code",
   "execution_count": 11,
   "id": "f9a1edb2-bc53-4f73-9ba0-ff543830cb54",
   "metadata": {},
   "outputs": [
    {
     "name": "stdout",
     "output_type": "stream",
     "text": [
      "[FP]: Executing calc_PUBCHEM\n"
     ]
    },
    {
     "data": {
      "text/plain": [
       "array([[0, 0, 0, ..., 0, 0, 0],\n",
       "       [0, 0, 0, ..., 0, 0, 0],\n",
       "       [0, 0, 0, ..., 0, 0, 0],\n",
       "       ...,\n",
       "       [0, 0, 0, ..., 0, 0, 0],\n",
       "       [0, 0, 0, ..., 0, 0, 0],\n",
       "       [0, 0, 0, ..., 0, 0, 0]], dtype=int16)"
      ]
     },
     "execution_count": 11,
     "metadata": {},
     "output_type": "execute_result"
    }
   ],
   "source": [
    "fps_pubchem = calc_PUBCHEM(smiles) # only if cdk_fps is imported\n",
    "fps_pubchem"
   ]
  },
  {
   "cell_type": "code",
   "execution_count": 12,
   "id": "641fb335-d03c-4c93-a6f5-d2ef6d48add3",
   "metadata": {},
   "outputs": [],
   "source": [
    "# fps_lstar = calc_LSTAR(smiles) # only if jmap is imported\n",
    "# fps_lstar"
   ]
  },
  {
   "cell_type": "code",
   "execution_count": null,
   "id": "5749f5ac-1ec0-4a6c-afbf-2b2d230c9193",
   "metadata": {},
   "outputs": [],
   "source": []
  }
 ],
 "metadata": {
  "kernelspec": {
   "display_name": "Python 3 (ipykernel)",
   "language": "python",
   "name": "python3"
  },
  "language_info": {
   "codemirror_mode": {
    "name": "ipython",
    "version": 3
   },
   "file_extension": ".py",
   "mimetype": "text/x-python",
   "name": "python",
   "nbconvert_exporter": "python",
   "pygments_lexer": "ipython3",
   "version": "3.9.19"
  }
 },
 "nbformat": 4,
 "nbformat_minor": 5
}
